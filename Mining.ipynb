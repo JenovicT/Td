{
 "cells": [
  {
   "cell_type": "markdown",
   "id": "8d8d1eea-9b02-4fd1-b20e-39f5fd693d40",
   "metadata": {},
   "source": [
    " # 1.Importer les packages"
   ]
  },
  {
   "cell_type": "code",
   "execution_count": 1,
   "id": "2c74f4f3-426f-470c-b889-bec57172626e",
   "metadata": {},
   "outputs": [],
   "source": [
    "import pandas as pd\n",
    "import numpy as np\n",
    "import matplotlib.pyplot as plt\n",
    "from sklearn.model_selection import train_test_split\n",
    "from sklearn.ensemble import RandomForestClassifier\n",
    "from sklearn.tree import DecisionTreeClassifier\n",
    "from sklearn. svm import SVC\n",
    "from sklearn.neighbors import KNeighborsClassifier\n",
    "from sklearn.preprocessing import LabelEncoder\n",
    "from sklearn.linear_model import LogisticRegression\n",
    "from sklearn.metrics import accuracy_score\n",
    "from tensorflow.keras import Sequential\n",
    "from tensorflow.keras.layers import Dense\n",
    "from tensorflow.keras.utils import to_categorical\n",
    "from tensorflow.keras.optimizers import Adam\n",
    "import warnings\n",
    "warnings.filterwarnings(\"ignore\")"
   ]
  },
  {
   "cell_type": "markdown",
   "id": "3c24dca9-ac6c-424d-95c9-792ee6a166d9",
   "metadata": {},
   "source": [
    "# 2. Lecture du fichier"
   ]
  },
  {
   "cell_type": "code",
   "execution_count": 2,
   "id": "00898a0b-0b99-4222-a2d2-d62daadd9663",
   "metadata": {},
   "outputs": [],
   "source": [
    "data = pd.read_csv('Mining_Dataset.csv')"
   ]
  },
  {
   "cell_type": "markdown",
   "id": "cf9faf89-cff5-45ac-a223-8e3e46647ab5",
   "metadata": {},
   "source": [
    "# 3. Analyse des donées"
   ]
  },
  {
   "cell_type": "code",
   "execution_count": 3,
   "id": "667d5ce0-a84c-4c64-9266-ae56adebdfdb",
   "metadata": {},
   "outputs": [
    {
     "data": {
      "text/html": [
       "<div>\n",
       "<style scoped>\n",
       "    .dataframe tbody tr th:only-of-type {\n",
       "        vertical-align: middle;\n",
       "    }\n",
       "\n",
       "    .dataframe tbody tr th {\n",
       "        vertical-align: top;\n",
       "    }\n",
       "\n",
       "    .dataframe thead th {\n",
       "        text-align: right;\n",
       "    }\n",
       "</style>\n",
       "<table border=\"1\" class=\"dataframe\">\n",
       "  <thead>\n",
       "    <tr style=\"text-align: right;\">\n",
       "      <th></th>\n",
       "      <th>N°</th>\n",
       "      <th>Site</th>\n",
       "      <th>Longitude</th>\n",
       "      <th>Latitude</th>\n",
       "      <th>Altitude</th>\n",
       "      <th>Ic</th>\n",
       "      <th>Classe_Ic</th>\n",
       "    </tr>\n",
       "  </thead>\n",
       "  <tbody>\n",
       "    <tr>\n",
       "      <th>0</th>\n",
       "      <td>1</td>\n",
       "      <td>Tumbwe</td>\n",
       "      <td>27.398758</td>\n",
       "      <td>-11.479370</td>\n",
       "      <td>1356.0</td>\n",
       "      <td>1.032063</td>\n",
       "      <td>Dur</td>\n",
       "    </tr>\n",
       "    <tr>\n",
       "      <th>1</th>\n",
       "      <td>2</td>\n",
       "      <td>Tumbwe</td>\n",
       "      <td>27.398610</td>\n",
       "      <td>-11.478151</td>\n",
       "      <td>1354.0</td>\n",
       "      <td>27.390744</td>\n",
       "      <td>Dur</td>\n",
       "    </tr>\n",
       "    <tr>\n",
       "      <th>2</th>\n",
       "      <td>3</td>\n",
       "      <td>Tumbwe</td>\n",
       "      <td>27.399395</td>\n",
       "      <td>-11.476759</td>\n",
       "      <td>1354.0</td>\n",
       "      <td>1.541371</td>\n",
       "      <td>Dur</td>\n",
       "    </tr>\n",
       "    <tr>\n",
       "      <th>3</th>\n",
       "      <td>4</td>\n",
       "      <td>Tumbwe</td>\n",
       "      <td>27.399987</td>\n",
       "      <td>-11.475205</td>\n",
       "      <td>1354.0</td>\n",
       "      <td>1.081573</td>\n",
       "      <td>Dur</td>\n",
       "    </tr>\n",
       "    <tr>\n",
       "      <th>4</th>\n",
       "      <td>5</td>\n",
       "      <td>Tumbwe</td>\n",
       "      <td>27.400558</td>\n",
       "      <td>-11.474226</td>\n",
       "      <td>1353.0</td>\n",
       "      <td>1.364352</td>\n",
       "      <td>Dur</td>\n",
       "    </tr>\n",
       "  </tbody>\n",
       "</table>\n",
       "</div>"
      ],
      "text/plain": [
       "   N°    Site  Longitude   Latitude  Altitude         Ic Classe_Ic\n",
       "0   1  Tumbwe  27.398758 -11.479370    1356.0   1.032063       Dur\n",
       "1   2  Tumbwe  27.398610 -11.478151    1354.0  27.390744       Dur\n",
       "2   3  Tumbwe  27.399395 -11.476759    1354.0   1.541371       Dur\n",
       "3   4  Tumbwe  27.399987 -11.475205    1354.0   1.081573       Dur\n",
       "4   5  Tumbwe  27.400558 -11.474226    1353.0   1.364352       Dur"
      ]
     },
     "execution_count": 3,
     "metadata": {},
     "output_type": "execute_result"
    }
   ],
   "source": [
    "data.head()"
   ]
  },
  {
   "cell_type": "code",
   "execution_count": 4,
   "id": "f97573a5-8f70-4fc5-92f8-e03d72a7a47b",
   "metadata": {},
   "outputs": [
    {
     "data": {
      "text/plain": [
       "(5247, 7)"
      ]
     },
     "execution_count": 4,
     "metadata": {},
     "output_type": "execute_result"
    }
   ],
   "source": [
    "data.shape"
   ]
  },
  {
   "cell_type": "code",
   "execution_count": 5,
   "id": "271c9103-0821-4d8b-9a32-39dc112c634f",
   "metadata": {},
   "outputs": [
    {
     "data": {
      "text/plain": [
       "N°           0\n",
       "Site         0\n",
       "Longitude    0\n",
       "Latitude     0\n",
       "Altitude     0\n",
       "Ic           0\n",
       "Classe_Ic    0\n",
       "dtype: int64"
      ]
     },
     "execution_count": 5,
     "metadata": {},
     "output_type": "execute_result"
    }
   ],
   "source": [
    "data.isnull().sum()"
   ]
  },
  {
   "cell_type": "code",
   "execution_count": 6,
   "id": "e61876ad-8e58-4aaa-a097-3bf6ab5f415c",
   "metadata": {},
   "outputs": [
    {
     "name": "stdout",
     "output_type": "stream",
     "text": [
      "<class 'pandas.core.frame.DataFrame'>\n",
      "RangeIndex: 5247 entries, 0 to 5246\n",
      "Data columns (total 7 columns):\n",
      " #   Column     Non-Null Count  Dtype  \n",
      "---  ------     --------------  -----  \n",
      " 0   N°         5247 non-null   int64  \n",
      " 1   Site       5247 non-null   object \n",
      " 2   Longitude  5247 non-null   float64\n",
      " 3   Latitude   5247 non-null   float64\n",
      " 4   Altitude   5247 non-null   float64\n",
      " 5   Ic         5247 non-null   float64\n",
      " 6   Classe_Ic  5247 non-null   object \n",
      "dtypes: float64(4), int64(1), object(2)\n",
      "memory usage: 287.1+ KB\n"
     ]
    }
   ],
   "source": [
    "data.info()"
   ]
  },
  {
   "cell_type": "code",
   "execution_count": 7,
   "id": "930b53e7-157a-4ffd-a54e-8ea55fd5162c",
   "metadata": {},
   "outputs": [
    {
     "data": {
      "text/plain": [
       "Classe_Ic\n",
       "Dur        4080\n",
       "Terne       628\n",
       "Mi-dur      325\n",
       "Liquide     201\n",
       "Mou          10\n",
       "Pateux        3\n",
       "Name: count, dtype: int64"
      ]
     },
     "execution_count": 7,
     "metadata": {},
     "output_type": "execute_result"
    }
   ],
   "source": [
    "data['Classe_Ic'].value_counts()"
   ]
  },
  {
   "cell_type": "markdown",
   "id": "c04c7d8c-38b9-48fc-827d-382614a7925f",
   "metadata": {},
   "source": [
    "# 4. Prétraiment des données"
   ]
  },
  {
   "cell_type": "code",
   "execution_count": 8,
   "id": "0e8aebab-16fb-47c7-98e6-b473e5a73067",
   "metadata": {},
   "outputs": [],
   "source": [
    "list_object = ['Site','Classe_Ic']\n",
    "label_encoder = LabelEncoder()\n",
    "for type in list_object:\n",
    "    data[type] = label_encoder.fit_transform(data[type])"
   ]
  },
  {
   "cell_type": "code",
   "execution_count": 9,
   "id": "c0badd23-6fb8-4f4a-8924-fce6d4133a68",
   "metadata": {},
   "outputs": [
    {
     "name": "stdout",
     "output_type": "stream",
     "text": [
      "<class 'pandas.core.frame.DataFrame'>\n",
      "RangeIndex: 5247 entries, 0 to 5246\n",
      "Data columns (total 7 columns):\n",
      " #   Column     Non-Null Count  Dtype  \n",
      "---  ------     --------------  -----  \n",
      " 0   N°         5247 non-null   int64  \n",
      " 1   Site       5247 non-null   int64  \n",
      " 2   Longitude  5247 non-null   float64\n",
      " 3   Latitude   5247 non-null   float64\n",
      " 4   Altitude   5247 non-null   float64\n",
      " 5   Ic         5247 non-null   float64\n",
      " 6   Classe_Ic  5247 non-null   int64  \n",
      "dtypes: float64(4), int64(3)\n",
      "memory usage: 287.1 KB\n"
     ]
    }
   ],
   "source": [
    "data.info()"
   ]
  },
  {
   "cell_type": "code",
   "execution_count": 10,
   "id": "8c7d5a4c-fe14-4b13-90cd-c1dd05212438",
   "metadata": {},
   "outputs": [
    {
     "data": {
      "text/html": [
       "<div>\n",
       "<style scoped>\n",
       "    .dataframe tbody tr th:only-of-type {\n",
       "        vertical-align: middle;\n",
       "    }\n",
       "\n",
       "    .dataframe tbody tr th {\n",
       "        vertical-align: top;\n",
       "    }\n",
       "\n",
       "    .dataframe thead th {\n",
       "        text-align: right;\n",
       "    }\n",
       "</style>\n",
       "<table border=\"1\" class=\"dataframe\">\n",
       "  <thead>\n",
       "    <tr style=\"text-align: right;\">\n",
       "      <th></th>\n",
       "      <th>N°</th>\n",
       "      <th>Site</th>\n",
       "      <th>Longitude</th>\n",
       "      <th>Latitude</th>\n",
       "      <th>Altitude</th>\n",
       "      <th>Ic</th>\n",
       "      <th>Classe_Ic</th>\n",
       "    </tr>\n",
       "  </thead>\n",
       "  <tbody>\n",
       "    <tr>\n",
       "      <th>0</th>\n",
       "      <td>1</td>\n",
       "      <td>10</td>\n",
       "      <td>27.398758</td>\n",
       "      <td>-11.479370</td>\n",
       "      <td>1356.0</td>\n",
       "      <td>1.032063</td>\n",
       "      <td>0</td>\n",
       "    </tr>\n",
       "    <tr>\n",
       "      <th>1</th>\n",
       "      <td>2</td>\n",
       "      <td>10</td>\n",
       "      <td>27.398610</td>\n",
       "      <td>-11.478151</td>\n",
       "      <td>1354.0</td>\n",
       "      <td>27.390744</td>\n",
       "      <td>0</td>\n",
       "    </tr>\n",
       "    <tr>\n",
       "      <th>2</th>\n",
       "      <td>3</td>\n",
       "      <td>10</td>\n",
       "      <td>27.399395</td>\n",
       "      <td>-11.476759</td>\n",
       "      <td>1354.0</td>\n",
       "      <td>1.541371</td>\n",
       "      <td>0</td>\n",
       "    </tr>\n",
       "    <tr>\n",
       "      <th>3</th>\n",
       "      <td>4</td>\n",
       "      <td>10</td>\n",
       "      <td>27.399987</td>\n",
       "      <td>-11.475205</td>\n",
       "      <td>1354.0</td>\n",
       "      <td>1.081573</td>\n",
       "      <td>0</td>\n",
       "    </tr>\n",
       "    <tr>\n",
       "      <th>4</th>\n",
       "      <td>5</td>\n",
       "      <td>10</td>\n",
       "      <td>27.400558</td>\n",
       "      <td>-11.474226</td>\n",
       "      <td>1353.0</td>\n",
       "      <td>1.364352</td>\n",
       "      <td>0</td>\n",
       "    </tr>\n",
       "  </tbody>\n",
       "</table>\n",
       "</div>"
      ],
      "text/plain": [
       "   N°  Site  Longitude   Latitude  Altitude         Ic  Classe_Ic\n",
       "0   1    10  27.398758 -11.479370    1356.0   1.032063          0\n",
       "1   2    10  27.398610 -11.478151    1354.0  27.390744          0\n",
       "2   3    10  27.399395 -11.476759    1354.0   1.541371          0\n",
       "3   4    10  27.399987 -11.475205    1354.0   1.081573          0\n",
       "4   5    10  27.400558 -11.474226    1353.0   1.364352          0"
      ]
     },
     "execution_count": 10,
     "metadata": {},
     "output_type": "execute_result"
    }
   ],
   "source": [
    "data.head()"
   ]
  },
  {
   "cell_type": "code",
   "execution_count": 11,
   "id": "d77a590a-d1f4-4825-b0f8-519541bd7be6",
   "metadata": {},
   "outputs": [
    {
     "data": {
      "text/plain": [
       "Classe_Ic    1.000000\n",
       "Site         0.118282\n",
       "Latitude     0.049534\n",
       "Altitude    -0.012874\n",
       "Longitude   -0.038096\n",
       "N°          -0.061860\n",
       "Ic          -0.150931\n",
       "Name: Classe_Ic, dtype: float64"
      ]
     },
     "execution_count": 11,
     "metadata": {},
     "output_type": "execute_result"
    }
   ],
   "source": [
    "data.corr().Classe_Ic.sort_values(ascending =False)"
   ]
  },
  {
   "cell_type": "code",
   "execution_count": 12,
   "id": "90a1ee91-e1d4-41ed-a7af-bca189ba8ecf",
   "metadata": {},
   "outputs": [
    {
     "data": {
      "text/plain": [
       "Classe_Ic\n",
       "0    4080\n",
       "5     628\n",
       "2     325\n",
       "1     201\n",
       "3      10\n",
       "4       3\n",
       "Name: count, dtype: int64"
      ]
     },
     "execution_count": 12,
     "metadata": {},
     "output_type": "execute_result"
    }
   ],
   "source": [
    "data['Classe_Ic'].value_counts()"
   ]
  },
  {
   "cell_type": "markdown",
   "id": "8d2c315b-01d6-4af0-85d1-2672e0d765b3",
   "metadata": {},
   "source": [
    "# 5. Division des données"
   ]
  },
  {
   "cell_type": "code",
   "execution_count": 13,
   "id": "1ef81d87-ad97-4ef0-b666-637113cb9500",
   "metadata": {},
   "outputs": [],
   "source": [
    "X = data.iloc [:, :-1]\n",
    "y_ = data.iloc[:, -1]\n",
    "y = to_categorical(y_) "
   ]
  },
  {
   "cell_type": "code",
   "execution_count": 14,
   "id": "99f44467-1371-424c-af1e-9996e0c5940a",
   "metadata": {},
   "outputs": [
    {
     "name": "stdout",
     "output_type": "stream",
     "text": [
      "(5247, 6)\n",
      "(5247, 6)\n"
     ]
    }
   ],
   "source": [
    "print(X.shape)\n",
    "print(y.shape)"
   ]
  },
  {
   "cell_type": "code",
   "execution_count": 15,
   "id": "28f8be68-d84f-4582-b31d-d484d62f62b3",
   "metadata": {},
   "outputs": [],
   "source": [
    "X_train, X_test, y_train, y_test = train_test_split( X, y, test_size=0.4, random_state=8)"
   ]
  },
  {
   "cell_type": "code",
   "execution_count": 16,
   "id": "4229daa9-6f53-4daa-8824-2a450979b85e",
   "metadata": {},
   "outputs": [
    {
     "name": "stdout",
     "output_type": "stream",
     "text": [
      "X_train: (3148, 6)\n",
      "y_train: (3148, 6)\n",
      "X_test: (2099, 6)\n",
      "y_test: (2099, 6)\n"
     ]
    }
   ],
   "source": [
    "print(\"X_train:\", X_train.shape)\n",
    "print(\"y_train:\", y_train.shape)\n",
    "print(\"X_test:\", X_test.shape)\n",
    "print(\"y_test:\", y_test.shape)"
   ]
  },
  {
   "cell_type": "code",
   "execution_count": 17,
   "id": "084b3054-4d3f-4db9-a261-1961f1555b1b",
   "metadata": {},
   "outputs": [
    {
     "data": {
      "text/plain": [
       "<Axes: >"
      ]
     },
     "execution_count": 17,
     "metadata": {},
     "output_type": "execute_result"
    },
    {
     "data": {
      "image/png": "[encoded data removed]",
      "text/plain": [
       "<Figure size 640x480 with 2 Axes>"
      ]
     },
     "metadata": {},
     "output_type": "display_data"
    }
   ],
   "source": [
    "import seaborn as sns\n",
    "sns.heatmap(data.corr(), annot =True, cmap='coolwarm')"
   ]
  },
  {
   "cell_type": "markdown",
   "id": "e3685d44-1638-4e3a-905c-92fbc06ff7f6",
   "metadata": {},
   "source": [
    "# 6. Construction du ShallowNeural Network"
   ]
  },
  {
   "cell_type": "code",
   "execution_count": 18,
   "id": "a4f714ac-cd97-48e4-94f0-b3a920fcd440",
   "metadata": {},
   "outputs": [],
   "source": [
    "model = Sequential()"
   ]
  },
  {
   "cell_type": "code",
   "execution_count": 19,
   "id": "e5094545-f11e-431c-8283-16a481c64fa8",
   "metadata": {},
   "outputs": [
    {
     "data": {
      "text/html": [
       "<pre style=\"white-space:pre;overflow-x:auto;line-height:normal;font-family:Menlo,'DejaVu Sans Mono',consolas,'Courier New',monospace\"><span style=\"font-weight: bold\">Model: \"sequential\"</span>\n",
       "</pre>\n"
      ],
      "text/plain": [
       "\u001b[1mModel: \"sequential\"\u001b[0m\n"
      ]
     },
     "metadata": {},
     "output_type": "display_data"
    },
    {
     "data": {
      "text/html": [
       "<pre style=\"white-space:pre;overflow-x:auto;line-height:normal;font-family:Menlo,'DejaVu Sans Mono',consolas,'Courier New',monospace\">┏━━━━━━━━━━━━━━━━━━━━━━━━━━━━━━━━━┳━━━━━━━━━━━━━━━━━━━━━━━━┳━━━━━━━━━━━━━━━┓\n",
       "┃<span style=\"font-weight: bold\"> Layer (type)                    </span>┃<span style=\"font-weight: bold\"> Output Shape           </span>┃<span style=\"font-weight: bold\">       Param # </span>┃\n",
       "┡━━━━━━━━━━━━━━━━━━━━━━━━━━━━━━━━━╇━━━━━━━━━━━━━━━━━━━━━━━━╇━━━━━━━━━━━━━━━┩\n",
       "│ dense (<span style=\"color: #0087ff; text-decoration-color: #0087ff\">Dense</span>)                   │ (<span style=\"color: #00d7ff; text-decoration-color: #00d7ff\">None</span>, <span style=\"color: #00af00; text-decoration-color: #00af00\">200</span>)            │         <span style=\"color: #00af00; text-decoration-color: #00af00\">1,400</span> │\n",
       "├─────────────────────────────────┼────────────────────────┼───────────────┤\n",
       "│ dense_1 (<span style=\"color: #0087ff; text-decoration-color: #0087ff\">Dense</span>)                 │ (<span style=\"color: #00d7ff; text-decoration-color: #00d7ff\">None</span>, <span style=\"color: #00af00; text-decoration-color: #00af00\">6</span>)              │         <span style=\"color: #00af00; text-decoration-color: #00af00\">1,206</span> │\n",
       "└─────────────────────────────────┴────────────────────────┴───────────────┘\n",
       "</pre>\n"
      ],
      "text/plain": [
       "┏━━━━━━━━━━━━━━━━━━━━━━━━━━━━━━━━━┳━━━━━━━━━━━━━━━━━━━━━━━━┳━━━━━━━━━━━━━━━┓\n",
       "┃\u001b[1m \u001b[0m\u001b[1mLayer (type)                   \u001b[0m\u001b[1m \u001b[0m┃\u001b[1m \u001b[0m\u001b[1mOutput Shape          \u001b[0m\u001b[1m \u001b[0m┃\u001b[1m \u001b[0m\u001b[1m      Param #\u001b[0m\u001b[1m \u001b[0m┃\n",
       "┡━━━━━━━━━━━━━━━━━━━━━━━━━━━━━━━━━╇━━━━━━━━━━━━━━━━━━━━━━━━╇━━━━━━━━━━━━━━━┩\n",
       "│ dense (\u001b[38;5;33mDense\u001b[0m)                   │ (\u001b[38;5;45mNone\u001b[0m, \u001b[38;5;34m200\u001b[0m)            │         \u001b[38;5;34m1,400\u001b[0m │\n",
       "├─────────────────────────────────┼────────────────────────┼───────────────┤\n",
       "│ dense_1 (\u001b[38;5;33mDense\u001b[0m)                 │ (\u001b[38;5;45mNone\u001b[0m, \u001b[38;5;34m6\u001b[0m)              │         \u001b[38;5;34m1,206\u001b[0m │\n",
       "└─────────────────────────────────┴────────────────────────┴───────────────┘\n"
      ]
     },
     "metadata": {},
     "output_type": "display_data"
    },
    {
     "data": {
      "text/html": [
       "<pre style=\"white-space:pre;overflow-x:auto;line-height:normal;font-family:Menlo,'DejaVu Sans Mono',consolas,'Courier New',monospace\"><span style=\"font-weight: bold\"> Total params: </span><span style=\"color: #00af00; text-decoration-color: #00af00\">2,606</span> (10.18 KB)\n",
       "</pre>\n"
      ],
      "text/plain": [
       "\u001b[1m Total params: \u001b[0m\u001b[38;5;34m2,606\u001b[0m (10.18 KB)\n"
      ]
     },
     "metadata": {},
     "output_type": "display_data"
    },
    {
     "data": {
      "text/html": [
       "<pre style=\"white-space:pre;overflow-x:auto;line-height:normal;font-family:Menlo,'DejaVu Sans Mono',consolas,'Courier New',monospace\"><span style=\"font-weight: bold\"> Trainable params: </span><span style=\"color: #00af00; text-decoration-color: #00af00\">2,606</span> (10.18 KB)\n",
       "</pre>\n"
      ],
      "text/plain": [
       "\u001b[1m Trainable params: \u001b[0m\u001b[38;5;34m2,606\u001b[0m (10.18 KB)\n"
      ]
     },
     "metadata": {},
     "output_type": "display_data"
    },
    {
     "data": {
      "text/html": [
       "<pre style=\"white-space:pre;overflow-x:auto;line-height:normal;font-family:Menlo,'DejaVu Sans Mono',consolas,'Courier New',monospace\"><span style=\"font-weight: bold\"> Non-trainable params: </span><span style=\"color: #00af00; text-decoration-color: #00af00\">0</span> (0.00 B)\n",
       "</pre>\n"
      ],
      "text/plain": [
       "\u001b[1m Non-trainable params: \u001b[0m\u001b[38;5;34m0\u001b[0m (0.00 B)\n"
      ]
     },
     "metadata": {},
     "output_type": "display_data"
    }
   ],
   "source": [
    "model.add(Dense(200, input_shape = (6, ), activation='relu'))\n",
    "#Ajout de la couche de sortie\n",
    "model.add(Dense(y.shape[1], activation='softmax'))\n",
    "#Compiler le model\n",
    "model.compile(optimizer=Adam(learning_rate=0.001), loss='categorical_crossentropy', metrics=['accuracy'])\n",
    "#Affichage\n",
    "model.summary()"
   ]
  },
  {
   "cell_type": "code",
   "execution_count": 20,
   "id": "b6357c4c-8475-47f7-9fe8-f96cfbd203b4",
   "metadata": {},
   "outputs": [
    {
     "name": "stdout",
     "output_type": "stream",
     "text": [
      "Epoch 1/400\n",
      "\u001b[1m99/99\u001b[0m \u001b[32m━━━━━━━━━━━━━━━━━━━━\u001b[0m\u001b[37m\u001b[0m \u001b[1m1s\u001b[0m 3ms/step - accuracy: 0.5157 - loss: 1135.7277 - val_accuracy: 0.7832 - val_loss: 8.8063\n",
      "Epoch 2/400\n",
      "\u001b[1m99/99\u001b[0m \u001b[32m━━━━━━━━━━━━━━━━━━━━\u001b[0m\u001b[37m\u001b[0m \u001b[1m0s\u001b[0m 2ms/step - accuracy: 0.6467 - loss: 9.8050 - val_accuracy: 0.7894 - val_loss: 4.4529\n",
      "Epoch 3/400\n",
      "\u001b[1m99/99\u001b[0m \u001b[32m━━━━━━━━━━━━━━━━━━━━\u001b[0m\u001b[37m\u001b[0m \u001b[1m0s\u001b[0m 2ms/step - accuracy: 0.6533 - loss: 6.5385 - val_accuracy: 0.7146 - val_loss: 3.9526\n",
      "Epoch 4/400\n",
      "\u001b[1m99/99\u001b[0m \u001b[32m━━━━━━━━━━━━━━━━━━━━\u001b[0m\u001b[37m\u001b[0m \u001b[1m0s\u001b[0m 2ms/step - accuracy: 0.6740 - loss: 4.8418 - val_accuracy: 0.7370 - val_loss: 5.3328\n",
      "Epoch 5/400\n",
      "\u001b[1m99/99\u001b[0m \u001b[32m━━━━━━━━━━━━━━━━━━━━\u001b[0m\u001b[37m\u001b[0m \u001b[1m0s\u001b[0m 2ms/step - accuracy: 0.6716 - loss: 4.6677 - val_accuracy: 0.7756 - val_loss: 3.9553\n",
      "Epoch 6/400\n",
      "\u001b[1m99/99\u001b[0m \u001b[32m━━━━━━━━━━━━━━━━━━━━\u001b[0m\u001b[37m\u001b[0m \u001b[1m0s\u001b[0m 2ms/step - accuracy: 0.6889 - loss: 5.6009 - val_accuracy: 0.6322 - val_loss: 3.5733\n",
      "Epoch 7/400\n",
      "\u001b[1m99/99\u001b[0m \u001b[32m━━━━━━━━━━━━━━━━━━━━\u001b[0m\u001b[37m\u001b[0m \u001b[1m0s\u001b[0m 2ms/step - accuracy: 0.6705 - loss: 3.7308 - val_accuracy: 0.7551 - val_loss: 3.2660\n",
      "Epoch 8/400\n",
      "\u001b[1m99/99\u001b[0m \u001b[32m━━━━━━━━━━━━━━━━━━━━\u001b[0m\u001b[37m\u001b[0m \u001b[1m0s\u001b[0m 2ms/step - accuracy: 0.6721 - loss: 3.5446 - val_accuracy: 0.6351 - val_loss: 3.3412\n",
      "Epoch 9/400\n",
      "\u001b[1m99/99\u001b[0m \u001b[32m━━━━━━━━━━━━━━━━━━━━\u001b[0m\u001b[37m\u001b[0m \u001b[1m0s\u001b[0m 2ms/step - accuracy: 0.7227 - loss: 2.8757 - val_accuracy: 0.2854 - val_loss: 3.5893\n",
      "Epoch 10/400\n",
      "\u001b[1m99/99\u001b[0m \u001b[32m━━━━━━━━━━━━━━━━━━━━\u001b[0m\u001b[37m\u001b[0m \u001b[1m0s\u001b[0m 2ms/step - accuracy: 0.6709 - loss: 2.9828 - val_accuracy: 0.7923 - val_loss: 5.5149\n",
      "Epoch 11/400\n",
      "\u001b[1m99/99\u001b[0m \u001b[32m━━━━━━━━━━━━━━━━━━━━\u001b[0m\u001b[37m\u001b[0m \u001b[1m0s\u001b[0m 2ms/step - accuracy: 0.6833 - loss: 3.9603 - val_accuracy: 0.7894 - val_loss: 3.3048\n",
      "Epoch 12/400\n",
      "\u001b[1m99/99\u001b[0m \u001b[32m━━━━━━━━━━━━━━━━━━━━\u001b[0m\u001b[37m\u001b[0m \u001b[1m0s\u001b[0m 2ms/step - accuracy: 0.6871 - loss: 2.9497 - val_accuracy: 0.2425 - val_loss: 5.6654\n",
      "Epoch 13/400\n",
      "\u001b[1m99/99\u001b[0m \u001b[32m━━━━━━━━━━━━━━━━━━━━\u001b[0m\u001b[37m\u001b[0m \u001b[1m0s\u001b[0m 2ms/step - accuracy: 0.6446 - loss: 3.1570 - val_accuracy: 0.7837 - val_loss: 10.4730\n",
      "Epoch 14/400\n",
      "\u001b[1m99/99\u001b[0m \u001b[32m━━━━━━━━━━━━━━━━━━━━\u001b[0m\u001b[37m\u001b[0m \u001b[1m0s\u001b[0m 2ms/step - accuracy: 0.6770 - loss: 4.8717 - val_accuracy: 0.7875 - val_loss: 2.5556\n",
      "Epoch 15/400\n",
      "\u001b[1m99/99\u001b[0m \u001b[32m━━━━━━━━━━━━━━━━━━━━\u001b[0m\u001b[37m\u001b[0m \u001b[1m0s\u001b[0m 2ms/step - accuracy: 0.6876 - loss: 2.6573 - val_accuracy: 0.7894 - val_loss: 4.0191\n",
      "Epoch 16/400\n",
      "\u001b[1m99/99\u001b[0m \u001b[32m━━━━━━━━━━━━━━━━━━━━\u001b[0m\u001b[37m\u001b[0m \u001b[1m0s\u001b[0m 2ms/step - accuracy: 0.7096 - loss: 2.9202 - val_accuracy: 0.7885 - val_loss: 2.8780\n",
      "Epoch 17/400\n",
      "\u001b[1m99/99\u001b[0m \u001b[32m━━━━━━━━━━━━━━━━━━━━\u001b[0m\u001b[37m\u001b[0m \u001b[1m0s\u001b[0m 2ms/step - accuracy: 0.7477 - loss: 1.8229 - val_accuracy: 0.2968 - val_loss: 3.2652\n",
      "Epoch 18/400\n",
      "\u001b[1m99/99\u001b[0m \u001b[32m━━━━━━━━━━━━━━━━━━━━\u001b[0m\u001b[37m\u001b[0m \u001b[1m0s\u001b[0m 2ms/step - accuracy: 0.6943 - loss: 2.4865 - val_accuracy: 0.7918 - val_loss: 2.2631\n",
      "Epoch 19/400\n",
      "\u001b[1m99/99\u001b[0m \u001b[32m━━━━━━━━━━━━━━━━━━━━\u001b[0m\u001b[37m\u001b[0m \u001b[1m0s\u001b[0m 2ms/step - accuracy: 0.7324 - loss: 2.4995 - val_accuracy: 0.6051 - val_loss: 3.6985\n",
      "Epoch 20/400\n",
      "\u001b[1m99/99\u001b[0m \u001b[32m━━━━━━━━━━━━━━━━━━━━\u001b[0m\u001b[37m\u001b[0m \u001b[1m0s\u001b[0m 2ms/step - accuracy: 0.7118 - loss: 2.8729 - val_accuracy: 0.6918 - val_loss: 1.6002\n",
      "Epoch 21/400\n",
      "\u001b[1m99/99\u001b[0m \u001b[32m━━━━━━━━━━━━━━━━━━━━\u001b[0m\u001b[37m\u001b[0m \u001b[1m0s\u001b[0m 2ms/step - accuracy: 0.7105 - loss: 2.3254 - val_accuracy: 0.7904 - val_loss: 6.5063\n",
      "Epoch 22/400\n",
      "\u001b[1m99/99\u001b[0m \u001b[32m━━━━━━━━━━━━━━━━━━━━\u001b[0m\u001b[37m\u001b[0m \u001b[1m0s\u001b[0m 2ms/step - accuracy: 0.7103 - loss: 3.2580 - val_accuracy: 0.2954 - val_loss: 6.4569\n",
      "Epoch 23/400\n",
      "\u001b[1m99/99\u001b[0m \u001b[32m━━━━━━━━━━━━━━━━━━━━\u001b[0m\u001b[37m\u001b[0m \u001b[1m0s\u001b[0m 2ms/step - accuracy: 0.6568 - loss: 4.1981 - val_accuracy: 0.7894 - val_loss: 7.7753\n",
      "Epoch 24/400\n",
      "\u001b[1m99/99\u001b[0m \u001b[32m━━━━━━━━━━━━━━━━━━━━\u001b[0m\u001b[37m\u001b[0m \u001b[1m0s\u001b[0m 2ms/step - accuracy: 0.7147 - loss: 3.7346 - val_accuracy: 0.7909 - val_loss: 1.0431\n",
      "Epoch 25/400\n",
      "\u001b[1m99/99\u001b[0m \u001b[32m━━━━━━━━━━━━━━━━━━━━\u001b[0m\u001b[37m\u001b[0m \u001b[1m0s\u001b[0m 2ms/step - accuracy: 0.7299 - loss: 2.1759 - val_accuracy: 0.7813 - val_loss: 2.5792\n",
      "Epoch 26/400\n",
      "\u001b[1m99/99\u001b[0m \u001b[32m━━━━━━━━━━━━━━━━━━━━\u001b[0m\u001b[37m\u001b[0m \u001b[1m0s\u001b[0m 2ms/step - accuracy: 0.7476 - loss: 2.2249 - val_accuracy: 0.6703 - val_loss: 1.2545\n",
      "Epoch 27/400\n",
      "\u001b[1m99/99\u001b[0m \u001b[32m━━━━━━━━━━━━━━━━━━━━\u001b[0m\u001b[37m\u001b[0m \u001b[1m0s\u001b[0m 2ms/step - accuracy: 0.7444 - loss: 1.4820 - val_accuracy: 0.7894 - val_loss: 3.8402\n",
      "Epoch 28/400\n",
      "\u001b[1m99/99\u001b[0m \u001b[32m━━━━━━━━━━━━━━━━━━━━\u001b[0m\u001b[37m\u001b[0m \u001b[1m0s\u001b[0m 2ms/step - accuracy: 0.7462 - loss: 3.7169 - val_accuracy: 0.8028 - val_loss: 2.4942\n",
      "Epoch 29/400\n",
      "\u001b[1m99/99\u001b[0m \u001b[32m━━━━━━━━━━━━━━━━━━━━\u001b[0m\u001b[37m\u001b[0m \u001b[1m0s\u001b[0m 2ms/step - accuracy: 0.7123 - loss: 2.5569 - val_accuracy: 0.7070 - val_loss: 1.6172\n",
      "Epoch 30/400\n",
      "\u001b[1m99/99\u001b[0m \u001b[32m━━━━━━━━━━━━━━━━━━━━\u001b[0m\u001b[37m\u001b[0m \u001b[1m0s\u001b[0m 2ms/step - accuracy: 0.7296 - loss: 2.2609 - val_accuracy: 0.5393 - val_loss: 4.4328\n",
      "Epoch 31/400\n",
      "\u001b[1m99/99\u001b[0m \u001b[32m━━━━━━━━━━━━━━━━━━━━\u001b[0m\u001b[37m\u001b[0m \u001b[1m0s\u001b[0m 2ms/step - accuracy: 0.7486 - loss: 2.5815 - val_accuracy: 0.6441 - val_loss: 1.5500\n",
      "Epoch 32/400\n",
      "\u001b[1m99/99\u001b[0m \u001b[32m━━━━━━━━━━━━━━━━━━━━\u001b[0m\u001b[37m\u001b[0m \u001b[1m0s\u001b[0m 2ms/step - accuracy: 0.7424 - loss: 2.2341 - val_accuracy: 0.7889 - val_loss: 1.5134\n",
      "Epoch 33/400\n",
      "\u001b[1m99/99\u001b[0m \u001b[32m━━━━━━━━━━━━━━━━━━━━\u001b[0m\u001b[37m\u001b[0m \u001b[1m0s\u001b[0m 2ms/step - accuracy: 0.7202 - loss: 2.3371 - val_accuracy: 0.6941 - val_loss: 2.3840\n",
      "Epoch 34/400\n",
      "\u001b[1m99/99\u001b[0m \u001b[32m━━━━━━━━━━━━━━━━━━━━\u001b[0m\u001b[37m\u001b[0m \u001b[1m0s\u001b[0m 2ms/step - accuracy: 0.7724 - loss: 1.6553 - val_accuracy: 0.8347 - val_loss: 1.4654\n",
      "Epoch 35/400\n",
      "\u001b[1m99/99\u001b[0m \u001b[32m━━━━━━━━━━━━━━━━━━━━\u001b[0m\u001b[37m\u001b[0m \u001b[1m0s\u001b[0m 2ms/step - accuracy: 0.7662 - loss: 1.2588 - val_accuracy: 0.6227 - val_loss: 5.3773\n",
      "Epoch 36/400\n",
      "\u001b[1m99/99\u001b[0m \u001b[32m━━━━━━━━━━━━━━━━━━━━\u001b[0m\u001b[37m\u001b[0m \u001b[1m0s\u001b[0m 2ms/step - accuracy: 0.7220 - loss: 3.3280 - val_accuracy: 0.8328 - val_loss: 1.5442\n",
      "Epoch 37/400\n",
      "\u001b[1m99/99\u001b[0m \u001b[32m━━━━━━━━━━━━━━━━━━━━\u001b[0m\u001b[37m\u001b[0m \u001b[1m0s\u001b[0m 2ms/step - accuracy: 0.7833 - loss: 1.5822 - val_accuracy: 0.3726 - val_loss: 7.7548\n",
      "Epoch 38/400\n",
      "\u001b[1m99/99\u001b[0m \u001b[32m━━━━━━━━━━━━━━━━━━━━\u001b[0m\u001b[37m\u001b[0m \u001b[1m0s\u001b[0m 2ms/step - accuracy: 0.7160 - loss: 3.1828 - val_accuracy: 0.7751 - val_loss: 1.4446\n",
      "Epoch 39/400\n",
      "\u001b[1m99/99\u001b[0m \u001b[32m━━━━━━━━━━━━━━━━━━━━\u001b[0m\u001b[37m\u001b[0m \u001b[1m0s\u001b[0m 2ms/step - accuracy: 0.7795 - loss: 1.6054 - val_accuracy: 0.7508 - val_loss: 0.9684\n",
      "Epoch 40/400\n",
      "\u001b[1m99/99\u001b[0m \u001b[32m━━━━━━━━━━━━━━━━━━━━\u001b[0m\u001b[37m\u001b[0m \u001b[1m0s\u001b[0m 2ms/step - accuracy: 0.7499 - loss: 1.9170 - val_accuracy: 0.6999 - val_loss: 1.0921\n",
      "Epoch 41/400\n",
      "\u001b[1m99/99\u001b[0m \u001b[32m━━━━━━━━━━━━━━━━━━━━\u001b[0m\u001b[37m\u001b[0m \u001b[1m0s\u001b[0m 2ms/step - accuracy: 0.7238 - loss: 2.4570 - val_accuracy: 0.5731 - val_loss: 2.0762\n",
      "Epoch 42/400\n",
      "\u001b[1m99/99\u001b[0m \u001b[32m━━━━━━━━━━━━━━━━━━━━\u001b[0m\u001b[37m\u001b[0m \u001b[1m0s\u001b[0m 2ms/step - accuracy: 0.7343 - loss: 2.0764 - val_accuracy: 0.8209 - val_loss: 3.5396\n",
      "Epoch 43/400\n",
      "\u001b[1m99/99\u001b[0m \u001b[32m━━━━━━━━━━━━━━━━━━━━\u001b[0m\u001b[37m\u001b[0m \u001b[1m0s\u001b[0m 2ms/step - accuracy: 0.7674 - loss: 2.4916 - val_accuracy: 0.8752 - val_loss: 0.8285\n",
      "Epoch 44/400\n",
      "\u001b[1m99/99\u001b[0m \u001b[32m━━━━━━━━━━━━━━━━━━━━\u001b[0m\u001b[37m\u001b[0m \u001b[1m0s\u001b[0m 2ms/step - accuracy: 0.7466 - loss: 1.9598 - val_accuracy: 0.8290 - val_loss: 1.0127\n",
      "Epoch 45/400\n",
      "\u001b[1m99/99\u001b[0m \u001b[32m━━━━━━━━━━━━━━━━━━━━\u001b[0m\u001b[37m\u001b[0m \u001b[1m0s\u001b[0m 2ms/step - accuracy: 0.7729 - loss: 1.4170 - val_accuracy: 0.8466 - val_loss: 2.0790\n",
      "Epoch 46/400\n",
      "\u001b[1m99/99\u001b[0m \u001b[32m━━━━━━━━━━━━━━━━━━━━\u001b[0m\u001b[37m\u001b[0m \u001b[1m0s\u001b[0m 2ms/step - accuracy: 0.7783 - loss: 2.2572 - val_accuracy: 0.7956 - val_loss: 4.7738\n",
      "Epoch 47/400\n",
      "\u001b[1m99/99\u001b[0m \u001b[32m━━━━━━━━━━━━━━━━━━━━\u001b[0m\u001b[37m\u001b[0m \u001b[1m0s\u001b[0m 2ms/step - accuracy: 0.7397 - loss: 3.4141 - val_accuracy: 0.8099 - val_loss: 1.5000\n",
      "Epoch 48/400\n",
      "\u001b[1m99/99\u001b[0m \u001b[32m━━━━━━━━━━━━━━━━━━━━\u001b[0m\u001b[37m\u001b[0m \u001b[1m0s\u001b[0m 2ms/step - accuracy: 0.7901 - loss: 1.9063 - val_accuracy: 0.7685 - val_loss: 2.8434\n",
      "Epoch 49/400\n",
      "\u001b[1m99/99\u001b[0m \u001b[32m━━━━━━━━━━━━━━━━━━━━\u001b[0m\u001b[37m\u001b[0m \u001b[1m0s\u001b[0m 2ms/step - accuracy: 0.7718 - loss: 1.9186 - val_accuracy: 0.8542 - val_loss: 0.9718\n",
      "Epoch 50/400\n",
      "\u001b[1m99/99\u001b[0m \u001b[32m━━━━━━━━━━━━━━━━━━━━\u001b[0m\u001b[37m\u001b[0m \u001b[1m0s\u001b[0m 2ms/step - accuracy: 0.7790 - loss: 1.7849 - val_accuracy: 0.8180 - val_loss: 1.2120\n",
      "Epoch 51/400\n",
      "\u001b[1m99/99\u001b[0m \u001b[32m━━━━━━━━━━━━━━━━━━━━\u001b[0m\u001b[37m\u001b[0m \u001b[1m0s\u001b[0m 2ms/step - accuracy: 0.7943 - loss: 1.4173 - val_accuracy: 0.6351 - val_loss: 1.6441\n",
      "Epoch 52/400\n",
      "\u001b[1m99/99\u001b[0m \u001b[32m━━━━━━━━━━━━━━━━━━━━\u001b[0m\u001b[37m\u001b[0m \u001b[1m0s\u001b[0m 2ms/step - accuracy: 0.7786 - loss: 1.5552 - val_accuracy: 0.6093 - val_loss: 1.8396\n",
      "Epoch 53/400\n",
      "\u001b[1m99/99\u001b[0m \u001b[32m━━━━━━━━━━━━━━━━━━━━\u001b[0m\u001b[37m\u001b[0m \u001b[1m0s\u001b[0m 2ms/step - accuracy: 0.7373 - loss: 2.4932 - val_accuracy: 0.3268 - val_loss: 4.0872\n",
      "Epoch 54/400\n",
      "\u001b[1m99/99\u001b[0m \u001b[32m━━━━━━━━━━━━━━━━━━━━\u001b[0m\u001b[37m\u001b[0m \u001b[1m0s\u001b[0m 2ms/step - accuracy: 0.7107 - loss: 3.0397 - val_accuracy: 0.6374 - val_loss: 2.1048\n",
      "Epoch 55/400\n",
      "\u001b[1m99/99\u001b[0m \u001b[32m━━━━━━━━━━━━━━━━━━━━\u001b[0m\u001b[37m\u001b[0m \u001b[1m0s\u001b[0m 2ms/step - accuracy: 0.7685 - loss: 2.2355 - val_accuracy: 0.7904 - val_loss: 2.6078\n",
      "Epoch 56/400\n",
      "\u001b[1m99/99\u001b[0m \u001b[32m━━━━━━━━━━━━━━━━━━━━\u001b[0m\u001b[37m\u001b[0m \u001b[1m0s\u001b[0m 2ms/step - accuracy: 0.7623 - loss: 2.2528 - val_accuracy: 0.7423 - val_loss: 2.7347\n",
      "Epoch 57/400\n",
      "\u001b[1m99/99\u001b[0m \u001b[32m━━━━━━━━━━━━━━━━━━━━\u001b[0m\u001b[37m\u001b[0m \u001b[1m0s\u001b[0m 2ms/step - accuracy: 0.7392 - loss: 2.2859 - val_accuracy: 0.8090 - val_loss: 2.0884\n",
      "Epoch 58/400\n",
      "\u001b[1m99/99\u001b[0m \u001b[32m━━━━━━━━━━━━━━━━━━━━\u001b[0m\u001b[37m\u001b[0m \u001b[1m0s\u001b[0m 2ms/step - accuracy: 0.8075 - loss: 1.2999 - val_accuracy: 0.5326 - val_loss: 1.7813\n",
      "Epoch 59/400\n",
      "\u001b[1m99/99\u001b[0m \u001b[32m━━━━━━━━━━━━━━━━━━━━\u001b[0m\u001b[37m\u001b[0m \u001b[1m0s\u001b[0m 2ms/step - accuracy: 0.7846 - loss: 1.7882 - val_accuracy: 0.8452 - val_loss: 4.1455\n",
      "Epoch 60/400\n",
      "\u001b[1m99/99\u001b[0m \u001b[32m━━━━━━━━━━━━━━━━━━━━\u001b[0m\u001b[37m\u001b[0m \u001b[1m0s\u001b[0m 2ms/step - accuracy: 0.7836 - loss: 3.3259 - val_accuracy: 0.8071 - val_loss: 3.1164\n",
      "Epoch 61/400\n",
      "\u001b[1m99/99\u001b[0m \u001b[32m━━━━━━━━━━━━━━━━━━━━\u001b[0m\u001b[37m\u001b[0m \u001b[1m0s\u001b[0m 2ms/step - accuracy: 0.7782 - loss: 1.7968 - val_accuracy: 0.5707 - val_loss: 2.6720\n",
      "Epoch 62/400\n",
      "\u001b[1m99/99\u001b[0m \u001b[32m━━━━━━━━━━━━━━━━━━━━\u001b[0m\u001b[37m\u001b[0m \u001b[1m0s\u001b[0m 2ms/step - accuracy: 0.7465 - loss: 2.1440 - val_accuracy: 0.7918 - val_loss: 2.5106\n",
      "Epoch 63/400\n",
      "\u001b[1m99/99\u001b[0m \u001b[32m━━━━━━━━━━━━━━━━━━━━\u001b[0m\u001b[37m\u001b[0m \u001b[1m0s\u001b[0m 2ms/step - accuracy: 0.7754 - loss: 1.6766 - val_accuracy: 0.7899 - val_loss: 2.3797\n",
      "Epoch 64/400\n",
      "\u001b[1m99/99\u001b[0m \u001b[32m━━━━━━━━━━━━━━━━━━━━\u001b[0m\u001b[37m\u001b[0m \u001b[1m0s\u001b[0m 2ms/step - accuracy: 0.7415 - loss: 2.7595 - val_accuracy: 0.8371 - val_loss: 1.7818\n",
      "Epoch 65/400\n",
      "\u001b[1m99/99\u001b[0m \u001b[32m━━━━━━━━━━━━━━━━━━━━\u001b[0m\u001b[37m\u001b[0m \u001b[1m0s\u001b[0m 3ms/step - accuracy: 0.7863 - loss: 1.4817 - val_accuracy: 0.5965 - val_loss: 4.4288\n",
      "Epoch 66/400\n",
      "\u001b[1m99/99\u001b[0m \u001b[32m━━━━━━━━━━━━━━━━━━━━\u001b[0m\u001b[37m\u001b[0m \u001b[1m0s\u001b[0m 2ms/step - accuracy: 0.7868 - loss: 2.8276 - val_accuracy: 0.7613 - val_loss: 2.3207\n",
      "Epoch 67/400\n",
      "\u001b[1m99/99\u001b[0m \u001b[32m━━━━━━━━━━━━━━━━━━━━\u001b[0m\u001b[37m\u001b[0m \u001b[1m0s\u001b[0m 2ms/step - accuracy: 0.7993 - loss: 1.3260 - val_accuracy: 0.8328 - val_loss: 0.7119\n",
      "Epoch 68/400\n",
      "\u001b[1m99/99\u001b[0m \u001b[32m━━━━━━━━━━━━━━━━━━━━\u001b[0m\u001b[37m\u001b[0m \u001b[1m0s\u001b[0m 2ms/step - accuracy: 0.7780 - loss: 1.9037 - val_accuracy: 0.8137 - val_loss: 3.9051\n",
      "Epoch 69/400\n",
      "\u001b[1m99/99\u001b[0m \u001b[32m━━━━━━━━━━━━━━━━━━━━\u001b[0m\u001b[37m\u001b[0m \u001b[1m0s\u001b[0m 2ms/step - accuracy: 0.7514 - loss: 3.9532 - val_accuracy: 0.7323 - val_loss: 1.7356\n",
      "Epoch 70/400\n",
      "\u001b[1m99/99\u001b[0m \u001b[32m━━━━━━━━━━━━━━━━━━━━\u001b[0m\u001b[37m\u001b[0m \u001b[1m0s\u001b[0m 2ms/step - accuracy: 0.7767 - loss: 1.4556 - val_accuracy: 0.7880 - val_loss: 2.8227\n",
      "Epoch 71/400\n",
      "\u001b[1m99/99\u001b[0m \u001b[32m━━━━━━━━━━━━━━━━━━━━\u001b[0m\u001b[37m\u001b[0m \u001b[1m0s\u001b[0m 2ms/step - accuracy: 0.7453 - loss: 2.7265 - val_accuracy: 0.8399 - val_loss: 3.0692\n",
      "Epoch 72/400\n",
      "\u001b[1m99/99\u001b[0m \u001b[32m━━━━━━━━━━━━━━━━━━━━\u001b[0m\u001b[37m\u001b[0m \u001b[1m0s\u001b[0m 2ms/step - accuracy: 0.8056 - loss: 1.8955 - val_accuracy: 0.7756 - val_loss: 2.3179\n",
      "Epoch 73/400\n",
      "\u001b[1m99/99\u001b[0m \u001b[32m━━━━━━━━━━━━━━━━━━━━\u001b[0m\u001b[37m\u001b[0m \u001b[1m0s\u001b[0m 2ms/step - accuracy: 0.7818 - loss: 1.7110 - val_accuracy: 0.8737 - val_loss: 0.4583\n",
      "Epoch 74/400\n",
      "\u001b[1m99/99\u001b[0m \u001b[32m━━━━━━━━━━━━━━━━━━━━\u001b[0m\u001b[37m\u001b[0m \u001b[1m0s\u001b[0m 2ms/step - accuracy: 0.7769 - loss: 1.9831 - val_accuracy: 0.7894 - val_loss: 3.9897\n",
      "Epoch 75/400\n",
      "\u001b[1m99/99\u001b[0m \u001b[32m━━━━━━━━━━━━━━━━━━━━\u001b[0m\u001b[37m\u001b[0m \u001b[1m0s\u001b[0m 2ms/step - accuracy: 0.7686 - loss: 2.4893 - val_accuracy: 0.8947 - val_loss: 1.0328\n",
      "Epoch 76/400\n",
      "\u001b[1m99/99\u001b[0m \u001b[32m━━━━━━━━━━━━━━━━━━━━\u001b[0m\u001b[37m\u001b[0m \u001b[1m0s\u001b[0m 2ms/step - accuracy: 0.8083 - loss: 1.3130 - val_accuracy: 0.8895 - val_loss: 0.8465\n",
      "Epoch 77/400\n",
      "\u001b[1m99/99\u001b[0m \u001b[32m━━━━━━━━━━━━━━━━━━━━\u001b[0m\u001b[37m\u001b[0m \u001b[1m0s\u001b[0m 2ms/step - accuracy: 0.8275 - loss: 1.1303 - val_accuracy: 0.8828 - val_loss: 2.1975\n",
      "Epoch 78/400\n",
      "\u001b[1m99/99\u001b[0m \u001b[32m━━━━━━━━━━━━━━━━━━━━\u001b[0m\u001b[37m\u001b[0m \u001b[1m0s\u001b[0m 2ms/step - accuracy: 0.7904 - loss: 2.6440 - val_accuracy: 0.8704 - val_loss: 4.3681\n",
      "Epoch 79/400\n",
      "\u001b[1m99/99\u001b[0m \u001b[32m━━━━━━━━━━━━━━━━━━━━\u001b[0m\u001b[37m\u001b[0m \u001b[1m0s\u001b[0m 2ms/step - accuracy: 0.8002 - loss: 2.5141 - val_accuracy: 0.8099 - val_loss: 1.1192\n",
      "Epoch 80/400\n",
      "\u001b[1m99/99\u001b[0m \u001b[32m━━━━━━━━━━━━━━━━━━━━\u001b[0m\u001b[37m\u001b[0m \u001b[1m0s\u001b[0m 2ms/step - accuracy: 0.7736 - loss: 1.4292 - val_accuracy: 0.8223 - val_loss: 2.7537\n",
      "Epoch 81/400\n",
      "\u001b[1m99/99\u001b[0m \u001b[32m━━━━━━━━━━━━━━━━━━━━\u001b[0m\u001b[37m\u001b[0m \u001b[1m0s\u001b[0m 2ms/step - accuracy: 0.8216 - loss: 1.3458 - val_accuracy: 0.8842 - val_loss: 1.1152\n",
      "Epoch 82/400\n",
      "\u001b[1m99/99\u001b[0m \u001b[32m━━━━━━━━━━━━━━━━━━━━\u001b[0m\u001b[37m\u001b[0m \u001b[1m0s\u001b[0m 2ms/step - accuracy: 0.8269 - loss: 1.0124 - val_accuracy: 0.8061 - val_loss: 1.7426\n",
      "Epoch 83/400\n",
      "\u001b[1m99/99\u001b[0m \u001b[32m━━━━━━━━━━━━━━━━━━━━\u001b[0m\u001b[37m\u001b[0m \u001b[1m0s\u001b[0m 2ms/step - accuracy: 0.8387 - loss: 1.1590 - val_accuracy: 0.7646 - val_loss: 1.4930\n",
      "Epoch 84/400\n",
      "\u001b[1m99/99\u001b[0m \u001b[32m━━━━━━━━━━━━━━━━━━━━\u001b[0m\u001b[37m\u001b[0m \u001b[1m0s\u001b[0m 2ms/step - accuracy: 0.7903 - loss: 1.5290 - val_accuracy: 0.8471 - val_loss: 1.3043\n",
      "Epoch 85/400\n",
      "\u001b[1m99/99\u001b[0m \u001b[32m━━━━━━━━━━━━━━━━━━━━\u001b[0m\u001b[37m\u001b[0m \u001b[1m0s\u001b[0m 2ms/step - accuracy: 0.7904 - loss: 1.5479 - val_accuracy: 0.8237 - val_loss: 0.8272\n",
      "Epoch 86/400\n",
      "\u001b[1m99/99\u001b[0m \u001b[32m━━━━━━━━━━━━━━━━━━━━\u001b[0m\u001b[37m\u001b[0m \u001b[1m0s\u001b[0m 2ms/step - accuracy: 0.8253 - loss: 1.0004 - val_accuracy: 0.8094 - val_loss: 1.3641\n",
      "Epoch 87/400\n",
      "\u001b[1m99/99\u001b[0m \u001b[32m━━━━━━━━━━━━━━━━━━━━\u001b[0m\u001b[37m\u001b[0m \u001b[1m0s\u001b[0m 2ms/step - accuracy: 0.8324 - loss: 1.1683 - val_accuracy: 0.8042 - val_loss: 0.8468\n",
      "Epoch 88/400\n",
      "\u001b[1m99/99\u001b[0m \u001b[32m━━━━━━━━━━━━━━━━━━━━\u001b[0m\u001b[37m\u001b[0m \u001b[1m0s\u001b[0m 2ms/step - accuracy: 0.7638 - loss: 2.0995 - val_accuracy: 0.8323 - val_loss: 0.9231\n",
      "Epoch 89/400\n",
      "\u001b[1m99/99\u001b[0m \u001b[32m━━━━━━━━━━━━━━━━━━━━\u001b[0m\u001b[37m\u001b[0m \u001b[1m0s\u001b[0m 2ms/step - accuracy: 0.8535 - loss: 1.0279 - val_accuracy: 0.7546 - val_loss: 1.5351\n",
      "Epoch 90/400\n",
      "\u001b[1m99/99\u001b[0m \u001b[32m━━━━━━━━━━━━━━━━━━━━\u001b[0m\u001b[37m\u001b[0m \u001b[1m0s\u001b[0m 2ms/step - accuracy: 0.8020 - loss: 1.7468 - val_accuracy: 0.7947 - val_loss: 3.2558\n",
      "Epoch 91/400\n",
      "\u001b[1m99/99\u001b[0m \u001b[32m━━━━━━━━━━━━━━━━━━━━\u001b[0m\u001b[37m\u001b[0m \u001b[1m0s\u001b[0m 2ms/step - accuracy: 0.8127 - loss: 2.0626 - val_accuracy: 0.6646 - val_loss: 2.5838\n",
      "Epoch 92/400\n",
      "\u001b[1m99/99\u001b[0m \u001b[32m━━━━━━━━━━━━━━━━━━━━\u001b[0m\u001b[37m\u001b[0m \u001b[1m0s\u001b[0m 2ms/step - accuracy: 0.8125 - loss: 1.3398 - val_accuracy: 0.8166 - val_loss: 6.3854\n",
      "Epoch 93/400\n",
      "\u001b[1m99/99\u001b[0m \u001b[32m━━━━━━━━━━━━━━━━━━━━\u001b[0m\u001b[37m\u001b[0m \u001b[1m0s\u001b[0m 2ms/step - accuracy: 0.7735 - loss: 2.8260 - val_accuracy: 0.6565 - val_loss: 2.6488\n",
      "Epoch 94/400\n",
      "\u001b[1m99/99\u001b[0m \u001b[32m━━━━━━━━━━━━━━━━━━━━\u001b[0m\u001b[37m\u001b[0m \u001b[1m0s\u001b[0m 2ms/step - accuracy: 0.7906 - loss: 2.0583 - val_accuracy: 0.7923 - val_loss: 2.2038\n",
      "Epoch 95/400\n",
      "\u001b[1m99/99\u001b[0m \u001b[32m━━━━━━━━━━━━━━━━━━━━\u001b[0m\u001b[37m\u001b[0m \u001b[1m0s\u001b[0m 2ms/step - accuracy: 0.7727 - loss: 2.0061 - val_accuracy: 0.6189 - val_loss: 2.7083\n",
      "Epoch 96/400\n",
      "\u001b[1m99/99\u001b[0m \u001b[32m━━━━━━━━━━━━━━━━━━━━\u001b[0m\u001b[37m\u001b[0m \u001b[1m0s\u001b[0m 2ms/step - accuracy: 0.8103 - loss: 1.4981 - val_accuracy: 0.8371 - val_loss: 1.7856\n",
      "Epoch 97/400\n",
      "\u001b[1m99/99\u001b[0m \u001b[32m━━━━━━━━━━━━━━━━━━━━\u001b[0m\u001b[37m\u001b[0m \u001b[1m0s\u001b[0m 2ms/step - accuracy: 0.8190 - loss: 1.3283 - val_accuracy: 0.8190 - val_loss: 0.9621\n",
      "Epoch 98/400\n",
      "\u001b[1m99/99\u001b[0m \u001b[32m━━━━━━━━━━━━━━━━━━━━\u001b[0m\u001b[37m\u001b[0m \u001b[1m0s\u001b[0m 2ms/step - accuracy: 0.8180 - loss: 1.7753 - val_accuracy: 0.7470 - val_loss: 2.0635\n",
      "Epoch 99/400\n",
      "\u001b[1m99/99\u001b[0m \u001b[32m━━━━━━━━━━━━━━━━━━━━\u001b[0m\u001b[37m\u001b[0m \u001b[1m0s\u001b[0m 2ms/step - accuracy: 0.8095 - loss: 1.8045 - val_accuracy: 0.8761 - val_loss: 1.6741\n",
      "Epoch 100/400\n",
      "\u001b[1m99/99\u001b[0m \u001b[32m━━━━━━━━━━━━━━━━━━━━\u001b[0m\u001b[37m\u001b[0m \u001b[1m0s\u001b[0m 2ms/step - accuracy: 0.8003 - loss: 1.6377 - val_accuracy: 0.8185 - val_loss: 1.9988\n",
      "Epoch 101/400\n",
      "\u001b[1m99/99\u001b[0m \u001b[32m━━━━━━━━━━━━━━━━━━━━\u001b[0m\u001b[37m\u001b[0m \u001b[1m0s\u001b[0m 2ms/step - accuracy: 0.7836 - loss: 2.3817 - val_accuracy: 0.7818 - val_loss: 1.7801\n",
      "Epoch 102/400\n",
      "\u001b[1m99/99\u001b[0m \u001b[32m━━━━━━━━━━━━━━━━━━━━\u001b[0m\u001b[37m\u001b[0m \u001b[1m0s\u001b[0m 2ms/step - accuracy: 0.8050 - loss: 1.2902 - val_accuracy: 0.7851 - val_loss: 0.9511\n",
      "Epoch 103/400\n",
      "\u001b[1m99/99\u001b[0m \u001b[32m━━━━━━━━━━━━━━━━━━━━\u001b[0m\u001b[37m\u001b[0m \u001b[1m0s\u001b[0m 2ms/step - accuracy: 0.8356 - loss: 1.3184 - val_accuracy: 0.6117 - val_loss: 2.3524\n",
      "Epoch 104/400\n",
      "\u001b[1m99/99\u001b[0m \u001b[32m━━━━━━━━━━━━━━━━━━━━\u001b[0m\u001b[37m\u001b[0m \u001b[1m0s\u001b[0m 2ms/step - accuracy: 0.7945 - loss: 2.2755 - val_accuracy: 0.9009 - val_loss: 1.1114\n",
      "Epoch 105/400\n",
      "\u001b[1m99/99\u001b[0m \u001b[32m━━━━━━━━━━━━━━━━━━━━\u001b[0m\u001b[37m\u001b[0m \u001b[1m0s\u001b[0m 2ms/step - accuracy: 0.8498 - loss: 1.3372 - val_accuracy: 0.9004 - val_loss: 1.7391\n",
      "Epoch 106/400\n",
      "\u001b[1m99/99\u001b[0m \u001b[32m━━━━━━━━━━━━━━━━━━━━\u001b[0m\u001b[37m\u001b[0m \u001b[1m0s\u001b[0m 2ms/step - accuracy: 0.8097 - loss: 1.4947 - val_accuracy: 0.9319 - val_loss: 1.0192\n",
      "Epoch 107/400\n",
      "\u001b[1m99/99\u001b[0m \u001b[32m━━━━━━━━━━━━━━━━━━━━\u001b[0m\u001b[37m\u001b[0m \u001b[1m0s\u001b[0m 2ms/step - accuracy: 0.8082 - loss: 1.6621 - val_accuracy: 0.8090 - val_loss: 2.3419\n",
      "Epoch 108/400\n",
      "\u001b[1m99/99\u001b[0m \u001b[32m━━━━━━━━━━━━━━━━━━━━\u001b[0m\u001b[37m\u001b[0m \u001b[1m0s\u001b[0m 2ms/step - accuracy: 0.8047 - loss: 2.0850 - val_accuracy: 0.8223 - val_loss: 1.6475\n",
      "Epoch 109/400\n",
      "\u001b[1m99/99\u001b[0m \u001b[32m━━━━━━━━━━━━━━━━━━━━\u001b[0m\u001b[37m\u001b[0m \u001b[1m0s\u001b[0m 2ms/step - accuracy: 0.8324 - loss: 1.7954 - val_accuracy: 0.9009 - val_loss: 1.0426\n",
      "Epoch 110/400\n",
      "\u001b[1m99/99\u001b[0m \u001b[32m━━━━━━━━━━━━━━━━━━━━\u001b[0m\u001b[37m\u001b[0m \u001b[1m0s\u001b[0m 2ms/step - accuracy: 0.8660 - loss: 0.7450 - val_accuracy: 0.6975 - val_loss: 2.0347\n",
      "Epoch 111/400\n",
      "\u001b[1m99/99\u001b[0m \u001b[32m━━━━━━━━━━━━━━━━━━━━\u001b[0m\u001b[37m\u001b[0m \u001b[1m0s\u001b[0m 2ms/step - accuracy: 0.7855 - loss: 2.1308 - val_accuracy: 0.8623 - val_loss: 0.9077\n",
      "Epoch 112/400\n",
      "\u001b[1m99/99\u001b[0m \u001b[32m━━━━━━━━━━━━━━━━━━━━\u001b[0m\u001b[37m\u001b[0m \u001b[1m0s\u001b[0m 2ms/step - accuracy: 0.8082 - loss: 1.7765 - val_accuracy: 0.6765 - val_loss: 3.9001\n",
      "Epoch 113/400\n",
      "\u001b[1m99/99\u001b[0m \u001b[32m━━━━━━━━━━━━━━━━━━━━\u001b[0m\u001b[37m\u001b[0m \u001b[1m0s\u001b[0m 2ms/step - accuracy: 0.7487 - loss: 3.3243 - val_accuracy: 0.7913 - val_loss: 1.5831\n",
      "Epoch 114/400\n",
      "\u001b[1m99/99\u001b[0m \u001b[32m━━━━━━━━━━━━━━━━━━━━\u001b[0m\u001b[37m\u001b[0m \u001b[1m0s\u001b[0m 2ms/step - accuracy: 0.8238 - loss: 1.8134 - val_accuracy: 0.8213 - val_loss: 1.2755\n",
      "Epoch 115/400\n",
      "\u001b[1m99/99\u001b[0m \u001b[32m━━━━━━━━━━━━━━━━━━━━\u001b[0m\u001b[37m\u001b[0m \u001b[1m0s\u001b[0m 2ms/step - accuracy: 0.8166 - loss: 1.0942 - val_accuracy: 0.7637 - val_loss: 0.9635\n",
      "Epoch 116/400\n",
      "\u001b[1m99/99\u001b[0m \u001b[32m━━━━━━━━━━━━━━━━━━━━\u001b[0m\u001b[37m\u001b[0m \u001b[1m0s\u001b[0m 2ms/step - accuracy: 0.8513 - loss: 0.7487 - val_accuracy: 0.8657 - val_loss: 1.2886\n",
      "Epoch 117/400\n",
      "\u001b[1m99/99\u001b[0m \u001b[32m━━━━━━━━━━━━━━━━━━━━\u001b[0m\u001b[37m\u001b[0m \u001b[1m0s\u001b[0m 2ms/step - accuracy: 0.8385 - loss: 0.9988 - val_accuracy: 0.8880 - val_loss: 0.7915\n",
      "Epoch 118/400\n",
      "\u001b[1m99/99\u001b[0m \u001b[32m━━━━━━━━━━━━━━━━━━━━\u001b[0m\u001b[37m\u001b[0m \u001b[1m0s\u001b[0m 2ms/step - accuracy: 0.8492 - loss: 1.4553 - val_accuracy: 0.8490 - val_loss: 1.4323\n",
      "Epoch 119/400\n",
      "\u001b[1m99/99\u001b[0m \u001b[32m━━━━━━━━━━━━━━━━━━━━\u001b[0m\u001b[37m\u001b[0m \u001b[1m0s\u001b[0m 2ms/step - accuracy: 0.8733 - loss: 0.8917 - val_accuracy: 0.8699 - val_loss: 1.1354\n",
      "Epoch 120/400\n",
      "\u001b[1m99/99\u001b[0m \u001b[32m━━━━━━━━━━━━━━━━━━━━\u001b[0m\u001b[37m\u001b[0m \u001b[1m0s\u001b[0m 2ms/step - accuracy: 0.8482 - loss: 1.1406 - val_accuracy: 0.6627 - val_loss: 1.9473\n",
      "Epoch 121/400\n",
      "\u001b[1m99/99\u001b[0m \u001b[32m━━━━━━━━━━━━━━━━━━━━\u001b[0m\u001b[37m\u001b[0m \u001b[1m0s\u001b[0m 2ms/step - accuracy: 0.8176 - loss: 2.1069 - val_accuracy: 0.8132 - val_loss: 2.2332\n",
      "Epoch 122/400\n",
      "\u001b[1m99/99\u001b[0m \u001b[32m━━━━━━━━━━━━━━━━━━━━\u001b[0m\u001b[37m\u001b[0m \u001b[1m0s\u001b[0m 2ms/step - accuracy: 0.8381 - loss: 1.6992 - val_accuracy: 0.8509 - val_loss: 0.7218\n",
      "Epoch 123/400\n",
      "\u001b[1m99/99\u001b[0m \u001b[32m━━━━━━━━━━━━━━━━━━━━\u001b[0m\u001b[37m\u001b[0m \u001b[1m0s\u001b[0m 2ms/step - accuracy: 0.8114 - loss: 1.4148 - val_accuracy: 0.8523 - val_loss: 0.7379\n",
      "Epoch 124/400\n",
      "\u001b[1m99/99\u001b[0m \u001b[32m━━━━━━━━━━━━━━━━━━━━\u001b[0m\u001b[37m\u001b[0m \u001b[1m0s\u001b[0m 2ms/step - accuracy: 0.8571 - loss: 1.0397 - val_accuracy: 0.5398 - val_loss: 6.6402\n",
      "Epoch 125/400\n",
      "\u001b[1m99/99\u001b[0m \u001b[32m━━━━━━━━━━━━━━━━━━━━\u001b[0m\u001b[37m\u001b[0m \u001b[1m0s\u001b[0m 2ms/step - accuracy: 0.7856 - loss: 2.6917 - val_accuracy: 0.6460 - val_loss: 1.9620\n",
      "Epoch 126/400\n",
      "\u001b[1m99/99\u001b[0m \u001b[32m━━━━━━━━━━━━━━━━━━━━\u001b[0m\u001b[37m\u001b[0m \u001b[1m0s\u001b[0m 2ms/step - accuracy: 0.8362 - loss: 1.2841 - val_accuracy: 0.8190 - val_loss: 2.3494\n",
      "Epoch 127/400\n",
      "\u001b[1m99/99\u001b[0m \u001b[32m━━━━━━━━━━━━━━━━━━━━\u001b[0m\u001b[37m\u001b[0m \u001b[1m0s\u001b[0m 2ms/step - accuracy: 0.8200 - loss: 1.3146 - val_accuracy: 0.6289 - val_loss: 3.0239\n",
      "Epoch 128/400\n",
      "\u001b[1m99/99\u001b[0m \u001b[32m━━━━━━━━━━━━━━━━━━━━\u001b[0m\u001b[37m\u001b[0m \u001b[1m0s\u001b[0m 2ms/step - accuracy: 0.8367 - loss: 1.2056 - val_accuracy: 0.6332 - val_loss: 2.0934\n",
      "Epoch 129/400\n",
      "\u001b[1m99/99\u001b[0m \u001b[32m━━━━━━━━━━━━━━━━━━━━\u001b[0m\u001b[37m\u001b[0m \u001b[1m0s\u001b[0m 2ms/step - accuracy: 0.8444 - loss: 0.8469 - val_accuracy: 0.9338 - val_loss: 0.3480\n",
      "Epoch 130/400\n",
      "\u001b[1m99/99\u001b[0m \u001b[32m━━━━━━━━━━━━━━━━━━━━\u001b[0m\u001b[37m\u001b[0m \u001b[1m0s\u001b[0m 2ms/step - accuracy: 0.8787 - loss: 0.6044 - val_accuracy: 0.8352 - val_loss: 1.7708\n",
      "Epoch 131/400\n",
      "\u001b[1m99/99\u001b[0m \u001b[32m━━━━━━━━━━━━━━━━━━━━\u001b[0m\u001b[37m\u001b[0m \u001b[1m0s\u001b[0m 2ms/step - accuracy: 0.8384 - loss: 1.1558 - val_accuracy: 0.8861 - val_loss: 1.2245\n",
      "Epoch 132/400\n",
      "\u001b[1m99/99\u001b[0m \u001b[32m━━━━━━━━━━━━━━━━━━━━\u001b[0m\u001b[37m\u001b[0m \u001b[1m0s\u001b[0m 2ms/step - accuracy: 0.8308 - loss: 1.3600 - val_accuracy: 0.7061 - val_loss: 1.4548\n",
      "Epoch 133/400\n",
      "\u001b[1m99/99\u001b[0m \u001b[32m━━━━━━━━━━━━━━━━━━━━\u001b[0m\u001b[37m\u001b[0m \u001b[1m0s\u001b[0m 2ms/step - accuracy: 0.8535 - loss: 1.1684 - val_accuracy: 0.7880 - val_loss: 2.1233\n",
      "Epoch 134/400\n",
      "\u001b[1m99/99\u001b[0m \u001b[32m━━━━━━━━━━━━━━━━━━━━\u001b[0m\u001b[37m\u001b[0m \u001b[1m0s\u001b[0m 2ms/step - accuracy: 0.8007 - loss: 2.0892 - val_accuracy: 0.8085 - val_loss: 1.0698\n",
      "Epoch 135/400\n",
      "\u001b[1m99/99\u001b[0m \u001b[32m━━━━━━━━━━━━━━━━━━━━\u001b[0m\u001b[37m\u001b[0m \u001b[1m0s\u001b[0m 2ms/step - accuracy: 0.8229 - loss: 1.5139 - val_accuracy: 0.9152 - val_loss: 0.5121\n",
      "Epoch 136/400\n",
      "\u001b[1m99/99\u001b[0m \u001b[32m━━━━━━━━━━━━━━━━━━━━\u001b[0m\u001b[37m\u001b[0m \u001b[1m0s\u001b[0m 2ms/step - accuracy: 0.8826 - loss: 0.6463 - val_accuracy: 0.9285 - val_loss: 0.9188\n",
      "Epoch 137/400\n",
      "\u001b[1m99/99\u001b[0m \u001b[32m━━━━━━━━━━━━━━━━━━━━\u001b[0m\u001b[37m\u001b[0m \u001b[1m0s\u001b[0m 2ms/step - accuracy: 0.8874 - loss: 0.7800 - val_accuracy: 0.8747 - val_loss: 0.8214\n",
      "Epoch 138/400\n",
      "\u001b[1m99/99\u001b[0m \u001b[32m━━━━━━━━━━━━━━━━━━━━\u001b[0m\u001b[37m\u001b[0m \u001b[1m0s\u001b[0m 2ms/step - accuracy: 0.8788 - loss: 0.9850 - val_accuracy: 0.6927 - val_loss: 0.8479\n",
      "Epoch 139/400\n",
      "\u001b[1m99/99\u001b[0m \u001b[32m━━━━━━━━━━━━━━━━━━━━\u001b[0m\u001b[37m\u001b[0m \u001b[1m0s\u001b[0m 2ms/step - accuracy: 0.8692 - loss: 0.6579 - val_accuracy: 0.9109 - val_loss: 0.7822\n",
      "Epoch 140/400\n",
      "\u001b[1m99/99\u001b[0m \u001b[32m━━━━━━━━━━━━━━━━━━━━\u001b[0m\u001b[37m\u001b[0m \u001b[1m0s\u001b[0m 2ms/step - accuracy: 0.8376 - loss: 1.3541 - val_accuracy: 0.8990 - val_loss: 0.4521\n",
      "Epoch 141/400\n",
      "\u001b[1m99/99\u001b[0m \u001b[32m━━━━━━━━━━━━━━━━━━━━\u001b[0m\u001b[37m\u001b[0m \u001b[1m0s\u001b[0m 2ms/step - accuracy: 0.8802 - loss: 0.7542 - val_accuracy: 0.8094 - val_loss: 1.6621\n",
      "Epoch 142/400\n",
      "\u001b[1m99/99\u001b[0m \u001b[32m━━━━━━━━━━━━━━━━━━━━\u001b[0m\u001b[37m\u001b[0m \u001b[1m0s\u001b[0m 2ms/step - accuracy: 0.8176 - loss: 1.3597 - val_accuracy: 0.8256 - val_loss: 2.4387\n",
      "Epoch 143/400\n",
      "\u001b[1m99/99\u001b[0m \u001b[32m━━━━━━━━━━━━━━━━━━━━\u001b[0m\u001b[37m\u001b[0m \u001b[1m0s\u001b[0m 2ms/step - accuracy: 0.8490 - loss: 1.1347 - val_accuracy: 0.9009 - val_loss: 0.4609\n",
      "Epoch 144/400\n",
      "\u001b[1m99/99\u001b[0m \u001b[32m━━━━━━━━━━━━━━━━━━━━\u001b[0m\u001b[37m\u001b[0m \u001b[1m0s\u001b[0m 2ms/step - accuracy: 0.8680 - loss: 0.7421 - val_accuracy: 0.9290 - val_loss: 0.5639\n",
      "Epoch 145/400\n",
      "\u001b[1m99/99\u001b[0m \u001b[32m━━━━━━━━━━━━━━━━━━━━\u001b[0m\u001b[37m\u001b[0m \u001b[1m0s\u001b[0m 2ms/step - accuracy: 0.8869 - loss: 0.7965 - val_accuracy: 0.9352 - val_loss: 0.4672\n",
      "Epoch 146/400\n",
      "\u001b[1m99/99\u001b[0m \u001b[32m━━━━━━━━━━━━━━━━━━━━\u001b[0m\u001b[37m\u001b[0m \u001b[1m0s\u001b[0m 2ms/step - accuracy: 0.8301 - loss: 1.2009 - val_accuracy: 0.8590 - val_loss: 0.9017\n",
      "Epoch 147/400\n",
      "\u001b[1m99/99\u001b[0m \u001b[32m━━━━━━━━━━━━━━━━━━━━\u001b[0m\u001b[37m\u001b[0m \u001b[1m0s\u001b[0m 2ms/step - accuracy: 0.8586 - loss: 0.9115 - val_accuracy: 0.8537 - val_loss: 1.2192\n",
      "Epoch 148/400\n",
      "\u001b[1m99/99\u001b[0m \u001b[32m━━━━━━━━━━━━━━━━━━━━\u001b[0m\u001b[37m\u001b[0m \u001b[1m0s\u001b[0m 2ms/step - accuracy: 0.8648 - loss: 0.6952 - val_accuracy: 0.9223 - val_loss: 0.5175\n",
      "Epoch 149/400\n",
      "\u001b[1m99/99\u001b[0m \u001b[32m━━━━━━━━━━━━━━━━━━━━\u001b[0m\u001b[37m\u001b[0m \u001b[1m0s\u001b[0m 2ms/step - accuracy: 0.8862 - loss: 0.5034 - val_accuracy: 0.9204 - val_loss: 0.3969\n",
      "Epoch 150/400\n",
      "\u001b[1m99/99\u001b[0m \u001b[32m━━━━━━━━━━━━━━━━━━━━\u001b[0m\u001b[37m\u001b[0m \u001b[1m0s\u001b[0m 2ms/step - accuracy: 0.8723 - loss: 0.8049 - val_accuracy: 0.9276 - val_loss: 1.2750\n",
      "Epoch 151/400\n",
      "\u001b[1m99/99\u001b[0m \u001b[32m━━━━━━━━━━━━━━━━━━━━\u001b[0m\u001b[37m\u001b[0m \u001b[1m0s\u001b[0m 2ms/step - accuracy: 0.8807 - loss: 0.8696 - val_accuracy: 0.8737 - val_loss: 0.4514\n",
      "Epoch 152/400\n",
      "\u001b[1m99/99\u001b[0m \u001b[32m━━━━━━━━━━━━━━━━━━━━\u001b[0m\u001b[37m\u001b[0m \u001b[1m0s\u001b[0m 2ms/step - accuracy: 0.8499 - loss: 0.8927 - val_accuracy: 0.8509 - val_loss: 3.5214\n",
      "Epoch 153/400\n",
      "\u001b[1m99/99\u001b[0m \u001b[32m━━━━━━━━━━━━━━━━━━━━\u001b[0m\u001b[37m\u001b[0m \u001b[1m0s\u001b[0m 2ms/step - accuracy: 0.8092 - loss: 1.8591 - val_accuracy: 0.8456 - val_loss: 0.9154\n",
      "Epoch 154/400\n",
      "\u001b[1m99/99\u001b[0m \u001b[32m━━━━━━━━━━━━━━━━━━━━\u001b[0m\u001b[37m\u001b[0m \u001b[1m0s\u001b[0m 2ms/step - accuracy: 0.8710 - loss: 0.8557 - val_accuracy: 0.9195 - val_loss: 0.8342\n",
      "Epoch 155/400\n",
      "\u001b[1m99/99\u001b[0m \u001b[32m━━━━━━━━━━━━━━━━━━━━\u001b[0m\u001b[37m\u001b[0m \u001b[1m0s\u001b[0m 2ms/step - accuracy: 0.8969 - loss: 0.7159 - val_accuracy: 0.8771 - val_loss: 0.4742\n",
      "Epoch 156/400\n",
      "\u001b[1m99/99\u001b[0m \u001b[32m━━━━━━━━━━━━━━━━━━━━\u001b[0m\u001b[37m\u001b[0m \u001b[1m0s\u001b[0m 2ms/step - accuracy: 0.8855 - loss: 0.7995 - val_accuracy: 0.8533 - val_loss: 0.6449\n",
      "Epoch 157/400\n",
      "\u001b[1m99/99\u001b[0m \u001b[32m━━━━━━━━━━━━━━━━━━━━\u001b[0m\u001b[37m\u001b[0m \u001b[1m0s\u001b[0m 2ms/step - accuracy: 0.8569 - loss: 0.9351 - val_accuracy: 0.8904 - val_loss: 1.0173\n",
      "Epoch 158/400\n",
      "\u001b[1m99/99\u001b[0m \u001b[32m━━━━━━━━━━━━━━━━━━━━\u001b[0m\u001b[37m\u001b[0m \u001b[1m0s\u001b[0m 2ms/step - accuracy: 0.8704 - loss: 0.9117 - val_accuracy: 0.9276 - val_loss: 2.1318\n",
      "Epoch 159/400\n",
      "\u001b[1m99/99\u001b[0m \u001b[32m━━━━━━━━━━━━━━━━━━━━\u001b[0m\u001b[37m\u001b[0m \u001b[1m0s\u001b[0m 2ms/step - accuracy: 0.8361 - loss: 1.7945 - val_accuracy: 0.5255 - val_loss: 3.2785\n",
      "Epoch 160/400\n",
      "\u001b[1m99/99\u001b[0m \u001b[32m━━━━━━━━━━━━━━━━━━━━\u001b[0m\u001b[37m\u001b[0m \u001b[1m0s\u001b[0m 2ms/step - accuracy: 0.8241 - loss: 0.9677 - val_accuracy: 0.9290 - val_loss: 1.4523\n",
      "Epoch 161/400\n",
      "\u001b[1m99/99\u001b[0m \u001b[32m━━━━━━━━━━━━━━━━━━━━\u001b[0m\u001b[37m\u001b[0m \u001b[1m0s\u001b[0m 2ms/step - accuracy: 0.8383 - loss: 1.1902 - val_accuracy: 0.7551 - val_loss: 1.2832\n",
      "Epoch 162/400\n",
      "\u001b[1m99/99\u001b[0m \u001b[32m━━━━━━━━━━━━━━━━━━━━\u001b[0m\u001b[37m\u001b[0m \u001b[1m0s\u001b[0m 2ms/step - accuracy: 0.8446 - loss: 1.0046 - val_accuracy: 0.8785 - val_loss: 0.4957\n",
      "Epoch 163/400\n",
      "\u001b[1m99/99\u001b[0m \u001b[32m━━━━━━━━━━━━━━━━━━━━\u001b[0m\u001b[37m\u001b[0m \u001b[1m0s\u001b[0m 2ms/step - accuracy: 0.8558 - loss: 0.9796 - val_accuracy: 0.5970 - val_loss: 3.3698\n",
      "Epoch 164/400\n",
      "\u001b[1m99/99\u001b[0m \u001b[32m━━━━━━━━━━━━━━━━━━━━\u001b[0m\u001b[37m\u001b[0m \u001b[1m0s\u001b[0m 2ms/step - accuracy: 0.8324 - loss: 1.5378 - val_accuracy: 0.8304 - val_loss: 1.3103\n",
      "Epoch 165/400\n",
      "\u001b[1m99/99\u001b[0m \u001b[32m━━━━━━━━━━━━━━━━━━━━\u001b[0m\u001b[37m\u001b[0m \u001b[1m0s\u001b[0m 2ms/step - accuracy: 0.8618 - loss: 1.0428 - val_accuracy: 0.8995 - val_loss: 0.3676\n",
      "Epoch 166/400\n",
      "\u001b[1m99/99\u001b[0m \u001b[32m━━━━━━━━━━━━━━━━━━━━\u001b[0m\u001b[37m\u001b[0m \u001b[1m0s\u001b[0m 2ms/step - accuracy: 0.8571 - loss: 0.7039 - val_accuracy: 0.7894 - val_loss: 0.7931\n",
      "Epoch 167/400\n",
      "\u001b[1m99/99\u001b[0m \u001b[32m━━━━━━━━━━━━━━━━━━━━\u001b[0m\u001b[37m\u001b[0m \u001b[1m0s\u001b[0m 2ms/step - accuracy: 0.8841 - loss: 0.5314 - val_accuracy: 0.8628 - val_loss: 0.7708\n",
      "Epoch 168/400\n",
      "\u001b[1m99/99\u001b[0m \u001b[32m━━━━━━━━━━━━━━━━━━━━\u001b[0m\u001b[37m\u001b[0m \u001b[1m0s\u001b[0m 2ms/step - accuracy: 0.8647 - loss: 0.7344 - val_accuracy: 0.8533 - val_loss: 0.7243\n",
      "Epoch 169/400\n",
      "\u001b[1m99/99\u001b[0m \u001b[32m━━━━━━━━━━━━━━━━━━━━\u001b[0m\u001b[37m\u001b[0m \u001b[1m0s\u001b[0m 2ms/step - accuracy: 0.8656 - loss: 0.8297 - val_accuracy: 0.9357 - val_loss: 0.2953\n",
      "Epoch 170/400\n",
      "\u001b[1m99/99\u001b[0m \u001b[32m━━━━━━━━━━━━━━━━━━━━\u001b[0m\u001b[37m\u001b[0m \u001b[1m0s\u001b[0m 2ms/step - accuracy: 0.8573 - loss: 0.8771 - val_accuracy: 0.9281 - val_loss: 0.7342\n",
      "Epoch 171/400\n",
      "\u001b[1m99/99\u001b[0m \u001b[32m━━━━━━━━━━━━━━━━━━━━\u001b[0m\u001b[37m\u001b[0m \u001b[1m0s\u001b[0m 2ms/step - accuracy: 0.8908 - loss: 0.5979 - val_accuracy: 0.8528 - val_loss: 0.7234\n",
      "Epoch 172/400\n",
      "\u001b[1m99/99\u001b[0m \u001b[32m━━━━━━━━━━━━━━━━━━━━\u001b[0m\u001b[37m\u001b[0m \u001b[1m0s\u001b[0m 2ms/step - accuracy: 0.8979 - loss: 0.6926 - val_accuracy: 0.8447 - val_loss: 0.7047\n",
      "Epoch 173/400\n",
      "\u001b[1m99/99\u001b[0m \u001b[32m━━━━━━━━━━━━━━━━━━━━\u001b[0m\u001b[37m\u001b[0m \u001b[1m0s\u001b[0m 2ms/step - accuracy: 0.8872 - loss: 0.5319 - val_accuracy: 0.9157 - val_loss: 1.7973\n",
      "Epoch 174/400\n",
      "\u001b[1m99/99\u001b[0m \u001b[32m━━━━━━━━━━━━━━━━━━━━\u001b[0m\u001b[37m\u001b[0m \u001b[1m0s\u001b[0m 2ms/step - accuracy: 0.8505 - loss: 1.5287 - val_accuracy: 0.9204 - val_loss: 0.4540\n",
      "Epoch 175/400\n",
      "\u001b[1m99/99\u001b[0m \u001b[32m━━━━━━━━━━━━━━━━━━━━\u001b[0m\u001b[37m\u001b[0m \u001b[1m0s\u001b[0m 2ms/step - accuracy: 0.8974 - loss: 0.6060 - val_accuracy: 0.6875 - val_loss: 1.2260\n",
      "Epoch 176/400\n",
      "\u001b[1m99/99\u001b[0m \u001b[32m━━━━━━━━━━━━━━━━━━━━\u001b[0m\u001b[37m\u001b[0m \u001b[1m0s\u001b[0m 2ms/step - accuracy: 0.8692 - loss: 0.6999 - val_accuracy: 0.9204 - val_loss: 0.6887\n",
      "Epoch 177/400\n",
      "\u001b[1m99/99\u001b[0m \u001b[32m━━━━━━━━━━━━━━━━━━━━\u001b[0m\u001b[37m\u001b[0m \u001b[1m0s\u001b[0m 2ms/step - accuracy: 0.9203 - loss: 0.3109 - val_accuracy: 0.9328 - val_loss: 0.5491\n",
      "Epoch 178/400\n",
      "\u001b[1m99/99\u001b[0m \u001b[32m━━━━━━━━━━━━━━━━━━━━\u001b[0m\u001b[37m\u001b[0m \u001b[1m0s\u001b[0m 2ms/step - accuracy: 0.9107 - loss: 0.4054 - val_accuracy: 0.8580 - val_loss: 2.2756\n",
      "Epoch 179/400\n",
      "\u001b[1m99/99\u001b[0m \u001b[32m━━━━━━━━━━━━━━━━━━━━\u001b[0m\u001b[37m\u001b[0m \u001b[1m0s\u001b[0m 2ms/step - accuracy: 0.8369 - loss: 1.7705 - val_accuracy: 0.8928 - val_loss: 0.4797\n",
      "Epoch 180/400\n",
      "\u001b[1m99/99\u001b[0m \u001b[32m━━━━━━━━━━━━━━━━━━━━\u001b[0m\u001b[37m\u001b[0m \u001b[1m0s\u001b[0m 2ms/step - accuracy: 0.8922 - loss: 0.5557 - val_accuracy: 0.8042 - val_loss: 1.9607\n",
      "Epoch 181/400\n",
      "\u001b[1m99/99\u001b[0m \u001b[32m━━━━━━━━━━━━━━━━━━━━\u001b[0m\u001b[37m\u001b[0m \u001b[1m0s\u001b[0m 2ms/step - accuracy: 0.8649 - loss: 0.9147 - val_accuracy: 0.8556 - val_loss: 1.4440\n",
      "Epoch 182/400\n",
      "\u001b[1m99/99\u001b[0m \u001b[32m━━━━━━━━━━━━━━━━━━━━\u001b[0m\u001b[37m\u001b[0m \u001b[1m0s\u001b[0m 2ms/step - accuracy: 0.8862 - loss: 0.8794 - val_accuracy: 0.9309 - val_loss: 0.5084\n",
      "Epoch 183/400\n",
      "\u001b[1m99/99\u001b[0m \u001b[32m━━━━━━━━━━━━━━━━━━━━\u001b[0m\u001b[37m\u001b[0m \u001b[1m0s\u001b[0m 2ms/step - accuracy: 0.8758 - loss: 0.7697 - val_accuracy: 0.9347 - val_loss: 0.3305\n",
      "Epoch 184/400\n",
      "\u001b[1m99/99\u001b[0m \u001b[32m━━━━━━━━━━━━━━━━━━━━\u001b[0m\u001b[37m\u001b[0m \u001b[1m0s\u001b[0m 2ms/step - accuracy: 0.8897 - loss: 0.5274 - val_accuracy: 0.8256 - val_loss: 0.9874\n",
      "Epoch 185/400\n",
      "\u001b[1m99/99\u001b[0m \u001b[32m━━━━━━━━━━━━━━━━━━━━\u001b[0m\u001b[37m\u001b[0m \u001b[1m0s\u001b[0m 2ms/step - accuracy: 0.8593 - loss: 0.7347 - val_accuracy: 0.8676 - val_loss: 0.6361\n",
      "Epoch 186/400\n",
      "\u001b[1m99/99\u001b[0m \u001b[32m━━━━━━━━━━━━━━━━━━━━\u001b[0m\u001b[37m\u001b[0m \u001b[1m0s\u001b[0m 2ms/step - accuracy: 0.8740 - loss: 0.8612 - val_accuracy: 0.8814 - val_loss: 0.6385\n",
      "Epoch 187/400\n",
      "\u001b[1m99/99\u001b[0m \u001b[32m━━━━━━━━━━━━━━━━━━━━\u001b[0m\u001b[37m\u001b[0m \u001b[1m0s\u001b[0m 2ms/step - accuracy: 0.8902 - loss: 0.6070 - val_accuracy: 0.8537 - val_loss: 0.5663\n",
      "Epoch 188/400\n",
      "\u001b[1m99/99\u001b[0m \u001b[32m━━━━━━━━━━━━━━━━━━━━\u001b[0m\u001b[37m\u001b[0m \u001b[1m0s\u001b[0m 2ms/step - accuracy: 0.8811 - loss: 0.6307 - val_accuracy: 0.8380 - val_loss: 1.2945\n",
      "Epoch 189/400\n",
      "\u001b[1m99/99\u001b[0m \u001b[32m━━━━━━━━━━━━━━━━━━━━\u001b[0m\u001b[37m\u001b[0m \u001b[1m0s\u001b[0m 2ms/step - accuracy: 0.8873 - loss: 0.6419 - val_accuracy: 0.9328 - val_loss: 0.9061\n",
      "Epoch 190/400\n",
      "\u001b[1m99/99\u001b[0m \u001b[32m━━━━━━━━━━━━━━━━━━━━\u001b[0m\u001b[37m\u001b[0m \u001b[1m0s\u001b[0m 2ms/step - accuracy: 0.8918 - loss: 0.6721 - val_accuracy: 0.8194 - val_loss: 4.3110\n",
      "Epoch 191/400\n",
      "\u001b[1m99/99\u001b[0m \u001b[32m━━━━━━━━━━━━━━━━━━━━\u001b[0m\u001b[37m\u001b[0m \u001b[1m0s\u001b[0m 2ms/step - accuracy: 0.8258 - loss: 1.5515 - val_accuracy: 0.8923 - val_loss: 0.4046\n",
      "Epoch 192/400\n",
      "\u001b[1m99/99\u001b[0m \u001b[32m━━━━━━━━━━━━━━━━━━━━\u001b[0m\u001b[37m\u001b[0m \u001b[1m0s\u001b[0m 2ms/step - accuracy: 0.8890 - loss: 0.6314 - val_accuracy: 0.8857 - val_loss: 0.5589\n",
      "Epoch 193/400\n",
      "\u001b[1m99/99\u001b[0m \u001b[32m━━━━━━━━━━━━━━━━━━━━\u001b[0m\u001b[37m\u001b[0m \u001b[1m0s\u001b[0m 2ms/step - accuracy: 0.8760 - loss: 0.8288 - val_accuracy: 0.9238 - val_loss: 0.3334\n",
      "Epoch 194/400\n",
      "\u001b[1m99/99\u001b[0m \u001b[32m━━━━━━━━━━━━━━━━━━━━\u001b[0m\u001b[37m\u001b[0m \u001b[1m0s\u001b[0m 2ms/step - accuracy: 0.9065 - loss: 0.3444 - val_accuracy: 0.8623 - val_loss: 1.0130\n",
      "Epoch 195/400\n",
      "\u001b[1m99/99\u001b[0m \u001b[32m━━━━━━━━━━━━━━━━━━━━\u001b[0m\u001b[37m\u001b[0m \u001b[1m0s\u001b[0m 2ms/step - accuracy: 0.9099 - loss: 0.4403 - val_accuracy: 0.6246 - val_loss: 3.8846\n",
      "Epoch 196/400\n",
      "\u001b[1m99/99\u001b[0m \u001b[32m━━━━━━━━━━━━━━━━━━━━\u001b[0m\u001b[37m\u001b[0m \u001b[1m0s\u001b[0m 2ms/step - accuracy: 0.8574 - loss: 1.1746 - val_accuracy: 0.9319 - val_loss: 0.9238\n",
      "Epoch 197/400\n",
      "\u001b[1m99/99\u001b[0m \u001b[32m━━━━━━━━━━━━━━━━━━━━\u001b[0m\u001b[37m\u001b[0m \u001b[1m0s\u001b[0m 2ms/step - accuracy: 0.8972 - loss: 0.6302 - val_accuracy: 0.6760 - val_loss: 1.6865\n",
      "Epoch 198/400\n",
      "\u001b[1m99/99\u001b[0m \u001b[32m━━━━━━━━━━━━━━━━━━━━\u001b[0m\u001b[37m\u001b[0m \u001b[1m0s\u001b[0m 2ms/step - accuracy: 0.9033 - loss: 0.4578 - val_accuracy: 0.9119 - val_loss: 0.5296\n",
      "Epoch 199/400\n",
      "\u001b[1m99/99\u001b[0m \u001b[32m━━━━━━━━━━━━━━━━━━━━\u001b[0m\u001b[37m\u001b[0m \u001b[1m0s\u001b[0m 2ms/step - accuracy: 0.8766 - loss: 0.8048 - val_accuracy: 0.6851 - val_loss: 1.9737\n",
      "Epoch 200/400\n",
      "\u001b[1m99/99\u001b[0m \u001b[32m━━━━━━━━━━━━━━━━━━━━\u001b[0m\u001b[37m\u001b[0m \u001b[1m0s\u001b[0m 2ms/step - accuracy: 0.8513 - loss: 0.8837 - val_accuracy: 0.8323 - val_loss: 2.8564\n",
      "Epoch 201/400\n",
      "\u001b[1m99/99\u001b[0m \u001b[32m━━━━━━━━━━━━━━━━━━━━\u001b[0m\u001b[37m\u001b[0m \u001b[1m0s\u001b[0m 2ms/step - accuracy: 0.8619 - loss: 1.0434 - val_accuracy: 0.9195 - val_loss: 1.1980\n",
      "Epoch 202/400\n",
      "\u001b[1m99/99\u001b[0m \u001b[32m━━━━━━━━━━━━━━━━━━━━\u001b[0m\u001b[37m\u001b[0m \u001b[1m0s\u001b[0m 2ms/step - accuracy: 0.9032 - loss: 0.6469 - val_accuracy: 0.9362 - val_loss: 0.5263\n",
      "Epoch 203/400\n",
      "\u001b[1m99/99\u001b[0m \u001b[32m━━━━━━━━━━━━━━━━━━━━\u001b[0m\u001b[37m\u001b[0m \u001b[1m0s\u001b[0m 2ms/step - accuracy: 0.9049 - loss: 0.5264 - val_accuracy: 0.9323 - val_loss: 0.5350\n",
      "Epoch 204/400\n",
      "\u001b[1m99/99\u001b[0m \u001b[32m━━━━━━━━━━━━━━━━━━━━\u001b[0m\u001b[37m\u001b[0m \u001b[1m0s\u001b[0m 2ms/step - accuracy: 0.8910 - loss: 0.6037 - val_accuracy: 0.8542 - val_loss: 1.0937\n",
      "Epoch 205/400\n",
      "\u001b[1m99/99\u001b[0m \u001b[32m━━━━━━━━━━━━━━━━━━━━\u001b[0m\u001b[37m\u001b[0m \u001b[1m0s\u001b[0m 2ms/step - accuracy: 0.8696 - loss: 0.8807 - val_accuracy: 0.9347 - val_loss: 0.3907\n",
      "Epoch 206/400\n",
      "\u001b[1m99/99\u001b[0m \u001b[32m━━━━━━━━━━━━━━━━━━━━\u001b[0m\u001b[37m\u001b[0m \u001b[1m0s\u001b[0m 2ms/step - accuracy: 0.8743 - loss: 0.5615 - val_accuracy: 0.9328 - val_loss: 0.6748\n",
      "Epoch 207/400\n",
      "\u001b[1m99/99\u001b[0m \u001b[32m━━━━━━━━━━━━━━━━━━━━\u001b[0m\u001b[37m\u001b[0m \u001b[1m0s\u001b[0m 2ms/step - accuracy: 0.9027 - loss: 0.4539 - val_accuracy: 0.9133 - val_loss: 0.5312\n",
      "Epoch 208/400\n",
      "\u001b[1m99/99\u001b[0m \u001b[32m━━━━━━━━━━━━━━━━━━━━\u001b[0m\u001b[37m\u001b[0m \u001b[1m0s\u001b[0m 2ms/step - accuracy: 0.9098 - loss: 0.4149 - val_accuracy: 0.9185 - val_loss: 0.9549\n",
      "Epoch 209/400\n",
      "\u001b[1m99/99\u001b[0m \u001b[32m━━━━━━━━━━━━━━━━━━━━\u001b[0m\u001b[37m\u001b[0m \u001b[1m0s\u001b[0m 2ms/step - accuracy: 0.9081 - loss: 0.4377 - val_accuracy: 0.9166 - val_loss: 0.4344\n",
      "Epoch 210/400\n",
      "\u001b[1m99/99\u001b[0m \u001b[32m━━━━━━━━━━━━━━━━━━━━\u001b[0m\u001b[37m\u001b[0m \u001b[1m0s\u001b[0m 2ms/step - accuracy: 0.8708 - loss: 0.6713 - val_accuracy: 0.9271 - val_loss: 0.5742\n",
      "Epoch 211/400\n",
      "\u001b[1m99/99\u001b[0m \u001b[32m━━━━━━━━━━━━━━━━━━━━\u001b[0m\u001b[37m\u001b[0m \u001b[1m0s\u001b[0m 2ms/step - accuracy: 0.8794 - loss: 0.7605 - val_accuracy: 0.9061 - val_loss: 1.3423\n",
      "Epoch 212/400\n",
      "\u001b[1m99/99\u001b[0m \u001b[32m━━━━━━━━━━━━━━━━━━━━\u001b[0m\u001b[37m\u001b[0m \u001b[1m0s\u001b[0m 2ms/step - accuracy: 0.8926 - loss: 0.5507 - val_accuracy: 0.8728 - val_loss: 0.7346\n",
      "Epoch 213/400\n",
      "\u001b[1m99/99\u001b[0m \u001b[32m━━━━━━━━━━━━━━━━━━━━\u001b[0m\u001b[37m\u001b[0m \u001b[1m0s\u001b[0m 2ms/step - accuracy: 0.8849 - loss: 0.4909 - val_accuracy: 0.8966 - val_loss: 0.8153\n",
      "Epoch 214/400\n",
      "\u001b[1m99/99\u001b[0m \u001b[32m━━━━━━━━━━━━━━━━━━━━\u001b[0m\u001b[37m\u001b[0m \u001b[1m0s\u001b[0m 2ms/step - accuracy: 0.8992 - loss: 0.7838 - val_accuracy: 0.9443 - val_loss: 0.2252\n",
      "Epoch 215/400\n",
      "\u001b[1m99/99\u001b[0m \u001b[32m━━━━━━━━━━━━━━━━━━━━\u001b[0m\u001b[37m\u001b[0m \u001b[1m0s\u001b[0m 2ms/step - accuracy: 0.9115 - loss: 0.4350 - val_accuracy: 0.9319 - val_loss: 0.5781\n",
      "Epoch 216/400\n",
      "\u001b[1m99/99\u001b[0m \u001b[32m━━━━━━━━━━━━━━━━━━━━\u001b[0m\u001b[37m\u001b[0m \u001b[1m0s\u001b[0m 2ms/step - accuracy: 0.8866 - loss: 0.9402 - val_accuracy: 0.9238 - val_loss: 0.5510\n",
      "Epoch 217/400\n",
      "\u001b[1m99/99\u001b[0m \u001b[32m━━━━━━━━━━━━━━━━━━━━\u001b[0m\u001b[37m\u001b[0m \u001b[1m0s\u001b[0m 2ms/step - accuracy: 0.8763 - loss: 1.0437 - val_accuracy: 0.8809 - val_loss: 0.5517\n",
      "Epoch 218/400\n",
      "\u001b[1m99/99\u001b[0m \u001b[32m━━━━━━━━━━━━━━━━━━━━\u001b[0m\u001b[37m\u001b[0m \u001b[1m0s\u001b[0m 2ms/step - accuracy: 0.8692 - loss: 0.7023 - val_accuracy: 0.8961 - val_loss: 0.5414\n",
      "Epoch 219/400\n",
      "\u001b[1m99/99\u001b[0m \u001b[32m━━━━━━━━━━━━━━━━━━━━\u001b[0m\u001b[37m\u001b[0m \u001b[1m0s\u001b[0m 2ms/step - accuracy: 0.8906 - loss: 0.4894 - val_accuracy: 0.8757 - val_loss: 0.7730\n",
      "Epoch 220/400\n",
      "\u001b[1m99/99\u001b[0m \u001b[32m━━━━━━━━━━━━━━━━━━━━\u001b[0m\u001b[37m\u001b[0m \u001b[1m0s\u001b[0m 2ms/step - accuracy: 0.8824 - loss: 0.6880 - val_accuracy: 0.6980 - val_loss: 2.3580\n",
      "Epoch 221/400\n",
      "\u001b[1m99/99\u001b[0m \u001b[32m━━━━━━━━━━━━━━━━━━━━\u001b[0m\u001b[37m\u001b[0m \u001b[1m0s\u001b[0m 2ms/step - accuracy: 0.8541 - loss: 0.8838 - val_accuracy: 0.9433 - val_loss: 0.2850\n",
      "Epoch 222/400\n",
      "\u001b[1m99/99\u001b[0m \u001b[32m━━━━━━━━━━━━━━━━━━━━\u001b[0m\u001b[37m\u001b[0m \u001b[1m0s\u001b[0m 2ms/step - accuracy: 0.9005 - loss: 0.4573 - val_accuracy: 0.9433 - val_loss: 0.5061\n",
      "Epoch 223/400\n",
      "\u001b[1m99/99\u001b[0m \u001b[32m━━━━━━━━━━━━━━━━━━━━\u001b[0m\u001b[37m\u001b[0m \u001b[1m0s\u001b[0m 2ms/step - accuracy: 0.9211 - loss: 0.3823 - val_accuracy: 0.9357 - val_loss: 0.5902\n",
      "Epoch 224/400\n",
      "\u001b[1m99/99\u001b[0m \u001b[32m━━━━━━━━━━━━━━━━━━━━\u001b[0m\u001b[37m\u001b[0m \u001b[1m0s\u001b[0m 2ms/step - accuracy: 0.9236 - loss: 0.4461 - val_accuracy: 0.8790 - val_loss: 0.5187\n",
      "Epoch 225/400\n",
      "\u001b[1m99/99\u001b[0m \u001b[32m━━━━━━━━━━━━━━━━━━━━\u001b[0m\u001b[37m\u001b[0m \u001b[1m0s\u001b[0m 2ms/step - accuracy: 0.9130 - loss: 0.4102 - val_accuracy: 0.8957 - val_loss: 0.4370\n",
      "Epoch 226/400\n",
      "\u001b[1m99/99\u001b[0m \u001b[32m━━━━━━━━━━━━━━━━━━━━\u001b[0m\u001b[37m\u001b[0m \u001b[1m0s\u001b[0m 2ms/step - accuracy: 0.9155 - loss: 0.3586 - val_accuracy: 0.8723 - val_loss: 0.3265\n",
      "Epoch 227/400\n",
      "\u001b[1m99/99\u001b[0m \u001b[32m━━━━━━━━━━━━━━━━━━━━\u001b[0m\u001b[37m\u001b[0m \u001b[1m0s\u001b[0m 2ms/step - accuracy: 0.8598 - loss: 0.7762 - val_accuracy: 0.8418 - val_loss: 1.9519\n",
      "Epoch 228/400\n",
      "\u001b[1m99/99\u001b[0m \u001b[32m━━━━━━━━━━━━━━━━━━━━\u001b[0m\u001b[37m\u001b[0m \u001b[1m0s\u001b[0m 2ms/step - accuracy: 0.8691 - loss: 0.6276 - val_accuracy: 0.8961 - val_loss: 0.4073\n",
      "Epoch 229/400\n",
      "\u001b[1m99/99\u001b[0m \u001b[32m━━━━━━━━━━━━━━━━━━━━\u001b[0m\u001b[37m\u001b[0m \u001b[1m0s\u001b[0m 2ms/step - accuracy: 0.8872 - loss: 0.6472 - val_accuracy: 0.7656 - val_loss: 1.5946\n",
      "Epoch 230/400\n",
      "\u001b[1m99/99\u001b[0m \u001b[32m━━━━━━━━━━━━━━━━━━━━\u001b[0m\u001b[37m\u001b[0m \u001b[1m0s\u001b[0m 2ms/step - accuracy: 0.8577 - loss: 0.8015 - val_accuracy: 0.8690 - val_loss: 0.7729\n",
      "Epoch 231/400\n",
      "\u001b[1m99/99\u001b[0m \u001b[32m━━━━━━━━━━━━━━━━━━━━\u001b[0m\u001b[37m\u001b[0m \u001b[1m0s\u001b[0m 2ms/step - accuracy: 0.8650 - loss: 1.5648 - val_accuracy: 0.8818 - val_loss: 0.6940\n",
      "Epoch 232/400\n",
      "\u001b[1m99/99\u001b[0m \u001b[32m━━━━━━━━━━━━━━━━━━━━\u001b[0m\u001b[37m\u001b[0m \u001b[1m0s\u001b[0m 2ms/step - accuracy: 0.8546 - loss: 0.9338 - val_accuracy: 0.7575 - val_loss: 2.1031\n",
      "Epoch 233/400\n",
      "\u001b[1m99/99\u001b[0m \u001b[32m━━━━━━━━━━━━━━━━━━━━\u001b[0m\u001b[37m\u001b[0m \u001b[1m0s\u001b[0m 2ms/step - accuracy: 0.8453 - loss: 1.4773 - val_accuracy: 0.8890 - val_loss: 0.7464\n",
      "Epoch 234/400\n",
      "\u001b[1m99/99\u001b[0m \u001b[32m━━━━━━━━━━━━━━━━━━━━\u001b[0m\u001b[37m\u001b[0m \u001b[1m0s\u001b[0m 2ms/step - accuracy: 0.8892 - loss: 0.6932 - val_accuracy: 0.9100 - val_loss: 0.9771\n",
      "Epoch 235/400\n",
      "\u001b[1m99/99\u001b[0m \u001b[32m━━━━━━━━━━━━━━━━━━━━\u001b[0m\u001b[37m\u001b[0m \u001b[1m0s\u001b[0m 2ms/step - accuracy: 0.9065 - loss: 0.5769 - val_accuracy: 0.8066 - val_loss: 2.1735\n",
      "Epoch 236/400\n",
      "\u001b[1m99/99\u001b[0m \u001b[32m━━━━━━━━━━━━━━━━━━━━\u001b[0m\u001b[37m\u001b[0m \u001b[1m0s\u001b[0m 2ms/step - accuracy: 0.8498 - loss: 1.2856 - val_accuracy: 0.9290 - val_loss: 0.2343\n",
      "Epoch 237/400\n",
      "\u001b[1m99/99\u001b[0m \u001b[32m━━━━━━━━━━━━━━━━━━━━\u001b[0m\u001b[37m\u001b[0m \u001b[1m0s\u001b[0m 2ms/step - accuracy: 0.9104 - loss: 0.3427 - val_accuracy: 0.8714 - val_loss: 0.4155\n",
      "Epoch 238/400\n",
      "\u001b[1m99/99\u001b[0m \u001b[32m━━━━━━━━━━━━━━━━━━━━\u001b[0m\u001b[37m\u001b[0m \u001b[1m0s\u001b[0m 2ms/step - accuracy: 0.8889 - loss: 0.5770 - val_accuracy: 0.8995 - val_loss: 0.2974\n",
      "Epoch 239/400\n",
      "\u001b[1m99/99\u001b[0m \u001b[32m━━━━━━━━━━━━━━━━━━━━\u001b[0m\u001b[37m\u001b[0m \u001b[1m0s\u001b[0m 2ms/step - accuracy: 0.8734 - loss: 0.7317 - val_accuracy: 0.8194 - val_loss: 2.3850\n",
      "Epoch 240/400\n",
      "\u001b[1m99/99\u001b[0m \u001b[32m━━━━━━━━━━━━━━━━━━━━\u001b[0m\u001b[37m\u001b[0m \u001b[1m0s\u001b[0m 2ms/step - accuracy: 0.8663 - loss: 0.9280 - val_accuracy: 0.7646 - val_loss: 1.5428\n",
      "Epoch 241/400\n",
      "\u001b[1m99/99\u001b[0m \u001b[32m━━━━━━━━━━━━━━━━━━━━\u001b[0m\u001b[37m\u001b[0m \u001b[1m0s\u001b[0m 2ms/step - accuracy: 0.8647 - loss: 0.7606 - val_accuracy: 0.8861 - val_loss: 0.3887\n",
      "Epoch 242/400\n",
      "\u001b[1m99/99\u001b[0m \u001b[32m━━━━━━━━━━━━━━━━━━━━\u001b[0m\u001b[37m\u001b[0m \u001b[1m0s\u001b[0m 2ms/step - accuracy: 0.9142 - loss: 0.3498 - val_accuracy: 0.7613 - val_loss: 0.8433\n",
      "Epoch 243/400\n",
      "\u001b[1m99/99\u001b[0m \u001b[32m━━━━━━━━━━━━━━━━━━━━\u001b[0m\u001b[37m\u001b[0m \u001b[1m0s\u001b[0m 2ms/step - accuracy: 0.8930 - loss: 0.4392 - val_accuracy: 0.9352 - val_loss: 0.3115\n",
      "Epoch 244/400\n",
      "\u001b[1m99/99\u001b[0m \u001b[32m━━━━━━━━━━━━━━━━━━━━\u001b[0m\u001b[37m\u001b[0m \u001b[1m0s\u001b[0m 2ms/step - accuracy: 0.9219 - loss: 0.4081 - val_accuracy: 0.9214 - val_loss: 0.4078\n",
      "Epoch 245/400\n",
      "\u001b[1m99/99\u001b[0m \u001b[32m━━━━━━━━━━━━━━━━━━━━\u001b[0m\u001b[37m\u001b[0m \u001b[1m0s\u001b[0m 2ms/step - accuracy: 0.8804 - loss: 0.6240 - val_accuracy: 0.9033 - val_loss: 0.7545\n",
      "Epoch 246/400\n",
      "\u001b[1m99/99\u001b[0m \u001b[32m━━━━━━━━━━━━━━━━━━━━\u001b[0m\u001b[37m\u001b[0m \u001b[1m0s\u001b[0m 2ms/step - accuracy: 0.8996 - loss: 0.5676 - val_accuracy: 0.8637 - val_loss: 1.0061\n",
      "Epoch 247/400\n",
      "\u001b[1m99/99\u001b[0m \u001b[32m━━━━━━━━━━━━━━━━━━━━\u001b[0m\u001b[37m\u001b[0m \u001b[1m0s\u001b[0m 2ms/step - accuracy: 0.8910 - loss: 0.5910 - val_accuracy: 0.7737 - val_loss: 0.8348\n",
      "Epoch 248/400\n",
      "\u001b[1m99/99\u001b[0m \u001b[32m━━━━━━━━━━━━━━━━━━━━\u001b[0m\u001b[37m\u001b[0m \u001b[1m0s\u001b[0m 2ms/step - accuracy: 0.9032 - loss: 0.3523 - val_accuracy: 0.9381 - val_loss: 0.2810\n",
      "Epoch 249/400\n",
      "\u001b[1m99/99\u001b[0m \u001b[32m━━━━━━━━━━━━━━━━━━━━\u001b[0m\u001b[37m\u001b[0m \u001b[1m0s\u001b[0m 2ms/step - accuracy: 0.9321 - loss: 0.4172 - val_accuracy: 0.9323 - val_loss: 0.2654\n",
      "Epoch 250/400\n",
      "\u001b[1m99/99\u001b[0m \u001b[32m━━━━━━━━━━━━━━━━━━━━\u001b[0m\u001b[37m\u001b[0m \u001b[1m0s\u001b[0m 2ms/step - accuracy: 0.8864 - loss: 0.5659 - val_accuracy: 0.9190 - val_loss: 0.7157\n",
      "Epoch 251/400\n",
      "\u001b[1m99/99\u001b[0m \u001b[32m━━━━━━━━━━━━━━━━━━━━\u001b[0m\u001b[37m\u001b[0m \u001b[1m0s\u001b[0m 2ms/step - accuracy: 0.9236 - loss: 0.2968 - val_accuracy: 0.9757 - val_loss: 0.1856\n",
      "Epoch 252/400\n",
      "\u001b[1m99/99\u001b[0m \u001b[32m━━━━━━━━━━━━━━━━━━━━\u001b[0m\u001b[37m\u001b[0m \u001b[1m0s\u001b[0m 2ms/step - accuracy: 0.9179 - loss: 0.3014 - val_accuracy: 0.9352 - val_loss: 0.3522\n",
      "Epoch 253/400\n",
      "\u001b[1m99/99\u001b[0m \u001b[32m━━━━━━━━━━━━━━━━━━━━\u001b[0m\u001b[37m\u001b[0m \u001b[1m0s\u001b[0m 2ms/step - accuracy: 0.9184 - loss: 0.2988 - val_accuracy: 0.8847 - val_loss: 0.5191\n",
      "Epoch 254/400\n",
      "\u001b[1m99/99\u001b[0m \u001b[32m━━━━━━━━━━━━━━━━━━━━\u001b[0m\u001b[37m\u001b[0m \u001b[1m0s\u001b[0m 2ms/step - accuracy: 0.9151 - loss: 0.3313 - val_accuracy: 0.8223 - val_loss: 0.4015\n",
      "Epoch 255/400\n",
      "\u001b[1m99/99\u001b[0m \u001b[32m━━━━━━━━━━━━━━━━━━━━\u001b[0m\u001b[37m\u001b[0m \u001b[1m0s\u001b[0m 2ms/step - accuracy: 0.9299 - loss: 0.2468 - val_accuracy: 0.9362 - val_loss: 0.4792\n",
      "Epoch 256/400\n",
      "\u001b[1m99/99\u001b[0m \u001b[32m━━━━━━━━━━━━━━━━━━━━\u001b[0m\u001b[37m\u001b[0m \u001b[1m0s\u001b[0m 2ms/step - accuracy: 0.8717 - loss: 1.0256 - val_accuracy: 0.8838 - val_loss: 0.4089\n",
      "Epoch 257/400\n",
      "\u001b[1m99/99\u001b[0m \u001b[32m━━━━━━━━━━━━━━━━━━━━\u001b[0m\u001b[37m\u001b[0m \u001b[1m0s\u001b[0m 2ms/step - accuracy: 0.8946 - loss: 0.3954 - val_accuracy: 0.9686 - val_loss: 0.1894\n",
      "Epoch 258/400\n",
      "\u001b[1m99/99\u001b[0m \u001b[32m━━━━━━━━━━━━━━━━━━━━\u001b[0m\u001b[37m\u001b[0m \u001b[1m0s\u001b[0m 2ms/step - accuracy: 0.9266 - loss: 0.3550 - val_accuracy: 0.9357 - val_loss: 0.3174\n",
      "Epoch 259/400\n",
      "\u001b[1m99/99\u001b[0m \u001b[32m━━━━━━━━━━━━━━━━━━━━\u001b[0m\u001b[37m\u001b[0m \u001b[1m0s\u001b[0m 2ms/step - accuracy: 0.9216 - loss: 0.3143 - val_accuracy: 0.8885 - val_loss: 0.6529\n",
      "Epoch 260/400\n",
      "\u001b[1m99/99\u001b[0m \u001b[32m━━━━━━━━━━━━━━━━━━━━\u001b[0m\u001b[37m\u001b[0m \u001b[1m0s\u001b[0m 2ms/step - accuracy: 0.9148 - loss: 0.5086 - val_accuracy: 0.8266 - val_loss: 2.5277\n",
      "Epoch 261/400\n",
      "\u001b[1m99/99\u001b[0m \u001b[32m━━━━━━━━━━━━━━━━━━━━\u001b[0m\u001b[37m\u001b[0m \u001b[1m0s\u001b[0m 2ms/step - accuracy: 0.8670 - loss: 0.9710 - val_accuracy: 0.9223 - val_loss: 0.8024\n",
      "Epoch 262/400\n",
      "\u001b[1m99/99\u001b[0m \u001b[32m━━━━━━━━━━━━━━━━━━━━\u001b[0m\u001b[37m\u001b[0m \u001b[1m0s\u001b[0m 2ms/step - accuracy: 0.8400 - loss: 2.0268 - val_accuracy: 0.8895 - val_loss: 0.3673\n",
      "Epoch 263/400\n",
      "\u001b[1m99/99\u001b[0m \u001b[32m━━━━━━━━━━━━━━━━━━━━\u001b[0m\u001b[37m\u001b[0m \u001b[1m0s\u001b[0m 2ms/step - accuracy: 0.9043 - loss: 0.3392 - val_accuracy: 0.9223 - val_loss: 0.3818\n",
      "Epoch 264/400\n",
      "\u001b[1m99/99\u001b[0m \u001b[32m━━━━━━━━━━━━━━━━━━━━\u001b[0m\u001b[37m\u001b[0m \u001b[1m0s\u001b[0m 2ms/step - accuracy: 0.9002 - loss: 0.5544 - val_accuracy: 0.8352 - val_loss: 0.9469\n",
      "Epoch 265/400\n",
      "\u001b[1m99/99\u001b[0m \u001b[32m━━━━━━━━━━━━━━━━━━━━\u001b[0m\u001b[37m\u001b[0m \u001b[1m0s\u001b[0m 2ms/step - accuracy: 0.8654 - loss: 1.9311 - val_accuracy: 0.6989 - val_loss: 1.6328\n",
      "Epoch 266/400\n",
      "\u001b[1m99/99\u001b[0m \u001b[32m━━━━━━━━━━━━━━━━━━━━\u001b[0m\u001b[37m\u001b[0m \u001b[1m0s\u001b[0m 2ms/step - accuracy: 0.9055 - loss: 0.6107 - val_accuracy: 0.9100 - val_loss: 0.2376\n",
      "Epoch 267/400\n",
      "\u001b[1m99/99\u001b[0m \u001b[32m━━━━━━━━━━━━━━━━━━━━\u001b[0m\u001b[37m\u001b[0m \u001b[1m0s\u001b[0m 2ms/step - accuracy: 0.8893 - loss: 0.5654 - val_accuracy: 0.9500 - val_loss: 0.1780\n",
      "Epoch 268/400\n",
      "\u001b[1m99/99\u001b[0m \u001b[32m━━━━━━━━━━━━━━━━━━━━\u001b[0m\u001b[37m\u001b[0m \u001b[1m0s\u001b[0m 2ms/step - accuracy: 0.9248 - loss: 0.2956 - val_accuracy: 0.7594 - val_loss: 0.6794\n",
      "Epoch 269/400\n",
      "\u001b[1m99/99\u001b[0m \u001b[32m━━━━━━━━━━━━━━━━━━━━\u001b[0m\u001b[37m\u001b[0m \u001b[1m0s\u001b[0m 2ms/step - accuracy: 0.9065 - loss: 0.3786 - val_accuracy: 0.9023 - val_loss: 0.3447\n",
      "Epoch 270/400\n",
      "\u001b[1m99/99\u001b[0m \u001b[32m━━━━━━━━━━━━━━━━━━━━\u001b[0m\u001b[37m\u001b[0m \u001b[1m0s\u001b[0m 3ms/step - accuracy: 0.9313 - loss: 0.2059 - val_accuracy: 0.9209 - val_loss: 0.3124\n",
      "Epoch 271/400\n",
      "\u001b[1m99/99\u001b[0m \u001b[32m━━━━━━━━━━━━━━━━━━━━\u001b[0m\u001b[37m\u001b[0m \u001b[1m0s\u001b[0m 2ms/step - accuracy: 0.9101 - loss: 0.4184 - val_accuracy: 0.8342 - val_loss: 2.0434\n",
      "Epoch 272/400\n",
      "\u001b[1m99/99\u001b[0m \u001b[32m━━━━━━━━━━━━━━━━━━━━\u001b[0m\u001b[37m\u001b[0m \u001b[1m0s\u001b[0m 2ms/step - accuracy: 0.8587 - loss: 1.0318 - val_accuracy: 0.9266 - val_loss: 0.2249\n",
      "Epoch 273/400\n",
      "\u001b[1m99/99\u001b[0m \u001b[32m━━━━━━━━━━━━━━━━━━━━\u001b[0m\u001b[37m\u001b[0m \u001b[1m0s\u001b[0m 2ms/step - accuracy: 0.9203 - loss: 0.3947 - val_accuracy: 0.8614 - val_loss: 0.5645\n",
      "Epoch 274/400\n",
      "\u001b[1m99/99\u001b[0m \u001b[32m━━━━━━━━━━━━━━━━━━━━\u001b[0m\u001b[37m\u001b[0m \u001b[1m0s\u001b[0m 2ms/step - accuracy: 0.8934 - loss: 0.6227 - val_accuracy: 0.9371 - val_loss: 0.3401\n",
      "Epoch 275/400\n",
      "\u001b[1m99/99\u001b[0m \u001b[32m━━━━━━━━━━━━━━━━━━━━\u001b[0m\u001b[37m\u001b[0m \u001b[1m0s\u001b[0m 2ms/step - accuracy: 0.9217 - loss: 0.2788 - val_accuracy: 0.8609 - val_loss: 0.4380\n",
      "Epoch 276/400\n",
      "\u001b[1m99/99\u001b[0m \u001b[32m━━━━━━━━━━━━━━━━━━━━\u001b[0m\u001b[37m\u001b[0m \u001b[1m0s\u001b[0m 2ms/step - accuracy: 0.8976 - loss: 0.4017 - val_accuracy: 0.9376 - val_loss: 0.2300\n",
      "Epoch 277/400\n",
      "\u001b[1m99/99\u001b[0m \u001b[32m━━━━━━━━━━━━━━━━━━━━\u001b[0m\u001b[37m\u001b[0m \u001b[1m0s\u001b[0m 2ms/step - accuracy: 0.9018 - loss: 0.5102 - val_accuracy: 0.8709 - val_loss: 1.2465\n",
      "Epoch 278/400\n",
      "\u001b[1m99/99\u001b[0m \u001b[32m━━━━━━━━━━━━━━━━━━━━\u001b[0m\u001b[37m\u001b[0m \u001b[1m0s\u001b[0m 2ms/step - accuracy: 0.8750 - loss: 0.6705 - val_accuracy: 0.8199 - val_loss: 3.1889\n",
      "Epoch 279/400\n",
      "\u001b[1m99/99\u001b[0m \u001b[32m━━━━━━━━━━━━━━━━━━━━\u001b[0m\u001b[37m\u001b[0m \u001b[1m0s\u001b[0m 2ms/step - accuracy: 0.8475 - loss: 1.5522 - val_accuracy: 0.9443 - val_loss: 0.1786\n",
      "Epoch 280/400\n",
      "\u001b[1m99/99\u001b[0m \u001b[32m━━━━━━━━━━━━━━━━━━━━\u001b[0m\u001b[37m\u001b[0m \u001b[1m0s\u001b[0m 2ms/step - accuracy: 0.9336 - loss: 0.1812 - val_accuracy: 0.9357 - val_loss: 0.2844\n",
      "Epoch 281/400\n",
      "\u001b[1m99/99\u001b[0m \u001b[32m━━━━━━━━━━━━━━━━━━━━\u001b[0m\u001b[37m\u001b[0m \u001b[1m0s\u001b[0m 2ms/step - accuracy: 0.8892 - loss: 0.7775 - val_accuracy: 0.9462 - val_loss: 0.1722\n",
      "Epoch 282/400\n",
      "\u001b[1m99/99\u001b[0m \u001b[32m━━━━━━━━━━━━━━━━━━━━\u001b[0m\u001b[37m\u001b[0m \u001b[1m0s\u001b[0m 2ms/step - accuracy: 0.9341 - loss: 0.3002 - val_accuracy: 0.8637 - val_loss: 0.3740\n",
      "Epoch 283/400\n",
      "\u001b[1m99/99\u001b[0m \u001b[32m━━━━━━━━━━━━━━━━━━━━\u001b[0m\u001b[37m\u001b[0m \u001b[1m0s\u001b[0m 2ms/step - accuracy: 0.9305 - loss: 0.2483 - val_accuracy: 0.9233 - val_loss: 0.1883\n",
      "Epoch 284/400\n",
      "\u001b[1m99/99\u001b[0m \u001b[32m━━━━━━━━━━━━━━━━━━━━\u001b[0m\u001b[37m\u001b[0m \u001b[1m0s\u001b[0m 2ms/step - accuracy: 0.9379 - loss: 0.1932 - val_accuracy: 0.9438 - val_loss: 0.2039\n",
      "Epoch 285/400\n",
      "\u001b[1m99/99\u001b[0m \u001b[32m━━━━━━━━━━━━━━━━━━━━\u001b[0m\u001b[37m\u001b[0m \u001b[1m0s\u001b[0m 2ms/step - accuracy: 0.9034 - loss: 0.4504 - val_accuracy: 0.9500 - val_loss: 0.1532\n",
      "Epoch 286/400\n",
      "\u001b[1m99/99\u001b[0m \u001b[32m━━━━━━━━━━━━━━━━━━━━\u001b[0m\u001b[37m\u001b[0m \u001b[1m0s\u001b[0m 2ms/step - accuracy: 0.9029 - loss: 0.5610 - val_accuracy: 0.8199 - val_loss: 0.8431\n",
      "Epoch 287/400\n",
      "\u001b[1m99/99\u001b[0m \u001b[32m━━━━━━━━━━━━━━━━━━━━\u001b[0m\u001b[37m\u001b[0m \u001b[1m0s\u001b[0m 2ms/step - accuracy: 0.9192 - loss: 0.3091 - val_accuracy: 0.9338 - val_loss: 0.3035\n",
      "Epoch 288/400\n",
      "\u001b[1m99/99\u001b[0m \u001b[32m━━━━━━━━━━━━━━━━━━━━\u001b[0m\u001b[37m\u001b[0m \u001b[1m0s\u001b[0m 2ms/step - accuracy: 0.8860 - loss: 0.5780 - val_accuracy: 0.9281 - val_loss: 0.3529\n",
      "Epoch 289/400\n",
      "\u001b[1m99/99\u001b[0m \u001b[32m━━━━━━━━━━━━━━━━━━━━\u001b[0m\u001b[37m\u001b[0m \u001b[1m0s\u001b[0m 2ms/step - accuracy: 0.9145 - loss: 0.3192 - val_accuracy: 0.9052 - val_loss: 0.2395\n",
      "Epoch 290/400\n",
      "\u001b[1m99/99\u001b[0m \u001b[32m━━━━━━━━━━━━━━━━━━━━\u001b[0m\u001b[37m\u001b[0m \u001b[1m0s\u001b[0m 2ms/step - accuracy: 0.9330 - loss: 0.2671 - val_accuracy: 0.9519 - val_loss: 0.1901\n",
      "Epoch 291/400\n",
      "\u001b[1m99/99\u001b[0m \u001b[32m━━━━━━━━━━━━━━━━━━━━\u001b[0m\u001b[37m\u001b[0m \u001b[1m0s\u001b[0m 2ms/step - accuracy: 0.8975 - loss: 0.3805 - val_accuracy: 0.8418 - val_loss: 0.7424\n",
      "Epoch 292/400\n",
      "\u001b[1m99/99\u001b[0m \u001b[32m━━━━━━━━━━━━━━━━━━━━\u001b[0m\u001b[37m\u001b[0m \u001b[1m0s\u001b[0m 2ms/step - accuracy: 0.9176 - loss: 0.2668 - val_accuracy: 0.8823 - val_loss: 0.5702\n",
      "Epoch 293/400\n",
      "\u001b[1m99/99\u001b[0m \u001b[32m━━━━━━━━━━━━━━━━━━━━\u001b[0m\u001b[37m\u001b[0m \u001b[1m0s\u001b[0m 2ms/step - accuracy: 0.9458 - loss: 0.2034 - val_accuracy: 0.6565 - val_loss: 3.6743\n",
      "Epoch 294/400\n",
      "\u001b[1m99/99\u001b[0m \u001b[32m━━━━━━━━━━━━━━━━━━━━\u001b[0m\u001b[37m\u001b[0m \u001b[1m0s\u001b[0m 2ms/step - accuracy: 0.8429 - loss: 1.2977 - val_accuracy: 0.8909 - val_loss: 0.5050\n",
      "Epoch 295/400\n",
      "\u001b[1m99/99\u001b[0m \u001b[32m━━━━━━━━━━━━━━━━━━━━\u001b[0m\u001b[37m\u001b[0m \u001b[1m0s\u001b[0m 2ms/step - accuracy: 0.8934 - loss: 0.5529 - val_accuracy: 0.9514 - val_loss: 0.1512\n",
      "Epoch 296/400\n",
      "\u001b[1m99/99\u001b[0m \u001b[32m━━━━━━━━━━━━━━━━━━━━\u001b[0m\u001b[37m\u001b[0m \u001b[1m0s\u001b[0m 2ms/step - accuracy: 0.9293 - loss: 0.2459 - val_accuracy: 0.9352 - val_loss: 0.6936\n",
      "Epoch 297/400\n",
      "\u001b[1m99/99\u001b[0m \u001b[32m━━━━━━━━━━━━━━━━━━━━\u001b[0m\u001b[37m\u001b[0m \u001b[1m0s\u001b[0m 2ms/step - accuracy: 0.8838 - loss: 0.7023 - val_accuracy: 0.9314 - val_loss: 0.2156\n",
      "Epoch 298/400\n",
      "\u001b[1m99/99\u001b[0m \u001b[32m━━━━━━━━━━━━━━━━━━━━\u001b[0m\u001b[37m\u001b[0m \u001b[1m0s\u001b[0m 2ms/step - accuracy: 0.9196 - loss: 0.2481 - val_accuracy: 0.8880 - val_loss: 0.3918\n",
      "Epoch 299/400\n",
      "\u001b[1m99/99\u001b[0m \u001b[32m━━━━━━━━━━━━━━━━━━━━\u001b[0m\u001b[37m\u001b[0m \u001b[1m0s\u001b[0m 2ms/step - accuracy: 0.9350 - loss: 0.2163 - val_accuracy: 0.9590 - val_loss: 0.2508\n",
      "Epoch 300/400\n",
      "\u001b[1m99/99\u001b[0m \u001b[32m━━━━━━━━━━━━━━━━━━━━\u001b[0m\u001b[37m\u001b[0m \u001b[1m0s\u001b[0m 2ms/step - accuracy: 0.9481 - loss: 0.1625 - val_accuracy: 0.9357 - val_loss: 0.2509\n",
      "Epoch 301/400\n",
      "\u001b[1m99/99\u001b[0m \u001b[32m━━━━━━━━━━━━━━━━━━━━\u001b[0m\u001b[37m\u001b[0m \u001b[1m0s\u001b[0m 2ms/step - accuracy: 0.9304 - loss: 0.2229 - val_accuracy: 0.9538 - val_loss: 0.1820\n",
      "Epoch 302/400\n",
      "\u001b[1m99/99\u001b[0m \u001b[32m━━━━━━━━━━━━━━━━━━━━\u001b[0m\u001b[37m\u001b[0m \u001b[1m0s\u001b[0m 2ms/step - accuracy: 0.8781 - loss: 0.6473 - val_accuracy: 0.9319 - val_loss: 0.5773\n",
      "Epoch 303/400\n",
      "\u001b[1m99/99\u001b[0m \u001b[32m━━━━━━━━━━━━━━━━━━━━\u001b[0m\u001b[37m\u001b[0m \u001b[1m0s\u001b[0m 2ms/step - accuracy: 0.8830 - loss: 0.7047 - val_accuracy: 0.9214 - val_loss: 0.5373\n",
      "Epoch 304/400\n",
      "\u001b[1m99/99\u001b[0m \u001b[32m━━━━━━━━━━━━━━━━━━━━\u001b[0m\u001b[37m\u001b[0m \u001b[1m0s\u001b[0m 2ms/step - accuracy: 0.9223 - loss: 0.3903 - val_accuracy: 0.8609 - val_loss: 0.6651\n",
      "Epoch 305/400\n",
      "\u001b[1m99/99\u001b[0m \u001b[32m━━━━━━━━━━━━━━━━━━━━\u001b[0m\u001b[37m\u001b[0m \u001b[1m0s\u001b[0m 2ms/step - accuracy: 0.9273 - loss: 0.3356 - val_accuracy: 0.9352 - val_loss: 0.2271\n",
      "Epoch 306/400\n",
      "\u001b[1m99/99\u001b[0m \u001b[32m━━━━━━━━━━━━━━━━━━━━\u001b[0m\u001b[37m\u001b[0m \u001b[1m0s\u001b[0m 2ms/step - accuracy: 0.9081 - loss: 0.3180 - val_accuracy: 0.8938 - val_loss: 0.2528\n",
      "Epoch 307/400\n",
      "\u001b[1m99/99\u001b[0m \u001b[32m━━━━━━━━━━━━━━━━━━━━\u001b[0m\u001b[37m\u001b[0m \u001b[1m0s\u001b[0m 3ms/step - accuracy: 0.9119 - loss: 0.2843 - val_accuracy: 0.9219 - val_loss: 0.3583\n",
      "Epoch 308/400\n",
      "\u001b[1m99/99\u001b[0m \u001b[32m━━━━━━━━━━━━━━━━━━━━\u001b[0m\u001b[37m\u001b[0m \u001b[1m0s\u001b[0m 2ms/step - accuracy: 0.9166 - loss: 0.2989 - val_accuracy: 0.8499 - val_loss: 0.7791\n",
      "Epoch 309/400\n",
      "\u001b[1m99/99\u001b[0m \u001b[32m━━━━━━━━━━━━━━━━━━━━\u001b[0m\u001b[37m\u001b[0m \u001b[1m0s\u001b[0m 2ms/step - accuracy: 0.8791 - loss: 0.6937 - val_accuracy: 0.9362 - val_loss: 0.4205\n",
      "Epoch 310/400\n",
      "\u001b[1m99/99\u001b[0m \u001b[32m━━━━━━━━━━━━━━━━━━━━\u001b[0m\u001b[37m\u001b[0m \u001b[1m0s\u001b[0m 2ms/step - accuracy: 0.8751 - loss: 0.6791 - val_accuracy: 0.9414 - val_loss: 0.1544\n",
      "Epoch 311/400\n",
      "\u001b[1m99/99\u001b[0m \u001b[32m━━━━━━━━━━━━━━━━━━━━\u001b[0m\u001b[37m\u001b[0m \u001b[1m0s\u001b[0m 2ms/step - accuracy: 0.9445 - loss: 0.1584 - val_accuracy: 0.9557 - val_loss: 0.1936\n",
      "Epoch 312/400\n",
      "\u001b[1m99/99\u001b[0m \u001b[32m━━━━━━━━━━━━━━━━━━━━\u001b[0m\u001b[37m\u001b[0m \u001b[1m0s\u001b[0m 2ms/step - accuracy: 0.9470 - loss: 0.1523 - val_accuracy: 0.9728 - val_loss: 0.1534\n",
      "Epoch 313/400\n",
      "\u001b[1m99/99\u001b[0m \u001b[32m━━━━━━━━━━━━━━━━━━━━\u001b[0m\u001b[37m\u001b[0m \u001b[1m0s\u001b[0m 2ms/step - accuracy: 0.9319 - loss: 0.1846 - val_accuracy: 0.9204 - val_loss: 0.2676\n",
      "Epoch 314/400\n",
      "\u001b[1m99/99\u001b[0m \u001b[32m━━━━━━━━━━━━━━━━━━━━\u001b[0m\u001b[37m\u001b[0m \u001b[1m0s\u001b[0m 2ms/step - accuracy: 0.9329 - loss: 0.2125 - val_accuracy: 0.9262 - val_loss: 0.1974\n",
      "Epoch 315/400\n",
      "\u001b[1m99/99\u001b[0m \u001b[32m━━━━━━━━━━━━━━━━━━━━\u001b[0m\u001b[37m\u001b[0m \u001b[1m0s\u001b[0m 2ms/step - accuracy: 0.9313 - loss: 0.1600 - val_accuracy: 0.9247 - val_loss: 0.1632\n",
      "Epoch 316/400\n",
      "\u001b[1m99/99\u001b[0m \u001b[32m━━━━━━━━━━━━━━━━━━━━\u001b[0m\u001b[37m\u001b[0m \u001b[1m0s\u001b[0m 2ms/step - accuracy: 0.9331 - loss: 0.2081 - val_accuracy: 0.8985 - val_loss: 0.4692\n",
      "Epoch 317/400\n",
      "\u001b[1m99/99\u001b[0m \u001b[32m━━━━━━━━━━━━━━━━━━━━\u001b[0m\u001b[37m\u001b[0m \u001b[1m0s\u001b[0m 2ms/step - accuracy: 0.9036 - loss: 0.3984 - val_accuracy: 0.8980 - val_loss: 0.2421\n",
      "Epoch 318/400\n",
      "\u001b[1m99/99\u001b[0m \u001b[32m━━━━━━━━━━━━━━━━━━━━\u001b[0m\u001b[37m\u001b[0m \u001b[1m0s\u001b[0m 2ms/step - accuracy: 0.9433 - loss: 0.1629 - val_accuracy: 0.9338 - val_loss: 0.2138\n",
      "Epoch 319/400\n",
      "\u001b[1m99/99\u001b[0m \u001b[32m━━━━━━━━━━━━━━━━━━━━\u001b[0m\u001b[37m\u001b[0m \u001b[1m0s\u001b[0m 2ms/step - accuracy: 0.9161 - loss: 0.2579 - val_accuracy: 0.9543 - val_loss: 0.1428\n",
      "Epoch 320/400\n",
      "\u001b[1m99/99\u001b[0m \u001b[32m━━━━━━━━━━━━━━━━━━━━\u001b[0m\u001b[37m\u001b[0m \u001b[1m0s\u001b[0m 2ms/step - accuracy: 0.8824 - loss: 0.4864 - val_accuracy: 0.8818 - val_loss: 0.7460\n",
      "Epoch 321/400\n",
      "\u001b[1m99/99\u001b[0m \u001b[32m━━━━━━━━━━━━━━━━━━━━\u001b[0m\u001b[37m\u001b[0m \u001b[1m0s\u001b[0m 2ms/step - accuracy: 0.8960 - loss: 0.6109 - val_accuracy: 0.7094 - val_loss: 1.3533\n",
      "Epoch 322/400\n",
      "\u001b[1m99/99\u001b[0m \u001b[32m━━━━━━━━━━━━━━━━━━━━\u001b[0m\u001b[37m\u001b[0m \u001b[1m0s\u001b[0m 2ms/step - accuracy: 0.8865 - loss: 0.4267 - val_accuracy: 0.9466 - val_loss: 0.2402\n",
      "Epoch 323/400\n",
      "\u001b[1m99/99\u001b[0m \u001b[32m━━━━━━━━━━━━━━━━━━━━\u001b[0m\u001b[37m\u001b[0m \u001b[1m0s\u001b[0m 2ms/step - accuracy: 0.9352 - loss: 0.1987 - val_accuracy: 0.9142 - val_loss: 0.2596\n",
      "Epoch 324/400\n",
      "\u001b[1m99/99\u001b[0m \u001b[32m━━━━━━━━━━━━━━━━━━━━\u001b[0m\u001b[37m\u001b[0m \u001b[1m0s\u001b[0m 2ms/step - accuracy: 0.9220 - loss: 0.1994 - val_accuracy: 0.9409 - val_loss: 0.2923\n",
      "Epoch 325/400\n",
      "\u001b[1m99/99\u001b[0m \u001b[32m━━━━━━━━━━━━━━━━━━━━\u001b[0m\u001b[37m\u001b[0m \u001b[1m0s\u001b[0m 2ms/step - accuracy: 0.9256 - loss: 0.2715 - val_accuracy: 0.9676 - val_loss: 0.1204\n",
      "Epoch 326/400\n",
      "\u001b[1m99/99\u001b[0m \u001b[32m━━━━━━━━━━━━━━━━━━━━\u001b[0m\u001b[37m\u001b[0m \u001b[1m0s\u001b[0m 2ms/step - accuracy: 0.9351 - loss: 0.1511 - val_accuracy: 0.9376 - val_loss: 0.1649\n",
      "Epoch 327/400\n",
      "\u001b[1m99/99\u001b[0m \u001b[32m━━━━━━━━━━━━━━━━━━━━\u001b[0m\u001b[37m\u001b[0m \u001b[1m0s\u001b[0m 2ms/step - accuracy: 0.9374 - loss: 0.1607 - val_accuracy: 0.8242 - val_loss: 1.2281\n",
      "Epoch 328/400\n",
      "\u001b[1m99/99\u001b[0m \u001b[32m━━━━━━━━━━━━━━━━━━━━\u001b[0m\u001b[37m\u001b[0m \u001b[1m0s\u001b[0m 2ms/step - accuracy: 0.8830 - loss: 0.5897 - val_accuracy: 0.9109 - val_loss: 0.2252\n",
      "Epoch 329/400\n",
      "\u001b[1m99/99\u001b[0m \u001b[32m━━━━━━━━━━━━━━━━━━━━\u001b[0m\u001b[37m\u001b[0m \u001b[1m0s\u001b[0m 2ms/step - accuracy: 0.9248 - loss: 0.2040 - val_accuracy: 0.9319 - val_loss: 0.4456\n",
      "Epoch 330/400\n",
      "\u001b[1m99/99\u001b[0m \u001b[32m━━━━━━━━━━━━━━━━━━━━\u001b[0m\u001b[37m\u001b[0m \u001b[1m0s\u001b[0m 2ms/step - accuracy: 0.8876 - loss: 0.5091 - val_accuracy: 0.9409 - val_loss: 0.1746\n",
      "Epoch 331/400\n",
      "\u001b[1m99/99\u001b[0m \u001b[32m━━━━━━━━━━━━━━━━━━━━\u001b[0m\u001b[37m\u001b[0m \u001b[1m0s\u001b[0m 2ms/step - accuracy: 0.9549 - loss: 0.1238 - val_accuracy: 0.9366 - val_loss: 0.4545\n",
      "Epoch 332/400\n",
      "\u001b[1m99/99\u001b[0m \u001b[32m━━━━━━━━━━━━━━━━━━━━\u001b[0m\u001b[37m\u001b[0m \u001b[1m0s\u001b[0m 2ms/step - accuracy: 0.9194 - loss: 0.3714 - val_accuracy: 0.7613 - val_loss: 1.4131\n",
      "Epoch 333/400\n",
      "\u001b[1m99/99\u001b[0m \u001b[32m━━━━━━━━━━━━━━━━━━━━\u001b[0m\u001b[37m\u001b[0m \u001b[1m0s\u001b[0m 2ms/step - accuracy: 0.9147 - loss: 0.3295 - val_accuracy: 0.9443 - val_loss: 0.1692\n",
      "Epoch 334/400\n",
      "\u001b[1m99/99\u001b[0m \u001b[32m━━━━━━━━━━━━━━━━━━━━\u001b[0m\u001b[37m\u001b[0m \u001b[1m0s\u001b[0m 2ms/step - accuracy: 0.9332 - loss: 0.1762 - val_accuracy: 0.9690 - val_loss: 0.1070\n",
      "Epoch 335/400\n",
      "\u001b[1m99/99\u001b[0m \u001b[32m━━━━━━━━━━━━━━━━━━━━\u001b[0m\u001b[37m\u001b[0m \u001b[1m0s\u001b[0m 2ms/step - accuracy: 0.9063 - loss: 0.3253 - val_accuracy: 0.9428 - val_loss: 0.1445\n",
      "Epoch 336/400\n",
      "\u001b[1m99/99\u001b[0m \u001b[32m━━━━━━━━━━━━━━━━━━━━\u001b[0m\u001b[37m\u001b[0m \u001b[1m0s\u001b[0m 2ms/step - accuracy: 0.9527 - loss: 0.1081 - val_accuracy: 0.9709 - val_loss: 0.1473\n",
      "Epoch 337/400\n",
      "\u001b[1m99/99\u001b[0m \u001b[32m━━━━━━━━━━━━━━━━━━━━\u001b[0m\u001b[37m\u001b[0m \u001b[1m0s\u001b[0m 2ms/step - accuracy: 0.9291 - loss: 0.1808 - val_accuracy: 0.9390 - val_loss: 0.1454\n",
      "Epoch 338/400\n",
      "\u001b[1m99/99\u001b[0m \u001b[32m━━━━━━━━━━━━━━━━━━━━\u001b[0m\u001b[37m\u001b[0m \u001b[1m0s\u001b[0m 2ms/step - accuracy: 0.9410 - loss: 0.1495 - val_accuracy: 0.9281 - val_loss: 0.2203\n",
      "Epoch 339/400\n",
      "\u001b[1m99/99\u001b[0m \u001b[32m━━━━━━━━━━━━━━━━━━━━\u001b[0m\u001b[37m\u001b[0m \u001b[1m0s\u001b[0m 2ms/step - accuracy: 0.8902 - loss: 0.5039 - val_accuracy: 0.8737 - val_loss: 1.7012\n",
      "Epoch 340/400\n",
      "\u001b[1m99/99\u001b[0m \u001b[32m━━━━━━━━━━━━━━━━━━━━\u001b[0m\u001b[37m\u001b[0m \u001b[1m0s\u001b[0m 2ms/step - accuracy: 0.9060 - loss: 0.4843 - val_accuracy: 0.8232 - val_loss: 3.5483\n",
      "Epoch 341/400\n",
      "\u001b[1m99/99\u001b[0m \u001b[32m━━━━━━━━━━━━━━━━━━━━\u001b[0m\u001b[37m\u001b[0m \u001b[1m0s\u001b[0m 2ms/step - accuracy: 0.8693 - loss: 0.8790 - val_accuracy: 0.9371 - val_loss: 0.1932\n",
      "Epoch 342/400\n",
      "\u001b[1m99/99\u001b[0m \u001b[32m━━━━━━━━━━━━━━━━━━━━\u001b[0m\u001b[37m\u001b[0m \u001b[1m0s\u001b[0m 2ms/step - accuracy: 0.9271 - loss: 0.1924 - val_accuracy: 0.9505 - val_loss: 0.0963\n",
      "Epoch 343/400\n",
      "\u001b[1m99/99\u001b[0m \u001b[32m━━━━━━━━━━━━━━━━━━━━\u001b[0m\u001b[37m\u001b[0m \u001b[1m0s\u001b[0m 2ms/step - accuracy: 0.9386 - loss: 0.1595 - val_accuracy: 0.9452 - val_loss: 0.1643\n",
      "Epoch 344/400\n",
      "\u001b[1m99/99\u001b[0m \u001b[32m━━━━━━━━━━━━━━━━━━━━\u001b[0m\u001b[37m\u001b[0m \u001b[1m0s\u001b[0m 2ms/step - accuracy: 0.9008 - loss: 0.4019 - val_accuracy: 0.9347 - val_loss: 0.3156\n",
      "Epoch 345/400\n",
      "\u001b[1m99/99\u001b[0m \u001b[32m━━━━━━━━━━━━━━━━━━━━\u001b[0m\u001b[37m\u001b[0m \u001b[1m0s\u001b[0m 2ms/step - accuracy: 0.9361 - loss: 0.2137 - val_accuracy: 0.9700 - val_loss: 0.1070\n",
      "Epoch 346/400\n",
      "\u001b[1m99/99\u001b[0m \u001b[32m━━━━━━━━━━━━━━━━━━━━\u001b[0m\u001b[37m\u001b[0m \u001b[1m0s\u001b[0m 2ms/step - accuracy: 0.9448 - loss: 0.1482 - val_accuracy: 0.9647 - val_loss: 0.1191\n",
      "Epoch 347/400\n",
      "\u001b[1m99/99\u001b[0m \u001b[32m━━━━━━━━━━━━━━━━━━━━\u001b[0m\u001b[37m\u001b[0m \u001b[1m0s\u001b[0m 2ms/step - accuracy: 0.9267 - loss: 0.2236 - val_accuracy: 0.9381 - val_loss: 0.1497\n",
      "Epoch 348/400\n",
      "\u001b[1m99/99\u001b[0m \u001b[32m━━━━━━━━━━━━━━━━━━━━\u001b[0m\u001b[37m\u001b[0m \u001b[1m0s\u001b[0m 2ms/step - accuracy: 0.9473 - loss: 0.1185 - val_accuracy: 0.9281 - val_loss: 0.2176\n",
      "Epoch 349/400\n",
      "\u001b[1m99/99\u001b[0m \u001b[32m━━━━━━━━━━━━━━━━━━━━\u001b[0m\u001b[37m\u001b[0m \u001b[1m0s\u001b[0m 2ms/step - accuracy: 0.9044 - loss: 0.4486 - val_accuracy: 0.9281 - val_loss: 0.2544\n",
      "Epoch 350/400\n",
      "\u001b[1m99/99\u001b[0m \u001b[32m━━━━━━━━━━━━━━━━━━━━\u001b[0m\u001b[37m\u001b[0m \u001b[1m0s\u001b[0m 2ms/step - accuracy: 0.9433 - loss: 0.1460 - val_accuracy: 0.9376 - val_loss: 0.3985\n",
      "Epoch 351/400\n",
      "\u001b[1m99/99\u001b[0m \u001b[32m━━━━━━━━━━━━━━━━━━━━\u001b[0m\u001b[37m\u001b[0m \u001b[1m0s\u001b[0m 2ms/step - accuracy: 0.9351 - loss: 0.2048 - val_accuracy: 0.9428 - val_loss: 0.1884\n",
      "Epoch 352/400\n",
      "\u001b[1m99/99\u001b[0m \u001b[32m━━━━━━━━━━━━━━━━━━━━\u001b[0m\u001b[37m\u001b[0m \u001b[1m0s\u001b[0m 2ms/step - accuracy: 0.9292 - loss: 0.2247 - val_accuracy: 0.9485 - val_loss: 0.1351\n",
      "Epoch 353/400\n",
      "\u001b[1m99/99\u001b[0m \u001b[32m━━━━━━━━━━━━━━━━━━━━\u001b[0m\u001b[37m\u001b[0m \u001b[1m0s\u001b[0m 2ms/step - accuracy: 0.9317 - loss: 0.2012 - val_accuracy: 0.8118 - val_loss: 1.3147\n",
      "Epoch 354/400\n",
      "\u001b[1m99/99\u001b[0m \u001b[32m━━━━━━━━━━━━━━━━━━━━\u001b[0m\u001b[37m\u001b[0m \u001b[1m0s\u001b[0m 2ms/step - accuracy: 0.8414 - loss: 1.0953 - val_accuracy: 0.8637 - val_loss: 0.4295\n",
      "Epoch 355/400\n",
      "\u001b[1m99/99\u001b[0m \u001b[32m━━━━━━━━━━━━━━━━━━━━\u001b[0m\u001b[37m\u001b[0m \u001b[1m0s\u001b[0m 2ms/step - accuracy: 0.9125 - loss: 0.3076 - val_accuracy: 0.9452 - val_loss: 0.1299\n",
      "Epoch 356/400\n",
      "\u001b[1m99/99\u001b[0m \u001b[32m━━━━━━━━━━━━━━━━━━━━\u001b[0m\u001b[37m\u001b[0m \u001b[1m0s\u001b[0m 2ms/step - accuracy: 0.9430 - loss: 0.1472 - val_accuracy: 0.9276 - val_loss: 0.2079\n",
      "Epoch 357/400\n",
      "\u001b[1m99/99\u001b[0m \u001b[32m━━━━━━━━━━━━━━━━━━━━\u001b[0m\u001b[37m\u001b[0m \u001b[1m0s\u001b[0m 2ms/step - accuracy: 0.9454 - loss: 0.1341 - val_accuracy: 0.7742 - val_loss: 0.6719\n",
      "Epoch 358/400\n",
      "\u001b[1m99/99\u001b[0m \u001b[32m━━━━━━━━━━━━━━━━━━━━\u001b[0m\u001b[37m\u001b[0m \u001b[1m0s\u001b[0m 2ms/step - accuracy: 0.9200 - loss: 0.2792 - val_accuracy: 0.9524 - val_loss: 0.1369\n",
      "Epoch 359/400\n",
      "\u001b[1m99/99\u001b[0m \u001b[32m━━━━━━━━━━━━━━━━━━━━\u001b[0m\u001b[37m\u001b[0m \u001b[1m0s\u001b[0m 2ms/step - accuracy: 0.9114 - loss: 0.2893 - val_accuracy: 0.9566 - val_loss: 0.1549\n",
      "Epoch 360/400\n",
      "\u001b[1m99/99\u001b[0m \u001b[32m━━━━━━━━━━━━━━━━━━━━\u001b[0m\u001b[37m\u001b[0m \u001b[1m0s\u001b[0m 2ms/step - accuracy: 0.9606 - loss: 0.1026 - val_accuracy: 0.9819 - val_loss: 0.0929\n",
      "Epoch 361/400\n",
      "\u001b[1m99/99\u001b[0m \u001b[32m━━━━━━━━━━━━━━━━━━━━\u001b[0m\u001b[37m\u001b[0m \u001b[1m0s\u001b[0m 2ms/step - accuracy: 0.9478 - loss: 0.1743 - val_accuracy: 0.9376 - val_loss: 0.1938\n",
      "Epoch 362/400\n",
      "\u001b[1m99/99\u001b[0m \u001b[32m━━━━━━━━━━━━━━━━━━━━\u001b[0m\u001b[37m\u001b[0m \u001b[1m0s\u001b[0m 2ms/step - accuracy: 0.9348 - loss: 0.1788 - val_accuracy: 0.9347 - val_loss: 0.1523\n",
      "Epoch 363/400\n",
      "\u001b[1m99/99\u001b[0m \u001b[32m━━━━━━━━━━━━━━━━━━━━\u001b[0m\u001b[37m\u001b[0m \u001b[1m0s\u001b[0m 2ms/step - accuracy: 0.8895 - loss: 0.4434 - val_accuracy: 0.9800 - val_loss: 0.1237\n",
      "Epoch 364/400\n",
      "\u001b[1m99/99\u001b[0m \u001b[32m━━━━━━━━━━━━━━━━━━━━\u001b[0m\u001b[37m\u001b[0m \u001b[1m0s\u001b[0m 2ms/step - accuracy: 0.9430 - loss: 0.1926 - val_accuracy: 0.8690 - val_loss: 0.3000\n",
      "Epoch 365/400\n",
      "\u001b[1m99/99\u001b[0m \u001b[32m━━━━━━━━━━━━━━━━━━━━\u001b[0m\u001b[37m\u001b[0m \u001b[1m0s\u001b[0m 2ms/step - accuracy: 0.9373 - loss: 0.1492 - val_accuracy: 0.9443 - val_loss: 0.1189\n",
      "Epoch 366/400\n",
      "\u001b[1m99/99\u001b[0m \u001b[32m━━━━━━━━━━━━━━━━━━━━\u001b[0m\u001b[37m\u001b[0m \u001b[1m0s\u001b[0m 2ms/step - accuracy: 0.9177 - loss: 0.2876 - val_accuracy: 0.9485 - val_loss: 0.1167\n",
      "Epoch 367/400\n",
      "\u001b[1m99/99\u001b[0m \u001b[32m━━━━━━━━━━━━━━━━━━━━\u001b[0m\u001b[37m\u001b[0m \u001b[1m0s\u001b[0m 2ms/step - accuracy: 0.9543 - loss: 0.1168 - val_accuracy: 0.7337 - val_loss: 0.9381\n",
      "Epoch 368/400\n",
      "\u001b[1m99/99\u001b[0m \u001b[32m━━━━━━━━━━━━━━━━━━━━\u001b[0m\u001b[37m\u001b[0m \u001b[1m0s\u001b[0m 2ms/step - accuracy: 0.8873 - loss: 0.4463 - val_accuracy: 0.9362 - val_loss: 0.1677\n",
      "Epoch 369/400\n",
      "\u001b[1m99/99\u001b[0m \u001b[32m━━━━━━━━━━━━━━━━━━━━\u001b[0m\u001b[37m\u001b[0m \u001b[1m0s\u001b[0m 2ms/step - accuracy: 0.9335 - loss: 0.1915 - val_accuracy: 0.9376 - val_loss: 0.1334\n",
      "Epoch 370/400\n",
      "\u001b[1m99/99\u001b[0m \u001b[32m━━━━━━━━━━━━━━━━━━━━\u001b[0m\u001b[37m\u001b[0m \u001b[1m0s\u001b[0m 2ms/step - accuracy: 0.9285 - loss: 0.1930 - val_accuracy: 0.9595 - val_loss: 0.0980\n",
      "Epoch 371/400\n",
      "\u001b[1m99/99\u001b[0m \u001b[32m━━━━━━━━━━━━━━━━━━━━\u001b[0m\u001b[37m\u001b[0m \u001b[1m0s\u001b[0m 2ms/step - accuracy: 0.9578 - loss: 0.1083 - val_accuracy: 0.9128 - val_loss: 0.2379\n",
      "Epoch 372/400\n",
      "\u001b[1m99/99\u001b[0m \u001b[32m━━━━━━━━━━━━━━━━━━━━\u001b[0m\u001b[37m\u001b[0m \u001b[1m0s\u001b[0m 2ms/step - accuracy: 0.9206 - loss: 0.2438 - val_accuracy: 0.9562 - val_loss: 0.1236\n",
      "Epoch 373/400\n",
      "\u001b[1m99/99\u001b[0m \u001b[32m━━━━━━━━━━━━━━━━━━━━\u001b[0m\u001b[37m\u001b[0m \u001b[1m0s\u001b[0m 2ms/step - accuracy: 0.9405 - loss: 0.1365 - val_accuracy: 0.9490 - val_loss: 0.1716\n",
      "Epoch 374/400\n",
      "\u001b[1m99/99\u001b[0m \u001b[32m━━━━━━━━━━━━━━━━━━━━\u001b[0m\u001b[37m\u001b[0m \u001b[1m0s\u001b[0m 2ms/step - accuracy: 0.9059 - loss: 0.5237 - val_accuracy: 0.8971 - val_loss: 0.3183\n",
      "Epoch 375/400\n",
      "\u001b[1m99/99\u001b[0m \u001b[32m━━━━━━━━━━━━━━━━━━━━\u001b[0m\u001b[37m\u001b[0m \u001b[1m0s\u001b[0m 2ms/step - accuracy: 0.9009 - loss: 0.3861 - val_accuracy: 0.8957 - val_loss: 0.2245\n",
      "Epoch 376/400\n",
      "\u001b[1m99/99\u001b[0m \u001b[32m━━━━━━━━━━━━━━━━━━━━\u001b[0m\u001b[37m\u001b[0m \u001b[1m0s\u001b[0m 2ms/step - accuracy: 0.9188 - loss: 0.2170 - val_accuracy: 0.9424 - val_loss: 0.1058\n",
      "Epoch 377/400\n",
      "\u001b[1m99/99\u001b[0m \u001b[32m━━━━━━━━━━━━━━━━━━━━\u001b[0m\u001b[37m\u001b[0m \u001b[1m0s\u001b[0m 2ms/step - accuracy: 0.9399 - loss: 0.1979 - val_accuracy: 0.8971 - val_loss: 0.2375\n",
      "Epoch 378/400\n",
      "\u001b[1m99/99\u001b[0m \u001b[32m━━━━━━━━━━━━━━━━━━━━\u001b[0m\u001b[37m\u001b[0m \u001b[1m0s\u001b[0m 2ms/step - accuracy: 0.9287 - loss: 0.1694 - val_accuracy: 0.9366 - val_loss: 0.2067\n",
      "Epoch 379/400\n",
      "\u001b[1m99/99\u001b[0m \u001b[32m━━━━━━━━━━━━━━━━━━━━\u001b[0m\u001b[37m\u001b[0m \u001b[1m0s\u001b[0m 3ms/step - accuracy: 0.9389 - loss: 0.1557 - val_accuracy: 0.9323 - val_loss: 0.1601\n",
      "Epoch 380/400\n",
      "\u001b[1m99/99\u001b[0m \u001b[32m━━━━━━━━━━━━━━━━━━━━\u001b[0m\u001b[37m\u001b[0m \u001b[1m0s\u001b[0m 2ms/step - accuracy: 0.9457 - loss: 0.1235 - val_accuracy: 0.9371 - val_loss: 0.1451\n",
      "Epoch 381/400\n",
      "\u001b[1m99/99\u001b[0m \u001b[32m━━━━━━━━━━━━━━━━━━━━\u001b[0m\u001b[37m\u001b[0m \u001b[1m0s\u001b[0m 2ms/step - accuracy: 0.9388 - loss: 0.1408 - val_accuracy: 0.9376 - val_loss: 0.2248\n",
      "Epoch 382/400\n",
      "\u001b[1m99/99\u001b[0m \u001b[32m━━━━━━━━━━━━━━━━━━━━\u001b[0m\u001b[37m\u001b[0m \u001b[1m0s\u001b[0m 2ms/step - accuracy: 0.9306 - loss: 0.1774 - val_accuracy: 0.9142 - val_loss: 0.2313\n",
      "Epoch 383/400\n",
      "\u001b[1m99/99\u001b[0m \u001b[32m━━━━━━━━━━━━━━━━━━━━\u001b[0m\u001b[37m\u001b[0m \u001b[1m0s\u001b[0m 2ms/step - accuracy: 0.9111 - loss: 0.3083 - val_accuracy: 0.9476 - val_loss: 0.1221\n",
      "Epoch 384/400\n",
      "\u001b[1m99/99\u001b[0m \u001b[32m━━━━━━━━━━━━━━━━━━━━\u001b[0m\u001b[37m\u001b[0m \u001b[1m0s\u001b[0m 2ms/step - accuracy: 0.9318 - loss: 0.1733 - val_accuracy: 0.7346 - val_loss: 1.7077\n",
      "Epoch 385/400\n",
      "\u001b[1m99/99\u001b[0m \u001b[32m━━━━━━━━━━━━━━━━━━━━\u001b[0m\u001b[37m\u001b[0m \u001b[1m0s\u001b[0m 2ms/step - accuracy: 0.8912 - loss: 0.5028 - val_accuracy: 0.9409 - val_loss: 0.1225\n",
      "Epoch 386/400\n",
      "\u001b[1m99/99\u001b[0m \u001b[32m━━━━━━━━━━━━━━━━━━━━\u001b[0m\u001b[37m\u001b[0m \u001b[1m0s\u001b[0m 2ms/step - accuracy: 0.9489 - loss: 0.1229 - val_accuracy: 0.9362 - val_loss: 0.1431\n",
      "Epoch 387/400\n",
      "\u001b[1m99/99\u001b[0m \u001b[32m━━━━━━━━━━━━━━━━━━━━\u001b[0m\u001b[37m\u001b[0m \u001b[1m0s\u001b[0m 2ms/step - accuracy: 0.9407 - loss: 0.1516 - val_accuracy: 0.9357 - val_loss: 0.2234\n",
      "Epoch 388/400\n",
      "\u001b[1m99/99\u001b[0m \u001b[32m━━━━━━━━━━━━━━━━━━━━\u001b[0m\u001b[37m\u001b[0m \u001b[1m0s\u001b[0m 2ms/step - accuracy: 0.9330 - loss: 0.2076 - val_accuracy: 0.9538 - val_loss: 0.0974\n",
      "Epoch 389/400\n",
      "\u001b[1m99/99\u001b[0m \u001b[32m━━━━━━━━━━━━━━━━━━━━\u001b[0m\u001b[37m\u001b[0m \u001b[1m0s\u001b[0m 2ms/step - accuracy: 0.9492 - loss: 0.1323 - val_accuracy: 0.9538 - val_loss: 0.1316\n",
      "Epoch 390/400\n",
      "\u001b[1m99/99\u001b[0m \u001b[32m━━━━━━━━━━━━━━━━━━━━\u001b[0m\u001b[37m\u001b[0m \u001b[1m0s\u001b[0m 2ms/step - accuracy: 0.9419 - loss: 0.1615 - val_accuracy: 0.9481 - val_loss: 0.1354\n",
      "Epoch 391/400\n",
      "\u001b[1m99/99\u001b[0m \u001b[32m━━━━━━━━━━━━━━━━━━━━\u001b[0m\u001b[37m\u001b[0m \u001b[1m0s\u001b[0m 2ms/step - accuracy: 0.9574 - loss: 0.1077 - val_accuracy: 0.7732 - val_loss: 1.0014\n",
      "Epoch 392/400\n",
      "\u001b[1m99/99\u001b[0m \u001b[32m━━━━━━━━━━━━━━━━━━━━\u001b[0m\u001b[37m\u001b[0m \u001b[1m0s\u001b[0m 2ms/step - accuracy: 0.9069 - loss: 0.3701 - val_accuracy: 0.8742 - val_loss: 0.3971\n",
      "Epoch 393/400\n",
      "\u001b[1m99/99\u001b[0m \u001b[32m━━━━━━━━━━━━━━━━━━━━\u001b[0m\u001b[37m\u001b[0m \u001b[1m0s\u001b[0m 2ms/step - accuracy: 0.9273 - loss: 0.2032 - val_accuracy: 0.9890 - val_loss: 0.0960\n",
      "Epoch 394/400\n",
      "\u001b[1m99/99\u001b[0m \u001b[32m━━━━━━━━━━━━━━━━━━━━\u001b[0m\u001b[37m\u001b[0m \u001b[1m0s\u001b[0m 2ms/step - accuracy: 0.9575 - loss: 0.1008 - val_accuracy: 0.9662 - val_loss: 0.0939\n",
      "Epoch 395/400\n",
      "\u001b[1m99/99\u001b[0m \u001b[32m━━━━━━━━━━━━━━━━━━━━\u001b[0m\u001b[37m\u001b[0m \u001b[1m0s\u001b[0m 2ms/step - accuracy: 0.9220 - loss: 0.2266 - val_accuracy: 0.9590 - val_loss: 0.1558\n",
      "Epoch 396/400\n",
      "\u001b[1m99/99\u001b[0m \u001b[32m━━━━━━━━━━━━━━━━━━━━\u001b[0m\u001b[37m\u001b[0m \u001b[1m0s\u001b[0m 2ms/step - accuracy: 0.9505 - loss: 0.1181 - val_accuracy: 0.8776 - val_loss: 0.2782\n",
      "Epoch 397/400\n",
      "\u001b[1m99/99\u001b[0m \u001b[32m━━━━━━━━━━━━━━━━━━━━\u001b[0m\u001b[37m\u001b[0m \u001b[1m0s\u001b[0m 2ms/step - accuracy: 0.9237 - loss: 0.1989 - val_accuracy: 0.9295 - val_loss: 0.2336\n",
      "Epoch 398/400\n",
      "\u001b[1m99/99\u001b[0m \u001b[32m━━━━━━━━━━━━━━━━━━━━\u001b[0m\u001b[37m\u001b[0m \u001b[1m0s\u001b[0m 2ms/step - accuracy: 0.9541 - loss: 0.1057 - val_accuracy: 0.9609 - val_loss: 0.1272\n",
      "Epoch 399/400\n",
      "\u001b[1m99/99\u001b[0m \u001b[32m━━━━━━━━━━━━━━━━━━━━\u001b[0m\u001b[37m\u001b[0m \u001b[1m0s\u001b[0m 2ms/step - accuracy: 0.8832 - loss: 0.5777 - val_accuracy: 0.9438 - val_loss: 0.1098\n",
      "Epoch 400/400\n",
      "\u001b[1m99/99\u001b[0m \u001b[32m━━━━━━━━━━━━━━━━━━━━\u001b[0m\u001b[37m\u001b[0m \u001b[1m0s\u001b[0m 2ms/step - accuracy: 0.9605 - loss: 0.0995 - val_accuracy: 0.9695 - val_loss: 0.1154\n"
     ]
    }
   ],
   "source": [
    "history = model.fit(X_train, y_train, epochs=400, batch_size=32, validation_data=(X_test, y_test))"
   ]
  },
  {
   "cell_type": "markdown",
   "id": "0e7eb939-af88-454f-960a-211e014b69cb",
   "metadata": {},
   "source": [
    "# 6. Utilisation de 5 algorithmes de machinbe learning"
   ]
  },
  {
   "cell_type": "code",
   "execution_count": 21,
   "id": "f912cb96-5bd7-4228-b233-8b7a52540b42",
   "metadata": {},
   "outputs": [],
   "source": [
    "X_train_, X_test_, y_train_, y_test_ = train_test_split( X, y_, test_size=0.4, random_state=8)"
   ]
  },
  {
   "cell_type": "code",
   "execution_count": 22,
   "id": "44626723-9749-4b3e-aa2e-f6e0ca88fee8",
   "metadata": {},
   "outputs": [],
   "source": [
    "model_forest = RandomForestClassifier()"
   ]
  },
  {
   "cell_type": "code",
   "execution_count": 23,
   "id": "594d6677-b1e2-4c85-920c-b0f380c83ec0",
   "metadata": {},
   "outputs": [
    {
     "name": "stdout",
     "output_type": "stream",
     "text": [
      "0.9961886612672701\n"
     ]
    }
   ],
   "source": [
    "model_forest.fit(X_train, y_train)\n",
    "y_pred = model_forest.predict(X_test)\n",
    "print(accuracy_score(y_test, y_pred))"
   ]
  },
  {
   "cell_type": "code",
   "execution_count": 24,
   "id": "8b1d6d92-1639-4071-af4c-77575a6c49f7",
   "metadata": {},
   "outputs": [],
   "source": [
    "model_SVC = SVC()"
   ]
  },
  {
   "cell_type": "code",
   "execution_count": 25,
   "id": "21341152-1d87-40a9-ba5a-f7aed5c9d971",
   "metadata": {},
   "outputs": [
    {
     "name": "stdout",
     "output_type": "stream",
     "text": [
      "0.7837065269175798\n"
     ]
    }
   ],
   "source": [
    "model_SVC.fit(X_train_, y_train_)\n",
    "y_pred = model_SVC.predict(X_test_)\n",
    "print(accuracy_score(y_test_, y_pred))"
   ]
  },
  {
   "cell_type": "code",
   "execution_count": 26,
   "id": "f5c30073-07b1-44a0-a500-614775b9dbb8",
   "metadata": {},
   "outputs": [],
   "source": [
    "model_Decision = DecisionTreeClassifier()"
   ]
  },
  {
   "cell_type": "code",
   "execution_count": 27,
   "id": "23fe28f0-d86c-41db-8952-5776f2e3ae8e",
   "metadata": {},
   "outputs": [
    {
     "name": "stdout",
     "output_type": "stream",
     "text": [
      "0.9995235826584088\n"
     ]
    }
   ],
   "source": [
    "model_Decision.fit(X_train, y_train)\n",
    "y_pred = model_Decision.predict(X_test)\n",
    "print(accuracy_score(y_test, y_pred))"
   ]
  },
  {
   "cell_type": "code",
   "execution_count": 28,
   "id": "23ce4975-a52d-4d3b-bcf2-9393358fbaab",
   "metadata": {},
   "outputs": [],
   "source": [
    "model_neighbors = KNeighborsClassifier()"
   ]
  },
  {
   "cell_type": "code",
   "execution_count": 29,
   "id": "4ed1c1db-993a-41e9-8313-3750750c9b1d",
   "metadata": {},
   "outputs": [
    {
     "name": "stdout",
     "output_type": "stream",
     "text": [
      "0.7360647927584564\n"
     ]
    }
   ],
   "source": [
    "model_neighbors.fit(X_train, y_train)\n",
    "y_pred = model_neighbors.predict(X_test)\n",
    "print(accuracy_score(y_test, y_pred))"
   ]
  },
  {
   "cell_type": "code",
   "execution_count": 30,
   "id": "b9251303-63d8-4a88-aaad-ca5c6946ba71",
   "metadata": {},
   "outputs": [],
   "source": [
    "model_logistic = LogisticRegression()"
   ]
  },
  {
   "cell_type": "code",
   "execution_count": 31,
   "id": "55a39d04-76a7-4a9a-8144-fd720d395e13",
   "metadata": {},
   "outputs": [
    {
     "name": "stdout",
     "output_type": "stream",
     "text": [
      "0.7946641257741782\n"
     ]
    }
   ],
   "source": [
    "model_logistic.fit(X_train_, y_train_)\n",
    "y_pred = model_logistic.predict(X_test_)\n",
    "print(accuracy_score(y_test_, y_pred))"
   ]
  },
  {
   "cell_type": "markdown",
   "id": "fded4153-8553-4a64-abb1-6953ca5860ce",
   "metadata": {},
   "source": [
    "# Simple prédiction"
   ]
  },
  {
   "cell_type": "code",
   "execution_count": 32,
   "id": "1fb99677-7068-461f-902a-a503b40ffcbf",
   "metadata": {},
   "outputs": [
    {
     "data": {
      "text/plain": [
       "array([[1., 0., 0., 0., 0., 0.]])"
      ]
     },
     "execution_count": 32,
     "metadata": {},
     "output_type": "execute_result"
    }
   ],
   "source": [
    "input = (1,\t10,\t27.398758,\t-11.479370,\t1356.0,\t1.032063)\n",
    "input_data = np.asarray(input)\n",
    "input_data_reshaped = input_data.reshape(1,-1)\n",
    "input_pred = model_forest.predict(input_data_reshaped)\n",
    "input_pred"
   ]
  },
  {
   "cell_type": "markdown",
   "id": "78268b98-c68b-43aa-804b-9bb01d6a0620",
   "metadata": {},
   "source": [
    "# 7. Visualisation de  l’evolution de l’entrainement du réseau de neurone"
   ]
  },
  {
   "cell_type": "code",
   "execution_count": 33,
   "id": "4fbe2802-3ebb-4091-a66c-577294b9c27f",
   "metadata": {},
   "outputs": [],
   "source": [
    "epoch_accuracy = history.history['accuracy']\n",
    "epoch_loss = history.history['loss']\n",
    "\n",
    "epoch_val_accuracy = history.history['val_accuracy']\n",
    "epoch_val_loss = history.history['val_loss']"
   ]
  },
  {
   "cell_type": "code",
   "execution_count": 34,
   "id": "8d941036-c253-4ff9-97b1-258ad21408bd",
   "metadata": {},
   "outputs": [
    {
     "data": {
      "image/png": "[encoded data removed]",
      "text/plain": [
       "<Figure size 600x400 with 1 Axes>"
      ]
     },
     "metadata": {},
     "output_type": "display_data"
    }
   ],
   "source": [
    "plt.figure(figsize=(6, 4))\n",
    "plt.plot(range(0, len(epoch_accuracy)), epoch_accuracy, color='blue', label='Training Accuracy')\n",
    "plt.plot(range(0, len(epoch_loss)), epoch_loss, color='red', label='Training Loss')\n",
    "plt.xlabel('Epochs')\n",
    "plt.ylabel('Values')\n",
    "plt.title('Training Accuracy vs Training Loss')\n",
    "plt.legend()\n",
    "plt.show()"
   ]
  },
  {
   "cell_type": "code",
   "execution_count": 35,
   "id": "24abeb78-4873-491c-8426-fa91f6d3eda4",
   "metadata": {},
   "outputs": [
    {
     "data": {
      "image/png": "[encoded data removed]",
      "text/plain": [
       "<Figure size 600x400 with 1 Axes>"
      ]
     },
     "metadata": {},
     "output_type": "display_data"
    }
   ],
   "source": [
    "plt.figure(figsize=(6, 4))\n",
    "plt.plot(range(0, len(epoch_accuracy)), epoch_accuracy, color='blue', label='Training Accuracy')\n",
    "plt.plot(range(0, len(epoch_val_accuracy)), epoch_val_accuracy, color='red', label='Test Accuracy')\n",
    "plt.xlabel('Epochs')\n",
    "plt.ylabel('Accuracy')\n",
    "plt.title('Training Loss Vs Taining Loss')\n",
    "plt.legend()\n",
    "plt.show()"
   ]
  },
  {
   "cell_type": "code",
   "execution_count": 36,
   "id": "7b32125e-57cb-4737-8164-8ce72fb38f8e",
   "metadata": {},
   "outputs": [
    {
     "data": {
      "image/png": "[encoded data removed]",
      "text/plain": [
       "<Figure size 600x400 with 1 Axes>"
      ]
     },
     "metadata": {},
     "output_type": "display_data"
    }
   ],
   "source": [
    "plt.figure(figsize=(6, 4))\n",
    "plt.plot(range(0, len(epoch_loss)), epoch_loss, color='blue', label='Training Loss')\n",
    "plt.plot(range(0, len(epoch_val_loss)), epoch_val_loss, color='red', label='Test Loss')\n",
    "plt.xlabel('Epochs')\n",
    "plt.ylabel('Loss')\n",
    "plt.title('Training Loss Vs Test Loss')\n",
    "plt.legend()\n",
    "plt.show()"
   ]
  },
  {
   "cell_type": "code",
   "execution_count": null,
   "id": "a47eae78-5494-4edd-85d8-1e4acb89493c",
   "metadata": {},
   "outputs": [],
   "source": []
  }
 ],
 "metadata": {
  "kernelspec": {
   "display_name": "Python 3 (ipykernel)",
   "language": "python",
   "name": "python3"
  },
  "language_info": {
   "codemirror_mode": {
    "name": "ipython",
    "version": 3
   },
   "file_extension": ".py",
   "mimetype": "text/x-python",
   "name": "python",
   "nbconvert_exporter": "python",
   "pygments_lexer": "ipython3",
   "version": "3.11.10"
  }
 },
 "nbformat": 4,
 "nbformat_minor": 5
}
