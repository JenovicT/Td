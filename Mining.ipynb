{
 "cells": [
  {
   "cell_type": "markdown",
   "id": "8d8d1eea-9b02-4fd1-b20e-39f5fd693d40",
   "metadata": {},
   "source": [
    " # 1.Importer les packages"
   ]
  },
  {
   "cell_type": "code",
   "execution_count": 1,
   "id": "2c74f4f3-426f-470c-b889-bec57172626e",
   "metadata": {},
   "outputs": [],
   "source": [
    "import pandas as pd\n",
    "import numpy as np\n",
    "import matplotlib.pyplot as plt\n",
    "import joblib\n",
    "\n",
    "from sklearn.model_selection import train_test_split\n",
    "from sklearn.ensemble import RandomForestClassifier\n",
    "from sklearn.tree import DecisionTreeClassifier\n",
    "from sklearn. svm import SVC\n",
    "from sklearn.neighbors import KNeighborsClassifier\n",
    "from sklearn.preprocessing import LabelEncoder, StandardScaler\n",
    "from sklearn.linear_model import LogisticRegression\n",
    "from sklearn.metrics import accuracy_score\n",
    "\n",
    "from tensorflow.keras import Sequential\n",
    "from tensorflow.keras.layers import Dense, Dropout\n",
    "from tensorflow.keras.utils import to_categorical\n",
    "from tensorflow.keras.optimizers import Adam\n",
    "import seaborn as sns\n",
    "\n",
    "import warnings\n",
    "warnings.filterwarnings(\"ignore\")"
   ]
  },
  {
   "cell_type": "markdown",
   "id": "3c24dca9-ac6c-424d-95c9-792ee6a166d9",
   "metadata": {},
   "source": [
    "# 2. Lecture du fichier"
   ]
  },
  {
   "cell_type": "code",
   "execution_count": 2,
   "id": "00898a0b-0b99-4222-a2d2-d62daadd9663",
   "metadata": {},
   "outputs": [],
   "source": [
    "data = pd.read_csv('Mining_Dataset.csv')"
   ]
  },
  {
   "cell_type": "markdown",
   "id": "cf9faf89-cff5-45ac-a223-8e3e46647ab5",
   "metadata": {},
   "source": [
    "# 3. Analyse des donées"
   ]
  },
  {
   "cell_type": "code",
   "execution_count": 3,
   "id": "667d5ce0-a84c-4c64-9266-ae56adebdfdb",
   "metadata": {},
   "outputs": [
    {
     "data": {
      "text/html": [
       "<div>\n",
       "<style scoped>\n",
       "    .dataframe tbody tr th:only-of-type {\n",
       "        vertical-align: middle;\n",
       "    }\n",
       "\n",
       "    .dataframe tbody tr th {\n",
       "        vertical-align: top;\n",
       "    }\n",
       "\n",
       "    .dataframe thead th {\n",
       "        text-align: right;\n",
       "    }\n",
       "</style>\n",
       "<table border=\"1\" class=\"dataframe\">\n",
       "  <thead>\n",
       "    <tr style=\"text-align: right;\">\n",
       "      <th></th>\n",
       "      <th>N°</th>\n",
       "      <th>Site</th>\n",
       "      <th>Longitude</th>\n",
       "      <th>Latitude</th>\n",
       "      <th>Altitude</th>\n",
       "      <th>Ic</th>\n",
       "      <th>Classe_Ic</th>\n",
       "    </tr>\n",
       "  </thead>\n",
       "  <tbody>\n",
       "    <tr>\n",
       "      <th>0</th>\n",
       "      <td>1</td>\n",
       "      <td>Tumbwe</td>\n",
       "      <td>27.398758</td>\n",
       "      <td>-11.479370</td>\n",
       "      <td>1356.0</td>\n",
       "      <td>1.032063</td>\n",
       "      <td>Dur</td>\n",
       "    </tr>\n",
       "    <tr>\n",
       "      <th>1</th>\n",
       "      <td>2</td>\n",
       "      <td>Tumbwe</td>\n",
       "      <td>27.398610</td>\n",
       "      <td>-11.478151</td>\n",
       "      <td>1354.0</td>\n",
       "      <td>27.390744</td>\n",
       "      <td>Dur</td>\n",
       "    </tr>\n",
       "    <tr>\n",
       "      <th>2</th>\n",
       "      <td>3</td>\n",
       "      <td>Tumbwe</td>\n",
       "      <td>27.399395</td>\n",
       "      <td>-11.476759</td>\n",
       "      <td>1354.0</td>\n",
       "      <td>1.541371</td>\n",
       "      <td>Dur</td>\n",
       "    </tr>\n",
       "    <tr>\n",
       "      <th>3</th>\n",
       "      <td>4</td>\n",
       "      <td>Tumbwe</td>\n",
       "      <td>27.399987</td>\n",
       "      <td>-11.475205</td>\n",
       "      <td>1354.0</td>\n",
       "      <td>1.081573</td>\n",
       "      <td>Dur</td>\n",
       "    </tr>\n",
       "    <tr>\n",
       "      <th>4</th>\n",
       "      <td>5</td>\n",
       "      <td>Tumbwe</td>\n",
       "      <td>27.400558</td>\n",
       "      <td>-11.474226</td>\n",
       "      <td>1353.0</td>\n",
       "      <td>1.364352</td>\n",
       "      <td>Dur</td>\n",
       "    </tr>\n",
       "  </tbody>\n",
       "</table>\n",
       "</div>"
      ],
      "text/plain": [
       "   N°    Site  Longitude   Latitude  Altitude         Ic Classe_Ic\n",
       "0   1  Tumbwe  27.398758 -11.479370    1356.0   1.032063       Dur\n",
       "1   2  Tumbwe  27.398610 -11.478151    1354.0  27.390744       Dur\n",
       "2   3  Tumbwe  27.399395 -11.476759    1354.0   1.541371       Dur\n",
       "3   4  Tumbwe  27.399987 -11.475205    1354.0   1.081573       Dur\n",
       "4   5  Tumbwe  27.400558 -11.474226    1353.0   1.364352       Dur"
      ]
     },
     "execution_count": 3,
     "metadata": {},
     "output_type": "execute_result"
    }
   ],
   "source": [
    "data.head()"
   ]
  },
  {
   "cell_type": "code",
   "execution_count": 4,
   "id": "f97573a5-8f70-4fc5-92f8-e03d72a7a47b",
   "metadata": {},
   "outputs": [
    {
     "data": {
      "text/plain": [
       "(5247, 7)"
      ]
     },
     "execution_count": 4,
     "metadata": {},
     "output_type": "execute_result"
    }
   ],
   "source": [
    "data.shape"
   ]
  },
  {
   "cell_type": "code",
   "execution_count": 5,
   "id": "271c9103-0821-4d8b-9a32-39dc112c634f",
   "metadata": {},
   "outputs": [
    {
     "data": {
      "text/plain": [
       "N°           0\n",
       "Site         0\n",
       "Longitude    0\n",
       "Latitude     0\n",
       "Altitude     0\n",
       "Ic           0\n",
       "Classe_Ic    0\n",
       "dtype: int64"
      ]
     },
     "execution_count": 5,
     "metadata": {},
     "output_type": "execute_result"
    }
   ],
   "source": [
    "data.isnull().sum()"
   ]
  },
  {
   "cell_type": "code",
   "execution_count": 6,
   "id": "e61876ad-8e58-4aaa-a097-3bf6ab5f415c",
   "metadata": {},
   "outputs": [
    {
     "name": "stdout",
     "output_type": "stream",
     "text": [
      "<class 'pandas.core.frame.DataFrame'>\n",
      "RangeIndex: 5247 entries, 0 to 5246\n",
      "Data columns (total 7 columns):\n",
      " #   Column     Non-Null Count  Dtype  \n",
      "---  ------     --------------  -----  \n",
      " 0   N°         5247 non-null   int64  \n",
      " 1   Site       5247 non-null   object \n",
      " 2   Longitude  5247 non-null   float64\n",
      " 3   Latitude   5247 non-null   float64\n",
      " 4   Altitude   5247 non-null   float64\n",
      " 5   Ic         5247 non-null   float64\n",
      " 6   Classe_Ic  5247 non-null   object \n",
      "dtypes: float64(4), int64(1), object(2)\n",
      "memory usage: 287.1+ KB\n"
     ]
    }
   ],
   "source": [
    "data.info()"
   ]
  },
  {
   "cell_type": "code",
   "execution_count": 7,
   "id": "930b53e7-157a-4ffd-a54e-8ea55fd5162c",
   "metadata": {},
   "outputs": [
    {
     "data": {
      "text/plain": [
       "Classe_Ic\n",
       "Dur        4080\n",
       "Terne       628\n",
       "Mi-dur      325\n",
       "Liquide     201\n",
       "Mou          10\n",
       "Pateux        3\n",
       "Name: count, dtype: int64"
      ]
     },
     "execution_count": 7,
     "metadata": {},
     "output_type": "execute_result"
    }
   ],
   "source": [
    "data['Classe_Ic'].value_counts()"
   ]
  },
  {
   "cell_type": "markdown",
   "id": "c04c7d8c-38b9-48fc-827d-382614a7925f",
   "metadata": {},
   "source": [
    "# 4. Prétraiment des données"
   ]
  },
  {
   "cell_type": "code",
   "execution_count": 8,
   "id": "bad92284-210f-4457-bdf3-3b5d3e367cdc",
   "metadata": {},
   "outputs": [
    {
     "data": {
      "text/html": [
       "<div>\n",
       "<style scoped>\n",
       "    .dataframe tbody tr th:only-of-type {\n",
       "        vertical-align: middle;\n",
       "    }\n",
       "\n",
       "    .dataframe tbody tr th {\n",
       "        vertical-align: top;\n",
       "    }\n",
       "\n",
       "    .dataframe thead th {\n",
       "        text-align: right;\n",
       "    }\n",
       "</style>\n",
       "<table border=\"1\" class=\"dataframe\">\n",
       "  <thead>\n",
       "    <tr style=\"text-align: right;\">\n",
       "      <th></th>\n",
       "      <th>N°</th>\n",
       "      <th>Site</th>\n",
       "      <th>Longitude</th>\n",
       "      <th>Latitude</th>\n",
       "      <th>Altitude</th>\n",
       "      <th>Ic</th>\n",
       "      <th>Classe_Ic</th>\n",
       "    </tr>\n",
       "  </thead>\n",
       "  <tbody>\n",
       "    <tr>\n",
       "      <th>0</th>\n",
       "      <td>1</td>\n",
       "      <td>Tumbwe</td>\n",
       "      <td>27.398758</td>\n",
       "      <td>-11.479370</td>\n",
       "      <td>1356.000</td>\n",
       "      <td>1.032063</td>\n",
       "      <td>Dur</td>\n",
       "    </tr>\n",
       "    <tr>\n",
       "      <th>1</th>\n",
       "      <td>2</td>\n",
       "      <td>Tumbwe</td>\n",
       "      <td>27.398610</td>\n",
       "      <td>-11.478151</td>\n",
       "      <td>1354.000</td>\n",
       "      <td>27.390744</td>\n",
       "      <td>Dur</td>\n",
       "    </tr>\n",
       "    <tr>\n",
       "      <th>2</th>\n",
       "      <td>3</td>\n",
       "      <td>Tumbwe</td>\n",
       "      <td>27.399395</td>\n",
       "      <td>-11.476759</td>\n",
       "      <td>1354.000</td>\n",
       "      <td>1.541371</td>\n",
       "      <td>Dur</td>\n",
       "    </tr>\n",
       "    <tr>\n",
       "      <th>3</th>\n",
       "      <td>4</td>\n",
       "      <td>Tumbwe</td>\n",
       "      <td>27.399987</td>\n",
       "      <td>-11.475205</td>\n",
       "      <td>1354.000</td>\n",
       "      <td>1.081573</td>\n",
       "      <td>Dur</td>\n",
       "    </tr>\n",
       "    <tr>\n",
       "      <th>4</th>\n",
       "      <td>5</td>\n",
       "      <td>Tumbwe</td>\n",
       "      <td>27.400558</td>\n",
       "      <td>-11.474226</td>\n",
       "      <td>1353.000</td>\n",
       "      <td>1.364352</td>\n",
       "      <td>Dur</td>\n",
       "    </tr>\n",
       "    <tr>\n",
       "      <th>...</th>\n",
       "      <td>...</td>\n",
       "      <td>...</td>\n",
       "      <td>...</td>\n",
       "      <td>...</td>\n",
       "      <td>...</td>\n",
       "      <td>...</td>\n",
       "      <td>...</td>\n",
       "    </tr>\n",
       "    <tr>\n",
       "      <th>808</th>\n",
       "      <td>809</td>\n",
       "      <td>Tumbwe</td>\n",
       "      <td>27.394227</td>\n",
       "      <td>-11.474065</td>\n",
       "      <td>1348.248</td>\n",
       "      <td>1.048759</td>\n",
       "      <td>Dur</td>\n",
       "    </tr>\n",
       "    <tr>\n",
       "      <th>810</th>\n",
       "      <td>811</td>\n",
       "      <td>Tumbwe</td>\n",
       "      <td>27.394278</td>\n",
       "      <td>-11.474105</td>\n",
       "      <td>1348.453</td>\n",
       "      <td>1.032063</td>\n",
       "      <td>Dur</td>\n",
       "    </tr>\n",
       "    <tr>\n",
       "      <th>811</th>\n",
       "      <td>812</td>\n",
       "      <td>Tumbwe</td>\n",
       "      <td>27.394311</td>\n",
       "      <td>-11.474129</td>\n",
       "      <td>1348.360</td>\n",
       "      <td>27.390744</td>\n",
       "      <td>Dur</td>\n",
       "    </tr>\n",
       "    <tr>\n",
       "      <th>812</th>\n",
       "      <td>813</td>\n",
       "      <td>Tumbwe</td>\n",
       "      <td>27.394341</td>\n",
       "      <td>-11.474153</td>\n",
       "      <td>1348.697</td>\n",
       "      <td>1.541371</td>\n",
       "      <td>Dur</td>\n",
       "    </tr>\n",
       "    <tr>\n",
       "      <th>813</th>\n",
       "      <td>814</td>\n",
       "      <td>Tumbwe</td>\n",
       "      <td>27.394366</td>\n",
       "      <td>-11.474175</td>\n",
       "      <td>1348.692</td>\n",
       "      <td>1.081573</td>\n",
       "      <td>Dur</td>\n",
       "    </tr>\n",
       "  </tbody>\n",
       "</table>\n",
       "<p>625 rows × 7 columns</p>\n",
       "</div>"
      ],
      "text/plain": [
       "      N°    Site  Longitude   Latitude  Altitude         Ic Classe_Ic\n",
       "0      1  Tumbwe  27.398758 -11.479370  1356.000   1.032063       Dur\n",
       "1      2  Tumbwe  27.398610 -11.478151  1354.000  27.390744       Dur\n",
       "2      3  Tumbwe  27.399395 -11.476759  1354.000   1.541371       Dur\n",
       "3      4  Tumbwe  27.399987 -11.475205  1354.000   1.081573       Dur\n",
       "4      5  Tumbwe  27.400558 -11.474226  1353.000   1.364352       Dur\n",
       "..   ...     ...        ...        ...       ...        ...       ...\n",
       "808  809  Tumbwe  27.394227 -11.474065  1348.248   1.048759       Dur\n",
       "810  811  Tumbwe  27.394278 -11.474105  1348.453   1.032063       Dur\n",
       "811  812  Tumbwe  27.394311 -11.474129  1348.360  27.390744       Dur\n",
       "812  813  Tumbwe  27.394341 -11.474153  1348.697   1.541371       Dur\n",
       "813  814  Tumbwe  27.394366 -11.474175  1348.692   1.081573       Dur\n",
       "\n",
       "[625 rows x 7 columns]"
      ]
     },
     "execution_count": 8,
     "metadata": {},
     "output_type": "execute_result"
    }
   ],
   "source": [
    "# dropping passed values\n",
    "classe_Dur = data[data['Classe_Ic'] == 'Dur'].iloc[ :625 , :]\n",
    "classe_Dur "
   ]
  },
  {
   "cell_type": "code",
   "execution_count": 9,
   "id": "d85f9b8c-ed79-44db-bf1c-c3fc9bc466ad",
   "metadata": {},
   "outputs": [
    {
     "data": {
      "text/html": [
       "<div>\n",
       "<style scoped>\n",
       "    .dataframe tbody tr th:only-of-type {\n",
       "        vertical-align: middle;\n",
       "    }\n",
       "\n",
       "    .dataframe tbody tr th {\n",
       "        vertical-align: top;\n",
       "    }\n",
       "\n",
       "    .dataframe thead th {\n",
       "        text-align: right;\n",
       "    }\n",
       "</style>\n",
       "<table border=\"1\" class=\"dataframe\">\n",
       "  <thead>\n",
       "    <tr style=\"text-align: right;\">\n",
       "      <th></th>\n",
       "      <th>N°</th>\n",
       "      <th>Site</th>\n",
       "      <th>Longitude</th>\n",
       "      <th>Latitude</th>\n",
       "      <th>Altitude</th>\n",
       "      <th>Ic</th>\n",
       "      <th>Classe_Ic</th>\n",
       "    </tr>\n",
       "  </thead>\n",
       "  <tbody>\n",
       "    <tr>\n",
       "      <th>8</th>\n",
       "      <td>9</td>\n",
       "      <td>Tumbwe</td>\n",
       "      <td>27.395137</td>\n",
       "      <td>-11.473340</td>\n",
       "      <td>1352.000</td>\n",
       "      <td>0.715264</td>\n",
       "      <td>Terne</td>\n",
       "    </tr>\n",
       "    <tr>\n",
       "      <th>9</th>\n",
       "      <td>10</td>\n",
       "      <td>Tumbwe</td>\n",
       "      <td>27.394444</td>\n",
       "      <td>-11.474650</td>\n",
       "      <td>1350.000</td>\n",
       "      <td>0.653490</td>\n",
       "      <td>Terne</td>\n",
       "    </tr>\n",
       "    <tr>\n",
       "      <th>11</th>\n",
       "      <td>12</td>\n",
       "      <td>Tumbwe</td>\n",
       "      <td>27.393726</td>\n",
       "      <td>-11.475818</td>\n",
       "      <td>1344.000</td>\n",
       "      <td>0.559695</td>\n",
       "      <td>Terne</td>\n",
       "    </tr>\n",
       "    <tr>\n",
       "      <th>29</th>\n",
       "      <td>30</td>\n",
       "      <td>Tumbwe</td>\n",
       "      <td>27.388280</td>\n",
       "      <td>-11.471170</td>\n",
       "      <td>1342.000</td>\n",
       "      <td>0.669784</td>\n",
       "      <td>Terne</td>\n",
       "    </tr>\n",
       "    <tr>\n",
       "      <th>38</th>\n",
       "      <td>39</td>\n",
       "      <td>Tumbwe</td>\n",
       "      <td>27.390620</td>\n",
       "      <td>-11.474792</td>\n",
       "      <td>1338.417</td>\n",
       "      <td>0.715264</td>\n",
       "      <td>Terne</td>\n",
       "    </tr>\n",
       "    <tr>\n",
       "      <th>...</th>\n",
       "      <td>...</td>\n",
       "      <td>...</td>\n",
       "      <td>...</td>\n",
       "      <td>...</td>\n",
       "      <td>...</td>\n",
       "      <td>...</td>\n",
       "      <td>...</td>\n",
       "    </tr>\n",
       "    <tr>\n",
       "      <th>4685</th>\n",
       "      <td>4686</td>\n",
       "      <td>MUTSHATSHA</td>\n",
       "      <td>24.458400</td>\n",
       "      <td>-10.638600</td>\n",
       "      <td>1240.000</td>\n",
       "      <td>0.663000</td>\n",
       "      <td>Terne</td>\n",
       "    </tr>\n",
       "    <tr>\n",
       "      <th>4710</th>\n",
       "      <td>4711</td>\n",
       "      <td>QUARTIER MUSUMBA</td>\n",
       "      <td>27.446298</td>\n",
       "      <td>-11.695117</td>\n",
       "      <td>1204.000</td>\n",
       "      <td>0.720000</td>\n",
       "      <td>Terne</td>\n",
       "    </tr>\n",
       "    <tr>\n",
       "      <th>4713</th>\n",
       "      <td>4714</td>\n",
       "      <td>QUARTIER MUSUMBA</td>\n",
       "      <td>27.449804</td>\n",
       "      <td>-11.701423</td>\n",
       "      <td>1214.000</td>\n",
       "      <td>0.510000</td>\n",
       "      <td>Terne</td>\n",
       "    </tr>\n",
       "    <tr>\n",
       "      <th>4717</th>\n",
       "      <td>4718</td>\n",
       "      <td>QUARTIER MUSUMBA</td>\n",
       "      <td>27.462209</td>\n",
       "      <td>-11.706052</td>\n",
       "      <td>1205.000</td>\n",
       "      <td>0.710000</td>\n",
       "      <td>Terne</td>\n",
       "    </tr>\n",
       "    <tr>\n",
       "      <th>4741</th>\n",
       "      <td>4742</td>\n",
       "      <td>BUNKEYA</td>\n",
       "      <td>26.958259</td>\n",
       "      <td>-10.393147</td>\n",
       "      <td>985.000</td>\n",
       "      <td>0.560966</td>\n",
       "      <td>Terne</td>\n",
       "    </tr>\n",
       "  </tbody>\n",
       "</table>\n",
       "<p>628 rows × 7 columns</p>\n",
       "</div>"
      ],
      "text/plain": [
       "        N°               Site  Longitude   Latitude  Altitude        Ic  \\\n",
       "8        9             Tumbwe  27.395137 -11.473340  1352.000  0.715264   \n",
       "9       10             Tumbwe  27.394444 -11.474650  1350.000  0.653490   \n",
       "11      12             Tumbwe  27.393726 -11.475818  1344.000  0.559695   \n",
       "29      30             Tumbwe  27.388280 -11.471170  1342.000  0.669784   \n",
       "38      39             Tumbwe  27.390620 -11.474792  1338.417  0.715264   \n",
       "...    ...                ...        ...        ...       ...       ...   \n",
       "4685  4686         MUTSHATSHA  24.458400 -10.638600  1240.000  0.663000   \n",
       "4710  4711  QUARTIER MUSUMBA   27.446298 -11.695117  1204.000  0.720000   \n",
       "4713  4714  QUARTIER MUSUMBA   27.449804 -11.701423  1214.000  0.510000   \n",
       "4717  4718  QUARTIER MUSUMBA   27.462209 -11.706052  1205.000  0.710000   \n",
       "4741  4742            BUNKEYA  26.958259 -10.393147   985.000  0.560966   \n",
       "\n",
       "     Classe_Ic  \n",
       "8        Terne  \n",
       "9        Terne  \n",
       "11       Terne  \n",
       "29       Terne  \n",
       "38       Terne  \n",
       "...        ...  \n",
       "4685     Terne  \n",
       "4710     Terne  \n",
       "4713     Terne  \n",
       "4717     Terne  \n",
       "4741     Terne  \n",
       "\n",
       "[628 rows x 7 columns]"
      ]
     },
     "execution_count": 9,
     "metadata": {},
     "output_type": "execute_result"
    }
   ],
   "source": [
    "classe_Terne = data[data['Classe_Ic'] == 'Terne']\n",
    "classe_Terne"
   ]
  },
  {
   "cell_type": "code",
   "execution_count": 10,
   "id": "a72843fe-e3ff-425f-98a0-331b1aab092f",
   "metadata": {},
   "outputs": [
    {
     "data": {
      "text/html": [
       "<div>\n",
       "<style scoped>\n",
       "    .dataframe tbody tr th:only-of-type {\n",
       "        vertical-align: middle;\n",
       "    }\n",
       "\n",
       "    .dataframe tbody tr th {\n",
       "        vertical-align: top;\n",
       "    }\n",
       "\n",
       "    .dataframe thead th {\n",
       "        text-align: right;\n",
       "    }\n",
       "</style>\n",
       "<table border=\"1\" class=\"dataframe\">\n",
       "  <thead>\n",
       "    <tr style=\"text-align: right;\">\n",
       "      <th></th>\n",
       "      <th>N°</th>\n",
       "      <th>Site</th>\n",
       "      <th>Longitude</th>\n",
       "      <th>Latitude</th>\n",
       "      <th>Altitude</th>\n",
       "      <th>Ic</th>\n",
       "      <th>Classe_Ic</th>\n",
       "    </tr>\n",
       "  </thead>\n",
       "  <tbody>\n",
       "    <tr>\n",
       "      <th>15</th>\n",
       "      <td>16</td>\n",
       "      <td>Tumbwe</td>\n",
       "      <td>27.390718</td>\n",
       "      <td>-11.474095</td>\n",
       "      <td>1341.000</td>\n",
       "      <td>0.757955</td>\n",
       "      <td>Mi-dur</td>\n",
       "    </tr>\n",
       "    <tr>\n",
       "      <th>27</th>\n",
       "      <td>28</td>\n",
       "      <td>Tumbwe</td>\n",
       "      <td>27.385035</td>\n",
       "      <td>-11.469725</td>\n",
       "      <td>1334.000</td>\n",
       "      <td>0.771537</td>\n",
       "      <td>Mi-dur</td>\n",
       "    </tr>\n",
       "    <tr>\n",
       "      <th>45</th>\n",
       "      <td>46</td>\n",
       "      <td>Tumbwe</td>\n",
       "      <td>27.390788</td>\n",
       "      <td>-11.474910</td>\n",
       "      <td>1338.771</td>\n",
       "      <td>0.757955</td>\n",
       "      <td>Mi-dur</td>\n",
       "    </tr>\n",
       "    <tr>\n",
       "      <th>57</th>\n",
       "      <td>58</td>\n",
       "      <td>Tumbwe</td>\n",
       "      <td>27.391128</td>\n",
       "      <td>-11.475153</td>\n",
       "      <td>1338.915</td>\n",
       "      <td>0.771537</td>\n",
       "      <td>Mi-dur</td>\n",
       "    </tr>\n",
       "    <tr>\n",
       "      <th>75</th>\n",
       "      <td>76</td>\n",
       "      <td>Tumbwe</td>\n",
       "      <td>27.391638</td>\n",
       "      <td>-11.475514</td>\n",
       "      <td>1338.924</td>\n",
       "      <td>0.757955</td>\n",
       "      <td>Mi-dur</td>\n",
       "    </tr>\n",
       "    <tr>\n",
       "      <th>...</th>\n",
       "      <td>...</td>\n",
       "      <td>...</td>\n",
       "      <td>...</td>\n",
       "      <td>...</td>\n",
       "      <td>...</td>\n",
       "      <td>...</td>\n",
       "      <td>...</td>\n",
       "    </tr>\n",
       "    <tr>\n",
       "      <th>4712</th>\n",
       "      <td>4713</td>\n",
       "      <td>QUARTIER MUSUMBA</td>\n",
       "      <td>27.444450</td>\n",
       "      <td>-11.698303</td>\n",
       "      <td>1222.000</td>\n",
       "      <td>0.960000</td>\n",
       "      <td>Mi-dur</td>\n",
       "    </tr>\n",
       "    <tr>\n",
       "      <th>4718</th>\n",
       "      <td>4719</td>\n",
       "      <td>QUARTIER MUSUMBA</td>\n",
       "      <td>27.467567</td>\n",
       "      <td>-11.711234</td>\n",
       "      <td>1202.000</td>\n",
       "      <td>0.770000</td>\n",
       "      <td>Mi-dur</td>\n",
       "    </tr>\n",
       "    <tr>\n",
       "      <th>4719</th>\n",
       "      <td>4720</td>\n",
       "      <td>QUARTIER MUSUMBA</td>\n",
       "      <td>27.461638</td>\n",
       "      <td>-11.710222</td>\n",
       "      <td>1206.000</td>\n",
       "      <td>0.950000</td>\n",
       "      <td>Mi-dur</td>\n",
       "    </tr>\n",
       "    <tr>\n",
       "      <th>4723</th>\n",
       "      <td>4724</td>\n",
       "      <td>QUARTIER MUSUMBA</td>\n",
       "      <td>27.453713</td>\n",
       "      <td>-11.706925</td>\n",
       "      <td>1196.000</td>\n",
       "      <td>0.950000</td>\n",
       "      <td>Mi-dur</td>\n",
       "    </tr>\n",
       "    <tr>\n",
       "      <th>4735</th>\n",
       "      <td>4736</td>\n",
       "      <td>BUNKEYA</td>\n",
       "      <td>26.954998</td>\n",
       "      <td>-10.393779</td>\n",
       "      <td>988.000</td>\n",
       "      <td>0.908484</td>\n",
       "      <td>Mi-dur</td>\n",
       "    </tr>\n",
       "  </tbody>\n",
       "</table>\n",
       "<p>325 rows × 7 columns</p>\n",
       "</div>"
      ],
      "text/plain": [
       "        N°               Site  Longitude   Latitude  Altitude        Ic  \\\n",
       "15      16             Tumbwe  27.390718 -11.474095  1341.000  0.757955   \n",
       "27      28             Tumbwe  27.385035 -11.469725  1334.000  0.771537   \n",
       "45      46             Tumbwe  27.390788 -11.474910  1338.771  0.757955   \n",
       "57      58             Tumbwe  27.391128 -11.475153  1338.915  0.771537   \n",
       "75      76             Tumbwe  27.391638 -11.475514  1338.924  0.757955   \n",
       "...    ...                ...        ...        ...       ...       ...   \n",
       "4712  4713  QUARTIER MUSUMBA   27.444450 -11.698303  1222.000  0.960000   \n",
       "4718  4719  QUARTIER MUSUMBA   27.467567 -11.711234  1202.000  0.770000   \n",
       "4719  4720  QUARTIER MUSUMBA   27.461638 -11.710222  1206.000  0.950000   \n",
       "4723  4724  QUARTIER MUSUMBA   27.453713 -11.706925  1196.000  0.950000   \n",
       "4735  4736            BUNKEYA  26.954998 -10.393779   988.000  0.908484   \n",
       "\n",
       "     Classe_Ic  \n",
       "15      Mi-dur  \n",
       "27      Mi-dur  \n",
       "45      Mi-dur  \n",
       "57      Mi-dur  \n",
       "75      Mi-dur  \n",
       "...        ...  \n",
       "4712    Mi-dur  \n",
       "4718    Mi-dur  \n",
       "4719    Mi-dur  \n",
       "4723    Mi-dur  \n",
       "4735    Mi-dur  \n",
       "\n",
       "[325 rows x 7 columns]"
      ]
     },
     "execution_count": 10,
     "metadata": {},
     "output_type": "execute_result"
    }
   ],
   "source": [
    "classe_Mi_Dur = data[data['Classe_Ic'] == 'Mi-dur']\n",
    "classe_Mi_Dur"
   ]
  },
  {
   "cell_type": "code",
   "execution_count": 11,
   "id": "5d89ab52-857c-4bbd-a43e-fb36a0161705",
   "metadata": {},
   "outputs": [
    {
     "data": {
      "text/html": [
       "<div>\n",
       "<style scoped>\n",
       "    .dataframe tbody tr th:only-of-type {\n",
       "        vertical-align: middle;\n",
       "    }\n",
       "\n",
       "    .dataframe tbody tr th {\n",
       "        vertical-align: top;\n",
       "    }\n",
       "\n",
       "    .dataframe thead th {\n",
       "        text-align: right;\n",
       "    }\n",
       "</style>\n",
       "<table border=\"1\" class=\"dataframe\">\n",
       "  <thead>\n",
       "    <tr style=\"text-align: right;\">\n",
       "      <th></th>\n",
       "      <th>N°</th>\n",
       "      <th>Site</th>\n",
       "      <th>Longitude</th>\n",
       "      <th>Latitude</th>\n",
       "      <th>Altitude</th>\n",
       "      <th>Ic</th>\n",
       "      <th>Classe_Ic</th>\n",
       "    </tr>\n",
       "  </thead>\n",
       "  <tbody>\n",
       "    <tr>\n",
       "      <th>20</th>\n",
       "      <td>21</td>\n",
       "      <td>Tumbwe</td>\n",
       "      <td>27.389360</td>\n",
       "      <td>-11.471787</td>\n",
       "      <td>1341.0000</td>\n",
       "      <td>-0.794529</td>\n",
       "      <td>Liquide</td>\n",
       "    </tr>\n",
       "    <tr>\n",
       "      <th>50</th>\n",
       "      <td>51</td>\n",
       "      <td>Tumbwe</td>\n",
       "      <td>27.390919</td>\n",
       "      <td>-11.475003</td>\n",
       "      <td>1338.5070</td>\n",
       "      <td>-0.794529</td>\n",
       "      <td>Liquide</td>\n",
       "    </tr>\n",
       "    <tr>\n",
       "      <th>80</th>\n",
       "      <td>81</td>\n",
       "      <td>Tumbwe</td>\n",
       "      <td>27.391808</td>\n",
       "      <td>-11.475637</td>\n",
       "      <td>1339.0120</td>\n",
       "      <td>-0.794529</td>\n",
       "      <td>Liquide</td>\n",
       "    </tr>\n",
       "    <tr>\n",
       "      <th>110</th>\n",
       "      <td>111</td>\n",
       "      <td>Tumbwe</td>\n",
       "      <td>27.392803</td>\n",
       "      <td>-11.476314</td>\n",
       "      <td>1340.4610</td>\n",
       "      <td>-0.794529</td>\n",
       "      <td>Liquide</td>\n",
       "    </tr>\n",
       "    <tr>\n",
       "      <th>140</th>\n",
       "      <td>141</td>\n",
       "      <td>Tumbwe</td>\n",
       "      <td>27.393934</td>\n",
       "      <td>-11.476886</td>\n",
       "      <td>1343.5050</td>\n",
       "      <td>-0.794529</td>\n",
       "      <td>Liquide</td>\n",
       "    </tr>\n",
       "    <tr>\n",
       "      <th>...</th>\n",
       "      <td>...</td>\n",
       "      <td>...</td>\n",
       "      <td>...</td>\n",
       "      <td>...</td>\n",
       "      <td>...</td>\n",
       "      <td>...</td>\n",
       "      <td>...</td>\n",
       "    </tr>\n",
       "    <tr>\n",
       "      <th>5193</th>\n",
       "      <td>5194</td>\n",
       "      <td>KINSEVERE</td>\n",
       "      <td>27.500284</td>\n",
       "      <td>-11.583934</td>\n",
       "      <td>1188.6369</td>\n",
       "      <td>-35.219849</td>\n",
       "      <td>Liquide</td>\n",
       "    </tr>\n",
       "    <tr>\n",
       "      <th>5203</th>\n",
       "      <td>5204</td>\n",
       "      <td>KINSEVERE</td>\n",
       "      <td>27.499655</td>\n",
       "      <td>-11.583269</td>\n",
       "      <td>1187.8608</td>\n",
       "      <td>-35.219849</td>\n",
       "      <td>Liquide</td>\n",
       "    </tr>\n",
       "    <tr>\n",
       "      <th>5213</th>\n",
       "      <td>5214</td>\n",
       "      <td>KINSEVERE</td>\n",
       "      <td>27.500588</td>\n",
       "      <td>-11.582730</td>\n",
       "      <td>1186.8692</td>\n",
       "      <td>-35.219849</td>\n",
       "      <td>Liquide</td>\n",
       "    </tr>\n",
       "    <tr>\n",
       "      <th>5223</th>\n",
       "      <td>5224</td>\n",
       "      <td>KINSEVERE</td>\n",
       "      <td>27.501601</td>\n",
       "      <td>-11.581927</td>\n",
       "      <td>1185.9133</td>\n",
       "      <td>-35.219849</td>\n",
       "      <td>Liquide</td>\n",
       "    </tr>\n",
       "    <tr>\n",
       "      <th>5233</th>\n",
       "      <td>5234</td>\n",
       "      <td>KINSEVERE</td>\n",
       "      <td>27.502679</td>\n",
       "      <td>-11.581215</td>\n",
       "      <td>1183.3166</td>\n",
       "      <td>-35.219849</td>\n",
       "      <td>Liquide</td>\n",
       "    </tr>\n",
       "  </tbody>\n",
       "</table>\n",
       "<p>201 rows × 7 columns</p>\n",
       "</div>"
      ],
      "text/plain": [
       "        N°       Site  Longitude   Latitude   Altitude         Ic Classe_Ic\n",
       "20      21     Tumbwe  27.389360 -11.471787  1341.0000  -0.794529   Liquide\n",
       "50      51     Tumbwe  27.390919 -11.475003  1338.5070  -0.794529   Liquide\n",
       "80      81     Tumbwe  27.391808 -11.475637  1339.0120  -0.794529   Liquide\n",
       "110    111     Tumbwe  27.392803 -11.476314  1340.4610  -0.794529   Liquide\n",
       "140    141     Tumbwe  27.393934 -11.476886  1343.5050  -0.794529   Liquide\n",
       "...    ...        ...        ...        ...        ...        ...       ...\n",
       "5193  5194  KINSEVERE  27.500284 -11.583934  1188.6369 -35.219849   Liquide\n",
       "5203  5204  KINSEVERE  27.499655 -11.583269  1187.8608 -35.219849   Liquide\n",
       "5213  5214  KINSEVERE  27.500588 -11.582730  1186.8692 -35.219849   Liquide\n",
       "5223  5224  KINSEVERE  27.501601 -11.581927  1185.9133 -35.219849   Liquide\n",
       "5233  5234  KINSEVERE  27.502679 -11.581215  1183.3166 -35.219849   Liquide\n",
       "\n",
       "[201 rows x 7 columns]"
      ]
     },
     "execution_count": 11,
     "metadata": {},
     "output_type": "execute_result"
    }
   ],
   "source": [
    "classe_Liquide = data[data['Classe_Ic'] == 'Liquide']\n",
    "classe_Liquide"
   ]
  },
  {
   "cell_type": "code",
   "execution_count": 12,
   "id": "db4a0b2b-db89-4a3b-823e-16a3b888e512",
   "metadata": {},
   "outputs": [
    {
     "data": {
      "text/html": [
       "<div>\n",
       "<style scoped>\n",
       "    .dataframe tbody tr th:only-of-type {\n",
       "        vertical-align: middle;\n",
       "    }\n",
       "\n",
       "    .dataframe tbody tr th {\n",
       "        vertical-align: top;\n",
       "    }\n",
       "\n",
       "    .dataframe thead th {\n",
       "        text-align: right;\n",
       "    }\n",
       "</style>\n",
       "<table border=\"1\" class=\"dataframe\">\n",
       "  <thead>\n",
       "    <tr style=\"text-align: right;\">\n",
       "      <th></th>\n",
       "      <th>N°</th>\n",
       "      <th>Site</th>\n",
       "      <th>Longitude</th>\n",
       "      <th>Latitude</th>\n",
       "      <th>Altitude</th>\n",
       "      <th>Ic</th>\n",
       "      <th>Classe_Ic</th>\n",
       "    </tr>\n",
       "  </thead>\n",
       "  <tbody>\n",
       "    <tr>\n",
       "      <th>0</th>\n",
       "      <td>1</td>\n",
       "      <td>Tumbwe</td>\n",
       "      <td>27.398758</td>\n",
       "      <td>-11.479370</td>\n",
       "      <td>1356.0000</td>\n",
       "      <td>1.032063</td>\n",
       "      <td>Dur</td>\n",
       "    </tr>\n",
       "    <tr>\n",
       "      <th>1</th>\n",
       "      <td>2</td>\n",
       "      <td>Tumbwe</td>\n",
       "      <td>27.398610</td>\n",
       "      <td>-11.478151</td>\n",
       "      <td>1354.0000</td>\n",
       "      <td>27.390744</td>\n",
       "      <td>Dur</td>\n",
       "    </tr>\n",
       "    <tr>\n",
       "      <th>2</th>\n",
       "      <td>3</td>\n",
       "      <td>Tumbwe</td>\n",
       "      <td>27.399395</td>\n",
       "      <td>-11.476759</td>\n",
       "      <td>1354.0000</td>\n",
       "      <td>1.541371</td>\n",
       "      <td>Dur</td>\n",
       "    </tr>\n",
       "    <tr>\n",
       "      <th>3</th>\n",
       "      <td>4</td>\n",
       "      <td>Tumbwe</td>\n",
       "      <td>27.399987</td>\n",
       "      <td>-11.475205</td>\n",
       "      <td>1354.0000</td>\n",
       "      <td>1.081573</td>\n",
       "      <td>Dur</td>\n",
       "    </tr>\n",
       "    <tr>\n",
       "      <th>4</th>\n",
       "      <td>5</td>\n",
       "      <td>Tumbwe</td>\n",
       "      <td>27.400558</td>\n",
       "      <td>-11.474226</td>\n",
       "      <td>1353.0000</td>\n",
       "      <td>1.364352</td>\n",
       "      <td>Dur</td>\n",
       "    </tr>\n",
       "    <tr>\n",
       "      <th>...</th>\n",
       "      <td>...</td>\n",
       "      <td>...</td>\n",
       "      <td>...</td>\n",
       "      <td>...</td>\n",
       "      <td>...</td>\n",
       "      <td>...</td>\n",
       "      <td>...</td>\n",
       "    </tr>\n",
       "    <tr>\n",
       "      <th>5193</th>\n",
       "      <td>5194</td>\n",
       "      <td>KINSEVERE</td>\n",
       "      <td>27.500284</td>\n",
       "      <td>-11.583934</td>\n",
       "      <td>1188.6369</td>\n",
       "      <td>-35.219849</td>\n",
       "      <td>Liquide</td>\n",
       "    </tr>\n",
       "    <tr>\n",
       "      <th>5203</th>\n",
       "      <td>5204</td>\n",
       "      <td>KINSEVERE</td>\n",
       "      <td>27.499655</td>\n",
       "      <td>-11.583269</td>\n",
       "      <td>1187.8608</td>\n",
       "      <td>-35.219849</td>\n",
       "      <td>Liquide</td>\n",
       "    </tr>\n",
       "    <tr>\n",
       "      <th>5213</th>\n",
       "      <td>5214</td>\n",
       "      <td>KINSEVERE</td>\n",
       "      <td>27.500588</td>\n",
       "      <td>-11.582730</td>\n",
       "      <td>1186.8692</td>\n",
       "      <td>-35.219849</td>\n",
       "      <td>Liquide</td>\n",
       "    </tr>\n",
       "    <tr>\n",
       "      <th>5223</th>\n",
       "      <td>5224</td>\n",
       "      <td>KINSEVERE</td>\n",
       "      <td>27.501601</td>\n",
       "      <td>-11.581927</td>\n",
       "      <td>1185.9133</td>\n",
       "      <td>-35.219849</td>\n",
       "      <td>Liquide</td>\n",
       "    </tr>\n",
       "    <tr>\n",
       "      <th>5233</th>\n",
       "      <td>5234</td>\n",
       "      <td>KINSEVERE</td>\n",
       "      <td>27.502679</td>\n",
       "      <td>-11.581215</td>\n",
       "      <td>1183.3166</td>\n",
       "      <td>-35.219849</td>\n",
       "      <td>Liquide</td>\n",
       "    </tr>\n",
       "  </tbody>\n",
       "</table>\n",
       "<p>1779 rows × 7 columns</p>\n",
       "</div>"
      ],
      "text/plain": [
       "        N°       Site  Longitude   Latitude   Altitude         Ic Classe_Ic\n",
       "0        1     Tumbwe  27.398758 -11.479370  1356.0000   1.032063       Dur\n",
       "1        2     Tumbwe  27.398610 -11.478151  1354.0000  27.390744       Dur\n",
       "2        3     Tumbwe  27.399395 -11.476759  1354.0000   1.541371       Dur\n",
       "3        4     Tumbwe  27.399987 -11.475205  1354.0000   1.081573       Dur\n",
       "4        5     Tumbwe  27.400558 -11.474226  1353.0000   1.364352       Dur\n",
       "...    ...        ...        ...        ...        ...        ...       ...\n",
       "5193  5194  KINSEVERE  27.500284 -11.583934  1188.6369 -35.219849   Liquide\n",
       "5203  5204  KINSEVERE  27.499655 -11.583269  1187.8608 -35.219849   Liquide\n",
       "5213  5214  KINSEVERE  27.500588 -11.582730  1186.8692 -35.219849   Liquide\n",
       "5223  5224  KINSEVERE  27.501601 -11.581927  1185.9133 -35.219849   Liquide\n",
       "5233  5234  KINSEVERE  27.502679 -11.581215  1183.3166 -35.219849   Liquide\n",
       "\n",
       "[1779 rows x 7 columns]"
      ]
     },
     "execution_count": 12,
     "metadata": {},
     "output_type": "execute_result"
    }
   ],
   "source": [
    "data_concat = pd.concat([classe_Dur, classe_Terne, classe_Mi_Dur, classe_Liquide])\n",
    "data_concat"
   ]
  },
  {
   "cell_type": "code",
   "execution_count": 13,
   "id": "0460c3d6-2c0a-4af4-a415-2cde84188b27",
   "metadata": {},
   "outputs": [
    {
     "data": {
      "text/plain": [
       "array(['Dur', 'Terne', 'Mi-dur', 'Liquide'], dtype=object)"
      ]
     },
     "execution_count": 13,
     "metadata": {},
     "output_type": "execute_result"
    }
   ],
   "source": [
    "data_concat['Classe_Ic'].unique()"
   ]
  },
  {
   "cell_type": "code",
   "execution_count": 14,
   "id": "9d2d1626-deae-4ee1-91dc-b6eca5625477",
   "metadata": {},
   "outputs": [
    {
     "data": {
      "text/plain": [
       "Classe_Ic\n",
       "Terne      628\n",
       "Dur        625\n",
       "Mi-dur     325\n",
       "Liquide    201\n",
       "Name: count, dtype: int64"
      ]
     },
     "execution_count": 14,
     "metadata": {},
     "output_type": "execute_result"
    }
   ],
   "source": [
    "data_concat['Classe_Ic'].value_counts()"
   ]
  },
  {
   "cell_type": "code",
   "execution_count": 15,
   "id": "0e8aebab-16fb-47c7-98e6-b473e5a73067",
   "metadata": {},
   "outputs": [],
   "source": [
    "list_object = ['Site','Classe_Ic']\n",
    "label_encoder = LabelEncoder()\n",
    "for type in list_object:\n",
    "    data_concat[type] = label_encoder.fit_transform(data_concat[type])"
   ]
  },
  {
   "cell_type": "code",
   "execution_count": 16,
   "id": "c0badd23-6fb8-4f4a-8924-fce6d4133a68",
   "metadata": {},
   "outputs": [
    {
     "name": "stdout",
     "output_type": "stream",
     "text": [
      "<class 'pandas.core.frame.DataFrame'>\n",
      "Index: 1779 entries, 0 to 5233\n",
      "Data columns (total 7 columns):\n",
      " #   Column     Non-Null Count  Dtype  \n",
      "---  ------     --------------  -----  \n",
      " 0   N°         1779 non-null   int64  \n",
      " 1   Site       1779 non-null   int64  \n",
      " 2   Longitude  1779 non-null   float64\n",
      " 3   Latitude   1779 non-null   float64\n",
      " 4   Altitude   1779 non-null   float64\n",
      " 5   Ic         1779 non-null   float64\n",
      " 6   Classe_Ic  1779 non-null   int64  \n",
      "dtypes: float64(4), int64(3)\n",
      "memory usage: 111.2 KB\n"
     ]
    }
   ],
   "source": [
    "data_concat.info()"
   ]
  },
  {
   "cell_type": "code",
   "execution_count": 17,
   "id": "8c7d5a4c-fe14-4b13-90cd-c1dd05212438",
   "metadata": {},
   "outputs": [
    {
     "data": {
      "text/html": [
       "<div>\n",
       "<style scoped>\n",
       "    .dataframe tbody tr th:only-of-type {\n",
       "        vertical-align: middle;\n",
       "    }\n",
       "\n",
       "    .dataframe tbody tr th {\n",
       "        vertical-align: top;\n",
       "    }\n",
       "\n",
       "    .dataframe thead th {\n",
       "        text-align: right;\n",
       "    }\n",
       "</style>\n",
       "<table border=\"1\" class=\"dataframe\">\n",
       "  <thead>\n",
       "    <tr style=\"text-align: right;\">\n",
       "      <th></th>\n",
       "      <th>N°</th>\n",
       "      <th>Site</th>\n",
       "      <th>Longitude</th>\n",
       "      <th>Latitude</th>\n",
       "      <th>Altitude</th>\n",
       "      <th>Ic</th>\n",
       "      <th>Classe_Ic</th>\n",
       "    </tr>\n",
       "  </thead>\n",
       "  <tbody>\n",
       "    <tr>\n",
       "      <th>0</th>\n",
       "      <td>1</td>\n",
       "      <td>6</td>\n",
       "      <td>27.398758</td>\n",
       "      <td>-11.479370</td>\n",
       "      <td>1356.0</td>\n",
       "      <td>1.032063</td>\n",
       "      <td>0</td>\n",
       "    </tr>\n",
       "    <tr>\n",
       "      <th>1</th>\n",
       "      <td>2</td>\n",
       "      <td>6</td>\n",
       "      <td>27.398610</td>\n",
       "      <td>-11.478151</td>\n",
       "      <td>1354.0</td>\n",
       "      <td>27.390744</td>\n",
       "      <td>0</td>\n",
       "    </tr>\n",
       "    <tr>\n",
       "      <th>2</th>\n",
       "      <td>3</td>\n",
       "      <td>6</td>\n",
       "      <td>27.399395</td>\n",
       "      <td>-11.476759</td>\n",
       "      <td>1354.0</td>\n",
       "      <td>1.541371</td>\n",
       "      <td>0</td>\n",
       "    </tr>\n",
       "    <tr>\n",
       "      <th>3</th>\n",
       "      <td>4</td>\n",
       "      <td>6</td>\n",
       "      <td>27.399987</td>\n",
       "      <td>-11.475205</td>\n",
       "      <td>1354.0</td>\n",
       "      <td>1.081573</td>\n",
       "      <td>0</td>\n",
       "    </tr>\n",
       "    <tr>\n",
       "      <th>4</th>\n",
       "      <td>5</td>\n",
       "      <td>6</td>\n",
       "      <td>27.400558</td>\n",
       "      <td>-11.474226</td>\n",
       "      <td>1353.0</td>\n",
       "      <td>1.364352</td>\n",
       "      <td>0</td>\n",
       "    </tr>\n",
       "  </tbody>\n",
       "</table>\n",
       "</div>"
      ],
      "text/plain": [
       "   N°  Site  Longitude   Latitude  Altitude         Ic  Classe_Ic\n",
       "0   1     6  27.398758 -11.479370    1356.0   1.032063          0\n",
       "1   2     6  27.398610 -11.478151    1354.0  27.390744          0\n",
       "2   3     6  27.399395 -11.476759    1354.0   1.541371          0\n",
       "3   4     6  27.399987 -11.475205    1354.0   1.081573          0\n",
       "4   5     6  27.400558 -11.474226    1353.0   1.364352          0"
      ]
     },
     "execution_count": 17,
     "metadata": {},
     "output_type": "execute_result"
    }
   ],
   "source": [
    "data_concat.head()"
   ]
  },
  {
   "cell_type": "code",
   "execution_count": 18,
   "id": "d77a590a-d1f4-4825-b0f8-519541bd7be6",
   "metadata": {},
   "outputs": [
    {
     "data": {
      "text/plain": [
       "Classe_Ic    1.000000\n",
       "N°           0.519662\n",
       "Latitude     0.040380\n",
       "Site         0.030048\n",
       "Longitude   -0.055790\n",
       "Altitude    -0.093530\n",
       "Ic          -0.145741\n",
       "Name: Classe_Ic, dtype: float64"
      ]
     },
     "execution_count": 18,
     "metadata": {},
     "output_type": "execute_result"
    }
   ],
   "source": [
    "data_concat.corr().Classe_Ic.sort_values(ascending =False)"
   ]
  },
  {
   "cell_type": "code",
   "execution_count": 19,
   "id": "90a1ee91-e1d4-41ed-a7af-bca189ba8ecf",
   "metadata": {},
   "outputs": [
    {
     "data": {
      "text/plain": [
       "Classe_Ic\n",
       "3    628\n",
       "0    625\n",
       "2    325\n",
       "1    201\n",
       "Name: count, dtype: int64"
      ]
     },
     "execution_count": 19,
     "metadata": {},
     "output_type": "execute_result"
    }
   ],
   "source": [
    "data_concat['Classe_Ic'].value_counts()"
   ]
  },
  {
   "cell_type": "code",
   "execution_count": 20,
   "id": "cff42748-e5e8-4263-8d38-29b102efe14d",
   "metadata": {},
   "outputs": [
    {
     "data": {
      "text/html": [
       "<div>\n",
       "<style scoped>\n",
       "    .dataframe tbody tr th:only-of-type {\n",
       "        vertical-align: middle;\n",
       "    }\n",
       "\n",
       "    .dataframe tbody tr th {\n",
       "        vertical-align: top;\n",
       "    }\n",
       "\n",
       "    .dataframe thead th {\n",
       "        text-align: right;\n",
       "    }\n",
       "</style>\n",
       "<table border=\"1\" class=\"dataframe\">\n",
       "  <thead>\n",
       "    <tr style=\"text-align: right;\">\n",
       "      <th></th>\n",
       "      <th>Site</th>\n",
       "      <th>Longitude</th>\n",
       "      <th>Latitude</th>\n",
       "      <th>Altitude</th>\n",
       "      <th>Ic</th>\n",
       "      <th>Classe_Ic</th>\n",
       "    </tr>\n",
       "  </thead>\n",
       "  <tbody>\n",
       "    <tr>\n",
       "      <th>0</th>\n",
       "      <td>6</td>\n",
       "      <td>27.398758</td>\n",
       "      <td>-11.479370</td>\n",
       "      <td>1356.0</td>\n",
       "      <td>1.032063</td>\n",
       "      <td>0</td>\n",
       "    </tr>\n",
       "    <tr>\n",
       "      <th>1</th>\n",
       "      <td>6</td>\n",
       "      <td>27.398610</td>\n",
       "      <td>-11.478151</td>\n",
       "      <td>1354.0</td>\n",
       "      <td>27.390744</td>\n",
       "      <td>0</td>\n",
       "    </tr>\n",
       "    <tr>\n",
       "      <th>2</th>\n",
       "      <td>6</td>\n",
       "      <td>27.399395</td>\n",
       "      <td>-11.476759</td>\n",
       "      <td>1354.0</td>\n",
       "      <td>1.541371</td>\n",
       "      <td>0</td>\n",
       "    </tr>\n",
       "    <tr>\n",
       "      <th>3</th>\n",
       "      <td>6</td>\n",
       "      <td>27.399987</td>\n",
       "      <td>-11.475205</td>\n",
       "      <td>1354.0</td>\n",
       "      <td>1.081573</td>\n",
       "      <td>0</td>\n",
       "    </tr>\n",
       "    <tr>\n",
       "      <th>4</th>\n",
       "      <td>6</td>\n",
       "      <td>27.400558</td>\n",
       "      <td>-11.474226</td>\n",
       "      <td>1353.0</td>\n",
       "      <td>1.364352</td>\n",
       "      <td>0</td>\n",
       "    </tr>\n",
       "  </tbody>\n",
       "</table>\n",
       "</div>"
      ],
      "text/plain": [
       "   Site  Longitude   Latitude  Altitude         Ic  Classe_Ic\n",
       "0     6  27.398758 -11.479370    1356.0   1.032063          0\n",
       "1     6  27.398610 -11.478151    1354.0  27.390744          0\n",
       "2     6  27.399395 -11.476759    1354.0   1.541371          0\n",
       "3     6  27.399987 -11.475205    1354.0   1.081573          0\n",
       "4     6  27.400558 -11.474226    1353.0   1.364352          0"
      ]
     },
     "execution_count": 20,
     "metadata": {},
     "output_type": "execute_result"
    }
   ],
   "source": [
    "data_concat = data_concat.drop('N°', axis=1)\n",
    "data_concat.head()"
   ]
  },
  {
   "cell_type": "code",
   "execution_count": 21,
   "id": "aff33190-7817-49d3-9202-81dee0cd3cf1",
   "metadata": {},
   "outputs": [
    {
     "data": {
      "image/png": "[encoded data removed]",
      "text/plain": [
       "<Figure size 1200x800 with 2 Axes>"
      ]
     },
     "metadata": {},
     "output_type": "display_data"
    }
   ],
   "source": [
    "plt.figure(figsize=(12, 8))\n",
    "sns.heatmap(\n",
    "    data_concat.corr(),\n",
    "    annot=True,               # Show correlation coefficients\n",
    "    fmt=\".2f\",                # Format the annotations to 2 decimal places\n",
    "    cmap='viridis',           # Choose a different color palette\n",
    "    square=True,              # Make cells square-shaped\n",
    "    linewidths=0.5,          # Add lines between cells\n",
    "    cbar_kws={\"shrink\": .8}, # Shrink the color bar\n",
    ")\n",
    "plt.title('Correlation Heatmap of Mining Data', fontsize=16)\n",
    "plt.show()"
   ]
  },
  {
   "cell_type": "markdown",
   "id": "8d2c315b-01d6-4af0-85d1-2672e0d765b3",
   "metadata": {},
   "source": [
    "# 5. Division des données"
   ]
  },
  {
   "cell_type": "code",
   "execution_count": 22,
   "id": "1ef81d87-ad97-4ef0-b666-637113cb9500",
   "metadata": {},
   "outputs": [],
   "source": [
    "X = data_concat.iloc [:, :-1]\n",
    "y = data_concat.iloc[:, -1]\n",
    "y_ = to_categorical(y, num_classes=4)"
   ]
  },
  {
   "cell_type": "code",
   "execution_count": 23,
   "id": "e3b81e78-a831-445a-829f-45913ca08223",
   "metadata": {},
   "outputs": [],
   "source": [
    "scaler = StandardScaler()\n",
    "\n",
    "X_normal = scaler.fit_transform(X)\n",
    "#X_test = scaler.transform(X_test)"
   ]
  },
  {
   "cell_type": "code",
   "execution_count": 24,
   "id": "99f44467-1371-424c-af1e-9996e0c5940a",
   "metadata": {},
   "outputs": [
    {
     "name": "stdout",
     "output_type": "stream",
     "text": [
      "(1779, 5)\n",
      "(1779, 4)\n"
     ]
    }
   ],
   "source": [
    "print(X.shape)\n",
    "print(y_.shape)"
   ]
  },
  {
   "cell_type": "code",
   "execution_count": 25,
   "id": "28f8be68-d84f-4582-b31d-d484d62f62b3",
   "metadata": {},
   "outputs": [],
   "source": [
    "X_train, X_test, y_train, y_test = train_test_split(X_normal, y_, test_size=0.25, random_state=27)"
   ]
  },
  {
   "cell_type": "code",
   "execution_count": 26,
   "id": "4229daa9-6f53-4daa-8824-2a450979b85e",
   "metadata": {},
   "outputs": [
    {
     "name": "stdout",
     "output_type": "stream",
     "text": [
      "X-train: (1334, 5)\n",
      "y-train: (1334, 4)\n",
      "X-test: (445, 5)\n",
      "y-test: (445, 4)\n"
     ]
    }
   ],
   "source": [
    "print(\"X-train:\", X_train.shape)\n",
    "print(\"y-train:\", y_train.shape)\n",
    "print(\"X-test:\", X_test.shape)\n",
    "print(\"y-test:\", y_test.shape)"
   ]
  },
  {
   "cell_type": "code",
   "execution_count": 27,
   "id": "084b3054-4d3f-4db9-a261-1961f1555b1b",
   "metadata": {},
   "outputs": [
    {
     "data": {
      "text/plain": [
       "<Axes: >"
      ]
     },
     "execution_count": 27,
     "metadata": {},
     "output_type": "execute_result"
    },
    {
     "data": {
      "image/png": "[encoded data removed]",
      "text/plain": [
       "<Figure size 640x480 with 2 Axes>"
      ]
     },
     "metadata": {},
     "output_type": "display_data"
    }
   ],
   "source": [
    "import seaborn as sns\n",
    "sns.heatmap(data_concat.corr(), annot =True, cmap='coolwarm')"
   ]
  },
  {
   "cell_type": "markdown",
   "id": "e3685d44-1638-4e3a-905c-92fbc06ff7f6",
   "metadata": {},
   "source": [
    "# 6. Construction du ShallowNeural Network"
   ]
  },
  {
   "cell_type": "code",
   "execution_count": 28,
   "id": "a4f714ac-cd97-48e4-94f0-b3a920fcd440",
   "metadata": {},
   "outputs": [],
   "source": [
    "# Creer une instance de la Classe Sequential\n",
    "model_dnn = Sequential()"
   ]
  },
  {
   "cell_type": "code",
   "execution_count": 29,
   "id": "e5094545-f11e-431c-8283-16a481c64fa8",
   "metadata": {},
   "outputs": [
    {
     "data": {
      "text/html": [
       "<pre style=\"white-space:pre;overflow-x:auto;line-height:normal;font-family:Menlo,'DejaVu Sans Mono',consolas,'Courier New',monospace\"><span style=\"font-weight: bold\">Model: \"sequential\"</span>\n",
       "</pre>\n"
      ],
      "text/plain": [
       "\u001b[1mModel: \"sequential\"\u001b[0m\n"
      ]
     },
     "metadata": {},
     "output_type": "display_data"
    },
    {
     "data": {
      "text/html": [
       "<pre style=\"white-space:pre;overflow-x:auto;line-height:normal;font-family:Menlo,'DejaVu Sans Mono',consolas,'Courier New',monospace\">┏━━━━━━━━━━━━━━━━━━━━━━━━━━━━━━━━━┳━━━━━━━━━━━━━━━━━━━━━━━━┳━━━━━━━━━━━━━━━┓\n",
       "┃<span style=\"font-weight: bold\"> Layer (type)                    </span>┃<span style=\"font-weight: bold\"> Output Shape           </span>┃<span style=\"font-weight: bold\">       Param # </span>┃\n",
       "┡━━━━━━━━━━━━━━━━━━━━━━━━━━━━━━━━━╇━━━━━━━━━━━━━━━━━━━━━━━━╇━━━━━━━━━━━━━━━┩\n",
       "│ dense (<span style=\"color: #0087ff; text-decoration-color: #0087ff\">Dense</span>)                   │ (<span style=\"color: #00d7ff; text-decoration-color: #00d7ff\">None</span>, <span style=\"color: #00af00; text-decoration-color: #00af00\">10</span>)             │            <span style=\"color: #00af00; text-decoration-color: #00af00\">60</span> │\n",
       "├─────────────────────────────────┼────────────────────────┼───────────────┤\n",
       "│ dense_1 (<span style=\"color: #0087ff; text-decoration-color: #0087ff\">Dense</span>)                 │ (<span style=\"color: #00d7ff; text-decoration-color: #00d7ff\">None</span>, <span style=\"color: #00af00; text-decoration-color: #00af00\">128</span>)            │         <span style=\"color: #00af00; text-decoration-color: #00af00\">1,408</span> │\n",
       "├─────────────────────────────────┼────────────────────────┼───────────────┤\n",
       "│ dropout (<span style=\"color: #0087ff; text-decoration-color: #0087ff\">Dropout</span>)               │ (<span style=\"color: #00d7ff; text-decoration-color: #00d7ff\">None</span>, <span style=\"color: #00af00; text-decoration-color: #00af00\">128</span>)            │             <span style=\"color: #00af00; text-decoration-color: #00af00\">0</span> │\n",
       "├─────────────────────────────────┼────────────────────────┼───────────────┤\n",
       "│ dense_2 (<span style=\"color: #0087ff; text-decoration-color: #0087ff\">Dense</span>)                 │ (<span style=\"color: #00d7ff; text-decoration-color: #00d7ff\">None</span>, <span style=\"color: #00af00; text-decoration-color: #00af00\">64</span>)             │         <span style=\"color: #00af00; text-decoration-color: #00af00\">8,256</span> │\n",
       "├─────────────────────────────────┼────────────────────────┼───────────────┤\n",
       "│ dropout_1 (<span style=\"color: #0087ff; text-decoration-color: #0087ff\">Dropout</span>)             │ (<span style=\"color: #00d7ff; text-decoration-color: #00d7ff\">None</span>, <span style=\"color: #00af00; text-decoration-color: #00af00\">64</span>)             │             <span style=\"color: #00af00; text-decoration-color: #00af00\">0</span> │\n",
       "├─────────────────────────────────┼────────────────────────┼───────────────┤\n",
       "│ dense_3 (<span style=\"color: #0087ff; text-decoration-color: #0087ff\">Dense</span>)                 │ (<span style=\"color: #00d7ff; text-decoration-color: #00d7ff\">None</span>, <span style=\"color: #00af00; text-decoration-color: #00af00\">32</span>)             │         <span style=\"color: #00af00; text-decoration-color: #00af00\">2,080</span> │\n",
       "├─────────────────────────────────┼────────────────────────┼───────────────┤\n",
       "│ dense_4 (<span style=\"color: #0087ff; text-decoration-color: #0087ff\">Dense</span>)                 │ (<span style=\"color: #00d7ff; text-decoration-color: #00d7ff\">None</span>, <span style=\"color: #00af00; text-decoration-color: #00af00\">4</span>)              │           <span style=\"color: #00af00; text-decoration-color: #00af00\">132</span> │\n",
       "└─────────────────────────────────┴────────────────────────┴───────────────┘\n",
       "</pre>\n"
      ],
      "text/plain": [
       "┏━━━━━━━━━━━━━━━━━━━━━━━━━━━━━━━━━┳━━━━━━━━━━━━━━━━━━━━━━━━┳━━━━━━━━━━━━━━━┓\n",
       "┃\u001b[1m \u001b[0m\u001b[1mLayer (type)                   \u001b[0m\u001b[1m \u001b[0m┃\u001b[1m \u001b[0m\u001b[1mOutput Shape          \u001b[0m\u001b[1m \u001b[0m┃\u001b[1m \u001b[0m\u001b[1m      Param #\u001b[0m\u001b[1m \u001b[0m┃\n",
       "┡━━━━━━━━━━━━━━━━━━━━━━━━━━━━━━━━━╇━━━━━━━━━━━━━━━━━━━━━━━━╇━━━━━━━━━━━━━━━┩\n",
       "│ dense (\u001b[38;5;33mDense\u001b[0m)                   │ (\u001b[38;5;45mNone\u001b[0m, \u001b[38;5;34m10\u001b[0m)             │            \u001b[38;5;34m60\u001b[0m │\n",
       "├─────────────────────────────────┼────────────────────────┼───────────────┤\n",
       "│ dense_1 (\u001b[38;5;33mDense\u001b[0m)                 │ (\u001b[38;5;45mNone\u001b[0m, \u001b[38;5;34m128\u001b[0m)            │         \u001b[38;5;34m1,408\u001b[0m │\n",
       "├─────────────────────────────────┼────────────────────────┼───────────────┤\n",
       "│ dropout (\u001b[38;5;33mDropout\u001b[0m)               │ (\u001b[38;5;45mNone\u001b[0m, \u001b[38;5;34m128\u001b[0m)            │             \u001b[38;5;34m0\u001b[0m │\n",
       "├─────────────────────────────────┼────────────────────────┼───────────────┤\n",
       "│ dense_2 (\u001b[38;5;33mDense\u001b[0m)                 │ (\u001b[38;5;45mNone\u001b[0m, \u001b[38;5;34m64\u001b[0m)             │         \u001b[38;5;34m8,256\u001b[0m │\n",
       "├─────────────────────────────────┼────────────────────────┼───────────────┤\n",
       "│ dropout_1 (\u001b[38;5;33mDropout\u001b[0m)             │ (\u001b[38;5;45mNone\u001b[0m, \u001b[38;5;34m64\u001b[0m)             │             \u001b[38;5;34m0\u001b[0m │\n",
       "├─────────────────────────────────┼────────────────────────┼───────────────┤\n",
       "│ dense_3 (\u001b[38;5;33mDense\u001b[0m)                 │ (\u001b[38;5;45mNone\u001b[0m, \u001b[38;5;34m32\u001b[0m)             │         \u001b[38;5;34m2,080\u001b[0m │\n",
       "├─────────────────────────────────┼────────────────────────┼───────────────┤\n",
       "│ dense_4 (\u001b[38;5;33mDense\u001b[0m)                 │ (\u001b[38;5;45mNone\u001b[0m, \u001b[38;5;34m4\u001b[0m)              │           \u001b[38;5;34m132\u001b[0m │\n",
       "└─────────────────────────────────┴────────────────────────┴───────────────┘\n"
      ]
     },
     "metadata": {},
     "output_type": "display_data"
    },
    {
     "data": {
      "text/html": [
       "<pre style=\"white-space:pre;overflow-x:auto;line-height:normal;font-family:Menlo,'DejaVu Sans Mono',consolas,'Courier New',monospace\"><span style=\"font-weight: bold\"> Total params: </span><span style=\"color: #00af00; text-decoration-color: #00af00\">11,936</span> (46.62 KB)\n",
       "</pre>\n"
      ],
      "text/plain": [
       "\u001b[1m Total params: \u001b[0m\u001b[38;5;34m11,936\u001b[0m (46.62 KB)\n"
      ]
     },
     "metadata": {},
     "output_type": "display_data"
    },
    {
     "data": {
      "text/html": [
       "<pre style=\"white-space:pre;overflow-x:auto;line-height:normal;font-family:Menlo,'DejaVu Sans Mono',consolas,'Courier New',monospace\"><span style=\"font-weight: bold\"> Trainable params: </span><span style=\"color: #00af00; text-decoration-color: #00af00\">11,936</span> (46.62 KB)\n",
       "</pre>\n"
      ],
      "text/plain": [
       "\u001b[1m Trainable params: \u001b[0m\u001b[38;5;34m11,936\u001b[0m (46.62 KB)\n"
      ]
     },
     "metadata": {},
     "output_type": "display_data"
    },
    {
     "data": {
      "text/html": [
       "<pre style=\"white-space:pre;overflow-x:auto;line-height:normal;font-family:Menlo,'DejaVu Sans Mono',consolas,'Courier New',monospace\"><span style=\"font-weight: bold\"> Non-trainable params: </span><span style=\"color: #00af00; text-decoration-color: #00af00\">0</span> (0.00 B)\n",
       "</pre>\n"
      ],
      "text/plain": [
       "\u001b[1m Non-trainable params: \u001b[0m\u001b[38;5;34m0\u001b[0m (0.00 B)\n"
      ]
     },
     "metadata": {},
     "output_type": "display_data"
    }
   ],
   "source": [
    "# Ajout de la premiere couche\n",
    "model_dnn.add(Dense(10, input_shape=(5,), activation='relu'))\n",
    "\n",
    "# Ajout de la deuxieme couche intermediaire\n",
    "model_dnn.add(Dense(128, activation='relu'))\n",
    "model_dnn.add(Dropout(0.5))\n",
    "\n",
    "# Ajout de la troisieme couche intermediaire\n",
    "model_dnn.add(Dense(64, activation='relu'))\n",
    "model_dnn.add(Dropout(0.2))\n",
    "\n",
    "# Ajout de la qautriem couche intermediaire\n",
    "model_dnn.add(Dense(32, activation='relu'))\n",
    "\n",
    "# Ajout de la couche de Sortie\n",
    "model_dnn.add(Dense(4, activation='softmax'))\n",
    "\n",
    "# Compiler le model\n",
    "model_dnn.compile(optimizer=Adam(learning_rate=0.01), loss='categorical_crossentropy', metrics=['accuracy'])\n",
    "\n",
    "# Affichage de l'architecture du reseau de neurone\n",
    "model_dnn.summary()"
   ]
  },
  {
   "cell_type": "code",
   "execution_count": 30,
   "id": "b6357c4c-8475-47f7-9fe8-f96cfbd203b4",
   "metadata": {},
   "outputs": [
    {
     "name": "stdout",
     "output_type": "stream",
     "text": [
      "Epoch 1/150\n",
      "\u001b[1m42/42\u001b[0m \u001b[32m━━━━━━━━━━━━━━━━━━━━\u001b[0m\u001b[37m\u001b[0m \u001b[1m1s\u001b[0m 6ms/step - accuracy: 0.4638 - loss: 1.2410 - val_accuracy: 0.6404 - val_loss: 0.8832\n",
      "Epoch 2/150\n",
      "\u001b[1m42/42\u001b[0m \u001b[32m━━━━━━━━━━━━━━━━━━━━\u001b[0m\u001b[37m\u001b[0m \u001b[1m1s\u001b[0m 10ms/step - accuracy: 0.6933 - loss: 0.7876 - val_accuracy: 0.8225 - val_loss: 0.4582\n",
      "Epoch 3/150\n",
      "\u001b[1m42/42\u001b[0m \u001b[32m━━━━━━━━━━━━━━━━━━━━\u001b[0m\u001b[37m\u001b[0m \u001b[1m1s\u001b[0m 7ms/step - accuracy: 0.7985 - loss: 0.4801 - val_accuracy: 0.9101 - val_loss: 0.2809\n",
      "Epoch 4/150\n",
      "\u001b[1m42/42\u001b[0m \u001b[32m━━━━━━━━━━━━━━━━━━━━\u001b[0m\u001b[37m\u001b[0m \u001b[1m1s\u001b[0m 7ms/step - accuracy: 0.8334 - loss: 0.3766 - val_accuracy: 0.8562 - val_loss: 0.2495\n",
      "Epoch 5/150\n",
      "\u001b[1m42/42\u001b[0m \u001b[32m━━━━━━━━━━━━━━━━━━━━\u001b[0m\u001b[37m\u001b[0m \u001b[1m0s\u001b[0m 7ms/step - accuracy: 0.8499 - loss: 0.3119 - val_accuracy: 0.9079 - val_loss: 0.1978\n",
      "Epoch 6/150\n",
      "\u001b[1m42/42\u001b[0m \u001b[32m━━━━━━━━━━━━━━━━━━━━\u001b[0m\u001b[37m\u001b[0m \u001b[1m0s\u001b[0m 7ms/step - accuracy: 0.8969 - loss: 0.2373 - val_accuracy: 0.9865 - val_loss: 0.1140\n",
      "Epoch 7/150\n",
      "\u001b[1m42/42\u001b[0m \u001b[32m━━━━━━━━━━━━━━━━━━━━\u001b[0m\u001b[37m\u001b[0m \u001b[1m1s\u001b[0m 7ms/step - accuracy: 0.9266 - loss: 0.1871 - val_accuracy: 0.8674 - val_loss: 0.2625\n",
      "Epoch 8/150\n",
      "\u001b[1m42/42\u001b[0m \u001b[32m━━━━━━━━━━━━━━━━━━━━\u001b[0m\u001b[37m\u001b[0m \u001b[1m0s\u001b[0m 7ms/step - accuracy: 0.9151 - loss: 0.2187 - val_accuracy: 0.9191 - val_loss: 0.2669\n",
      "Epoch 9/150\n",
      "\u001b[1m42/42\u001b[0m \u001b[32m━━━━━━━━━━━━━━━━━━━━\u001b[0m\u001b[37m\u001b[0m \u001b[1m0s\u001b[0m 7ms/step - accuracy: 0.9363 - loss: 0.1583 - val_accuracy: 0.9753 - val_loss: 0.0880\n",
      "Epoch 10/150\n",
      "\u001b[1m42/42\u001b[0m \u001b[32m━━━━━━━━━━━━━━━━━━━━\u001b[0m\u001b[37m\u001b[0m \u001b[1m1s\u001b[0m 7ms/step - accuracy: 0.9333 - loss: 0.1559 - val_accuracy: 0.9124 - val_loss: 0.1481\n",
      "Epoch 11/150\n",
      "\u001b[1m42/42\u001b[0m \u001b[32m━━━━━━━━━━━━━━━━━━━━\u001b[0m\u001b[37m\u001b[0m \u001b[1m0s\u001b[0m 7ms/step - accuracy: 0.9434 - loss: 0.1363 - val_accuracy: 0.9888 - val_loss: 0.0885\n",
      "Epoch 12/150\n",
      "\u001b[1m42/42\u001b[0m \u001b[32m━━━━━━━━━━━━━━━━━━━━\u001b[0m\u001b[37m\u001b[0m \u001b[1m1s\u001b[0m 7ms/step - accuracy: 0.9355 - loss: 0.1494 - val_accuracy: 0.9843 - val_loss: 0.0895\n",
      "Epoch 13/150\n",
      "\u001b[1m42/42\u001b[0m \u001b[32m━━━━━━━━━━━━━━━━━━━━\u001b[0m\u001b[37m\u001b[0m \u001b[1m1s\u001b[0m 7ms/step - accuracy: 0.9062 - loss: 0.2025 - val_accuracy: 0.9775 - val_loss: 0.1087\n",
      "Epoch 14/150\n",
      "\u001b[1m42/42\u001b[0m \u001b[32m━━━━━━━━━━━━━━━━━━━━\u001b[0m\u001b[37m\u001b[0m \u001b[1m1s\u001b[0m 7ms/step - accuracy: 0.9651 - loss: 0.0953 - val_accuracy: 0.9888 - val_loss: 0.0490\n",
      "Epoch 15/150\n",
      "\u001b[1m42/42\u001b[0m \u001b[32m━━━━━━━━━━━━━━━━━━━━\u001b[0m\u001b[37m\u001b[0m \u001b[1m0s\u001b[0m 9ms/step - accuracy: 0.9718 - loss: 0.0721 - val_accuracy: 0.9573 - val_loss: 0.0826\n",
      "Epoch 16/150\n",
      "\u001b[1m42/42\u001b[0m \u001b[32m━━━━━━━━━━━━━━━━━━━━\u001b[0m\u001b[37m\u001b[0m \u001b[1m1s\u001b[0m 7ms/step - accuracy: 0.9522 - loss: 0.1095 - val_accuracy: 0.9371 - val_loss: 0.1367\n",
      "Epoch 17/150\n",
      "\u001b[1m42/42\u001b[0m \u001b[32m━━━━━━━━━━━━━━━━━━━━\u001b[0m\u001b[37m\u001b[0m \u001b[1m1s\u001b[0m 7ms/step - accuracy: 0.9282 - loss: 0.1701 - val_accuracy: 0.9888 - val_loss: 0.0556\n",
      "Epoch 18/150\n",
      "\u001b[1m42/42\u001b[0m \u001b[32m━━━━━━━━━━━━━━━━━━━━\u001b[0m\u001b[37m\u001b[0m \u001b[1m0s\u001b[0m 7ms/step - accuracy: 0.9722 - loss: 0.0875 - val_accuracy: 0.9865 - val_loss: 0.0818\n",
      "Epoch 19/150\n",
      "\u001b[1m42/42\u001b[0m \u001b[32m━━━━━━━━━━━━━━━━━━━━\u001b[0m\u001b[37m\u001b[0m \u001b[1m0s\u001b[0m 7ms/step - accuracy: 0.9576 - loss: 0.1033 - val_accuracy: 0.9596 - val_loss: 0.1006\n",
      "Epoch 20/150\n",
      "\u001b[1m42/42\u001b[0m \u001b[32m━━━━━━━━━━━━━━━━━━━━\u001b[0m\u001b[37m\u001b[0m \u001b[1m0s\u001b[0m 8ms/step - accuracy: 0.9746 - loss: 0.0878 - val_accuracy: 0.9888 - val_loss: 0.0578\n",
      "Epoch 21/150\n",
      "\u001b[1m42/42\u001b[0m \u001b[32m━━━━━━━━━━━━━━━━━━━━\u001b[0m\u001b[37m\u001b[0m \u001b[1m0s\u001b[0m 9ms/step - accuracy: 0.9892 - loss: 0.0435 - val_accuracy: 0.9888 - val_loss: 0.0565\n",
      "Epoch 22/150\n",
      "\u001b[1m42/42\u001b[0m \u001b[32m━━━━━━━━━━━━━━━━━━━━\u001b[0m\u001b[37m\u001b[0m \u001b[1m0s\u001b[0m 10ms/step - accuracy: 0.9743 - loss: 0.0735 - val_accuracy: 0.9124 - val_loss: 0.2371\n",
      "Epoch 23/150\n",
      "\u001b[1m42/42\u001b[0m \u001b[32m━━━━━━━━━━━━━━━━━━━━\u001b[0m\u001b[37m\u001b[0m \u001b[1m1s\u001b[0m 7ms/step - accuracy: 0.9406 - loss: 0.1505 - val_accuracy: 0.9888 - val_loss: 0.0486\n",
      "Epoch 24/150\n",
      "\u001b[1m42/42\u001b[0m \u001b[32m━━━━━━━━━━━━━━━━━━━━\u001b[0m\u001b[37m\u001b[0m \u001b[1m1s\u001b[0m 8ms/step - accuracy: 0.9839 - loss: 0.0534 - val_accuracy: 0.8337 - val_loss: 0.7430\n",
      "Epoch 25/150\n",
      "\u001b[1m42/42\u001b[0m \u001b[32m━━━━━━━━━━━━━━━━━━━━\u001b[0m\u001b[37m\u001b[0m \u001b[1m1s\u001b[0m 10ms/step - accuracy: 0.8633 - loss: 0.3929 - val_accuracy: 0.9236 - val_loss: 0.1738\n",
      "Epoch 26/150\n",
      "\u001b[1m42/42\u001b[0m \u001b[32m━━━━━━━━━━━━━━━━━━━━\u001b[0m\u001b[37m\u001b[0m \u001b[1m1s\u001b[0m 8ms/step - accuracy: 0.9504 - loss: 0.1298 - val_accuracy: 0.9753 - val_loss: 0.1201\n",
      "Epoch 27/150\n",
      "\u001b[1m42/42\u001b[0m \u001b[32m━━━━━━━━━━━━━━━━━━━━\u001b[0m\u001b[37m\u001b[0m \u001b[1m1s\u001b[0m 7ms/step - accuracy: 0.9873 - loss: 0.0538 - val_accuracy: 0.9865 - val_loss: 0.0639\n",
      "Epoch 28/150\n",
      "\u001b[1m42/42\u001b[0m \u001b[32m━━━━━━━━━━━━━━━━━━━━\u001b[0m\u001b[37m\u001b[0m \u001b[1m1s\u001b[0m 8ms/step - accuracy: 0.9616 - loss: 0.1167 - val_accuracy: 0.9888 - val_loss: 0.0705\n",
      "Epoch 29/150\n",
      "\u001b[1m42/42\u001b[0m \u001b[32m━━━━━━━━━━━━━━━━━━━━\u001b[0m\u001b[37m\u001b[0m \u001b[1m1s\u001b[0m 7ms/step - accuracy: 0.9706 - loss: 0.1320 - val_accuracy: 0.9888 - val_loss: 0.0478\n",
      "Epoch 30/150\n",
      "\u001b[1m42/42\u001b[0m \u001b[32m━━━━━━━━━━━━━━━━━━━━\u001b[0m\u001b[37m\u001b[0m \u001b[1m1s\u001b[0m 10ms/step - accuracy: 0.9576 - loss: 0.1239 - val_accuracy: 0.9888 - val_loss: 0.0639\n",
      "Epoch 31/150\n",
      "\u001b[1m42/42\u001b[0m \u001b[32m━━━━━━━━━━━━━━━━━━━━\u001b[0m\u001b[37m\u001b[0m \u001b[1m0s\u001b[0m 8ms/step - accuracy: 0.9640 - loss: 0.0777 - val_accuracy: 0.9865 - val_loss: 0.0396\n",
      "Epoch 32/150\n",
      "\u001b[1m42/42\u001b[0m \u001b[32m━━━━━━━━━━━━━━━━━━━━\u001b[0m\u001b[37m\u001b[0m \u001b[1m1s\u001b[0m 7ms/step - accuracy: 0.9691 - loss: 0.0882 - val_accuracy: 0.9888 - val_loss: 0.0397\n",
      "Epoch 33/150\n",
      "\u001b[1m42/42\u001b[0m \u001b[32m━━━━━━━━━━━━━━━━━━━━\u001b[0m\u001b[37m\u001b[0m \u001b[1m0s\u001b[0m 7ms/step - accuracy: 0.9845 - loss: 0.0337 - val_accuracy: 0.9888 - val_loss: 0.0276\n",
      "Epoch 34/150\n",
      "\u001b[1m42/42\u001b[0m \u001b[32m━━━━━━━━━━━━━━━━━━━━\u001b[0m\u001b[37m\u001b[0m \u001b[1m0s\u001b[0m 9ms/step - accuracy: 0.9830 - loss: 0.0401 - val_accuracy: 0.9888 - val_loss: 0.0407\n",
      "Epoch 35/150\n",
      "\u001b[1m42/42\u001b[0m \u001b[32m━━━━━━━━━━━━━━━━━━━━\u001b[0m\u001b[37m\u001b[0m \u001b[1m0s\u001b[0m 7ms/step - accuracy: 0.9637 - loss: 0.0690 - val_accuracy: 0.9888 - val_loss: 0.0386\n",
      "Epoch 36/150\n",
      "\u001b[1m42/42\u001b[0m \u001b[32m━━━━━━━━━━━━━━━━━━━━\u001b[0m\u001b[37m\u001b[0m \u001b[1m0s\u001b[0m 8ms/step - accuracy: 0.9829 - loss: 0.0426 - val_accuracy: 0.9888 - val_loss: 0.0308\n",
      "Epoch 37/150\n",
      "\u001b[1m42/42\u001b[0m \u001b[32m━━━━━━━━━━━━━━━━━━━━\u001b[0m\u001b[37m\u001b[0m \u001b[1m0s\u001b[0m 7ms/step - accuracy: 0.9809 - loss: 0.0488 - val_accuracy: 0.9730 - val_loss: 0.0693\n",
      "Epoch 38/150\n",
      "\u001b[1m42/42\u001b[0m \u001b[32m━━━━━━━━━━━━━━━━━━━━\u001b[0m\u001b[37m\u001b[0m \u001b[1m1s\u001b[0m 9ms/step - accuracy: 0.9853 - loss: 0.0481 - val_accuracy: 0.9888 - val_loss: 0.0349\n",
      "Epoch 39/150\n",
      "\u001b[1m42/42\u001b[0m \u001b[32m━━━━━━━━━━━━━━━━━━━━\u001b[0m\u001b[37m\u001b[0m \u001b[1m0s\u001b[0m 8ms/step - accuracy: 0.9853 - loss: 0.0359 - val_accuracy: 0.9888 - val_loss: 0.0380\n",
      "Epoch 40/150\n",
      "\u001b[1m42/42\u001b[0m \u001b[32m━━━━━━━━━━━━━━━━━━━━\u001b[0m\u001b[37m\u001b[0m \u001b[1m0s\u001b[0m 7ms/step - accuracy: 0.9956 - loss: 0.0208 - val_accuracy: 0.9888 - val_loss: 0.0333\n",
      "Epoch 41/150\n",
      "\u001b[1m42/42\u001b[0m \u001b[32m━━━━━━━━━━━━━━━━━━━━\u001b[0m\u001b[37m\u001b[0m \u001b[1m1s\u001b[0m 7ms/step - accuracy: 0.9883 - loss: 0.0353 - val_accuracy: 0.9124 - val_loss: 0.3165\n",
      "Epoch 42/150\n",
      "\u001b[1m42/42\u001b[0m \u001b[32m━━━━━━━━━━━━━━━━━━━━\u001b[0m\u001b[37m\u001b[0m \u001b[1m0s\u001b[0m 9ms/step - accuracy: 0.9161 - loss: 0.2496 - val_accuracy: 0.9888 - val_loss: 0.0374\n",
      "Epoch 43/150\n",
      "\u001b[1m42/42\u001b[0m \u001b[32m━━━━━━━━━━━━━━━━━━━━\u001b[0m\u001b[37m\u001b[0m \u001b[1m0s\u001b[0m 7ms/step - accuracy: 0.9851 - loss: 0.0398 - val_accuracy: 0.9888 - val_loss: 0.0331\n",
      "Epoch 44/150\n",
      "\u001b[1m42/42\u001b[0m \u001b[32m━━━━━━━━━━━━━━━━━━━━\u001b[0m\u001b[37m\u001b[0m \u001b[1m0s\u001b[0m 7ms/step - accuracy: 0.9841 - loss: 0.0520 - val_accuracy: 0.9888 - val_loss: 0.0253\n",
      "Epoch 45/150\n",
      "\u001b[1m42/42\u001b[0m \u001b[32m━━━━━━━━━━━━━━━━━━━━\u001b[0m\u001b[37m\u001b[0m \u001b[1m0s\u001b[0m 7ms/step - accuracy: 0.9488 - loss: 0.1310 - val_accuracy: 0.9888 - val_loss: 0.0631\n",
      "Epoch 46/150\n",
      "\u001b[1m42/42\u001b[0m \u001b[32m━━━━━━━━━━━━━━━━━━━━\u001b[0m\u001b[37m\u001b[0m \u001b[1m0s\u001b[0m 7ms/step - accuracy: 0.9653 - loss: 0.0794 - val_accuracy: 0.9888 - val_loss: 0.0288\n",
      "Epoch 47/150\n",
      "\u001b[1m42/42\u001b[0m \u001b[32m━━━━━━━━━━━━━━━━━━━━\u001b[0m\u001b[37m\u001b[0m \u001b[1m1s\u001b[0m 7ms/step - accuracy: 0.9887 - loss: 0.0443 - val_accuracy: 0.9438 - val_loss: 0.1530\n",
      "Epoch 48/150\n",
      "\u001b[1m42/42\u001b[0m \u001b[32m━━━━━━━━━━━━━━━━━━━━\u001b[0m\u001b[37m\u001b[0m \u001b[1m0s\u001b[0m 9ms/step - accuracy: 0.9543 - loss: 0.1392 - val_accuracy: 0.9888 - val_loss: 0.0529\n",
      "Epoch 49/150\n",
      "\u001b[1m42/42\u001b[0m \u001b[32m━━━━━━━━━━━━━━━━━━━━\u001b[0m\u001b[37m\u001b[0m \u001b[1m1s\u001b[0m 8ms/step - accuracy: 0.9905 - loss: 0.0389 - val_accuracy: 0.9888 - val_loss: 0.0312\n",
      "Epoch 50/150\n",
      "\u001b[1m42/42\u001b[0m \u001b[32m━━━━━━━━━━━━━━━━━━━━\u001b[0m\u001b[37m\u001b[0m \u001b[1m1s\u001b[0m 7ms/step - accuracy: 0.9911 - loss: 0.0253 - val_accuracy: 0.9888 - val_loss: 0.0369\n",
      "Epoch 51/150\n",
      "\u001b[1m42/42\u001b[0m \u001b[32m━━━━━━━━━━━━━━━━━━━━\u001b[0m\u001b[37m\u001b[0m \u001b[1m1s\u001b[0m 7ms/step - accuracy: 0.9271 - loss: 0.2297 - val_accuracy: 0.9730 - val_loss: 0.0896\n",
      "Epoch 52/150\n",
      "\u001b[1m42/42\u001b[0m \u001b[32m━━━━━━━━━━━━━━━━━━━━\u001b[0m\u001b[37m\u001b[0m \u001b[1m0s\u001b[0m 8ms/step - accuracy: 0.9760 - loss: 0.0640 - val_accuracy: 0.9888 - val_loss: 0.0389\n",
      "Epoch 53/150\n",
      "\u001b[1m42/42\u001b[0m \u001b[32m━━━━━━━━━━━━━━━━━━━━\u001b[0m\u001b[37m\u001b[0m \u001b[1m0s\u001b[0m 7ms/step - accuracy: 0.9841 - loss: 0.0473 - val_accuracy: 0.9775 - val_loss: 0.0600\n",
      "Epoch 54/150\n",
      "\u001b[1m42/42\u001b[0m \u001b[32m━━━━━━━━━━━━━━━━━━━━\u001b[0m\u001b[37m\u001b[0m \u001b[1m1s\u001b[0m 8ms/step - accuracy: 0.9576 - loss: 0.0988 - val_accuracy: 0.9820 - val_loss: 0.0525\n",
      "Epoch 55/150\n",
      "\u001b[1m42/42\u001b[0m \u001b[32m━━━━━━━━━━━━━━━━━━━━\u001b[0m\u001b[37m\u001b[0m \u001b[1m0s\u001b[0m 7ms/step - accuracy: 0.9626 - loss: 0.1386 - val_accuracy: 0.9730 - val_loss: 0.0986\n",
      "Epoch 56/150\n",
      "\u001b[1m42/42\u001b[0m \u001b[32m━━━━━━━━━━━━━━━━━━━━\u001b[0m\u001b[37m\u001b[0m \u001b[1m1s\u001b[0m 7ms/step - accuracy: 0.9676 - loss: 0.0896 - val_accuracy: 0.9888 - val_loss: 0.0244\n",
      "Epoch 57/150\n",
      "\u001b[1m42/42\u001b[0m \u001b[32m━━━━━━━━━━━━━━━━━━━━\u001b[0m\u001b[37m\u001b[0m \u001b[1m1s\u001b[0m 7ms/step - accuracy: 0.9914 - loss: 0.0281 - val_accuracy: 0.9888 - val_loss: 0.0265\n",
      "Epoch 58/150\n",
      "\u001b[1m42/42\u001b[0m \u001b[32m━━━━━━━━━━━━━━━━━━━━\u001b[0m\u001b[37m\u001b[0m \u001b[1m0s\u001b[0m 9ms/step - accuracy: 0.9902 - loss: 0.0321 - val_accuracy: 0.9213 - val_loss: 0.2161\n",
      "Epoch 59/150\n",
      "\u001b[1m42/42\u001b[0m \u001b[32m━━━━━━━━━━━━━━━━━━━━\u001b[0m\u001b[37m\u001b[0m \u001b[1m0s\u001b[0m 7ms/step - accuracy: 0.9503 - loss: 0.1288 - val_accuracy: 0.9888 - val_loss: 0.0555\n",
      "Epoch 60/150\n",
      "\u001b[1m42/42\u001b[0m \u001b[32m━━━━━━━━━━━━━━━━━━━━\u001b[0m\u001b[37m\u001b[0m \u001b[1m1s\u001b[0m 7ms/step - accuracy: 0.9710 - loss: 0.0627 - val_accuracy: 0.9888 - val_loss: 0.0393\n",
      "Epoch 61/150\n",
      "\u001b[1m42/42\u001b[0m \u001b[32m━━━━━━━━━━━━━━━━━━━━\u001b[0m\u001b[37m\u001b[0m \u001b[1m0s\u001b[0m 8ms/step - accuracy: 0.9869 - loss: 0.0310 - val_accuracy: 0.9888 - val_loss: 0.0268\n",
      "Epoch 62/150\n",
      "\u001b[1m42/42\u001b[0m \u001b[32m━━━━━━━━━━━━━━━━━━━━\u001b[0m\u001b[37m\u001b[0m \u001b[1m0s\u001b[0m 7ms/step - accuracy: 0.9687 - loss: 0.0753 - val_accuracy: 0.9888 - val_loss: 0.0356\n",
      "Epoch 63/150\n",
      "\u001b[1m42/42\u001b[0m \u001b[32m━━━━━━━━━━━━━━━━━━━━\u001b[0m\u001b[37m\u001b[0m \u001b[1m1s\u001b[0m 10ms/step - accuracy: 0.9696 - loss: 0.0816 - val_accuracy: 0.9865 - val_loss: 0.0553\n",
      "Epoch 64/150\n",
      "\u001b[1m42/42\u001b[0m \u001b[32m━━━━━━━━━━━━━━━━━━━━\u001b[0m\u001b[37m\u001b[0m \u001b[1m0s\u001b[0m 10ms/step - accuracy: 0.9673 - loss: 0.1369 - val_accuracy: 0.9865 - val_loss: 0.0400\n",
      "Epoch 65/150\n",
      "\u001b[1m42/42\u001b[0m \u001b[32m━━━━━━━━━━━━━━━━━━━━\u001b[0m\u001b[37m\u001b[0m \u001b[1m0s\u001b[0m 6ms/step - accuracy: 0.9661 - loss: 0.0967 - val_accuracy: 0.9393 - val_loss: 0.1294\n",
      "Epoch 66/150\n",
      "\u001b[1m42/42\u001b[0m \u001b[32m━━━━━━━━━━━━━━━━━━━━\u001b[0m\u001b[37m\u001b[0m \u001b[1m0s\u001b[0m 7ms/step - accuracy: 0.9708 - loss: 0.0737 - val_accuracy: 0.9730 - val_loss: 0.0569\n",
      "Epoch 67/150\n",
      "\u001b[1m42/42\u001b[0m \u001b[32m━━━━━━━━━━━━━━━━━━━━\u001b[0m\u001b[37m\u001b[0m \u001b[1m0s\u001b[0m 7ms/step - accuracy: 0.9757 - loss: 0.0520 - val_accuracy: 0.9888 - val_loss: 0.0466\n",
      "Epoch 68/150\n",
      "\u001b[1m42/42\u001b[0m \u001b[32m━━━━━━━━━━━━━━━━━━━━\u001b[0m\u001b[37m\u001b[0m \u001b[1m0s\u001b[0m 7ms/step - accuracy: 0.9934 - loss: 0.0254 - val_accuracy: 0.9888 - val_loss: 0.0564\n",
      "Epoch 69/150\n",
      "\u001b[1m42/42\u001b[0m \u001b[32m━━━━━━━━━━━━━━━━━━━━\u001b[0m\u001b[37m\u001b[0m \u001b[1m0s\u001b[0m 8ms/step - accuracy: 0.9928 - loss: 0.0240 - val_accuracy: 0.9888 - val_loss: 0.0491\n",
      "Epoch 70/150\n",
      "\u001b[1m42/42\u001b[0m \u001b[32m━━━━━━━━━━━━━━━━━━━━\u001b[0m\u001b[37m\u001b[0m \u001b[1m0s\u001b[0m 9ms/step - accuracy: 0.9936 - loss: 0.0229 - val_accuracy: 0.9888 - val_loss: 0.0390\n",
      "Epoch 71/150\n",
      "\u001b[1m42/42\u001b[0m \u001b[32m━━━━━━━━━━━━━━━━━━━━\u001b[0m\u001b[37m\u001b[0m \u001b[1m0s\u001b[0m 7ms/step - accuracy: 0.9960 - loss: 0.0128 - val_accuracy: 0.9888 - val_loss: 0.0387\n",
      "Epoch 72/150\n",
      "\u001b[1m42/42\u001b[0m \u001b[32m━━━━━━━━━━━━━━━━━━━━\u001b[0m\u001b[37m\u001b[0m \u001b[1m0s\u001b[0m 7ms/step - accuracy: 0.9920 - loss: 0.0287 - val_accuracy: 0.9888 - val_loss: 0.0535\n",
      "Epoch 73/150\n",
      "\u001b[1m42/42\u001b[0m \u001b[32m━━━━━━━━━━━━━━━━━━━━\u001b[0m\u001b[37m\u001b[0m \u001b[1m1s\u001b[0m 7ms/step - accuracy: 0.8995 - loss: 0.2652 - val_accuracy: 0.9865 - val_loss: 0.0966\n",
      "Epoch 74/150\n",
      "\u001b[1m42/42\u001b[0m \u001b[32m━━━━━━━━━━━━━━━━━━━━\u001b[0m\u001b[37m\u001b[0m \u001b[1m0s\u001b[0m 7ms/step - accuracy: 0.9778 - loss: 0.0914 - val_accuracy: 0.9888 - val_loss: 0.0312\n",
      "Epoch 75/150\n",
      "\u001b[1m42/42\u001b[0m \u001b[32m━━━━━━━━━━━━━━━━━━━━\u001b[0m\u001b[37m\u001b[0m \u001b[1m0s\u001b[0m 9ms/step - accuracy: 0.9945 - loss: 0.0184 - val_accuracy: 0.9888 - val_loss: 0.0407\n",
      "Epoch 76/150\n",
      "\u001b[1m42/42\u001b[0m \u001b[32m━━━━━━━━━━━━━━━━━━━━\u001b[0m\u001b[37m\u001b[0m \u001b[1m0s\u001b[0m 8ms/step - accuracy: 0.9888 - loss: 0.0246 - val_accuracy: 0.9888 - val_loss: 0.0367\n",
      "Epoch 77/150\n",
      "\u001b[1m42/42\u001b[0m \u001b[32m━━━━━━━━━━━━━━━━━━━━\u001b[0m\u001b[37m\u001b[0m \u001b[1m1s\u001b[0m 7ms/step - accuracy: 0.9786 - loss: 0.0626 - val_accuracy: 0.9124 - val_loss: 0.1637\n",
      "Epoch 78/150\n",
      "\u001b[1m42/42\u001b[0m \u001b[32m━━━━━━━━━━━━━━━━━━━━\u001b[0m\u001b[37m\u001b[0m \u001b[1m0s\u001b[0m 8ms/step - accuracy: 0.9588 - loss: 0.0961 - val_accuracy: 0.9888 - val_loss: 0.0422\n",
      "Epoch 79/150\n",
      "\u001b[1m42/42\u001b[0m \u001b[32m━━━━━━━━━━━━━━━━━━━━\u001b[0m\u001b[37m\u001b[0m \u001b[1m1s\u001b[0m 7ms/step - accuracy: 0.9908 - loss: 0.0260 - val_accuracy: 0.8944 - val_loss: 0.3480\n",
      "Epoch 80/150\n",
      "\u001b[1m42/42\u001b[0m \u001b[32m━━━━━━━━━━━━━━━━━━━━\u001b[0m\u001b[37m\u001b[0m \u001b[1m1s\u001b[0m 9ms/step - accuracy: 0.9568 - loss: 0.1294 - val_accuracy: 0.9888 - val_loss: 0.0542\n",
      "Epoch 81/150\n",
      "\u001b[1m42/42\u001b[0m \u001b[32m━━━━━━━━━━━━━━━━━━━━\u001b[0m\u001b[37m\u001b[0m \u001b[1m0s\u001b[0m 9ms/step - accuracy: 0.9817 - loss: 0.0499 - val_accuracy: 0.9888 - val_loss: 0.0426\n",
      "Epoch 82/150\n",
      "\u001b[1m42/42\u001b[0m \u001b[32m━━━━━━━━━━━━━━━━━━━━\u001b[0m\u001b[37m\u001b[0m \u001b[1m0s\u001b[0m 10ms/step - accuracy: 0.9460 - loss: 0.1626 - val_accuracy: 0.9843 - val_loss: 0.0671\n",
      "Epoch 83/150\n",
      "\u001b[1m42/42\u001b[0m \u001b[32m━━━━━━━━━━━━━━━━━━━━\u001b[0m\u001b[37m\u001b[0m \u001b[1m0s\u001b[0m 8ms/step - accuracy: 0.9775 - loss: 0.0669 - val_accuracy: 0.9888 - val_loss: 0.0441\n",
      "Epoch 84/150\n",
      "\u001b[1m42/42\u001b[0m \u001b[32m━━━━━━━━━━━━━━━━━━━━\u001b[0m\u001b[37m\u001b[0m \u001b[1m0s\u001b[0m 6ms/step - accuracy: 0.9970 - loss: 0.0144 - val_accuracy: 0.9888 - val_loss: 0.0465\n",
      "Epoch 85/150\n",
      "\u001b[1m42/42\u001b[0m \u001b[32m━━━━━━━━━━━━━━━━━━━━\u001b[0m\u001b[37m\u001b[0m \u001b[1m0s\u001b[0m 9ms/step - accuracy: 0.9903 - loss: 0.0401 - val_accuracy: 0.9888 - val_loss: 0.0533\n",
      "Epoch 86/150\n",
      "\u001b[1m42/42\u001b[0m \u001b[32m━━━━━━━━━━━━━━━━━━━━\u001b[0m\u001b[37m\u001b[0m \u001b[1m0s\u001b[0m 7ms/step - accuracy: 0.9908 - loss: 0.0208 - val_accuracy: 0.9888 - val_loss: 0.0595\n",
      "Epoch 87/150\n",
      "\u001b[1m42/42\u001b[0m \u001b[32m━━━━━━━━━━━━━━━━━━━━\u001b[0m\u001b[37m\u001b[0m \u001b[1m0s\u001b[0m 8ms/step - accuracy: 0.9905 - loss: 0.0330 - val_accuracy: 0.9169 - val_loss: 0.2151\n",
      "Epoch 88/150\n",
      "\u001b[1m42/42\u001b[0m \u001b[32m━━━━━━━━━━━━━━━━━━━━\u001b[0m\u001b[37m\u001b[0m \u001b[1m0s\u001b[0m 7ms/step - accuracy: 0.9380 - loss: 0.1478 - val_accuracy: 0.9888 - val_loss: 0.0429\n",
      "Epoch 89/150\n",
      "\u001b[1m42/42\u001b[0m \u001b[32m━━━━━━━━━━━━━━━━━━━━\u001b[0m\u001b[37m\u001b[0m \u001b[1m1s\u001b[0m 7ms/step - accuracy: 0.9878 - loss: 0.0924 - val_accuracy: 0.9618 - val_loss: 0.1089\n",
      "Epoch 90/150\n",
      "\u001b[1m42/42\u001b[0m \u001b[32m━━━━━━━━━━━━━━━━━━━━\u001b[0m\u001b[37m\u001b[0m \u001b[1m0s\u001b[0m 9ms/step - accuracy: 0.9707 - loss: 0.0741 - val_accuracy: 0.8809 - val_loss: 0.1870\n",
      "Epoch 91/150\n",
      "\u001b[1m42/42\u001b[0m \u001b[32m━━━━━━━━━━━━━━━━━━━━\u001b[0m\u001b[37m\u001b[0m \u001b[1m1s\u001b[0m 7ms/step - accuracy: 0.9493 - loss: 0.1295 - val_accuracy: 0.9888 - val_loss: 0.0335\n",
      "Epoch 92/150\n",
      "\u001b[1m42/42\u001b[0m \u001b[32m━━━━━━━━━━━━━━━━━━━━\u001b[0m\u001b[37m\u001b[0m \u001b[1m1s\u001b[0m 7ms/step - accuracy: 0.9876 - loss: 0.0311 - val_accuracy: 0.9888 - val_loss: 0.0652\n",
      "Epoch 93/150\n",
      "\u001b[1m42/42\u001b[0m \u001b[32m━━━━━━━━━━━━━━━━━━━━\u001b[0m\u001b[37m\u001b[0m \u001b[1m0s\u001b[0m 7ms/step - accuracy: 0.9791 - loss: 0.0603 - val_accuracy: 0.9888 - val_loss: 0.0421\n",
      "Epoch 94/150\n",
      "\u001b[1m42/42\u001b[0m \u001b[32m━━━━━━━━━━━━━━━━━━━━\u001b[0m\u001b[37m\u001b[0m \u001b[1m0s\u001b[0m 7ms/step - accuracy: 0.9738 - loss: 0.0636 - val_accuracy: 0.9888 - val_loss: 0.0443\n",
      "Epoch 95/150\n",
      "\u001b[1m42/42\u001b[0m \u001b[32m━━━━━━━━━━━━━━━━━━━━\u001b[0m\u001b[37m\u001b[0m \u001b[1m0s\u001b[0m 7ms/step - accuracy: 0.9619 - loss: 0.0938 - val_accuracy: 0.9888 - val_loss: 0.0294\n",
      "Epoch 96/150\n",
      "\u001b[1m42/42\u001b[0m \u001b[32m━━━━━━━━━━━━━━━━━━━━\u001b[0m\u001b[37m\u001b[0m \u001b[1m1s\u001b[0m 10ms/step - accuracy: 0.9519 - loss: 0.1196 - val_accuracy: 0.9888 - val_loss: 0.0953\n",
      "Epoch 97/150\n",
      "\u001b[1m42/42\u001b[0m \u001b[32m━━━━━━━━━━━━━━━━━━━━\u001b[0m\u001b[37m\u001b[0m \u001b[1m0s\u001b[0m 9ms/step - accuracy: 0.9551 - loss: 0.2492 - val_accuracy: 0.9888 - val_loss: 0.0313\n",
      "Epoch 98/150\n",
      "\u001b[1m42/42\u001b[0m \u001b[32m━━━━━━━━━━━━━━━━━━━━\u001b[0m\u001b[37m\u001b[0m \u001b[1m0s\u001b[0m 7ms/step - accuracy: 0.9845 - loss: 0.0415 - val_accuracy: 0.9663 - val_loss: 0.0669\n",
      "Epoch 99/150\n",
      "\u001b[1m42/42\u001b[0m \u001b[32m━━━━━━━━━━━━━━━━━━━━\u001b[0m\u001b[37m\u001b[0m \u001b[1m0s\u001b[0m 7ms/step - accuracy: 0.9481 - loss: 0.1667 - val_accuracy: 0.9888 - val_loss: 0.0508\n",
      "Epoch 100/150\n",
      "\u001b[1m42/42\u001b[0m \u001b[32m━━━━━━━━━━━━━━━━━━━━\u001b[0m\u001b[37m\u001b[0m \u001b[1m0s\u001b[0m 8ms/step - accuracy: 0.9716 - loss: 0.0597 - val_accuracy: 0.9888 - val_loss: 0.0280\n",
      "Epoch 101/150\n",
      "\u001b[1m42/42\u001b[0m \u001b[32m━━━━━━━━━━━━━━━━━━━━\u001b[0m\u001b[37m\u001b[0m \u001b[1m0s\u001b[0m 7ms/step - accuracy: 0.9890 - loss: 0.0293 - val_accuracy: 0.9888 - val_loss: 0.0264\n",
      "Epoch 102/150\n",
      "\u001b[1m42/42\u001b[0m \u001b[32m━━━━━━━━━━━━━━━━━━━━\u001b[0m\u001b[37m\u001b[0m \u001b[1m0s\u001b[0m 7ms/step - accuracy: 0.9607 - loss: 0.1281 - val_accuracy: 0.9888 - val_loss: 0.0502\n",
      "Epoch 103/150\n",
      "\u001b[1m42/42\u001b[0m \u001b[32m━━━━━━━━━━━━━━━━━━━━\u001b[0m\u001b[37m\u001b[0m \u001b[1m0s\u001b[0m 7ms/step - accuracy: 0.9808 - loss: 0.0641 - val_accuracy: 0.9888 - val_loss: 0.0259\n",
      "Epoch 104/150\n",
      "\u001b[1m42/42\u001b[0m \u001b[32m━━━━━━━━━━━━━━━━━━━━\u001b[0m\u001b[37m\u001b[0m \u001b[1m0s\u001b[0m 6ms/step - accuracy: 0.9768 - loss: 0.0533 - val_accuracy: 0.9888 - val_loss: 0.0294\n",
      "Epoch 105/150\n",
      "\u001b[1m42/42\u001b[0m \u001b[32m━━━━━━━━━━━━━━━━━━━━\u001b[0m\u001b[37m\u001b[0m \u001b[1m0s\u001b[0m 9ms/step - accuracy: 0.9787 - loss: 0.0607 - val_accuracy: 0.9888 - val_loss: 0.0314\n",
      "Epoch 106/150\n",
      "\u001b[1m42/42\u001b[0m \u001b[32m━━━━━━━━━━━━━━━━━━━━\u001b[0m\u001b[37m\u001b[0m \u001b[1m0s\u001b[0m 7ms/step - accuracy: 0.9833 - loss: 0.0383 - val_accuracy: 0.9888 - val_loss: 0.0283\n",
      "Epoch 107/150\n",
      "\u001b[1m42/42\u001b[0m \u001b[32m━━━━━━━━━━━━━━━━━━━━\u001b[0m\u001b[37m\u001b[0m \u001b[1m0s\u001b[0m 7ms/step - accuracy: 0.9870 - loss: 0.0334 - val_accuracy: 0.9888 - val_loss: 0.0290\n",
      "Epoch 108/150\n",
      "\u001b[1m42/42\u001b[0m \u001b[32m━━━━━━━━━━━━━━━━━━━━\u001b[0m\u001b[37m\u001b[0m \u001b[1m1s\u001b[0m 7ms/step - accuracy: 0.9861 - loss: 0.0316 - val_accuracy: 0.9888 - val_loss: 0.0349\n",
      "Epoch 109/150\n",
      "\u001b[1m42/42\u001b[0m \u001b[32m━━━━━━━━━━━━━━━━━━━━\u001b[0m\u001b[37m\u001b[0m \u001b[1m0s\u001b[0m 7ms/step - accuracy: 0.9801 - loss: 0.0436 - val_accuracy: 0.9888 - val_loss: 0.0291\n",
      "Epoch 110/150\n",
      "\u001b[1m42/42\u001b[0m \u001b[32m━━━━━━━━━━━━━━━━━━━━\u001b[0m\u001b[37m\u001b[0m \u001b[1m0s\u001b[0m 7ms/step - accuracy: 0.9769 - loss: 0.0616 - val_accuracy: 0.9213 - val_loss: 0.1515\n",
      "Epoch 111/150\n",
      "\u001b[1m42/42\u001b[0m \u001b[32m━━━━━━━━━━━━━━━━━━━━\u001b[0m\u001b[37m\u001b[0m \u001b[1m0s\u001b[0m 7ms/step - accuracy: 0.9655 - loss: 0.0786 - val_accuracy: 0.9888 - val_loss: 0.0299\n",
      "Epoch 112/150\n",
      "\u001b[1m42/42\u001b[0m \u001b[32m━━━━━━━━━━━━━━━━━━━━\u001b[0m\u001b[37m\u001b[0m \u001b[1m1s\u001b[0m 7ms/step - accuracy: 0.9823 - loss: 0.0374 - val_accuracy: 0.9888 - val_loss: 0.0291\n",
      "Epoch 113/150\n",
      "\u001b[1m42/42\u001b[0m \u001b[32m━━━━━━━━━━━━━━━━━━━━\u001b[0m\u001b[37m\u001b[0m \u001b[1m0s\u001b[0m 7ms/step - accuracy: 0.9819 - loss: 0.1161 - val_accuracy: 0.9888 - val_loss: 0.0322\n",
      "Epoch 114/150\n",
      "\u001b[1m42/42\u001b[0m \u001b[32m━━━━━━━━━━━━━━━━━━━━\u001b[0m\u001b[37m\u001b[0m \u001b[1m0s\u001b[0m 8ms/step - accuracy: 0.9750 - loss: 0.0410 - val_accuracy: 0.9888 - val_loss: 0.0299\n",
      "Epoch 115/150\n",
      "\u001b[1m42/42\u001b[0m \u001b[32m━━━━━━━━━━━━━━━━━━━━\u001b[0m\u001b[37m\u001b[0m \u001b[1m1s\u001b[0m 7ms/step - accuracy: 0.9880 - loss: 0.0274 - val_accuracy: 0.9888 - val_loss: 0.0311\n",
      "Epoch 116/150\n",
      "\u001b[1m42/42\u001b[0m \u001b[32m━━━━━━━━━━━━━━━━━━━━\u001b[0m\u001b[37m\u001b[0m \u001b[1m0s\u001b[0m 7ms/step - accuracy: 0.9915 - loss: 0.0301 - val_accuracy: 0.9888 - val_loss: 0.0361\n",
      "Epoch 117/150\n",
      "\u001b[1m42/42\u001b[0m \u001b[32m━━━━━━━━━━━━━━━━━━━━\u001b[0m\u001b[37m\u001b[0m \u001b[1m1s\u001b[0m 7ms/step - accuracy: 0.9636 - loss: 0.0830 - val_accuracy: 0.9888 - val_loss: 0.0411\n",
      "Epoch 118/150\n",
      "\u001b[1m42/42\u001b[0m \u001b[32m━━━━━━━━━━━━━━━━━━━━\u001b[0m\u001b[37m\u001b[0m \u001b[1m1s\u001b[0m 7ms/step - accuracy: 0.9831 - loss: 0.0503 - val_accuracy: 0.9888 - val_loss: 0.0357\n",
      "Epoch 119/150\n",
      "\u001b[1m42/42\u001b[0m \u001b[32m━━━━━━━━━━━━━━━━━━━━\u001b[0m\u001b[37m\u001b[0m \u001b[1m1s\u001b[0m 7ms/step - accuracy: 0.9922 - loss: 0.0255 - val_accuracy: 0.9888 - val_loss: 0.0346\n",
      "Epoch 120/150\n",
      "\u001b[1m42/42\u001b[0m \u001b[32m━━━━━━━━━━━━━━━━━━━━\u001b[0m\u001b[37m\u001b[0m \u001b[1m0s\u001b[0m 9ms/step - accuracy: 0.9656 - loss: 0.0980 - val_accuracy: 0.9888 - val_loss: 0.0490\n",
      "Epoch 121/150\n",
      "\u001b[1m42/42\u001b[0m \u001b[32m━━━━━━━━━━━━━━━━━━━━\u001b[0m\u001b[37m\u001b[0m \u001b[1m0s\u001b[0m 7ms/step - accuracy: 0.9645 - loss: 0.1187 - val_accuracy: 0.9865 - val_loss: 0.0410\n",
      "Epoch 122/150\n",
      "\u001b[1m42/42\u001b[0m \u001b[32m━━━━━━━━━━━━━━━━━━━━\u001b[0m\u001b[37m\u001b[0m \u001b[1m0s\u001b[0m 7ms/step - accuracy: 0.9745 - loss: 0.0454 - val_accuracy: 0.9888 - val_loss: 0.0347\n",
      "Epoch 123/150\n",
      "\u001b[1m42/42\u001b[0m \u001b[32m━━━━━━━━━━━━━━━━━━━━\u001b[0m\u001b[37m\u001b[0m \u001b[1m1s\u001b[0m 7ms/step - accuracy: 0.9820 - loss: 0.0371 - val_accuracy: 0.9888 - val_loss: 0.0382\n",
      "Epoch 124/150\n",
      "\u001b[1m42/42\u001b[0m \u001b[32m━━━━━━━━━━━━━━━━━━━━\u001b[0m\u001b[37m\u001b[0m \u001b[1m0s\u001b[0m 7ms/step - accuracy: 0.9870 - loss: 0.0332 - val_accuracy: 0.9506 - val_loss: 0.1318\n",
      "Epoch 125/150\n",
      "\u001b[1m42/42\u001b[0m \u001b[32m━━━━━━━━━━━━━━━━━━━━\u001b[0m\u001b[37m\u001b[0m \u001b[1m0s\u001b[0m 7ms/step - accuracy: 0.9594 - loss: 0.0794 - val_accuracy: 0.9888 - val_loss: 0.0384\n",
      "Epoch 126/150\n",
      "\u001b[1m42/42\u001b[0m \u001b[32m━━━━━━━━━━━━━━━━━━━━\u001b[0m\u001b[37m\u001b[0m \u001b[1m0s\u001b[0m 7ms/step - accuracy: 0.9865 - loss: 0.0373 - val_accuracy: 0.9888 - val_loss: 0.0351\n",
      "Epoch 127/150\n",
      "\u001b[1m42/42\u001b[0m \u001b[32m━━━━━━━━━━━━━━━━━━━━\u001b[0m\u001b[37m\u001b[0m \u001b[1m0s\u001b[0m 6ms/step - accuracy: 0.9901 - loss: 0.0272 - val_accuracy: 0.9888 - val_loss: 0.0419\n",
      "Epoch 128/150\n",
      "\u001b[1m42/42\u001b[0m \u001b[32m━━━━━━━━━━━━━━━━━━━━\u001b[0m\u001b[37m\u001b[0m \u001b[1m0s\u001b[0m 7ms/step - accuracy: 0.9977 - loss: 0.0108 - val_accuracy: 0.9888 - val_loss: 0.0307\n",
      "Epoch 129/150\n",
      "\u001b[1m42/42\u001b[0m \u001b[32m━━━━━━━━━━━━━━━━━━━━\u001b[0m\u001b[37m\u001b[0m \u001b[1m1s\u001b[0m 9ms/step - accuracy: 0.9758 - loss: 0.0767 - val_accuracy: 0.9685 - val_loss: 0.0890\n",
      "Epoch 130/150\n",
      "\u001b[1m42/42\u001b[0m \u001b[32m━━━━━━━━━━━━━━━━━━━━\u001b[0m\u001b[37m\u001b[0m \u001b[1m0s\u001b[0m 9ms/step - accuracy: 0.9701 - loss: 0.0736 - val_accuracy: 0.9888 - val_loss: 0.0226\n",
      "Epoch 131/150\n",
      "\u001b[1m42/42\u001b[0m \u001b[32m━━━━━━━━━━━━━━━━━━━━\u001b[0m\u001b[37m\u001b[0m \u001b[1m0s\u001b[0m 10ms/step - accuracy: 0.9865 - loss: 0.0417 - val_accuracy: 0.9888 - val_loss: 0.0209\n",
      "Epoch 132/150\n",
      "\u001b[1m42/42\u001b[0m \u001b[32m━━━━━━━━━━━━━━━━━━━━\u001b[0m\u001b[37m\u001b[0m \u001b[1m0s\u001b[0m 7ms/step - accuracy: 0.9713 - loss: 0.0648 - val_accuracy: 0.9888 - val_loss: 0.0247\n",
      "Epoch 133/150\n",
      "\u001b[1m42/42\u001b[0m \u001b[32m━━━━━━━━━━━━━━━━━━━━\u001b[0m\u001b[37m\u001b[0m \u001b[1m0s\u001b[0m 8ms/step - accuracy: 0.9927 - loss: 0.0189 - val_accuracy: 0.9888 - val_loss: 0.0240\n",
      "Epoch 134/150\n",
      "\u001b[1m42/42\u001b[0m \u001b[32m━━━━━━━━━━━━━━━━━━━━\u001b[0m\u001b[37m\u001b[0m \u001b[1m1s\u001b[0m 10ms/step - accuracy: 0.9897 - loss: 0.0323 - val_accuracy: 0.9888 - val_loss: 0.0207\n",
      "Epoch 135/150\n",
      "\u001b[1m42/42\u001b[0m \u001b[32m━━━━━━━━━━━━━━━━━━━━\u001b[0m\u001b[37m\u001b[0m \u001b[1m0s\u001b[0m 9ms/step - accuracy: 0.9838 - loss: 0.0509 - val_accuracy: 0.9753 - val_loss: 0.0573\n",
      "Epoch 136/150\n",
      "\u001b[1m42/42\u001b[0m \u001b[32m━━━━━━━━━━━━━━━━━━━━\u001b[0m\u001b[37m\u001b[0m \u001b[1m1s\u001b[0m 7ms/step - accuracy: 0.9328 - loss: 0.1597 - val_accuracy: 0.9888 - val_loss: 0.0361\n",
      "Epoch 137/150\n",
      "\u001b[1m42/42\u001b[0m \u001b[32m━━━━━━━━━━━━━━━━━━━━\u001b[0m\u001b[37m\u001b[0m \u001b[1m0s\u001b[0m 7ms/step - accuracy: 0.9636 - loss: 0.0828 - val_accuracy: 0.9124 - val_loss: 0.1152\n",
      "Epoch 138/150\n",
      "\u001b[1m42/42\u001b[0m \u001b[32m━━━━━━━━━━━━━━━━━━━━\u001b[0m\u001b[37m\u001b[0m \u001b[1m1s\u001b[0m 6ms/step - accuracy: 0.9830 - loss: 0.0495 - val_accuracy: 0.9888 - val_loss: 0.0269\n",
      "Epoch 139/150\n",
      "\u001b[1m42/42\u001b[0m \u001b[32m━━━━━━━━━━━━━━━━━━━━\u001b[0m\u001b[37m\u001b[0m \u001b[1m0s\u001b[0m 7ms/step - accuracy: 0.9880 - loss: 0.0258 - val_accuracy: 0.9888 - val_loss: 0.0262\n",
      "Epoch 140/150\n",
      "\u001b[1m42/42\u001b[0m \u001b[32m━━━━━━━━━━━━━━━━━━━━\u001b[0m\u001b[37m\u001b[0m \u001b[1m0s\u001b[0m 7ms/step - accuracy: 0.9932 - loss: 0.0153 - val_accuracy: 0.9888 - val_loss: 0.0265\n",
      "Epoch 141/150\n",
      "\u001b[1m42/42\u001b[0m \u001b[32m━━━━━━━━━━━━━━━━━━━━\u001b[0m\u001b[37m\u001b[0m \u001b[1m0s\u001b[0m 7ms/step - accuracy: 0.9901 - loss: 0.0199 - val_accuracy: 0.9888 - val_loss: 0.0269\n",
      "Epoch 142/150\n",
      "\u001b[1m42/42\u001b[0m \u001b[32m━━━━━━━━━━━━━━━━━━━━\u001b[0m\u001b[37m\u001b[0m \u001b[1m0s\u001b[0m 8ms/step - accuracy: 0.9930 - loss: 0.0159 - val_accuracy: 0.9888 - val_loss: 0.0270\n",
      "Epoch 143/150\n",
      "\u001b[1m42/42\u001b[0m \u001b[32m━━━━━━━━━━━━━━━━━━━━\u001b[0m\u001b[37m\u001b[0m \u001b[1m0s\u001b[0m 10ms/step - accuracy: 0.9924 - loss: 0.0191 - val_accuracy: 0.9888 - val_loss: 0.0276\n",
      "Epoch 144/150\n",
      "\u001b[1m42/42\u001b[0m \u001b[32m━━━━━━━━━━━━━━━━━━━━\u001b[0m\u001b[37m\u001b[0m \u001b[1m0s\u001b[0m 7ms/step - accuracy: 0.9692 - loss: 0.1032 - val_accuracy: 0.9843 - val_loss: 0.0481\n",
      "Epoch 145/150\n",
      "\u001b[1m42/42\u001b[0m \u001b[32m━━━━━━━━━━━━━━━━━━━━\u001b[0m\u001b[37m\u001b[0m \u001b[1m0s\u001b[0m 8ms/step - accuracy: 0.9829 - loss: 0.0511 - val_accuracy: 0.9888 - val_loss: 0.0348\n",
      "Epoch 146/150\n",
      "\u001b[1m42/42\u001b[0m \u001b[32m━━━━━━━━━━━━━━━━━━━━\u001b[0m\u001b[37m\u001b[0m \u001b[1m0s\u001b[0m 7ms/step - accuracy: 0.9867 - loss: 0.0298 - val_accuracy: 0.9888 - val_loss: 0.0338\n",
      "Epoch 147/150\n",
      "\u001b[1m42/42\u001b[0m \u001b[32m━━━━━━━━━━━━━━━━━━━━\u001b[0m\u001b[37m\u001b[0m \u001b[1m0s\u001b[0m 7ms/step - accuracy: 0.9877 - loss: 0.0276 - val_accuracy: 0.9888 - val_loss: 0.0297\n",
      "Epoch 148/150\n",
      "\u001b[1m42/42\u001b[0m \u001b[32m━━━━━━━━━━━━━━━━━━━━\u001b[0m\u001b[37m\u001b[0m \u001b[1m0s\u001b[0m 7ms/step - accuracy: 0.9814 - loss: 0.0373 - val_accuracy: 0.9888 - val_loss: 0.0316\n",
      "Epoch 149/150\n",
      "\u001b[1m42/42\u001b[0m \u001b[32m━━━━━━━━━━━━━━━━━━━━\u001b[0m\u001b[37m\u001b[0m \u001b[1m0s\u001b[0m 7ms/step - accuracy: 0.9924 - loss: 0.0201 - val_accuracy: 0.9888 - val_loss: 0.0312\n",
      "Epoch 150/150\n",
      "\u001b[1m42/42\u001b[0m \u001b[32m━━━━━━━━━━━━━━━━━━━━\u001b[0m\u001b[37m\u001b[0m \u001b[1m1s\u001b[0m 7ms/step - accuracy: 0.9900 - loss: 0.0196 - val_accuracy: 0.9888 - val_loss: 0.0319\n"
     ]
    }
   ],
   "source": [
    "history = model_dnn.fit(X_train, y_train, epochs=150, batch_size=32, validation_data=(X_test, y_test))"
   ]
  },
  {
   "cell_type": "markdown",
   "id": "0e7eb939-af88-454f-960a-211e014b69cb",
   "metadata": {},
   "source": [
    "# 6. Utilisation de 5 algorithmes de machine learning"
   ]
  },
  {
   "cell_type": "code",
   "execution_count": 31,
   "id": "f912cb96-5bd7-4228-b233-8b7a52540b42",
   "metadata": {},
   "outputs": [],
   "source": [
    "X_train_, X_test_, y_train_, y_test_ = train_test_split(X_normal, y, test_size=0.25, random_state=27)"
   ]
  },
  {
   "cell_type": "code",
   "execution_count": 32,
   "id": "44626723-9749-4b3e-aa2e-f6e0ca88fee8",
   "metadata": {},
   "outputs": [],
   "source": [
    "model_forest = RandomForestClassifier()"
   ]
  },
  {
   "cell_type": "code",
   "execution_count": 33,
   "id": "594d6677-b1e2-4c85-920c-b0f380c83ec0",
   "metadata": {},
   "outputs": [
    {
     "name": "stdout",
     "output_type": "stream",
     "text": [
      "0.9977528089887641\n"
     ]
    }
   ],
   "source": [
    "model_forest.fit(X_train_, y_train_)\n",
    "y_pred = model_forest.predict(X_test_)\n",
    "print(accuracy_score(y_test_, y_pred))"
   ]
  },
  {
   "cell_type": "code",
   "execution_count": 34,
   "id": "8b1d6d92-1639-4071-af4c-77575a6c49f7",
   "metadata": {},
   "outputs": [],
   "source": [
    "model_SVC = SVC()"
   ]
  },
  {
   "cell_type": "code",
   "execution_count": 35,
   "id": "21341152-1d87-40a9-ba5a-f7aed5c9d971",
   "metadata": {},
   "outputs": [
    {
     "name": "stdout",
     "output_type": "stream",
     "text": [
      "0.7078651685393258\n"
     ]
    }
   ],
   "source": [
    "model_SVC.fit(X_train_, y_train_)\n",
    "y_pred = model_SVC.predict(X_test_)\n",
    "print(accuracy_score(y_test_, y_pred))"
   ]
  },
  {
   "cell_type": "code",
   "execution_count": 36,
   "id": "f5c30073-07b1-44a0-a500-614775b9dbb8",
   "metadata": {},
   "outputs": [],
   "source": [
    "model_Decision = DecisionTreeClassifier()"
   ]
  },
  {
   "cell_type": "code",
   "execution_count": 37,
   "id": "23fe28f0-d86c-41db-8952-5776f2e3ae8e",
   "metadata": {},
   "outputs": [
    {
     "name": "stdout",
     "output_type": "stream",
     "text": [
      "1.0\n"
     ]
    }
   ],
   "source": [
    "model_Decision.fit(X_train_, y_train_)\n",
    "y_pred = model_Decision.predict(X_test_)\n",
    "print(accuracy_score(y_test_, y_pred))"
   ]
  },
  {
   "cell_type": "code",
   "execution_count": 38,
   "id": "23ce4975-a52d-4d3b-bcf2-9393358fbaab",
   "metadata": {},
   "outputs": [],
   "source": [
    "model_neighbors = KNeighborsClassifier()"
   ]
  },
  {
   "cell_type": "code",
   "execution_count": 39,
   "id": "4ed1c1db-993a-41e9-8313-3750750c9b1d",
   "metadata": {},
   "outputs": [
    {
     "name": "stdout",
     "output_type": "stream",
     "text": [
      "0.8786516853932584\n"
     ]
    }
   ],
   "source": [
    "model_neighbors.fit(X_train_, y_train_)\n",
    "y_pred = model_neighbors.predict(X_test_)\n",
    "print(accuracy_score(y_test_, y_pred))"
   ]
  },
  {
   "cell_type": "code",
   "execution_count": 40,
   "id": "b9251303-63d8-4a88-aaad-ca5c6946ba71",
   "metadata": {},
   "outputs": [],
   "source": [
    "model_logistic = LogisticRegression()"
   ]
  },
  {
   "cell_type": "code",
   "execution_count": 41,
   "id": "55a39d04-76a7-4a9a-8144-fd720d395e13",
   "metadata": {},
   "outputs": [
    {
     "name": "stdout",
     "output_type": "stream",
     "text": [
      "0.7258426966292135\n"
     ]
    }
   ],
   "source": [
    "model_logistic.fit(X_train_, y_train_)\n",
    "y_pred = model_logistic.predict(X_test_)\n",
    "print(accuracy_score(y_test_, y_pred))"
   ]
  },
  {
   "cell_type": "markdown",
   "id": "78268b98-c68b-43aa-804b-9bb01d6a0620",
   "metadata": {},
   "source": [
    "# 7. Visualisation de  l’evolution de l’entrainement du réseau de neurone"
   ]
  },
  {
   "cell_type": "code",
   "execution_count": 42,
   "id": "4fbe2802-3ebb-4091-a66c-577294b9c27f",
   "metadata": {},
   "outputs": [],
   "source": [
    "epoch_accuracy = history.history['accuracy']\n",
    "epoch_loss = history.history['loss']\n",
    "\n",
    "epoch_val_accuracy = history.history['val_accuracy']\n",
    "epoch_val_loss = history.history['val_loss']"
   ]
  },
  {
   "cell_type": "code",
   "execution_count": 43,
   "id": "8d941036-c253-4ff9-97b1-258ad21408bd",
   "metadata": {},
   "outputs": [
    {
     "data": {
      "image/png": "[encoded data removed]",
      "text/plain": [
       "<Figure size 600x400 with 1 Axes>"
      ]
     },
     "metadata": {},
     "output_type": "display_data"
    }
   ],
   "source": [
    "plt.figure(figsize=(6, 4))\n",
    "plt.plot(range(0, len(epoch_accuracy)), epoch_accuracy, color='blue', label='Training Accuracy')\n",
    "plt.plot(range(0, len(epoch_loss)), epoch_loss, color='red', label='Training Loss')\n",
    "plt.xlabel('Epochs')\n",
    "plt.ylabel('Values')\n",
    "plt.title('Training Accuracy vs Training Loss')\n",
    "plt.legend()\n",
    "plt.show()"
   ]
  },
  {
   "cell_type": "code",
   "execution_count": 44,
   "id": "24abeb78-4873-491c-8426-fa91f6d3eda4",
   "metadata": {},
   "outputs": [
    {
     "data": {
      "image/png": "[encoded data removed]",
      "text/plain": [
       "<Figure size 600x400 with 1 Axes>"
      ]
     },
     "metadata": {},
     "output_type": "display_data"
    }
   ],
   "source": [
    "plt.figure(figsize=(6, 4))\n",
    "plt.plot(range(0, len(epoch_accuracy)), epoch_accuracy, color='blue', label='Training Accuracy')\n",
    "plt.plot(range(0, len(epoch_val_accuracy)), epoch_val_accuracy, color='red', label='Test Accuracy')\n",
    "plt.xlabel('Epochs')\n",
    "plt.ylabel('Accuracy')\n",
    "plt.title('Training Loss Vs Taining Loss')\n",
    "plt.legend()\n",
    "plt.show()"
   ]
  },
  {
   "cell_type": "code",
   "execution_count": 45,
   "id": "7b32125e-57cb-4737-8164-8ce72fb38f8e",
   "metadata": {},
   "outputs": [
    {
     "data": {
      "image/png": "[encoded data removed]",
      "text/plain": [
       "<Figure size 600x400 with 1 Axes>"
      ]
     },
     "metadata": {},
     "output_type": "display_data"
    }
   ],
   "source": [
    "plt.figure(figsize=(6, 4))\n",
    "plt.plot(range(0, len(epoch_loss)), epoch_loss, color='blue', label='Training Loss')\n",
    "plt.plot(range(0, len(epoch_val_loss)), epoch_val_loss, color='red', label='Test Loss')\n",
    "plt.xlabel('Epochs')\n",
    "plt.ylabel('Loss')\n",
    "plt.title('Training Loss Vs Test Loss')\n",
    "plt.legend()\n",
    "plt.show()"
   ]
  },
  {
   "cell_type": "markdown",
   "id": "748b5658-6746-49a1-8ecf-f3eafb0e759e",
   "metadata": {},
   "source": [
    "# 8. Evaluer le modèle"
   ]
  },
  {
   "cell_type": "code",
   "execution_count": 46,
   "id": "1edeb0c9-40be-42df-bcfc-4b2f9ee22971",
   "metadata": {},
   "outputs": [
    {
     "name": "stdout",
     "output_type": "stream",
     "text": [
      "\u001b[1m14/14\u001b[0m \u001b[32m━━━━━━━━━━━━━━━━━━━━\u001b[0m\u001b[37m\u001b[0m \u001b[1m0s\u001b[0m 5ms/step - accuracy: 0.9871 - loss: 0.0416     \n"
     ]
    },
    {
     "data": {
      "text/plain": [
       "[0.031923312693834305, 0.9887640476226807]"
      ]
     },
     "execution_count": 46,
     "metadata": {},
     "output_type": "execute_result"
    }
   ],
   "source": [
    "model_dnn.evaluate(X_test, y_test)"
   ]
  },
  {
   "cell_type": "markdown",
   "id": "5a4bdfab-d548-48b6-b33d-8000971bb7ab",
   "metadata": {},
   "source": [
    "# 9. Simple prédiction"
   ]
  },
  {
   "cell_type": "code",
   "execution_count": 47,
   "id": "bffde2ba-8a92-43ef-8729-e296f99e5cdc",
   "metadata": {},
   "outputs": [
    {
     "name": "stdout",
     "output_type": "stream",
     "text": [
      "\u001b[1m14/14\u001b[0m \u001b[32m━━━━━━━━━━━━━━━━━━━━\u001b[0m\u001b[37m\u001b[0m \u001b[1m0s\u001b[0m 8ms/step\n"
     ]
    }
   ],
   "source": [
    "predictions = model_dnn.predict(X_test)"
   ]
  },
  {
   "cell_type": "code",
   "execution_count": 48,
   "id": "47818205-c1dc-43c0-9a10-d91cb5700c67",
   "metadata": {},
   "outputs": [
    {
     "name": "stdout",
     "output_type": "stream",
     "text": [
      "Prédictions : [2 3 0 2 3 1 3 3 2 2 0 0 3 2 2 0 3 0 0 3 3 3 0 1 3 0 3 2 0 0 0 0 3 3 1 3 2\n",
      " 0 2 2 0 2 0 0 0 3 0 2 0 3 3 2 0 3 2 2 2 2 0 3 0 2 2 2 0 1 3 2 2 0 0 3 2 0\n",
      " 3 0 3 0 2 3 0 0 2 3 0 0 2 3 3 3 0 0 0 2 3 0 1 1 3 2 0 3 3 1 3 1 3 0 3 1 2\n",
      " 0 3 0 3 3 1 0 3 3 0 0 2 3 0 0 0 3 0 0 3 3 3 0 1 3 3 3 0 0 0 1 0 0 3 0 0 0\n",
      " 0 1 0 1 2 1 0 3 0 0 0 0 1 0 3 1 0 0 3 3 1 3 0 3 0 0 3 0 0 1 0 3 0 0 3 0 0\n",
      " 3 3 1 3 3 0 3 3 3 0 2 0 0 0 0 3 3 3 3 3 0 3 2 0 3 3 2 0 0 0 3 3 0 3 2 0 3\n",
      " 2 0 0 0 2 3 0 1 3 0 1 2 1 3 0 2 0 2 0 3 0 2 0 3 2 2 0 3 0 2 0 0 3 3 0 0 0\n",
      " 3 2 0 3 3 3 2 2 3 2 3 1 0 0 0 0 1 0 0 0 2 0 2 2 3 2 3 0 1 0 3 2 0 3 0 2 2\n",
      " 1 0 0 2 0 3 2 2 2 0 0 0 0 1 2 0 2 0 1 3 1 1 2 3 3 0 1 3 0 0 0 0 3 0 0 2 3\n",
      " 3 0 1 3 3 3 1 0 0 3 2 2 3 1 1 0 2 2 0 3 2 2 2 3 0 0 0 3 3 0 1 3 3 0 2 0 3\n",
      " 0 3 1 3 0 2 0 3 1 2 0 3 3 0 3 0 3 2 0 0 3 3 0 3 3 1 0 0 2 3 0 0 0 2 1 3 3\n",
      " 0 2 0 3 0 0 1 3 0 2 3 3 1 0 1 3 3 2 1 0 2 3 1 3 0 1 2 0 3 1 2 1 3 0 0 0 0\n",
      " 2]\n"
     ]
    }
   ],
   "source": [
    "#predicted_classes\n",
    "predicted_classes = predictions.argmax(axis=1)\n",
    "\n",
    "print(\"Prédictions :\", predicted_classes)"
   ]
  },
  {
   "cell_type": "code",
   "execution_count": 49,
   "id": "6f5a2293-1a60-40ab-b903-059ab20916b3",
   "metadata": {},
   "outputs": [
    {
     "name": "stdout",
     "output_type": "stream",
     "text": [
      "[[-5.58584463  0.56992661 -1.32603792 -4.99967674 -4.25034463]]\n",
      "\u001b[1m1/1\u001b[0m \u001b[32m━━━━━━━━━━━━━━━━━━━━\u001b[0m\u001b[37m\u001b[0m \u001b[1m0s\u001b[0m 63ms/step\n",
      "Classe prédite : 1\n"
     ]
    }
   ],
   "source": [
    "# Donnée d'entrée (5 features)\n",
    "X_test_2 = np.array([[2,\t27.502679,\t-11.581215,\t1183.3166,\t-35.219849\t]])\n",
    "#X_test_2 = np.array([[10, 27.398758, -11.479370, 1356.0, 1.03206]])\n",
    "\n",
    "\n",
    "# N'oublie pas de scaler aussi cette entrée\n",
    "X_test_2 = scaler.transform(X_test_2)\n",
    "print(X_test_2)\n",
    "\n",
    "# Prédiction\n",
    "prediction = model_dnn.predict(X_test_2)\n",
    "predicted_class = prediction.argmax()\n",
    "\n",
    "print(\"Classe prédite :\", predicted_class)"
   ]
  },
  {
   "cell_type": "code",
   "execution_count": 50,
   "id": "a68324cd-0e53-4b4a-a45f-7dae93e3dd75",
   "metadata": {},
   "outputs": [
    {
     "name": "stdout",
     "output_type": "stream",
     "text": [
      "Classe prédite : 1\n",
      "Probabilités par classe (%): [0. 1. 0. 0.]\n"
     ]
    }
   ],
   "source": [
    "# Affichage des résultats\n",
    "probs_percent = prediction[0]\n",
    "#probs_percent = prediction[0] * 100\n",
    "probs_rounded = np.round(probs_percent, 2)\n",
    "\n",
    "print(f\"Classe prédite : {predicted_class}\")\n",
    "print(\"Probabilités par classe (%):\", probs_rounded)"
   ]
  },
  {
   "cell_type": "markdown",
   "id": "7e836710-3191-4230-9f4b-70ca1cd5e631",
   "metadata": {},
   "source": [
    "# 10. Sauvegarde du modèle "
   ]
  },
  {
   "cell_type": "code",
   "execution_count": 51,
   "id": "7ba1c172-64c2-481a-96b3-874b287cec22",
   "metadata": {},
   "outputs": [
    {
     "name": "stderr",
     "output_type": "stream",
     "text": [
      "WARNING:absl:You are saving your model as an HDF5 file via `model.save()` or `keras.saving.save_model(model)`. This file format is considered legacy. We recommend using instead the native Keras format, e.g. `model.save('my_model.keras')` or `keras.saving.save_model(model, 'my_model.keras')`. \n"
     ]
    }
   ],
   "source": [
    "model_dnn.save('model_dnn.h5')"
   ]
  },
  {
   "cell_type": "code",
   "execution_count": 52,
   "id": "2cb405d9-c43c-4119-af69-0a12b08c3b11",
   "metadata": {},
   "outputs": [
    {
     "data": {
      "text/plain": [
       "['scaler_ic.pkl']"
      ]
     },
     "execution_count": 52,
     "metadata": {},
     "output_type": "execute_result"
    }
   ],
   "source": [
    "joblib.dump(scaler, \"scaler_ic.pkl\")"
   ]
  }
 ],
 "metadata": {
  "kernelspec": {
   "display_name": "Python 3 (ipykernel)",
   "language": "python",
   "name": "python3"
  },
  "language_info": {
   "codemirror_mode": {
    "name": "ipython",
    "version": 3
   },
   "file_extension": ".py",
   "mimetype": "text/x-python",
   "name": "python",
   "nbconvert_exporter": "python",
   "pygments_lexer": "ipython3",
   "version": "3.11.10"
  }
 },
 "nbformat": 4,
 "nbformat_minor": 5
}
