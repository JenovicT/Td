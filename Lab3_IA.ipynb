{
 "cells": [
  {
   "cell_type": "markdown",
   "id": "9e76364c-8b3c-4532-9633-aa550d97736f",
   "metadata": {},
   "source": [
    "## 1. Importer les packages"
   ]
  },
  {
   "cell_type": "code",
   "execution_count": 167,
   "id": "47ba4aef-78bc-485b-9a69-7a1e3e29a076",
   "metadata": {},
   "outputs": [],
   "source": [
    "import pandas as pd"
   ]
  },
  {
   "cell_type": "markdown",
   "id": "30ad53c5-a6c3-46bd-b0d8-4ec7d4506c17",
   "metadata": {},
   "source": [
    "# 2. Charger les données"
   ]
  },
  {
   "cell_type": "code",
   "execution_count": 168,
   "id": "4b6b82b8-7dfe-48d6-b622-0cf5d1300e45",
   "metadata": {},
   "outputs": [],
   "source": [
    "data = pd.read_csv('dataset_sdn.csv')"
   ]
  },
  {
   "cell_type": "code",
   "execution_count": 169,
   "id": "784d09b3-3237-4546-ad1c-52efa7389cf1",
   "metadata": {},
   "outputs": [
    {
     "data": {
      "text/html": [
       "<div>\n",
       "<style scoped>\n",
       "    .dataframe tbody tr th:only-of-type {\n",
       "        vertical-align: middle;\n",
       "    }\n",
       "\n",
       "    .dataframe tbody tr th {\n",
       "        vertical-align: top;\n",
       "    }\n",
       "\n",
       "    .dataframe thead th {\n",
       "        text-align: right;\n",
       "    }\n",
       "</style>\n",
       "<table border=\"1\" class=\"dataframe\">\n",
       "  <thead>\n",
       "    <tr style=\"text-align: right;\">\n",
       "      <th></th>\n",
       "      <th>dt</th>\n",
       "      <th>switch</th>\n",
       "      <th>src</th>\n",
       "      <th>dst</th>\n",
       "      <th>pktcount</th>\n",
       "      <th>bytecount</th>\n",
       "      <th>dur</th>\n",
       "      <th>dur_nsec</th>\n",
       "      <th>tot_dur</th>\n",
       "      <th>flows</th>\n",
       "      <th>...</th>\n",
       "      <th>pktrate</th>\n",
       "      <th>Pairflow</th>\n",
       "      <th>Protocol</th>\n",
       "      <th>port_no</th>\n",
       "      <th>tx_bytes</th>\n",
       "      <th>rx_bytes</th>\n",
       "      <th>tx_kbps</th>\n",
       "      <th>rx_kbps</th>\n",
       "      <th>tot_kbps</th>\n",
       "      <th>label</th>\n",
       "    </tr>\n",
       "  </thead>\n",
       "  <tbody>\n",
       "    <tr>\n",
       "      <th>0</th>\n",
       "      <td>11425</td>\n",
       "      <td>1</td>\n",
       "      <td>10.0.0.1</td>\n",
       "      <td>10.0.0.8</td>\n",
       "      <td>45304</td>\n",
       "      <td>48294064</td>\n",
       "      <td>100</td>\n",
       "      <td>716000000</td>\n",
       "      <td>1.010000e+11</td>\n",
       "      <td>3</td>\n",
       "      <td>...</td>\n",
       "      <td>451</td>\n",
       "      <td>0</td>\n",
       "      <td>UDP</td>\n",
       "      <td>3</td>\n",
       "      <td>143928631</td>\n",
       "      <td>3917</td>\n",
       "      <td>0</td>\n",
       "      <td>0.0</td>\n",
       "      <td>0.0</td>\n",
       "      <td>0</td>\n",
       "    </tr>\n",
       "    <tr>\n",
       "      <th>1</th>\n",
       "      <td>11605</td>\n",
       "      <td>1</td>\n",
       "      <td>10.0.0.1</td>\n",
       "      <td>10.0.0.8</td>\n",
       "      <td>126395</td>\n",
       "      <td>134737070</td>\n",
       "      <td>280</td>\n",
       "      <td>734000000</td>\n",
       "      <td>2.810000e+11</td>\n",
       "      <td>2</td>\n",
       "      <td>...</td>\n",
       "      <td>451</td>\n",
       "      <td>0</td>\n",
       "      <td>UDP</td>\n",
       "      <td>4</td>\n",
       "      <td>3842</td>\n",
       "      <td>3520</td>\n",
       "      <td>0</td>\n",
       "      <td>0.0</td>\n",
       "      <td>0.0</td>\n",
       "      <td>0</td>\n",
       "    </tr>\n",
       "    <tr>\n",
       "      <th>2</th>\n",
       "      <td>11425</td>\n",
       "      <td>1</td>\n",
       "      <td>10.0.0.2</td>\n",
       "      <td>10.0.0.8</td>\n",
       "      <td>90333</td>\n",
       "      <td>96294978</td>\n",
       "      <td>200</td>\n",
       "      <td>744000000</td>\n",
       "      <td>2.010000e+11</td>\n",
       "      <td>3</td>\n",
       "      <td>...</td>\n",
       "      <td>451</td>\n",
       "      <td>0</td>\n",
       "      <td>UDP</td>\n",
       "      <td>1</td>\n",
       "      <td>3795</td>\n",
       "      <td>1242</td>\n",
       "      <td>0</td>\n",
       "      <td>0.0</td>\n",
       "      <td>0.0</td>\n",
       "      <td>0</td>\n",
       "    </tr>\n",
       "    <tr>\n",
       "      <th>3</th>\n",
       "      <td>11425</td>\n",
       "      <td>1</td>\n",
       "      <td>10.0.0.2</td>\n",
       "      <td>10.0.0.8</td>\n",
       "      <td>90333</td>\n",
       "      <td>96294978</td>\n",
       "      <td>200</td>\n",
       "      <td>744000000</td>\n",
       "      <td>2.010000e+11</td>\n",
       "      <td>3</td>\n",
       "      <td>...</td>\n",
       "      <td>451</td>\n",
       "      <td>0</td>\n",
       "      <td>UDP</td>\n",
       "      <td>2</td>\n",
       "      <td>3688</td>\n",
       "      <td>1492</td>\n",
       "      <td>0</td>\n",
       "      <td>0.0</td>\n",
       "      <td>0.0</td>\n",
       "      <td>0</td>\n",
       "    </tr>\n",
       "    <tr>\n",
       "      <th>4</th>\n",
       "      <td>11425</td>\n",
       "      <td>1</td>\n",
       "      <td>10.0.0.2</td>\n",
       "      <td>10.0.0.8</td>\n",
       "      <td>90333</td>\n",
       "      <td>96294978</td>\n",
       "      <td>200</td>\n",
       "      <td>744000000</td>\n",
       "      <td>2.010000e+11</td>\n",
       "      <td>3</td>\n",
       "      <td>...</td>\n",
       "      <td>451</td>\n",
       "      <td>0</td>\n",
       "      <td>UDP</td>\n",
       "      <td>3</td>\n",
       "      <td>3413</td>\n",
       "      <td>3665</td>\n",
       "      <td>0</td>\n",
       "      <td>0.0</td>\n",
       "      <td>0.0</td>\n",
       "      <td>0</td>\n",
       "    </tr>\n",
       "  </tbody>\n",
       "</table>\n",
       "<p>5 rows × 23 columns</p>\n",
       "</div>"
      ],
      "text/plain": [
       "      dt  switch       src       dst  pktcount  bytecount  dur   dur_nsec  \\\n",
       "0  11425       1  10.0.0.1  10.0.0.8     45304   48294064  100  716000000   \n",
       "1  11605       1  10.0.0.1  10.0.0.8    126395  134737070  280  734000000   \n",
       "2  11425       1  10.0.0.2  10.0.0.8     90333   96294978  200  744000000   \n",
       "3  11425       1  10.0.0.2  10.0.0.8     90333   96294978  200  744000000   \n",
       "4  11425       1  10.0.0.2  10.0.0.8     90333   96294978  200  744000000   \n",
       "\n",
       "        tot_dur  flows  ...  pktrate  Pairflow  Protocol  port_no   tx_bytes  \\\n",
       "0  1.010000e+11      3  ...      451         0       UDP        3  143928631   \n",
       "1  2.810000e+11      2  ...      451         0       UDP        4       3842   \n",
       "2  2.010000e+11      3  ...      451         0       UDP        1       3795   \n",
       "3  2.010000e+11      3  ...      451         0       UDP        2       3688   \n",
       "4  2.010000e+11      3  ...      451         0       UDP        3       3413   \n",
       "\n",
       "  rx_bytes  tx_kbps  rx_kbps  tot_kbps  label  \n",
       "0     3917        0      0.0       0.0      0  \n",
       "1     3520        0      0.0       0.0      0  \n",
       "2     1242        0      0.0       0.0      0  \n",
       "3     1492        0      0.0       0.0      0  \n",
       "4     3665        0      0.0       0.0      0  \n",
       "\n",
       "[5 rows x 23 columns]"
      ]
     },
     "execution_count": 169,
     "metadata": {},
     "output_type": "execute_result"
    }
   ],
   "source": [
    "data.head()"
   ]
  },
  {
   "cell_type": "code",
   "execution_count": 170,
   "id": "86c9ea1b-0218-4398-9cf1-0cc74a9d025b",
   "metadata": {},
   "outputs": [
    {
     "data": {
      "text/plain": [
       "(104345, 23)"
      ]
     },
     "execution_count": 170,
     "metadata": {},
     "output_type": "execute_result"
    }
   ],
   "source": [
    "data.shape"
   ]
  },
  {
   "cell_type": "markdown",
   "id": "ef0fc9a3-b250-406b-9e7a-8fcd6ef4e5b8",
   "metadata": {},
   "source": [
    "## Analyse des données"
   ]
  },
  {
   "cell_type": "code",
   "execution_count": 171,
   "id": "44a8b553-6b48-49d4-8605-4a169383c32e",
   "metadata": {},
   "outputs": [
    {
     "name": "stdout",
     "output_type": "stream",
     "text": [
      "<class 'pandas.core.frame.DataFrame'>\n",
      "RangeIndex: 104345 entries, 0 to 104344\n",
      "Data columns (total 23 columns):\n",
      " #   Column       Non-Null Count   Dtype  \n",
      "---  ------       --------------   -----  \n",
      " 0   dt           104345 non-null  int64  \n",
      " 1   switch       104345 non-null  int64  \n",
      " 2   src          104345 non-null  object \n",
      " 3   dst          104345 non-null  object \n",
      " 4   pktcount     104345 non-null  int64  \n",
      " 5   bytecount    104345 non-null  int64  \n",
      " 6   dur          104345 non-null  int64  \n",
      " 7   dur_nsec     104345 non-null  int64  \n",
      " 8   tot_dur      104345 non-null  float64\n",
      " 9   flows        104345 non-null  int64  \n",
      " 10  packetins    104345 non-null  int64  \n",
      " 11  pktperflow   104345 non-null  int64  \n",
      " 12  byteperflow  104345 non-null  int64  \n",
      " 13  pktrate      104345 non-null  int64  \n",
      " 14  Pairflow     104345 non-null  int64  \n",
      " 15  Protocol     104345 non-null  object \n",
      " 16  port_no      104345 non-null  int64  \n",
      " 17  tx_bytes     104345 non-null  int64  \n",
      " 18  rx_bytes     104345 non-null  int64  \n",
      " 19  tx_kbps      104345 non-null  int64  \n",
      " 20  rx_kbps      103839 non-null  float64\n",
      " 21  tot_kbps     103839 non-null  float64\n",
      " 22  label        104345 non-null  int64  \n",
      "dtypes: float64(3), int64(17), object(3)\n",
      "memory usage: 18.3+ MB\n"
     ]
    }
   ],
   "source": [
    "data.info()"
   ]
  },
  {
   "cell_type": "code",
   "execution_count": 172,
   "id": "27f9b966-f9ca-4af4-ba9e-fd1232a6e21d",
   "metadata": {},
   "outputs": [
    {
     "data": {
      "text/plain": [
       "array(['10.0.0.1', '10.0.0.2', '10.0.0.4', '10.0.0.10', '10.0.0.3',\n",
       "       '10.0.0.5', '10.0.0.13', '10.0.0.6', '10.0.0.20', '10.0.0.11',\n",
       "       '10.0.0.12', '10.0.0.18', '10.0.0.8', '10.0.0.7', '10.0.0.9',\n",
       "       '10.0.0.14', '10.0.0.15', '10.0.0.16', '10.0.0.17'], dtype=object)"
      ]
     },
     "execution_count": 172,
     "metadata": {},
     "output_type": "execute_result"
    }
   ],
   "source": [
    "data['src'].unique()"
   ]
  },
  {
   "cell_type": "code",
   "execution_count": 173,
   "id": "e0839ee7-c304-406e-bbb9-2c992b378799",
   "metadata": {},
   "outputs": [
    {
     "data": {
      "text/plain": [
       "array(['10.0.0.8', '10.0.0.7', '10.0.0.3', '10.0.0.5', '10.0.0.10',\n",
       "       '10.0.0.13', '10.0.0.1', '10.0.0.11', '10.0.0.2', '10.0.0.4',\n",
       "       '10.0.0.9', '10.0.0.6', '10.0.0.14', '10.0.0.15', '10.0.0.12',\n",
       "       '10.0.0.16', '10.0.0.17', '10.0.0.18'], dtype=object)"
      ]
     },
     "execution_count": 173,
     "metadata": {},
     "output_type": "execute_result"
    }
   ],
   "source": [
    "data['dst'].unique()"
   ]
  },
  {
   "cell_type": "code",
   "execution_count": 174,
   "id": "f23794f2-2f1d-4994-92ac-7d7af77ee4f9",
   "metadata": {},
   "outputs": [
    {
     "data": {
      "text/plain": [
       "array(['UDP', 'TCP', 'ICMP'], dtype=object)"
      ]
     },
     "execution_count": 174,
     "metadata": {},
     "output_type": "execute_result"
    }
   ],
   "source": [
    "data['Protocol'].unique()"
   ]
  },
  {
   "cell_type": "code",
   "execution_count": 175,
   "id": "f0cb83aa-4cd3-4923-b91a-1dfc89c2b9aa",
   "metadata": {},
   "outputs": [
    {
     "data": {
      "text/plain": [
       "dt               0\n",
       "switch           0\n",
       "src              0\n",
       "dst              0\n",
       "pktcount         0\n",
       "bytecount        0\n",
       "dur              0\n",
       "dur_nsec         0\n",
       "tot_dur          0\n",
       "flows            0\n",
       "packetins        0\n",
       "pktperflow       0\n",
       "byteperflow      0\n",
       "pktrate          0\n",
       "Pairflow         0\n",
       "Protocol         0\n",
       "port_no          0\n",
       "tx_bytes         0\n",
       "rx_bytes         0\n",
       "tx_kbps          0\n",
       "rx_kbps        506\n",
       "tot_kbps       506\n",
       "label            0\n",
       "dtype: int64"
      ]
     },
     "execution_count": 175,
     "metadata": {},
     "output_type": "execute_result"
    }
   ],
   "source": [
    "data.isnull().sum()"
   ]
  },
  {
   "cell_type": "markdown",
   "id": "60028362-cc02-4b59-a69c-7a04848923a9",
   "metadata": {},
   "source": [
    "# 4. Pretraitement des donnees"
   ]
  },
  {
   "cell_type": "code",
   "execution_count": 176,
   "id": "b2922736-7ef1-4c52-a22c-8135710da21c",
   "metadata": {},
   "outputs": [],
   "source": [
    "IP_mapping = {\n",
    "    '10.0.0.1':0,\n",
    "    '10.0.0.2':1,\n",
    "    '10.0.0.3':2,\n",
    "    '10.0.0.4':3,\n",
    "    '10.0.0.5':4,\n",
    "    '10.0.0.6':5,\n",
    "    '10.0.0.7':6,\n",
    "    '10.0.0.8':7,\n",
    "    '10.0.0.9':8,\n",
    "    '10.0.0.10':9,\n",
    "    '10.0.0.11':10,\n",
    "    '10.0.0.12':11,\n",
    "    '10.0.0.13':12,\n",
    "    '10.0.0.14':13,\n",
    "    '10.0.0.15':14,\n",
    "    '10.0.0.16':15,\n",
    "    '10.0.0.17':16,\n",
    "    '10.0.0.18':17,\n",
    "    '10.0.0.20':18\n",
    "}\n",
    "data['src'] = data['src'].map(IP_mapping) "
   ]
  },
  {
   "cell_type": "code",
   "execution_count": 177,
   "id": "a97c6167-a31a-458b-aa4b-73f07fc72084",
   "metadata": {},
   "outputs": [
    {
     "data": {
      "text/html": [
       "<div>\n",
       "<style scoped>\n",
       "    .dataframe tbody tr th:only-of-type {\n",
       "        vertical-align: middle;\n",
       "    }\n",
       "\n",
       "    .dataframe tbody tr th {\n",
       "        vertical-align: top;\n",
       "    }\n",
       "\n",
       "    .dataframe thead th {\n",
       "        text-align: right;\n",
       "    }\n",
       "</style>\n",
       "<table border=\"1\" class=\"dataframe\">\n",
       "  <thead>\n",
       "    <tr style=\"text-align: right;\">\n",
       "      <th></th>\n",
       "      <th>dt</th>\n",
       "      <th>switch</th>\n",
       "      <th>src</th>\n",
       "      <th>dst</th>\n",
       "      <th>pktcount</th>\n",
       "      <th>bytecount</th>\n",
       "      <th>dur</th>\n",
       "      <th>dur_nsec</th>\n",
       "      <th>tot_dur</th>\n",
       "      <th>flows</th>\n",
       "      <th>...</th>\n",
       "      <th>pktrate</th>\n",
       "      <th>Pairflow</th>\n",
       "      <th>Protocol</th>\n",
       "      <th>port_no</th>\n",
       "      <th>tx_bytes</th>\n",
       "      <th>rx_bytes</th>\n",
       "      <th>tx_kbps</th>\n",
       "      <th>rx_kbps</th>\n",
       "      <th>tot_kbps</th>\n",
       "      <th>label</th>\n",
       "    </tr>\n",
       "  </thead>\n",
       "  <tbody>\n",
       "    <tr>\n",
       "      <th>0</th>\n",
       "      <td>11425</td>\n",
       "      <td>1</td>\n",
       "      <td>0</td>\n",
       "      <td>10.0.0.8</td>\n",
       "      <td>45304</td>\n",
       "      <td>48294064</td>\n",
       "      <td>100</td>\n",
       "      <td>716000000</td>\n",
       "      <td>1.010000e+11</td>\n",
       "      <td>3</td>\n",
       "      <td>...</td>\n",
       "      <td>451</td>\n",
       "      <td>0</td>\n",
       "      <td>UDP</td>\n",
       "      <td>3</td>\n",
       "      <td>143928631</td>\n",
       "      <td>3917</td>\n",
       "      <td>0</td>\n",
       "      <td>0.0</td>\n",
       "      <td>0.0</td>\n",
       "      <td>0</td>\n",
       "    </tr>\n",
       "    <tr>\n",
       "      <th>1</th>\n",
       "      <td>11605</td>\n",
       "      <td>1</td>\n",
       "      <td>0</td>\n",
       "      <td>10.0.0.8</td>\n",
       "      <td>126395</td>\n",
       "      <td>134737070</td>\n",
       "      <td>280</td>\n",
       "      <td>734000000</td>\n",
       "      <td>2.810000e+11</td>\n",
       "      <td>2</td>\n",
       "      <td>...</td>\n",
       "      <td>451</td>\n",
       "      <td>0</td>\n",
       "      <td>UDP</td>\n",
       "      <td>4</td>\n",
       "      <td>3842</td>\n",
       "      <td>3520</td>\n",
       "      <td>0</td>\n",
       "      <td>0.0</td>\n",
       "      <td>0.0</td>\n",
       "      <td>0</td>\n",
       "    </tr>\n",
       "    <tr>\n",
       "      <th>2</th>\n",
       "      <td>11425</td>\n",
       "      <td>1</td>\n",
       "      <td>1</td>\n",
       "      <td>10.0.0.8</td>\n",
       "      <td>90333</td>\n",
       "      <td>96294978</td>\n",
       "      <td>200</td>\n",
       "      <td>744000000</td>\n",
       "      <td>2.010000e+11</td>\n",
       "      <td>3</td>\n",
       "      <td>...</td>\n",
       "      <td>451</td>\n",
       "      <td>0</td>\n",
       "      <td>UDP</td>\n",
       "      <td>1</td>\n",
       "      <td>3795</td>\n",
       "      <td>1242</td>\n",
       "      <td>0</td>\n",
       "      <td>0.0</td>\n",
       "      <td>0.0</td>\n",
       "      <td>0</td>\n",
       "    </tr>\n",
       "    <tr>\n",
       "      <th>3</th>\n",
       "      <td>11425</td>\n",
       "      <td>1</td>\n",
       "      <td>1</td>\n",
       "      <td>10.0.0.8</td>\n",
       "      <td>90333</td>\n",
       "      <td>96294978</td>\n",
       "      <td>200</td>\n",
       "      <td>744000000</td>\n",
       "      <td>2.010000e+11</td>\n",
       "      <td>3</td>\n",
       "      <td>...</td>\n",
       "      <td>451</td>\n",
       "      <td>0</td>\n",
       "      <td>UDP</td>\n",
       "      <td>2</td>\n",
       "      <td>3688</td>\n",
       "      <td>1492</td>\n",
       "      <td>0</td>\n",
       "      <td>0.0</td>\n",
       "      <td>0.0</td>\n",
       "      <td>0</td>\n",
       "    </tr>\n",
       "    <tr>\n",
       "      <th>4</th>\n",
       "      <td>11425</td>\n",
       "      <td>1</td>\n",
       "      <td>1</td>\n",
       "      <td>10.0.0.8</td>\n",
       "      <td>90333</td>\n",
       "      <td>96294978</td>\n",
       "      <td>200</td>\n",
       "      <td>744000000</td>\n",
       "      <td>2.010000e+11</td>\n",
       "      <td>3</td>\n",
       "      <td>...</td>\n",
       "      <td>451</td>\n",
       "      <td>0</td>\n",
       "      <td>UDP</td>\n",
       "      <td>3</td>\n",
       "      <td>3413</td>\n",
       "      <td>3665</td>\n",
       "      <td>0</td>\n",
       "      <td>0.0</td>\n",
       "      <td>0.0</td>\n",
       "      <td>0</td>\n",
       "    </tr>\n",
       "    <tr>\n",
       "      <th>...</th>\n",
       "      <td>...</td>\n",
       "      <td>...</td>\n",
       "      <td>...</td>\n",
       "      <td>...</td>\n",
       "      <td>...</td>\n",
       "      <td>...</td>\n",
       "      <td>...</td>\n",
       "      <td>...</td>\n",
       "      <td>...</td>\n",
       "      <td>...</td>\n",
       "      <td>...</td>\n",
       "      <td>...</td>\n",
       "      <td>...</td>\n",
       "      <td>...</td>\n",
       "      <td>...</td>\n",
       "      <td>...</td>\n",
       "      <td>...</td>\n",
       "      <td>...</td>\n",
       "      <td>...</td>\n",
       "      <td>...</td>\n",
       "      <td>...</td>\n",
       "    </tr>\n",
       "    <tr>\n",
       "      <th>104340</th>\n",
       "      <td>5262</td>\n",
       "      <td>3</td>\n",
       "      <td>4</td>\n",
       "      <td>10.0.0.7</td>\n",
       "      <td>79</td>\n",
       "      <td>7742</td>\n",
       "      <td>81</td>\n",
       "      <td>842000000</td>\n",
       "      <td>8.184200e+10</td>\n",
       "      <td>5</td>\n",
       "      <td>...</td>\n",
       "      <td>0</td>\n",
       "      <td>0</td>\n",
       "      <td>ICMP</td>\n",
       "      <td>1</td>\n",
       "      <td>15209</td>\n",
       "      <td>12720</td>\n",
       "      <td>1</td>\n",
       "      <td>1.0</td>\n",
       "      <td>2.0</td>\n",
       "      <td>0</td>\n",
       "    </tr>\n",
       "    <tr>\n",
       "      <th>104341</th>\n",
       "      <td>5262</td>\n",
       "      <td>3</td>\n",
       "      <td>4</td>\n",
       "      <td>10.0.0.7</td>\n",
       "      <td>79</td>\n",
       "      <td>7742</td>\n",
       "      <td>81</td>\n",
       "      <td>842000000</td>\n",
       "      <td>8.184200e+10</td>\n",
       "      <td>5</td>\n",
       "      <td>...</td>\n",
       "      <td>0</td>\n",
       "      <td>0</td>\n",
       "      <td>ICMP</td>\n",
       "      <td>3</td>\n",
       "      <td>15099</td>\n",
       "      <td>14693</td>\n",
       "      <td>1</td>\n",
       "      <td>1.0</td>\n",
       "      <td>2.0</td>\n",
       "      <td>0</td>\n",
       "    </tr>\n",
       "    <tr>\n",
       "      <th>104342</th>\n",
       "      <td>5262</td>\n",
       "      <td>3</td>\n",
       "      <td>10</td>\n",
       "      <td>10.0.0.5</td>\n",
       "      <td>31</td>\n",
       "      <td>3038</td>\n",
       "      <td>31</td>\n",
       "      <td>805000000</td>\n",
       "      <td>3.180500e+10</td>\n",
       "      <td>5</td>\n",
       "      <td>...</td>\n",
       "      <td>1</td>\n",
       "      <td>0</td>\n",
       "      <td>ICMP</td>\n",
       "      <td>2</td>\n",
       "      <td>3409</td>\n",
       "      <td>3731</td>\n",
       "      <td>0</td>\n",
       "      <td>0.0</td>\n",
       "      <td>0.0</td>\n",
       "      <td>0</td>\n",
       "    </tr>\n",
       "    <tr>\n",
       "      <th>104343</th>\n",
       "      <td>5262</td>\n",
       "      <td>3</td>\n",
       "      <td>10</td>\n",
       "      <td>10.0.0.5</td>\n",
       "      <td>31</td>\n",
       "      <td>3038</td>\n",
       "      <td>31</td>\n",
       "      <td>805000000</td>\n",
       "      <td>3.180500e+10</td>\n",
       "      <td>5</td>\n",
       "      <td>...</td>\n",
       "      <td>1</td>\n",
       "      <td>0</td>\n",
       "      <td>ICMP</td>\n",
       "      <td>1</td>\n",
       "      <td>15209</td>\n",
       "      <td>12720</td>\n",
       "      <td>1</td>\n",
       "      <td>1.0</td>\n",
       "      <td>2.0</td>\n",
       "      <td>0</td>\n",
       "    </tr>\n",
       "    <tr>\n",
       "      <th>104344</th>\n",
       "      <td>5262</td>\n",
       "      <td>3</td>\n",
       "      <td>10</td>\n",
       "      <td>10.0.0.5</td>\n",
       "      <td>31</td>\n",
       "      <td>3038</td>\n",
       "      <td>31</td>\n",
       "      <td>805000000</td>\n",
       "      <td>3.180500e+10</td>\n",
       "      <td>5</td>\n",
       "      <td>...</td>\n",
       "      <td>1</td>\n",
       "      <td>0</td>\n",
       "      <td>ICMP</td>\n",
       "      <td>3</td>\n",
       "      <td>15099</td>\n",
       "      <td>14693</td>\n",
       "      <td>1</td>\n",
       "      <td>1.0</td>\n",
       "      <td>2.0</td>\n",
       "      <td>0</td>\n",
       "    </tr>\n",
       "  </tbody>\n",
       "</table>\n",
       "<p>104345 rows × 23 columns</p>\n",
       "</div>"
      ],
      "text/plain": [
       "           dt  switch  src       dst  pktcount  bytecount  dur   dur_nsec  \\\n",
       "0       11425       1    0  10.0.0.8     45304   48294064  100  716000000   \n",
       "1       11605       1    0  10.0.0.8    126395  134737070  280  734000000   \n",
       "2       11425       1    1  10.0.0.8     90333   96294978  200  744000000   \n",
       "3       11425       1    1  10.0.0.8     90333   96294978  200  744000000   \n",
       "4       11425       1    1  10.0.0.8     90333   96294978  200  744000000   \n",
       "...       ...     ...  ...       ...       ...        ...  ...        ...   \n",
       "104340   5262       3    4  10.0.0.7        79       7742   81  842000000   \n",
       "104341   5262       3    4  10.0.0.7        79       7742   81  842000000   \n",
       "104342   5262       3   10  10.0.0.5        31       3038   31  805000000   \n",
       "104343   5262       3   10  10.0.0.5        31       3038   31  805000000   \n",
       "104344   5262       3   10  10.0.0.5        31       3038   31  805000000   \n",
       "\n",
       "             tot_dur  flows  ...  pktrate  Pairflow  Protocol  port_no  \\\n",
       "0       1.010000e+11      3  ...      451         0       UDP        3   \n",
       "1       2.810000e+11      2  ...      451         0       UDP        4   \n",
       "2       2.010000e+11      3  ...      451         0       UDP        1   \n",
       "3       2.010000e+11      3  ...      451         0       UDP        2   \n",
       "4       2.010000e+11      3  ...      451         0       UDP        3   \n",
       "...              ...    ...  ...      ...       ...       ...      ...   \n",
       "104340  8.184200e+10      5  ...        0         0      ICMP        1   \n",
       "104341  8.184200e+10      5  ...        0         0      ICMP        3   \n",
       "104342  3.180500e+10      5  ...        1         0      ICMP        2   \n",
       "104343  3.180500e+10      5  ...        1         0      ICMP        1   \n",
       "104344  3.180500e+10      5  ...        1         0      ICMP        3   \n",
       "\n",
       "         tx_bytes rx_bytes  tx_kbps  rx_kbps  tot_kbps  label  \n",
       "0       143928631     3917        0      0.0       0.0      0  \n",
       "1            3842     3520        0      0.0       0.0      0  \n",
       "2            3795     1242        0      0.0       0.0      0  \n",
       "3            3688     1492        0      0.0       0.0      0  \n",
       "4            3413     3665        0      0.0       0.0      0  \n",
       "...           ...      ...      ...      ...       ...    ...  \n",
       "104340      15209    12720        1      1.0       2.0      0  \n",
       "104341      15099    14693        1      1.0       2.0      0  \n",
       "104342       3409     3731        0      0.0       0.0      0  \n",
       "104343      15209    12720        1      1.0       2.0      0  \n",
       "104344      15099    14693        1      1.0       2.0      0  \n",
       "\n",
       "[104345 rows x 23 columns]"
      ]
     },
     "execution_count": 177,
     "metadata": {},
     "output_type": "execute_result"
    }
   ],
   "source": [
    "data"
   ]
  },
  {
   "cell_type": "code",
   "execution_count": 178,
   "id": "fadc136d-0a1b-4b9d-a826-f8f9c2ac0f13",
   "metadata": {},
   "outputs": [],
   "source": [
    "from sklearn.preprocessing import LabelEncoder"
   ]
  },
  {
   "cell_type": "code",
   "execution_count": 179,
   "id": "d7370f21-8ffb-4762-b982-fedfd8549699",
   "metadata": {
    "tags": []
   },
   "outputs": [],
   "source": [
    "encodage1 = LabelEncoder()\n",
    "data['dst'] = encodage1.fit_transform(data['dst'])\n",
    "data['Protocol'] = encodage1.fit_transform(data['Protocol'])"
   ]
  },
  {
   "cell_type": "code",
   "execution_count": 180,
   "id": "afdfce9c-7f84-4052-86d3-44fabdad1264",
   "metadata": {
    "tags": []
   },
   "outputs": [
    {
     "data": {
      "text/html": [
       "<div>\n",
       "<style scoped>\n",
       "    .dataframe tbody tr th:only-of-type {\n",
       "        vertical-align: middle;\n",
       "    }\n",
       "\n",
       "    .dataframe tbody tr th {\n",
       "        vertical-align: top;\n",
       "    }\n",
       "\n",
       "    .dataframe thead th {\n",
       "        text-align: right;\n",
       "    }\n",
       "</style>\n",
       "<table border=\"1\" class=\"dataframe\">\n",
       "  <thead>\n",
       "    <tr style=\"text-align: right;\">\n",
       "      <th></th>\n",
       "      <th>dt</th>\n",
       "      <th>switch</th>\n",
       "      <th>src</th>\n",
       "      <th>dst</th>\n",
       "      <th>pktcount</th>\n",
       "      <th>bytecount</th>\n",
       "      <th>dur</th>\n",
       "      <th>dur_nsec</th>\n",
       "      <th>tot_dur</th>\n",
       "      <th>flows</th>\n",
       "      <th>...</th>\n",
       "      <th>pktrate</th>\n",
       "      <th>Pairflow</th>\n",
       "      <th>Protocol</th>\n",
       "      <th>port_no</th>\n",
       "      <th>tx_bytes</th>\n",
       "      <th>rx_bytes</th>\n",
       "      <th>tx_kbps</th>\n",
       "      <th>rx_kbps</th>\n",
       "      <th>tot_kbps</th>\n",
       "      <th>label</th>\n",
       "    </tr>\n",
       "  </thead>\n",
       "  <tbody>\n",
       "    <tr>\n",
       "      <th>0</th>\n",
       "      <td>11425</td>\n",
       "      <td>1</td>\n",
       "      <td>0</td>\n",
       "      <td>16</td>\n",
       "      <td>45304</td>\n",
       "      <td>48294064</td>\n",
       "      <td>100</td>\n",
       "      <td>716000000</td>\n",
       "      <td>1.010000e+11</td>\n",
       "      <td>3</td>\n",
       "      <td>...</td>\n",
       "      <td>451</td>\n",
       "      <td>0</td>\n",
       "      <td>2</td>\n",
       "      <td>3</td>\n",
       "      <td>143928631</td>\n",
       "      <td>3917</td>\n",
       "      <td>0</td>\n",
       "      <td>0.0</td>\n",
       "      <td>0.0</td>\n",
       "      <td>0</td>\n",
       "    </tr>\n",
       "    <tr>\n",
       "      <th>1</th>\n",
       "      <td>11605</td>\n",
       "      <td>1</td>\n",
       "      <td>0</td>\n",
       "      <td>16</td>\n",
       "      <td>126395</td>\n",
       "      <td>134737070</td>\n",
       "      <td>280</td>\n",
       "      <td>734000000</td>\n",
       "      <td>2.810000e+11</td>\n",
       "      <td>2</td>\n",
       "      <td>...</td>\n",
       "      <td>451</td>\n",
       "      <td>0</td>\n",
       "      <td>2</td>\n",
       "      <td>4</td>\n",
       "      <td>3842</td>\n",
       "      <td>3520</td>\n",
       "      <td>0</td>\n",
       "      <td>0.0</td>\n",
       "      <td>0.0</td>\n",
       "      <td>0</td>\n",
       "    </tr>\n",
       "    <tr>\n",
       "      <th>2</th>\n",
       "      <td>11425</td>\n",
       "      <td>1</td>\n",
       "      <td>1</td>\n",
       "      <td>16</td>\n",
       "      <td>90333</td>\n",
       "      <td>96294978</td>\n",
       "      <td>200</td>\n",
       "      <td>744000000</td>\n",
       "      <td>2.010000e+11</td>\n",
       "      <td>3</td>\n",
       "      <td>...</td>\n",
       "      <td>451</td>\n",
       "      <td>0</td>\n",
       "      <td>2</td>\n",
       "      <td>1</td>\n",
       "      <td>3795</td>\n",
       "      <td>1242</td>\n",
       "      <td>0</td>\n",
       "      <td>0.0</td>\n",
       "      <td>0.0</td>\n",
       "      <td>0</td>\n",
       "    </tr>\n",
       "    <tr>\n",
       "      <th>3</th>\n",
       "      <td>11425</td>\n",
       "      <td>1</td>\n",
       "      <td>1</td>\n",
       "      <td>16</td>\n",
       "      <td>90333</td>\n",
       "      <td>96294978</td>\n",
       "      <td>200</td>\n",
       "      <td>744000000</td>\n",
       "      <td>2.010000e+11</td>\n",
       "      <td>3</td>\n",
       "      <td>...</td>\n",
       "      <td>451</td>\n",
       "      <td>0</td>\n",
       "      <td>2</td>\n",
       "      <td>2</td>\n",
       "      <td>3688</td>\n",
       "      <td>1492</td>\n",
       "      <td>0</td>\n",
       "      <td>0.0</td>\n",
       "      <td>0.0</td>\n",
       "      <td>0</td>\n",
       "    </tr>\n",
       "    <tr>\n",
       "      <th>4</th>\n",
       "      <td>11425</td>\n",
       "      <td>1</td>\n",
       "      <td>1</td>\n",
       "      <td>16</td>\n",
       "      <td>90333</td>\n",
       "      <td>96294978</td>\n",
       "      <td>200</td>\n",
       "      <td>744000000</td>\n",
       "      <td>2.010000e+11</td>\n",
       "      <td>3</td>\n",
       "      <td>...</td>\n",
       "      <td>451</td>\n",
       "      <td>0</td>\n",
       "      <td>2</td>\n",
       "      <td>3</td>\n",
       "      <td>3413</td>\n",
       "      <td>3665</td>\n",
       "      <td>0</td>\n",
       "      <td>0.0</td>\n",
       "      <td>0.0</td>\n",
       "      <td>0</td>\n",
       "    </tr>\n",
       "  </tbody>\n",
       "</table>\n",
       "<p>5 rows × 23 columns</p>\n",
       "</div>"
      ],
      "text/plain": [
       "      dt  switch  src  dst  pktcount  bytecount  dur   dur_nsec       tot_dur  \\\n",
       "0  11425       1    0   16     45304   48294064  100  716000000  1.010000e+11   \n",
       "1  11605       1    0   16    126395  134737070  280  734000000  2.810000e+11   \n",
       "2  11425       1    1   16     90333   96294978  200  744000000  2.010000e+11   \n",
       "3  11425       1    1   16     90333   96294978  200  744000000  2.010000e+11   \n",
       "4  11425       1    1   16     90333   96294978  200  744000000  2.010000e+11   \n",
       "\n",
       "   flows  ...  pktrate  Pairflow  Protocol  port_no   tx_bytes  rx_bytes  \\\n",
       "0      3  ...      451         0         2        3  143928631      3917   \n",
       "1      2  ...      451         0         2        4       3842      3520   \n",
       "2      3  ...      451         0         2        1       3795      1242   \n",
       "3      3  ...      451         0         2        2       3688      1492   \n",
       "4      3  ...      451         0         2        3       3413      3665   \n",
       "\n",
       "   tx_kbps  rx_kbps  tot_kbps  label  \n",
       "0        0      0.0       0.0      0  \n",
       "1        0      0.0       0.0      0  \n",
       "2        0      0.0       0.0      0  \n",
       "3        0      0.0       0.0      0  \n",
       "4        0      0.0       0.0      0  \n",
       "\n",
       "[5 rows x 23 columns]"
      ]
     },
     "execution_count": 180,
     "metadata": {},
     "output_type": "execute_result"
    }
   ],
   "source": [
    "data.head()"
   ]
  },
  {
   "cell_type": "code",
   "execution_count": 181,
   "id": "236e9c32-6499-4de5-a83c-5560539ef58b",
   "metadata": {
    "tags": []
   },
   "outputs": [],
   "source": [
    "import seaborn as sns"
   ]
  },
  {
   "cell_type": "code",
   "execution_count": 182,
   "id": "92a4abe2-919f-4afa-aa03-8bfcd0d871c8",
   "metadata": {
    "tags": []
   },
   "outputs": [
    {
     "data": {
      "text/plain": [
       "<Axes: >"
      ]
     },
     "execution_count": 182,
     "metadata": {},
     "output_type": "execute_result"
    },
    {
     "data": {
      "image/png": "[encoded data removed]",
      "text/plain": [
       "<Figure size 640x480 with 2 Axes>"
      ]
     },
     "metadata": {},
     "output_type": "display_data"
    }
   ],
   "source": [
    "sns.heatmap(data.corr(), annot = False)"
   ]
  },
  {
   "cell_type": "code",
   "execution_count": 183,
   "id": "09e23cb1-faa7-4ce4-a75c-b63a34ae8d58",
   "metadata": {
    "tags": []
   },
   "outputs": [
    {
     "data": {
      "text/plain": [
       "label          1.000000\n",
       "pktcount       0.401894\n",
       "bytecount      0.277481\n",
       "Protocol       0.258355\n",
       "src            0.161170\n",
       "pktrate        0.088013\n",
       "pktperflow     0.087819\n",
       "dur_nsec       0.029064\n",
       "switch         0.028027\n",
       "dst            0.016282\n",
       "packetins     -0.002642\n",
       "port_no       -0.004734\n",
       "tx_kbps       -0.006297\n",
       "rx_kbps       -0.006714\n",
       "tot_kbps      -0.008748\n",
       "byteperflow   -0.015192\n",
       "Pairflow      -0.049159\n",
       "tx_bytes      -0.050115\n",
       "rx_bytes      -0.057490\n",
       "dur           -0.098479\n",
       "tot_dur       -0.098491\n",
       "dt            -0.110126\n",
       "flows         -0.182174\n",
       "Name: label, dtype: float64"
      ]
     },
     "execution_count": 183,
     "metadata": {},
     "output_type": "execute_result"
    }
   ],
   "source": [
    "data.corr().label.sort_values(ascending =False)"
   ]
  },
  {
   "cell_type": "code",
   "execution_count": 184,
   "id": "00d79afd-ad1e-4556-91a5-037c786a14db",
   "metadata": {},
   "outputs": [
    {
     "data": {
      "text/plain": [
       "dt               0\n",
       "switch           0\n",
       "src              0\n",
       "dst              0\n",
       "pktcount         0\n",
       "bytecount        0\n",
       "dur              0\n",
       "dur_nsec         0\n",
       "tot_dur          0\n",
       "flows            0\n",
       "packetins        0\n",
       "pktperflow       0\n",
       "byteperflow      0\n",
       "pktrate          0\n",
       "Pairflow         0\n",
       "Protocol         0\n",
       "port_no          0\n",
       "tx_bytes         0\n",
       "rx_bytes         0\n",
       "tx_kbps          0\n",
       "rx_kbps        506\n",
       "tot_kbps       506\n",
       "label            0\n",
       "dtype: int64"
      ]
     },
     "execution_count": 184,
     "metadata": {},
     "output_type": "execute_result"
    }
   ],
   "source": [
    "data.isnull().sum()"
   ]
  },
  {
   "cell_type": "code",
   "execution_count": 185,
   "id": "16ab8ee9-734b-40df-bd3c-1fcf9c27ee00",
   "metadata": {
    "tags": []
   },
   "outputs": [],
   "source": [
    "subset = data[['pktcount', 'bytecount', 'Protocol', 'src', 'pktrate','pktperflow','dur_nsec', 'switch', 'dst', 'label']] "
   ]
  },
  {
   "cell_type": "code",
   "execution_count": 186,
   "id": "1affef71-53cb-48ad-bf7c-2f235d1e8dbf",
   "metadata": {
    "tags": []
   },
   "outputs": [
    {
     "data": {
      "text/html": [
       "<div>\n",
       "<style scoped>\n",
       "    .dataframe tbody tr th:only-of-type {\n",
       "        vertical-align: middle;\n",
       "    }\n",
       "\n",
       "    .dataframe tbody tr th {\n",
       "        vertical-align: top;\n",
       "    }\n",
       "\n",
       "    .dataframe thead th {\n",
       "        text-align: right;\n",
       "    }\n",
       "</style>\n",
       "<table border=\"1\" class=\"dataframe\">\n",
       "  <thead>\n",
       "    <tr style=\"text-align: right;\">\n",
       "      <th></th>\n",
       "      <th>pktcount</th>\n",
       "      <th>bytecount</th>\n",
       "      <th>Protocol</th>\n",
       "      <th>src</th>\n",
       "      <th>pktrate</th>\n",
       "      <th>pktperflow</th>\n",
       "      <th>dur_nsec</th>\n",
       "      <th>switch</th>\n",
       "      <th>dst</th>\n",
       "      <th>label</th>\n",
       "    </tr>\n",
       "  </thead>\n",
       "  <tbody>\n",
       "    <tr>\n",
       "      <th>0</th>\n",
       "      <td>45304</td>\n",
       "      <td>48294064</td>\n",
       "      <td>2</td>\n",
       "      <td>0</td>\n",
       "      <td>451</td>\n",
       "      <td>13535</td>\n",
       "      <td>716000000</td>\n",
       "      <td>1</td>\n",
       "      <td>16</td>\n",
       "      <td>0</td>\n",
       "    </tr>\n",
       "    <tr>\n",
       "      <th>1</th>\n",
       "      <td>126395</td>\n",
       "      <td>134737070</td>\n",
       "      <td>2</td>\n",
       "      <td>0</td>\n",
       "      <td>451</td>\n",
       "      <td>13531</td>\n",
       "      <td>734000000</td>\n",
       "      <td>1</td>\n",
       "      <td>16</td>\n",
       "      <td>0</td>\n",
       "    </tr>\n",
       "    <tr>\n",
       "      <th>2</th>\n",
       "      <td>90333</td>\n",
       "      <td>96294978</td>\n",
       "      <td>2</td>\n",
       "      <td>1</td>\n",
       "      <td>451</td>\n",
       "      <td>13534</td>\n",
       "      <td>744000000</td>\n",
       "      <td>1</td>\n",
       "      <td>16</td>\n",
       "      <td>0</td>\n",
       "    </tr>\n",
       "    <tr>\n",
       "      <th>3</th>\n",
       "      <td>90333</td>\n",
       "      <td>96294978</td>\n",
       "      <td>2</td>\n",
       "      <td>1</td>\n",
       "      <td>451</td>\n",
       "      <td>13534</td>\n",
       "      <td>744000000</td>\n",
       "      <td>1</td>\n",
       "      <td>16</td>\n",
       "      <td>0</td>\n",
       "    </tr>\n",
       "    <tr>\n",
       "      <th>4</th>\n",
       "      <td>90333</td>\n",
       "      <td>96294978</td>\n",
       "      <td>2</td>\n",
       "      <td>1</td>\n",
       "      <td>451</td>\n",
       "      <td>13534</td>\n",
       "      <td>744000000</td>\n",
       "      <td>1</td>\n",
       "      <td>16</td>\n",
       "      <td>0</td>\n",
       "    </tr>\n",
       "  </tbody>\n",
       "</table>\n",
       "</div>"
      ],
      "text/plain": [
       "   pktcount  bytecount  Protocol  src  pktrate  pktperflow   dur_nsec  switch  \\\n",
       "0     45304   48294064         2    0      451       13535  716000000       1   \n",
       "1    126395  134737070         2    0      451       13531  734000000       1   \n",
       "2     90333   96294978         2    1      451       13534  744000000       1   \n",
       "3     90333   96294978         2    1      451       13534  744000000       1   \n",
       "4     90333   96294978         2    1      451       13534  744000000       1   \n",
       "\n",
       "   dst  label  \n",
       "0   16      0  \n",
       "1   16      0  \n",
       "2   16      0  \n",
       "3   16      0  \n",
       "4   16      0  "
      ]
     },
     "execution_count": 186,
     "metadata": {},
     "output_type": "execute_result"
    }
   ],
   "source": [
    "subset.head()"
   ]
  },
  {
   "cell_type": "code",
   "execution_count": 187,
   "id": "292cbe1c-8616-4357-a89d-030397fd6c04",
   "metadata": {},
   "outputs": [
    {
     "data": {
      "text/plain": [
       "pktcount      0\n",
       "bytecount     0\n",
       "Protocol      0\n",
       "src           0\n",
       "pktrate       0\n",
       "pktperflow    0\n",
       "dur_nsec      0\n",
       "switch        0\n",
       "dst           0\n",
       "label         0\n",
       "dtype: int64"
      ]
     },
     "execution_count": 187,
     "metadata": {},
     "output_type": "execute_result"
    }
   ],
   "source": [
    "subset.isnull().sum()"
   ]
  },
  {
   "cell_type": "markdown",
   "id": "fbac4633-dee1-4247-88c4-b5b01b5d9ab3",
   "metadata": {},
   "source": [
    "## Division des données"
   ]
  },
  {
   "cell_type": "code",
   "execution_count": 188,
   "id": "19b7afe4-97f2-49aa-a60c-d86cddaecbf6",
   "metadata": {},
   "outputs": [],
   "source": [
    "X = subset.iloc[:,:-1]\n",
    "y = subset.iloc[:, -1]"
   ]
  },
  {
   "cell_type": "code",
   "execution_count": 189,
   "id": "b0a8ecb7-769c-4cdc-b20c-e1ace1e4f1aa",
   "metadata": {},
   "outputs": [],
   "source": [
    "from sklearn.model_selection import train_test_split\n",
    "X_train, X_test, y_train, y_test = train_test_split(X, y, test_size=0.3, random_state=4)"
   ]
  },
  {
   "cell_type": "code",
   "execution_count": 190,
   "id": "737790d8-69d2-43dc-8725-19d9e88c088c",
   "metadata": {},
   "outputs": [
    {
     "name": "stdout",
     "output_type": "stream",
     "text": [
      "X_train shape:  (73041, 9)\n",
      "y_train shape:  (73041,)\n",
      "X_test shape:  (31304, 9)\n",
      "y_test shape:  (31304,)\n"
     ]
    }
   ],
   "source": [
    "print(\"X_train shape: \", X_train.shape)\n",
    "print(\"y_train shape: \", y_train.shape)\n",
    "print(\"X_test shape: \", X_test.shape)\n",
    "print(\"y_test shape: \", y_test.shape)"
   ]
  },
  {
   "cell_type": "code",
   "execution_count": 191,
   "id": "5bc0f5cd-3f14-4f14-9653-a83286751a72",
   "metadata": {},
   "outputs": [],
   "source": [
    "from sklearn.preprocessing import StandardScaler"
   ]
  },
  {
   "cell_type": "code",
   "execution_count": 192,
   "id": "85e3d848-10ad-4bf9-8931-4ad861866683",
   "metadata": {},
   "outputs": [],
   "source": [
    "scaler = StandardScaler()\n",
    "\n",
    "X_train = scaler.fit_transform(X_train)\n",
    "X_test = scaler.transform(X_test)"
   ]
  },
  {
   "cell_type": "markdown",
   "id": "fec84216-d5d5-4bdb-8481-3cfbaa678a64",
   "metadata": {},
   "source": [
    "# 6. Construire le Shallow Neural Network"
   ]
  },
  {
   "cell_type": "code",
   "execution_count": 193,
   "id": "428bdd2a-07bb-4c0a-a694-b7e083c5ae6b",
   "metadata": {},
   "outputs": [],
   "source": [
    "from tensorflow.keras import Sequential\n",
    "from tensorflow.keras.layers import Dense\n",
    "from tensorflow.keras.optimizers import Adam"
   ]
  },
  {
   "cell_type": "code",
   "execution_count": 194,
   "id": "f74eb1ad-bf3b-4b8e-ad4c-5315ed79b816",
   "metadata": {},
   "outputs": [],
   "source": [
    "model = Sequential()"
   ]
  },
  {
   "cell_type": "code",
   "execution_count": 195,
   "id": "758559a9-378d-45c7-995d-ad4794834b8f",
   "metadata": {},
   "outputs": [
    {
     "name": "stderr",
     "output_type": "stream",
     "text": [
      "C:\\Users\\User\\anaconda3\\envs\\bac4IA_env\\Lib\\site-packages\\keras\\src\\layers\\core\\dense.py:87: UserWarning: Do not pass an `input_shape`/`input_dim` argument to a layer. When using Sequential models, prefer using an `Input(shape)` object as the first layer in the model instead.\n",
      "  super().__init__(activity_regularizer=activity_regularizer, **kwargs)\n"
     ]
    },
    {
     "data": {
      "text/html": [
       "<pre style=\"white-space:pre;overflow-x:auto;line-height:normal;font-family:Menlo,'DejaVu Sans Mono',consolas,'Courier New',monospace\"><span style=\"font-weight: bold\">Model: \"sequential_3\"</span>\n",
       "</pre>\n"
      ],
      "text/plain": [
       "\u001b[1mModel: \"sequential_3\"\u001b[0m\n"
      ]
     },
     "metadata": {},
     "output_type": "display_data"
    },
    {
     "data": {
      "text/html": [
       "<pre style=\"white-space:pre;overflow-x:auto;line-height:normal;font-family:Menlo,'DejaVu Sans Mono',consolas,'Courier New',monospace\">┏━━━━━━━━━━━━━━━━━━━━━━━━━━━━━━━━━┳━━━━━━━━━━━━━━━━━━━━━━━━┳━━━━━━━━━━━━━━━┓\n",
       "┃<span style=\"font-weight: bold\"> Layer (type)                    </span>┃<span style=\"font-weight: bold\"> Output Shape           </span>┃<span style=\"font-weight: bold\">       Param # </span>┃\n",
       "┡━━━━━━━━━━━━━━━━━━━━━━━━━━━━━━━━━╇━━━━━━━━━━━━━━━━━━━━━━━━╇━━━━━━━━━━━━━━━┩\n",
       "│ dense_8 (<span style=\"color: #0087ff; text-decoration-color: #0087ff\">Dense</span>)                 │ (<span style=\"color: #00d7ff; text-decoration-color: #00d7ff\">None</span>, <span style=\"color: #00af00; text-decoration-color: #00af00\">10</span>)             │           <span style=\"color: #00af00; text-decoration-color: #00af00\">100</span> │\n",
       "├─────────────────────────────────┼────────────────────────┼───────────────┤\n",
       "│ dense_9 (<span style=\"color: #0087ff; text-decoration-color: #0087ff\">Dense</span>)                 │ (<span style=\"color: #00d7ff; text-decoration-color: #00d7ff\">None</span>, <span style=\"color: #00af00; text-decoration-color: #00af00\">1</span>)              │            <span style=\"color: #00af00; text-decoration-color: #00af00\">11</span> │\n",
       "└─────────────────────────────────┴────────────────────────┴───────────────┘\n",
       "</pre>\n"
      ],
      "text/plain": [
       "┏━━━━━━━━━━━━━━━━━━━━━━━━━━━━━━━━━┳━━━━━━━━━━━━━━━━━━━━━━━━┳━━━━━━━━━━━━━━━┓\n",
       "┃\u001b[1m \u001b[0m\u001b[1mLayer (type)                   \u001b[0m\u001b[1m \u001b[0m┃\u001b[1m \u001b[0m\u001b[1mOutput Shape          \u001b[0m\u001b[1m \u001b[0m┃\u001b[1m \u001b[0m\u001b[1m      Param #\u001b[0m\u001b[1m \u001b[0m┃\n",
       "┡━━━━━━━━━━━━━━━━━━━━━━━━━━━━━━━━━╇━━━━━━━━━━━━━━━━━━━━━━━━╇━━━━━━━━━━━━━━━┩\n",
       "│ dense_8 (\u001b[38;5;33mDense\u001b[0m)                 │ (\u001b[38;5;45mNone\u001b[0m, \u001b[38;5;34m10\u001b[0m)             │           \u001b[38;5;34m100\u001b[0m │\n",
       "├─────────────────────────────────┼────────────────────────┼───────────────┤\n",
       "│ dense_9 (\u001b[38;5;33mDense\u001b[0m)                 │ (\u001b[38;5;45mNone\u001b[0m, \u001b[38;5;34m1\u001b[0m)              │            \u001b[38;5;34m11\u001b[0m │\n",
       "└─────────────────────────────────┴────────────────────────┴───────────────┘\n"
      ]
     },
     "metadata": {},
     "output_type": "display_data"
    },
    {
     "data": {
      "text/html": [
       "<pre style=\"white-space:pre;overflow-x:auto;line-height:normal;font-family:Menlo,'DejaVu Sans Mono',consolas,'Courier New',monospace\"><span style=\"font-weight: bold\"> Total params: </span><span style=\"color: #00af00; text-decoration-color: #00af00\">111</span> (444.00 B)\n",
       "</pre>\n"
      ],
      "text/plain": [
       "\u001b[1m Total params: \u001b[0m\u001b[38;5;34m111\u001b[0m (444.00 B)\n"
      ]
     },
     "metadata": {},
     "output_type": "display_data"
    },
    {
     "data": {
      "text/html": [
       "<pre style=\"white-space:pre;overflow-x:auto;line-height:normal;font-family:Menlo,'DejaVu Sans Mono',consolas,'Courier New',monospace\"><span style=\"font-weight: bold\"> Trainable params: </span><span style=\"color: #00af00; text-decoration-color: #00af00\">111</span> (444.00 B)\n",
       "</pre>\n"
      ],
      "text/plain": [
       "\u001b[1m Trainable params: \u001b[0m\u001b[38;5;34m111\u001b[0m (444.00 B)\n"
      ]
     },
     "metadata": {},
     "output_type": "display_data"
    },
    {
     "data": {
      "text/html": [
       "<pre style=\"white-space:pre;overflow-x:auto;line-height:normal;font-family:Menlo,'DejaVu Sans Mono',consolas,'Courier New',monospace\"><span style=\"font-weight: bold\"> Non-trainable params: </span><span style=\"color: #00af00; text-decoration-color: #00af00\">0</span> (0.00 B)\n",
       "</pre>\n"
      ],
      "text/plain": [
       "\u001b[1m Non-trainable params: \u001b[0m\u001b[38;5;34m0\u001b[0m (0.00 B)\n"
      ]
     },
     "metadata": {},
     "output_type": "display_data"
    }
   ],
   "source": [
    "model.add(Dense(10, input_shape = (9, ), activation='relu'))\n",
    "#Ajout de la couche de sortie\n",
    "model.add(Dense(1, activation='sigmoid'))\n",
    "#Compiler le model\n",
    "model.compile(optimizer=Adam(learning_rate=0.01), loss='binary_crossentropy', metrics=['accuracy'])\n",
    "#Affichage\n",
    "model.summary()"
   ]
  },
  {
   "cell_type": "code",
   "execution_count": 196,
   "id": "736c0a3d-6341-49fb-8f97-f725ed50ba03",
   "metadata": {},
   "outputs": [
    {
     "name": "stdout",
     "output_type": "stream",
     "text": [
      "Epoch 1/50\n",
      "\u001b[1m2283/2283\u001b[0m \u001b[32m━━━━━━━━━━━━━━━━━━━━\u001b[0m\u001b[37m\u001b[0m \u001b[1m9s\u001b[0m 3ms/step - accuracy: 0.8761 - loss: 0.2856 - val_accuracy: 0.9263 - val_loss: 0.1733\n",
      "Epoch 2/50\n",
      "\u001b[1m2283/2283\u001b[0m \u001b[32m━━━━━━━━━━━━━━━━━━━━\u001b[0m\u001b[37m\u001b[0m \u001b[1m6s\u001b[0m 3ms/step - accuracy: 0.9254 - loss: 0.1742 - val_accuracy: 0.9281 - val_loss: 0.1605\n",
      "Epoch 3/50\n",
      "\u001b[1m2283/2283\u001b[0m \u001b[32m━━━━━━━━━━━━━━━━━━━━\u001b[0m\u001b[37m\u001b[0m \u001b[1m7s\u001b[0m 3ms/step - accuracy: 0.9352 - loss: 0.1571 - val_accuracy: 0.9331 - val_loss: 0.1623\n",
      "Epoch 4/50\n",
      "\u001b[1m2283/2283\u001b[0m \u001b[32m━━━━━━━━━━━━━━━━━━━━\u001b[0m\u001b[37m\u001b[0m \u001b[1m10s\u001b[0m 3ms/step - accuracy: 0.9369 - loss: 0.1493 - val_accuracy: 0.9297 - val_loss: 0.1709\n",
      "Epoch 5/50\n",
      "\u001b[1m2283/2283\u001b[0m \u001b[32m━━━━━━━━━━━━━━━━━━━━\u001b[0m\u001b[37m\u001b[0m \u001b[1m11s\u001b[0m 3ms/step - accuracy: 0.9381 - loss: 0.1521 - val_accuracy: 0.9434 - val_loss: 0.1363\n",
      "Epoch 6/50\n",
      "\u001b[1m2283/2283\u001b[0m \u001b[32m━━━━━━━━━━━━━━━━━━━━\u001b[0m\u001b[37m\u001b[0m \u001b[1m8s\u001b[0m 3ms/step - accuracy: 0.9439 - loss: 0.1407 - val_accuracy: 0.9485 - val_loss: 0.1342\n",
      "Epoch 7/50\n",
      "\u001b[1m2283/2283\u001b[0m \u001b[32m━━━━━━━━━━━━━━━━━━━━\u001b[0m\u001b[37m\u001b[0m \u001b[1m7s\u001b[0m 3ms/step - accuracy: 0.9466 - loss: 0.1383 - val_accuracy: 0.9395 - val_loss: 0.1457\n",
      "Epoch 8/50\n",
      "\u001b[1m2283/2283\u001b[0m \u001b[32m━━━━━━━━━━━━━━━━━━━━\u001b[0m\u001b[37m\u001b[0m \u001b[1m9s\u001b[0m 3ms/step - accuracy: 0.9481 - loss: 0.1387 - val_accuracy: 0.9488 - val_loss: 0.1362\n",
      "Epoch 9/50\n",
      "\u001b[1m2283/2283\u001b[0m \u001b[32m━━━━━━━━━━━━━━━━━━━━\u001b[0m\u001b[37m\u001b[0m \u001b[1m10s\u001b[0m 3ms/step - accuracy: 0.9496 - loss: 0.1327 - val_accuracy: 0.9502 - val_loss: 0.1339\n",
      "Epoch 10/50\n",
      "\u001b[1m2283/2283\u001b[0m \u001b[32m━━━━━━━━━━━━━━━━━━━━\u001b[0m\u001b[37m\u001b[0m \u001b[1m12s\u001b[0m 3ms/step - accuracy: 0.9498 - loss: 0.1341 - val_accuracy: 0.9491 - val_loss: 0.1293\n",
      "Epoch 11/50\n",
      "\u001b[1m2283/2283\u001b[0m \u001b[32m━━━━━━━━━━━━━━━━━━━━\u001b[0m\u001b[37m\u001b[0m \u001b[1m10s\u001b[0m 3ms/step - accuracy: 0.9513 - loss: 0.1301 - val_accuracy: 0.9528 - val_loss: 0.1348\n",
      "Epoch 12/50\n",
      "\u001b[1m2283/2283\u001b[0m \u001b[32m━━━━━━━━━━━━━━━━━━━━\u001b[0m\u001b[37m\u001b[0m \u001b[1m7s\u001b[0m 3ms/step - accuracy: 0.9525 - loss: 0.1312 - val_accuracy: 0.9517 - val_loss: 0.1243\n",
      "Epoch 13/50\n",
      "\u001b[1m2283/2283\u001b[0m \u001b[32m━━━━━━━━━━━━━━━━━━━━\u001b[0m\u001b[37m\u001b[0m \u001b[1m10s\u001b[0m 3ms/step - accuracy: 0.9531 - loss: 0.1228 - val_accuracy: 0.9581 - val_loss: 0.1169\n",
      "Epoch 14/50\n",
      "\u001b[1m2283/2283\u001b[0m \u001b[32m━━━━━━━━━━━━━━━━━━━━\u001b[0m\u001b[37m\u001b[0m \u001b[1m9s\u001b[0m 3ms/step - accuracy: 0.9552 - loss: 0.1188 - val_accuracy: 0.9576 - val_loss: 0.1112\n",
      "Epoch 15/50\n",
      "\u001b[1m2283/2283\u001b[0m \u001b[32m━━━━━━━━━━━━━━━━━━━━\u001b[0m\u001b[37m\u001b[0m \u001b[1m11s\u001b[0m 3ms/step - accuracy: 0.9563 - loss: 0.1146 - val_accuracy: 0.9585 - val_loss: 0.1056\n",
      "Epoch 16/50\n",
      "\u001b[1m2283/2283\u001b[0m \u001b[32m━━━━━━━━━━━━━━━━━━━━\u001b[0m\u001b[37m\u001b[0m \u001b[1m10s\u001b[0m 3ms/step - accuracy: 0.9580 - loss: 0.1130 - val_accuracy: 0.9582 - val_loss: 0.1064\n",
      "Epoch 17/50\n",
      "\u001b[1m2283/2283\u001b[0m \u001b[32m━━━━━━━━━━━━━━━━━━━━\u001b[0m\u001b[37m\u001b[0m \u001b[1m8s\u001b[0m 3ms/step - accuracy: 0.9584 - loss: 0.1105 - val_accuracy: 0.9566 - val_loss: 0.1125\n",
      "Epoch 18/50\n",
      "\u001b[1m2283/2283\u001b[0m \u001b[32m━━━━━━━━━━━━━━━━━━━━\u001b[0m\u001b[37m\u001b[0m \u001b[1m7s\u001b[0m 3ms/step - accuracy: 0.9558 - loss: 0.1154 - val_accuracy: 0.9613 - val_loss: 0.1056\n",
      "Epoch 19/50\n",
      "\u001b[1m2283/2283\u001b[0m \u001b[32m━━━━━━━━━━━━━━━━━━━━\u001b[0m\u001b[37m\u001b[0m \u001b[1m11s\u001b[0m 3ms/step - accuracy: 0.9578 - loss: 0.1140 - val_accuracy: 0.9571 - val_loss: 0.1252\n",
      "Epoch 20/50\n",
      "\u001b[1m2283/2283\u001b[0m \u001b[32m━━━━━━━━━━━━━━━━━━━━\u001b[0m\u001b[37m\u001b[0m \u001b[1m7s\u001b[0m 3ms/step - accuracy: 0.9576 - loss: 0.1167 - val_accuracy: 0.9579 - val_loss: 0.1128\n",
      "Epoch 21/50\n",
      "\u001b[1m2283/2283\u001b[0m \u001b[32m━━━━━━━━━━━━━━━━━━━━\u001b[0m\u001b[37m\u001b[0m \u001b[1m7s\u001b[0m 3ms/step - accuracy: 0.9608 - loss: 0.1052 - val_accuracy: 0.9565 - val_loss: 0.1029\n",
      "Epoch 22/50\n",
      "\u001b[1m2283/2283\u001b[0m \u001b[32m━━━━━━━━━━━━━━━━━━━━\u001b[0m\u001b[37m\u001b[0m \u001b[1m9s\u001b[0m 3ms/step - accuracy: 0.9584 - loss: 0.1091 - val_accuracy: 0.9602 - val_loss: 0.1011\n",
      "Epoch 23/50\n",
      "\u001b[1m2283/2283\u001b[0m \u001b[32m━━━━━━━━━━━━━━━━━━━━\u001b[0m\u001b[37m\u001b[0m \u001b[1m7s\u001b[0m 3ms/step - accuracy: 0.9613 - loss: 0.1059 - val_accuracy: 0.9621 - val_loss: 0.0999\n",
      "Epoch 24/50\n",
      "\u001b[1m2283/2283\u001b[0m \u001b[32m━━━━━━━━━━━━━━━━━━━━\u001b[0m\u001b[37m\u001b[0m \u001b[1m10s\u001b[0m 3ms/step - accuracy: 0.9606 - loss: 0.1100 - val_accuracy: 0.9606 - val_loss: 0.0960\n",
      "Epoch 25/50\n",
      "\u001b[1m2283/2283\u001b[0m \u001b[32m━━━━━━━━━━━━━━━━━━━━\u001b[0m\u001b[37m\u001b[0m \u001b[1m7s\u001b[0m 3ms/step - accuracy: 0.9611 - loss: 0.1054 - val_accuracy: 0.9579 - val_loss: 0.1031\n",
      "Epoch 26/50\n",
      "\u001b[1m2283/2283\u001b[0m \u001b[32m━━━━━━━━━━━━━━━━━━━━\u001b[0m\u001b[37m\u001b[0m \u001b[1m8s\u001b[0m 3ms/step - accuracy: 0.9610 - loss: 0.1047 - val_accuracy: 0.9507 - val_loss: 0.1255\n",
      "Epoch 27/50\n",
      "\u001b[1m2283/2283\u001b[0m \u001b[32m━━━━━━━━━━━━━━━━━━━━\u001b[0m\u001b[37m\u001b[0m \u001b[1m7s\u001b[0m 3ms/step - accuracy: 0.9606 - loss: 0.1077 - val_accuracy: 0.9627 - val_loss: 0.1011\n",
      "Epoch 28/50\n",
      "\u001b[1m2283/2283\u001b[0m \u001b[32m━━━━━━━━━━━━━━━━━━━━\u001b[0m\u001b[37m\u001b[0m \u001b[1m10s\u001b[0m 3ms/step - accuracy: 0.9608 - loss: 0.1075 - val_accuracy: 0.9606 - val_loss: 0.0980\n",
      "Epoch 29/50\n",
      "\u001b[1m2283/2283\u001b[0m \u001b[32m━━━━━━━━━━━━━━━━━━━━\u001b[0m\u001b[37m\u001b[0m \u001b[1m7s\u001b[0m 3ms/step - accuracy: 0.9609 - loss: 0.1049 - val_accuracy: 0.9605 - val_loss: 0.1023\n",
      "Epoch 30/50\n",
      "\u001b[1m2283/2283\u001b[0m \u001b[32m━━━━━━━━━━━━━━━━━━━━\u001b[0m\u001b[37m\u001b[0m \u001b[1m7s\u001b[0m 3ms/step - accuracy: 0.9620 - loss: 0.1044 - val_accuracy: 0.9636 - val_loss: 0.1028\n",
      "Epoch 31/50\n",
      "\u001b[1m2283/2283\u001b[0m \u001b[32m━━━━━━━━━━━━━━━━━━━━\u001b[0m\u001b[37m\u001b[0m \u001b[1m11s\u001b[0m 3ms/step - accuracy: 0.9622 - loss: 0.1016 - val_accuracy: 0.9583 - val_loss: 0.1020\n",
      "Epoch 32/50\n",
      "\u001b[1m2283/2283\u001b[0m \u001b[32m━━━━━━━━━━━━━━━━━━━━\u001b[0m\u001b[37m\u001b[0m \u001b[1m7s\u001b[0m 3ms/step - accuracy: 0.9605 - loss: 0.1044 - val_accuracy: 0.9586 - val_loss: 0.1101\n",
      "Epoch 33/50\n",
      "\u001b[1m2283/2283\u001b[0m \u001b[32m━━━━━━━━━━━━━━━━━━━━\u001b[0m\u001b[37m\u001b[0m \u001b[1m11s\u001b[0m 3ms/step - accuracy: 0.9611 - loss: 0.1034 - val_accuracy: 0.9595 - val_loss: 0.1045\n",
      "Epoch 34/50\n",
      "\u001b[1m2283/2283\u001b[0m \u001b[32m━━━━━━━━━━━━━━━━━━━━\u001b[0m\u001b[37m\u001b[0m \u001b[1m7s\u001b[0m 3ms/step - accuracy: 0.9610 - loss: 0.1028 - val_accuracy: 0.9615 - val_loss: 0.0982\n",
      "Epoch 35/50\n",
      "\u001b[1m2283/2283\u001b[0m \u001b[32m━━━━━━━━━━━━━━━━━━━━\u001b[0m\u001b[37m\u001b[0m \u001b[1m7s\u001b[0m 3ms/step - accuracy: 0.9617 - loss: 0.1047 - val_accuracy: 0.9613 - val_loss: 0.0985\n",
      "Epoch 36/50\n",
      "\u001b[1m2283/2283\u001b[0m \u001b[32m━━━━━━━━━━━━━━━━━━━━\u001b[0m\u001b[37m\u001b[0m \u001b[1m10s\u001b[0m 3ms/step - accuracy: 0.9618 - loss: 0.1012 - val_accuracy: 0.9624 - val_loss: 0.0963\n",
      "Epoch 37/50\n",
      "\u001b[1m2283/2283\u001b[0m \u001b[32m━━━━━━━━━━━━━━━━━━━━\u001b[0m\u001b[37m\u001b[0m \u001b[1m10s\u001b[0m 3ms/step - accuracy: 0.9623 - loss: 0.1037 - val_accuracy: 0.9610 - val_loss: 0.0992\n",
      "Epoch 38/50\n",
      "\u001b[1m2283/2283\u001b[0m \u001b[32m━━━━━━━━━━━━━━━━━━━━\u001b[0m\u001b[37m\u001b[0m \u001b[1m10s\u001b[0m 3ms/step - accuracy: 0.9631 - loss: 0.1000 - val_accuracy: 0.9599 - val_loss: 0.0976\n",
      "Epoch 39/50\n",
      "\u001b[1m2283/2283\u001b[0m \u001b[32m━━━━━━━━━━━━━━━━━━━━\u001b[0m\u001b[37m\u001b[0m \u001b[1m9s\u001b[0m 3ms/step - accuracy: 0.9607 - loss: 0.1035 - val_accuracy: 0.9622 - val_loss: 0.0940\n",
      "Epoch 40/50\n",
      "\u001b[1m2283/2283\u001b[0m \u001b[32m━━━━━━━━━━━━━━━━━━━━\u001b[0m\u001b[37m\u001b[0m \u001b[1m11s\u001b[0m 3ms/step - accuracy: 0.9624 - loss: 0.1050 - val_accuracy: 0.9599 - val_loss: 0.1001\n",
      "Epoch 41/50\n",
      "\u001b[1m2283/2283\u001b[0m \u001b[32m━━━━━━━━━━━━━━━━━━━━\u001b[0m\u001b[37m\u001b[0m \u001b[1m11s\u001b[0m 3ms/step - accuracy: 0.9619 - loss: 0.1023 - val_accuracy: 0.9647 - val_loss: 0.1110\n",
      "Epoch 42/50\n",
      "\u001b[1m2283/2283\u001b[0m \u001b[32m━━━━━━━━━━━━━━━━━━━━\u001b[0m\u001b[37m\u001b[0m \u001b[1m7s\u001b[0m 3ms/step - accuracy: 0.9623 - loss: 0.1020 - val_accuracy: 0.9641 - val_loss: 0.0912\n",
      "Epoch 43/50\n",
      "\u001b[1m2283/2283\u001b[0m \u001b[32m━━━━━━━━━━━━━━━━━━━━\u001b[0m\u001b[37m\u001b[0m \u001b[1m11s\u001b[0m 3ms/step - accuracy: 0.9640 - loss: 0.0974 - val_accuracy: 0.9624 - val_loss: 0.0940\n",
      "Epoch 44/50\n",
      "\u001b[1m2283/2283\u001b[0m \u001b[32m━━━━━━━━━━━━━━━━━━━━\u001b[0m\u001b[37m\u001b[0m \u001b[1m10s\u001b[0m 3ms/step - accuracy: 0.9617 - loss: 0.1022 - val_accuracy: 0.9592 - val_loss: 0.1005\n",
      "Epoch 45/50\n",
      "\u001b[1m2283/2283\u001b[0m \u001b[32m━━━━━━━━━━━━━━━━━━━━\u001b[0m\u001b[37m\u001b[0m \u001b[1m10s\u001b[0m 3ms/step - accuracy: 0.9615 - loss: 0.1075 - val_accuracy: 0.9573 - val_loss: 0.1150\n",
      "Epoch 46/50\n",
      "\u001b[1m2283/2283\u001b[0m \u001b[32m━━━━━━━━━━━━━━━━━━━━\u001b[0m\u001b[37m\u001b[0m \u001b[1m10s\u001b[0m 3ms/step - accuracy: 0.9626 - loss: 0.1037 - val_accuracy: 0.9618 - val_loss: 0.0981\n",
      "Epoch 47/50\n",
      "\u001b[1m2283/2283\u001b[0m \u001b[32m━━━━━━━━━━━━━━━━━━━━\u001b[0m\u001b[37m\u001b[0m \u001b[1m10s\u001b[0m 3ms/step - accuracy: 0.9623 - loss: 0.1018 - val_accuracy: 0.9643 - val_loss: 0.0952\n",
      "Epoch 48/50\n",
      "\u001b[1m2283/2283\u001b[0m \u001b[32m━━━━━━━━━━━━━━━━━━━━\u001b[0m\u001b[37m\u001b[0m \u001b[1m10s\u001b[0m 3ms/step - accuracy: 0.9631 - loss: 0.1021 - val_accuracy: 0.9639 - val_loss: 0.0953\n",
      "Epoch 49/50\n",
      "\u001b[1m2283/2283\u001b[0m \u001b[32m━━━━━━━━━━━━━━━━━━━━\u001b[0m\u001b[37m\u001b[0m \u001b[1m10s\u001b[0m 3ms/step - accuracy: 0.9625 - loss: 0.1024 - val_accuracy: 0.9621 - val_loss: 0.1072\n",
      "Epoch 50/50\n",
      "\u001b[1m2283/2283\u001b[0m \u001b[32m━━━━━━━━━━━━━━━━━━━━\u001b[0m\u001b[37m\u001b[0m \u001b[1m6s\u001b[0m 3ms/step - accuracy: 0.9631 - loss: 0.1014 - val_accuracy: 0.9645 - val_loss: 0.0919\n"
     ]
    }
   ],
   "source": [
    "history = model.fit(X_train, y_train, epochs=50, verbose=1, validation_data=(X_test, y_test))"
   ]
  },
  {
   "cell_type": "code",
   "execution_count": 206,
   "id": "b001c9fd-32dc-41b7-b25a-fbc2bb9d802c",
   "metadata": {},
   "outputs": [],
   "source": [
    "# 7. Visualiser l’evolution de l’entrainement du réseau de neurone\n",
    "epoch_accuracy = history.history['accuracy']\n",
    "epoch_loss = history.history['loss']\n",
    "\n",
    "epoch_val_accuracy = history.history['val_accuracy']\n",
    "epoch_val_loss = history.history['val_loss']"
   ]
  },
  {
   "cell_type": "code",
   "execution_count": 207,
   "id": "ca23074f-a5dd-415b-b0cd-cac4c278fed0",
   "metadata": {},
   "outputs": [
    {
     "data": {
      "image/png": "[encoded data removed]",
      "text/plain": [
       "<Figure size 600x400 with 1 Axes>"
      ]
     },
     "metadata": {},
     "output_type": "display_data"
    }
   ],
   "source": [
    "import matplotlib.pyplot as plt\n",
    "\n",
    "plt.figure(figsize=(6, 4))\n",
    "plt.plot(range(0, len(epoch_accuracy)), epoch_accuracy, color='blue', label='Training Accuracy')\n",
    "plt.plot(range(0, len(epoch_loss)), epoch_loss, color='red', label='Training Loss')\n",
    "plt.xlabel('Epochs')\n",
    "plt.ylabel('Values')\n",
    "plt.title('Accuracy vs Loss')\n",
    "plt.legend()\n",
    "plt.show()"
   ]
  },
  {
   "cell_type": "code",
   "execution_count": 208,
   "id": "20a7b9c2-411e-424e-b195-2938e5e047d1",
   "metadata": {},
   "outputs": [
    {
     "data": {
      "image/png": "[encoded data removed]",
      "text/plain": [
       "<Figure size 600x400 with 1 Axes>"
      ]
     },
     "metadata": {},
     "output_type": "display_data"
    }
   ],
   "source": [
    "import matplotlib.pyplot as plt\n",
    "\n",
    "plt.figure(figsize=(6, 4))\n",
    "plt.plot(range(0, len(epoch_accuracy)), epoch_accuracy, color='blue', label='Training Accuracy')\n",
    "plt.plot(range(0, len(epoch_val_accuracy)), epoch_val_accuracy, color='red', label='Test Accuracy')\n",
    "plt.xlabel('Epochs')\n",
    "plt.ylabel('Accuracy')\n",
    "plt.title('Training Accuracy Vs Taining Loss')\n",
    "plt.legend()\n",
    "plt.show()"
   ]
  },
  {
   "cell_type": "code",
   "execution_count": 211,
   "id": "b2278c27-df4d-45e1-9638-a49c6fa4ab5a",
   "metadata": {},
   "outputs": [
    {
     "data": {
      "image/png": "[encoded data removed]",
      "text/plain": [
       "<Figure size 600x400 with 1 Axes>"
      ]
     },
     "metadata": {},
     "output_type": "display_data"
    }
   ],
   "source": [
    "plt.figure(figsize=(6, 4))\n",
    "plt.plot(range(0, len(epoch_loss)), epoch_loss, color='blue', label='Training Loss')\n",
    "plt.plot(range(0, len(epoch_val_loss)), epoch_val_loss, color='red', label='Test Loss')\n",
    "plt.xlabel('Epochs')\n",
    "plt.ylabel('Loss')\n",
    "plt.title('Training Accuracy Vs Taining Loss')\n",
    "plt.legend()\n",
    "plt.show()"
   ]
  },
  {
   "cell_type": "code",
   "execution_count": 202,
   "id": "b9645073-3bf3-425c-bb8c-1e8a79da7cb2",
   "metadata": {},
   "outputs": [
    {
     "name": "stdout",
     "output_type": "stream",
     "text": [
      "\u001b[1m979/979\u001b[0m \u001b[32m━━━━━━━━━━━━━━━━━━━━\u001b[0m\u001b[37m\u001b[0m \u001b[1m1s\u001b[0m 1ms/step\n"
     ]
    },
    {
     "data": {
      "text/plain": [
       "array([[1.6294187e-05],\n",
       "       [1.0765524e-04],\n",
       "       [9.7726506e-01],\n",
       "       ...,\n",
       "       [9.9807864e-01],\n",
       "       [1.1746439e-05],\n",
       "       [9.6432102e-01]], dtype=float32)"
      ]
     },
     "execution_count": 202,
     "metadata": {},
     "output_type": "execute_result"
    }
   ],
   "source": [
    "y_pred = model.predict(X_test)\n",
    "y_pred"
   ]
  },
  {
   "cell_type": "markdown",
   "id": "792c3877-9482-4442-bda6-367319ec3c5a",
   "metadata": {},
   "source": [
    "# 9. Sauvegarder le modèle entrainé"
   ]
  },
  {
   "cell_type": "code",
   "execution_count": 204,
   "id": "c6be786e-d986-4be7-a413-320bfa801796",
   "metadata": {},
   "outputs": [
    {
     "name": "stderr",
     "output_type": "stream",
     "text": [
      "WARNING:absl:You are saving your model as an HDF5 file via `model.save()` or `keras.saving.save_model(model)`. This file format is considered legacy. We recommend using instead the native Keras format, e.g. `model.save('my_model.keras')` or `keras.saving.save_model(model, 'my_model.keras')`. \n"
     ]
    }
   ],
   "source": [
    "model.save('model.h5')"
   ]
  },
  {
   "cell_type": "markdown",
   "id": "ddbf8785-f3fc-4637-82f3-2f035148b647",
   "metadata": {},
   "source": [
    "# 10. Simple Prediction"
   ]
  },
  {
   "cell_type": "code",
   "execution_count": 210,
   "id": "650d1af1-e8e4-4e1c-befe-5adcad254b04",
   "metadata": {},
   "outputs": [
    {
     "data": {
      "text/html": [
       "<div>\n",
       "<style scoped>\n",
       "    .dataframe tbody tr th:only-of-type {\n",
       "        vertical-align: middle;\n",
       "    }\n",
       "\n",
       "    .dataframe tbody tr th {\n",
       "        vertical-align: top;\n",
       "    }\n",
       "\n",
       "    .dataframe thead th {\n",
       "        text-align: right;\n",
       "    }\n",
       "</style>\n",
       "<table border=\"1\" class=\"dataframe\">\n",
       "  <thead>\n",
       "    <tr style=\"text-align: right;\">\n",
       "      <th></th>\n",
       "      <th>pktcount</th>\n",
       "      <th>bytecount</th>\n",
       "      <th>Protocol</th>\n",
       "      <th>src</th>\n",
       "      <th>pktrate</th>\n",
       "      <th>pktperflow</th>\n",
       "      <th>dur_nsec</th>\n",
       "      <th>switch</th>\n",
       "      <th>dst</th>\n",
       "      <th>label</th>\n",
       "    </tr>\n",
       "  </thead>\n",
       "  <tbody>\n",
       "    <tr>\n",
       "      <th>0</th>\n",
       "      <td>45304</td>\n",
       "      <td>48294064</td>\n",
       "      <td>2</td>\n",
       "      <td>0</td>\n",
       "      <td>451</td>\n",
       "      <td>13535</td>\n",
       "      <td>716000000</td>\n",
       "      <td>1</td>\n",
       "      <td>16</td>\n",
       "      <td>0</td>\n",
       "    </tr>\n",
       "    <tr>\n",
       "      <th>1</th>\n",
       "      <td>126395</td>\n",
       "      <td>134737070</td>\n",
       "      <td>2</td>\n",
       "      <td>0</td>\n",
       "      <td>451</td>\n",
       "      <td>13531</td>\n",
       "      <td>734000000</td>\n",
       "      <td>1</td>\n",
       "      <td>16</td>\n",
       "      <td>0</td>\n",
       "    </tr>\n",
       "    <tr>\n",
       "      <th>2</th>\n",
       "      <td>90333</td>\n",
       "      <td>96294978</td>\n",
       "      <td>2</td>\n",
       "      <td>1</td>\n",
       "      <td>451</td>\n",
       "      <td>13534</td>\n",
       "      <td>744000000</td>\n",
       "      <td>1</td>\n",
       "      <td>16</td>\n",
       "      <td>0</td>\n",
       "    </tr>\n",
       "    <tr>\n",
       "      <th>3</th>\n",
       "      <td>90333</td>\n",
       "      <td>96294978</td>\n",
       "      <td>2</td>\n",
       "      <td>1</td>\n",
       "      <td>451</td>\n",
       "      <td>13534</td>\n",
       "      <td>744000000</td>\n",
       "      <td>1</td>\n",
       "      <td>16</td>\n",
       "      <td>0</td>\n",
       "    </tr>\n",
       "    <tr>\n",
       "      <th>4</th>\n",
       "      <td>90333</td>\n",
       "      <td>96294978</td>\n",
       "      <td>2</td>\n",
       "      <td>1</td>\n",
       "      <td>451</td>\n",
       "      <td>13534</td>\n",
       "      <td>744000000</td>\n",
       "      <td>1</td>\n",
       "      <td>16</td>\n",
       "      <td>0</td>\n",
       "    </tr>\n",
       "  </tbody>\n",
       "</table>\n",
       "</div>"
      ],
      "text/plain": [
       "   pktcount  bytecount  Protocol  src  pktrate  pktperflow   dur_nsec  switch  \\\n",
       "0     45304   48294064         2    0      451       13535  716000000       1   \n",
       "1    126395  134737070         2    0      451       13531  734000000       1   \n",
       "2     90333   96294978         2    1      451       13534  744000000       1   \n",
       "3     90333   96294978         2    1      451       13534  744000000       1   \n",
       "4     90333   96294978         2    1      451       13534  744000000       1   \n",
       "\n",
       "   dst  label  \n",
       "0   16      0  \n",
       "1   16      0  \n",
       "2   16      0  \n",
       "3   16      0  \n",
       "4   16      0  "
      ]
     },
     "execution_count": 210,
     "metadata": {},
     "output_type": "execute_result"
    }
   ],
   "source": [
    "subset.head()"
   ]
  },
  {
   "cell_type": "code",
   "execution_count": 212,
   "id": "2c345bb7-48da-4665-8106-35f661e0c3ad",
   "metadata": {},
   "outputs": [
    {
     "name": "stdout",
     "output_type": "stream",
     "text": [
      "\u001b[1m1/1\u001b[0m \u001b[32m━━━━━━━━━━━━━━━━━━━━\u001b[0m\u001b[37m\u001b[0m \u001b[1m0s\u001b[0m 63ms/step\n"
     ]
    },
    {
     "name": "stderr",
     "output_type": "stream",
     "text": [
      "C:\\Users\\User\\anaconda3\\envs\\bac4IA_env\\Lib\\site-packages\\sklearn\\utils\\validation.py:2739: UserWarning: X does not have valid feature names, but StandardScaler was fitted with feature names\n",
      "  warnings.warn(\n"
     ]
    },
    {
     "data": {
      "text/plain": [
       "array([[8.5451225e-05]], dtype=float32)"
      ]
     },
     "execution_count": 212,
     "metadata": {},
     "output_type": "execute_result"
    }
   ],
   "source": [
    "# Une simple prediction \n",
    "model.predict(scaler.transform([[45304,\t48294064,\t2,\t1,\t451,\t13535,\t716000000,\t1,\t16]]))"
   ]
  },
  {
   "cell_type": "code",
   "execution_count": 214,
   "id": "61191f91-237c-47f1-8967-c808c219456a",
   "metadata": {},
   "outputs": [
    {
     "data": {
      "text/html": [
       "<div>\n",
       "<style scoped>\n",
       "    .dataframe tbody tr th:only-of-type {\n",
       "        vertical-align: middle;\n",
       "    }\n",
       "\n",
       "    .dataframe tbody tr th {\n",
       "        vertical-align: top;\n",
       "    }\n",
       "\n",
       "    .dataframe thead th {\n",
       "        text-align: right;\n",
       "    }\n",
       "</style>\n",
       "<table border=\"1\" class=\"dataframe\">\n",
       "  <thead>\n",
       "    <tr style=\"text-align: right;\">\n",
       "      <th></th>\n",
       "      <th>pktcount</th>\n",
       "      <th>bytecount</th>\n",
       "      <th>Protocol</th>\n",
       "      <th>src</th>\n",
       "      <th>pktrate</th>\n",
       "      <th>pktperflow</th>\n",
       "      <th>dur_nsec</th>\n",
       "      <th>switch</th>\n",
       "      <th>dst</th>\n",
       "      <th>label</th>\n",
       "    </tr>\n",
       "  </thead>\n",
       "  <tbody>\n",
       "    <tr>\n",
       "      <th>91</th>\n",
       "      <td>4777</td>\n",
       "      <td>5092282</td>\n",
       "      <td>2</td>\n",
       "      <td>0</td>\n",
       "      <td>0</td>\n",
       "      <td>0</td>\n",
       "      <td>711000000</td>\n",
       "      <td>1</td>\n",
       "      <td>16</td>\n",
       "      <td>1</td>\n",
       "    </tr>\n",
       "    <tr>\n",
       "      <th>92</th>\n",
       "      <td>4777</td>\n",
       "      <td>5092282</td>\n",
       "      <td>2</td>\n",
       "      <td>0</td>\n",
       "      <td>0</td>\n",
       "      <td>0</td>\n",
       "      <td>711000000</td>\n",
       "      <td>1</td>\n",
       "      <td>16</td>\n",
       "      <td>1</td>\n",
       "    </tr>\n",
       "    <tr>\n",
       "      <th>93</th>\n",
       "      <td>4777</td>\n",
       "      <td>5092282</td>\n",
       "      <td>2</td>\n",
       "      <td>0</td>\n",
       "      <td>0</td>\n",
       "      <td>0</td>\n",
       "      <td>711000000</td>\n",
       "      <td>1</td>\n",
       "      <td>16</td>\n",
       "      <td>1</td>\n",
       "    </tr>\n",
       "    <tr>\n",
       "      <th>94</th>\n",
       "      <td>4777</td>\n",
       "      <td>5092282</td>\n",
       "      <td>2</td>\n",
       "      <td>0</td>\n",
       "      <td>0</td>\n",
       "      <td>0</td>\n",
       "      <td>711000000</td>\n",
       "      <td>1</td>\n",
       "      <td>16</td>\n",
       "      <td>1</td>\n",
       "    </tr>\n",
       "    <tr>\n",
       "      <th>95</th>\n",
       "      <td>4777</td>\n",
       "      <td>5092282</td>\n",
       "      <td>2</td>\n",
       "      <td>0</td>\n",
       "      <td>0</td>\n",
       "      <td>0</td>\n",
       "      <td>711000000</td>\n",
       "      <td>1</td>\n",
       "      <td>16</td>\n",
       "      <td>1</td>\n",
       "    </tr>\n",
       "    <tr>\n",
       "      <th>...</th>\n",
       "      <td>...</td>\n",
       "      <td>...</td>\n",
       "      <td>...</td>\n",
       "      <td>...</td>\n",
       "      <td>...</td>\n",
       "      <td>...</td>\n",
       "      <td>...</td>\n",
       "      <td>...</td>\n",
       "      <td>...</td>\n",
       "      <td>...</td>\n",
       "    </tr>\n",
       "    <tr>\n",
       "      <th>100037</th>\n",
       "      <td>129558</td>\n",
       "      <td>134999436</td>\n",
       "      <td>0</td>\n",
       "      <td>8</td>\n",
       "      <td>101</td>\n",
       "      <td>3049</td>\n",
       "      <td>981000000</td>\n",
       "      <td>4</td>\n",
       "      <td>14</td>\n",
       "      <td>1</td>\n",
       "    </tr>\n",
       "    <tr>\n",
       "      <th>100038</th>\n",
       "      <td>129558</td>\n",
       "      <td>134999436</td>\n",
       "      <td>0</td>\n",
       "      <td>8</td>\n",
       "      <td>101</td>\n",
       "      <td>3049</td>\n",
       "      <td>981000000</td>\n",
       "      <td>4</td>\n",
       "      <td>14</td>\n",
       "      <td>1</td>\n",
       "    </tr>\n",
       "    <tr>\n",
       "      <th>100051</th>\n",
       "      <td>129986</td>\n",
       "      <td>135445412</td>\n",
       "      <td>0</td>\n",
       "      <td>5</td>\n",
       "      <td>101</td>\n",
       "      <td>3049</td>\n",
       "      <td>235000000</td>\n",
       "      <td>3</td>\n",
       "      <td>17</td>\n",
       "      <td>1</td>\n",
       "    </tr>\n",
       "    <tr>\n",
       "      <th>100052</th>\n",
       "      <td>129986</td>\n",
       "      <td>135445412</td>\n",
       "      <td>0</td>\n",
       "      <td>5</td>\n",
       "      <td>101</td>\n",
       "      <td>3049</td>\n",
       "      <td>235000000</td>\n",
       "      <td>3</td>\n",
       "      <td>17</td>\n",
       "      <td>1</td>\n",
       "    </tr>\n",
       "    <tr>\n",
       "      <th>100053</th>\n",
       "      <td>129986</td>\n",
       "      <td>135445412</td>\n",
       "      <td>0</td>\n",
       "      <td>5</td>\n",
       "      <td>101</td>\n",
       "      <td>3049</td>\n",
       "      <td>235000000</td>\n",
       "      <td>3</td>\n",
       "      <td>17</td>\n",
       "      <td>1</td>\n",
       "    </tr>\n",
       "  </tbody>\n",
       "</table>\n",
       "<p>40784 rows × 10 columns</p>\n",
       "</div>"
      ],
      "text/plain": [
       "        pktcount  bytecount  Protocol  src  pktrate  pktperflow   dur_nsec  \\\n",
       "91          4777    5092282         2    0        0           0  711000000   \n",
       "92          4777    5092282         2    0        0           0  711000000   \n",
       "93          4777    5092282         2    0        0           0  711000000   \n",
       "94          4777    5092282         2    0        0           0  711000000   \n",
       "95          4777    5092282         2    0        0           0  711000000   \n",
       "...          ...        ...       ...  ...      ...         ...        ...   \n",
       "100037    129558  134999436         0    8      101        3049  981000000   \n",
       "100038    129558  134999436         0    8      101        3049  981000000   \n",
       "100051    129986  135445412         0    5      101        3049  235000000   \n",
       "100052    129986  135445412         0    5      101        3049  235000000   \n",
       "100053    129986  135445412         0    5      101        3049  235000000   \n",
       "\n",
       "        switch  dst  label  \n",
       "91           1   16      1  \n",
       "92           1   16      1  \n",
       "93           1   16      1  \n",
       "94           1   16      1  \n",
       "95           1   16      1  \n",
       "...        ...  ...    ...  \n",
       "100037       4   14      1  \n",
       "100038       4   14      1  \n",
       "100051       3   17      1  \n",
       "100052       3   17      1  \n",
       "100053       3   17      1  \n",
       "\n",
       "[40784 rows x 10 columns]"
      ]
     },
     "execution_count": 214,
     "metadata": {},
     "output_type": "execute_result"
    }
   ],
   "source": [
    "subset[subset['label'] == 1]"
   ]
  },
  {
   "cell_type": "code",
   "execution_count": 215,
   "id": "aafb2cac-b7b5-4cdd-bd90-9b6cf14c757a",
   "metadata": {},
   "outputs": [
    {
     "name": "stdout",
     "output_type": "stream",
     "text": [
      "\u001b[1m1/1\u001b[0m \u001b[32m━━━━━━━━━━━━━━━━━━━━\u001b[0m\u001b[37m\u001b[0m \u001b[1m0s\u001b[0m 44ms/step\n"
     ]
    },
    {
     "name": "stderr",
     "output_type": "stream",
     "text": [
      "C:\\Users\\User\\anaconda3\\envs\\bac4IA_env\\Lib\\site-packages\\sklearn\\utils\\validation.py:2739: UserWarning: X does not have valid feature names, but StandardScaler was fitted with feature names\n",
      "  warnings.warn(\n"
     ]
    },
    {
     "data": {
      "text/plain": [
       "array([[0.99695987]], dtype=float32)"
      ]
     },
     "execution_count": 215,
     "metadata": {},
     "output_type": "execute_result"
    }
   ],
   "source": [
    "# Une simple prediction \n",
    "model.predict(scaler.transform([[4777,\t5092282,\t2,\t1,\t0,\t0,\t711000000,\t1,\t16\t]]))"
   ]
  },
  {
   "cell_type": "code",
   "execution_count": 216,
   "id": "f8fa045a-9f2b-4b75-a56b-4badbcb15396",
   "metadata": {},
   "outputs": [
    {
     "name": "stdout",
     "output_type": "stream",
     "text": [
      "\u001b[1m1/1\u001b[0m \u001b[32m━━━━━━━━━━━━━━━━━━━━\u001b[0m\u001b[37m\u001b[0m \u001b[1m0s\u001b[0m 50ms/step\n"
     ]
    },
    {
     "name": "stderr",
     "output_type": "stream",
     "text": [
      "C:\\Users\\User\\anaconda3\\envs\\bac4IA_env\\Lib\\site-packages\\sklearn\\utils\\validation.py:2739: UserWarning: X does not have valid feature names, but StandardScaler was fitted with feature names\n",
      "  warnings.warn(\n"
     ]
    }
   ],
   "source": [
    "resultats_1 = model.predict(scaler.transform([[45304,\t48294064,\t2,\t1,\t451,\t13535,\t716000000,\t1,\t16]]))"
   ]
  },
  {
   "cell_type": "code",
   "execution_count": 217,
   "id": "b9ba2616-13e6-45e7-9391-5b8d3fc651a8",
   "metadata": {},
   "outputs": [
    {
     "name": "stdout",
     "output_type": "stream",
     "text": [
      "Benign\n"
     ]
    }
   ],
   "source": [
    "if resultats_1 > 0.5:\n",
    "    print(\"Malign\")\n",
    "else :\n",
    "    print(\"Benign\")"
   ]
  },
  {
   "cell_type": "code",
   "execution_count": 218,
   "id": "19cdc555-0cff-4fbe-bbfe-9b6ef412444a",
   "metadata": {},
   "outputs": [
    {
     "name": "stdout",
     "output_type": "stream",
     "text": [
      "\u001b[1m1/1\u001b[0m \u001b[32m━━━━━━━━━━━━━━━━━━━━\u001b[0m\u001b[37m\u001b[0m \u001b[1m0s\u001b[0m 98ms/step\n"
     ]
    },
    {
     "name": "stderr",
     "output_type": "stream",
     "text": [
      "C:\\Users\\User\\anaconda3\\envs\\bac4IA_env\\Lib\\site-packages\\sklearn\\utils\\validation.py:2739: UserWarning: X does not have valid feature names, but StandardScaler was fitted with feature names\n",
      "  warnings.warn(\n"
     ]
    }
   ],
   "source": [
    "resultats_2 = model.predict(scaler.transform([[4777,\t5092282,\t2,\t1,\t0,\t0,\t711000000,\t1,\t16\t]]))"
   ]
  },
  {
   "cell_type": "code",
   "execution_count": 219,
   "id": "a05d4c31-bc17-4305-8d14-2873c5c1687c",
   "metadata": {},
   "outputs": [
    {
     "data": {
      "text/plain": [
       "array([[0.99695987]], dtype=float32)"
      ]
     },
     "execution_count": 219,
     "metadata": {},
     "output_type": "execute_result"
    }
   ],
   "source": [
    "resultats_2"
   ]
  },
  {
   "cell_type": "code",
   "execution_count": 220,
   "id": "25cdacc3-34a9-4f9f-af54-23e19a60451f",
   "metadata": {},
   "outputs": [
    {
     "name": "stdout",
     "output_type": "stream",
     "text": [
      "Malign\n"
     ]
    }
   ],
   "source": [
    "if resultats_2 > 0.5:\n",
    "    print(\"Malign\")\n",
    "else :\n",
    "    print(\"Benign\")"
   ]
  },
  {
   "cell_type": "code",
   "execution_count": null,
   "id": "d2c69ff8-7c92-4199-b682-7382d27122e4",
   "metadata": {},
   "outputs": [],
   "source": []
  }
 ],
 "metadata": {
  "kernelspec": {
   "display_name": "Python 3 (ipykernel)",
   "language": "python",
   "name": "python3"
  },
  "language_info": {
   "codemirror_mode": {
    "name": "ipython",
    "version": 3
   },
   "file_extension": ".py",
   "mimetype": "text/x-python",
   "name": "python",
   "nbconvert_exporter": "python",
   "pygments_lexer": "ipython3",
   "version": "3.11.10"
  }
 },
 "nbformat": 4,
 "nbformat_minor": 5
}
